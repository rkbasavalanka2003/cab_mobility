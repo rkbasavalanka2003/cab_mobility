{
  "nbformat": 4,
  "nbformat_minor": 0,
  "metadata": {
    "kernelspec": {
      "display_name": "Python 3",
      "language": "python",
      "name": "python3"
    },
    "language_info": {
      "codemirror_mode": {
        "name": "ipython",
        "version": 3
      },
      "file_extension": ".py",
      "mimetype": "text/x-python",
      "name": "python",
      "nbconvert_exporter": "python",
      "pygments_lexer": "ipython3",
      "version": "3.6.5"
    },
    "colab": {
      "name": "cab_mobility_kfold_catboost.ipynb",
      "provenance": [],
      "collapsed_sections": []
    }
  },
  "cells": [
    {
      "cell_type": "code",
      "metadata": {
        "id": "mVbFwqtg_3Wm",
        "colab_type": "code",
        "outputId": "7888258f-af5b-4447-aaf9-3a2a0ffe807b",
        "colab": {
          "base_uri": "https://localhost:8080/",
          "height": 122
        }
      },
      "source": [
        "from google.colab import drive\n",
        "drive.mount('/content/drive')"
      ],
      "execution_count": 3,
      "outputs": [
        {
          "output_type": "stream",
          "text": [
            "Go to this URL in a browser: https://accounts.google.com/o/oauth2/auth?client_id=947318989803-6bn6qk8qdgf4n4g3pfee6491hc0brc4i.apps.googleusercontent.com&redirect_uri=urn%3aietf%3awg%3aoauth%3a2.0%3aoob&response_type=code&scope=email%20https%3a%2f%2fwww.googleapis.com%2fauth%2fdocs.test%20https%3a%2f%2fwww.googleapis.com%2fauth%2fdrive%20https%3a%2f%2fwww.googleapis.com%2fauth%2fdrive.photos.readonly%20https%3a%2f%2fwww.googleapis.com%2fauth%2fpeopleapi.readonly\n",
            "\n",
            "Enter your authorization code:\n",
            "··········\n",
            "Mounted at /content/drive\n"
          ],
          "name": "stdout"
        }
      ]
    },
    {
      "cell_type": "markdown",
      "metadata": {
        "id": "o_bUn0V__3W1",
        "colab_type": "text"
      },
      "source": [
        "## _Exploratory Analysis_\n",
        "\n",
        "### _Import Libraries_"
      ]
    },
    {
      "cell_type": "code",
      "metadata": {
        "id": "2Ic1kNiS8gbC",
        "colab_type": "code",
        "colab": {
          "base_uri": "https://localhost:8080/",
          "height": 343
        },
        "outputId": "2ad9453c-824e-47f1-ab99-128c051e1f77"
      },
      "source": [
        "!pip install catboost"
      ],
      "execution_count": 5,
      "outputs": [
        {
          "output_type": "stream",
          "text": [
            "Collecting catboost\n",
            "\u001b[?25l  Downloading https://files.pythonhosted.org/packages/b2/aa/e61819d04ef2bbee778bf4b3a748db1f3ad23512377e43ecfdc3211437a0/catboost-0.23.2-cp36-none-manylinux1_x86_64.whl (64.8MB)\n",
            "\u001b[K     |████████████████████████████████| 64.8MB 60kB/s \n",
            "\u001b[?25hRequirement already satisfied: scipy in /usr/local/lib/python3.6/dist-packages (from catboost) (1.4.1)\n",
            "Requirement already satisfied: numpy>=1.16.0 in /usr/local/lib/python3.6/dist-packages (from catboost) (1.18.5)\n",
            "Requirement already satisfied: graphviz in /usr/local/lib/python3.6/dist-packages (from catboost) (0.10.1)\n",
            "Requirement already satisfied: matplotlib in /usr/local/lib/python3.6/dist-packages (from catboost) (3.2.1)\n",
            "Requirement already satisfied: six in /usr/local/lib/python3.6/dist-packages (from catboost) (1.12.0)\n",
            "Requirement already satisfied: plotly in /usr/local/lib/python3.6/dist-packages (from catboost) (4.4.1)\n",
            "Requirement already satisfied: pandas>=0.24.0 in /usr/local/lib/python3.6/dist-packages (from catboost) (1.0.4)\n",
            "Requirement already satisfied: pyparsing!=2.0.4,!=2.1.2,!=2.1.6,>=2.0.1 in /usr/local/lib/python3.6/dist-packages (from matplotlib->catboost) (2.4.7)\n",
            "Requirement already satisfied: cycler>=0.10 in /usr/local/lib/python3.6/dist-packages (from matplotlib->catboost) (0.10.0)\n",
            "Requirement already satisfied: kiwisolver>=1.0.1 in /usr/local/lib/python3.6/dist-packages (from matplotlib->catboost) (1.2.0)\n",
            "Requirement already satisfied: python-dateutil>=2.1 in /usr/local/lib/python3.6/dist-packages (from matplotlib->catboost) (2.8.1)\n",
            "Requirement already satisfied: retrying>=1.3.3 in /usr/local/lib/python3.6/dist-packages (from plotly->catboost) (1.3.3)\n",
            "Requirement already satisfied: pytz>=2017.2 in /usr/local/lib/python3.6/dist-packages (from pandas>=0.24.0->catboost) (2018.9)\n",
            "Installing collected packages: catboost\n",
            "Successfully installed catboost-0.23.2\n"
          ],
          "name": "stdout"
        }
      ]
    },
    {
      "cell_type": "code",
      "metadata": {
        "id": "2GRkzgnk8OwQ",
        "colab_type": "code",
        "colab": {}
      },
      "source": [
        "# import libraries\n",
        "\n",
        "import pandas as pd\n",
        "import numpy as np \n",
        "import matplotlib.pyplot as plt\n",
        "#%matplotlib inline \n",
        "import os\n",
        "from catboost import CatBoostClassifier\n",
        "from sklearn.model_selection import train_test_split\n",
        "from sklearn.metrics import roc_auc_score"
      ],
      "execution_count": 0,
      "outputs": []
    },
    {
      "cell_type": "code",
      "metadata": {
        "id": "gxAfYitf8weK",
        "colab_type": "code",
        "colab": {}
      },
      "source": [
        "#read data\n",
        "\n",
        "df_train = pd.read_csv('/content/drive/My Drive/mobility/train_Wc8LBpr.csv')\n",
        "df_test = pd.read_csv('/content/drive/My Drive/mobility/test_VsU9xXK.csv')\n",
        "sub = pd.read_csv('/content/drive/My Drive/mobility/sample_submission_NoPBkjr.csv')"
      ],
      "execution_count": 0,
      "outputs": []
    },
    {
      "cell_type": "markdown",
      "metadata": {
        "id": "994ucSJ495yU",
        "colab_type": "text"
      },
      "source": [
        "JanataHack: Mobility Analytics\n",
        "Welcome to Sigma Cab Private Limited - a cab aggregator service. Their customers can download their app on smartphones and book a cab from any where in the cities they operate in. They, in turn search for cabs from various service providers and provide the best option to their client across available options. They have been in operation for little less than a year now. During this period, they have captured surge_pricing_type from the service providers.\n",
        "\n",
        "You have been hired by Sigma Cabs as a Data Scientist and have been asked to build a predictive model, which could help them in predicting the surge_pricing_type pro-actively. This would in turn help them in matching the right cabs with the right customers quickly and efficiently.\n",
        "\n",
        "Approach\n",
        "No feature Engineering done.\n",
        "Created separate group for null values in categorical varaibles\n",
        "Updated the null values for continous varaibles with mean/medain\n",
        "Used CAT boost with 5 fold CV"
      ]
    },
    {
      "cell_type": "markdown",
      "metadata": {
        "id": "Mfczyfpl-sLg",
        "colab_type": "text"
      },
      "source": [
        "leader board one **code** "
      ]
    },
    {
      "cell_type": "code",
      "metadata": {
        "id": "X6arexpS7wsr",
        "colab_type": "code",
        "colab": {},
        "cellView": "code"
      },
      "source": [
        "#filling na values and \n",
        "df_train.Type_of_Cab.fillna(\"F\",inplace=True)\n",
        "df_test.Type_of_Cab.fillna(\"F\",inplace=True)\n",
        "df_train.Life_Style_Index.fillna(df_train.Life_Style_Index.mean(),inplace=True)\n",
        "df_test.Life_Style_Index.fillna(df_test.Life_Style_Index.mean(),inplace=True)\n",
        "\n",
        "df_train.Customer_Since_Months.fillna(99,inplace=True)\n",
        "df_test.Customer_Since_Months.fillna(99,inplace=True)\n",
        "df_train.Customer_Since_Months = df_train.Customer_Since_Months.astype(int)\n",
        "df_test.Customer_Since_Months = df_test.Customer_Since_Months.astype(int)\n",
        "\n",
        "\n",
        "df_train.Var1.fillna(df_train.Var1.median(),inplace=True)\n",
        "df_test.Var1.fillna(df_test.Var1.median(),inplace=True)\n",
        "df_train.Confidence_Life_Style_Index.fillna('D',inplace=True)\n",
        "df_test.Confidence_Life_Style_Index.fillna('D',inplace=True)\n"
      ],
      "execution_count": 0,
      "outputs": []
    },
    {
      "cell_type": "code",
      "metadata": {
        "id": "kmDVzInT-3s0",
        "colab_type": "code",
        "colab": {
          "base_uri": "https://localhost:8080/",
          "height": 374
        },
        "outputId": "fb5292b8-f534-49a0-9e2c-1b2632905108"
      },
      "source": [
        "\n",
        "df_train.info()"
      ],
      "execution_count": 9,
      "outputs": [
        {
          "output_type": "stream",
          "text": [
            "<class 'pandas.core.frame.DataFrame'>\n",
            "RangeIndex: 131662 entries, 0 to 131661\n",
            "Data columns (total 14 columns):\n",
            " #   Column                       Non-Null Count   Dtype  \n",
            "---  ------                       --------------   -----  \n",
            " 0   Trip_ID                      131662 non-null  object \n",
            " 1   Trip_Distance                131662 non-null  float64\n",
            " 2   Type_of_Cab                  131662 non-null  object \n",
            " 3   Customer_Since_Months        131662 non-null  int64  \n",
            " 4   Life_Style_Index             131662 non-null  float64\n",
            " 5   Confidence_Life_Style_Index  131662 non-null  object \n",
            " 6   Destination_Type             131662 non-null  object \n",
            " 7   Customer_Rating              131662 non-null  float64\n",
            " 8   Cancellation_Last_1Month     131662 non-null  int64  \n",
            " 9   Var1                         131662 non-null  float64\n",
            " 10  Var2                         131662 non-null  int64  \n",
            " 11  Var3                         131662 non-null  int64  \n",
            " 12  Gender                       131662 non-null  object \n",
            " 13  Surge_Pricing_Type           131662 non-null  int64  \n",
            "dtypes: float64(4), int64(5), object(5)\n",
            "memory usage: 14.1+ MB\n"
          ],
          "name": "stdout"
        }
      ]
    },
    {
      "cell_type": "code",
      "metadata": {
        "id": "nUikDVX8-4Hs",
        "colab_type": "code",
        "colab": {}
      },
      "source": [
        "from sklearn.model_selection import StratifiedKFold,KFold\n",
        "# Set up folds\n",
        "K = 5\n",
        "kf = KFold(n_splits = K, random_state = 7, shuffle = True)\n",
        "skf = StratifiedKFold(n_splits = K, random_state = 7, shuffle = True)"
      ],
      "execution_count": 0,
      "outputs": []
    },
    {
      "cell_type": "code",
      "metadata": {
        "id": "hkO7Q6PN-4xU",
        "colab_type": "code",
        "colab": {}
      },
      "source": [
        "MAX_ROUNDS = 1000\n",
        "OPTIMIZE_ROUNDS = False\n",
        "#LEARNING_RATE = 0.1"
      ],
      "execution_count": 0,
      "outputs": []
    },
    {
      "cell_type": "code",
      "metadata": {
        "id": "tsQsp_DW_MZR",
        "colab_type": "code",
        "colab": {
          "base_uri": "https://localhost:8080/",
          "height": 289
        },
        "outputId": "8897897d-9df4-4440-8871-5fd563462cbf"
      },
      "source": [
        "from sklearn.metrics import accuracy_score\n",
        "X = df_train.drop(columns=['Trip_ID','Surge_Pricing_Type'],axis=1)\n",
        "y = df_train['Surge_Pricing_Type']\n",
        "X_test = df_test.drop(columns='Trip_ID',axis=1)\n",
        "y_valid_pred = 0*y\n",
        "y_test_pred = 0\n",
        "accuracy = 0\n",
        "result={}\n",
        "#specifying categorical variables indexes\n",
        "cat_columns = ['Type_of_Cab','Confidence_Life_Style_Index','Destination_Type','Gender','Customer_Since_Months']\n",
        "#fitting catboost classifier model\n",
        "j=1\n",
        "model = CatBoostClassifier(n_estimators=MAX_ROUNDS,verbose=False)\n",
        "for i, (train_index, test_index) in enumerate(kf.split(df_train)):\n",
        "\n",
        "#for train_index, test_index in skf.split(X, y):  \n",
        "    # Create data for this fold\n",
        "    y_train, y_valid = y.iloc[train_index], y.iloc[test_index]\n",
        "    X_train, X_valid = X.iloc[train_index,:], X.iloc[test_index,:]\n",
        "    print( \"\\nFold \", j)\n",
        "    #print( \"\\nFold \", i)\n",
        "    \n",
        "    # Run model for this fold\n",
        "    if OPTIMIZE_ROUNDS:\n",
        "        fit_model = model.fit( X_train, y_train, \n",
        "                               eval_set=[X_valid, y_valid],cat_features=cat_columns,\n",
        "                               use_best_model=True\n",
        "                             )\n",
        "        print( \"  N trees = \", model.tree_count_ )\n",
        "    else:\n",
        "        fit_model = model.fit( X_train, y_train,cat_features=cat_columns )\n",
        "        \n",
        "    # Generate validation predictions for this fold\n",
        "    pred = fit_model.predict(X_valid)\n",
        "    y_valid_pred.iloc[test_index] = pred.reshape(-1)\n",
        "    print(accuracy_score(y_valid,pred))\n",
        "    accuracy+=accuracy_score(y_valid,pred)\n",
        "    # Accumulate test set predictions\n",
        "    y_test_pred += fit_model.predict(X_test)\n",
        "    result[j]=fit_model.predict(X_test)\n",
        "    j+=1\n",
        "results = y_test_pred / K  # Average test set predictions\n",
        "print(accuracy/5)\n"
      ],
      "execution_count": 12,
      "outputs": [
        {
          "output_type": "stream",
          "text": [
            "\n",
            "Fold  1\n",
            "0.7068697072114837\n",
            "\n",
            "Fold  2\n",
            "0.707857061481791\n",
            "\n",
            "Fold  3\n",
            "0.7057952301382349\n",
            "\n",
            "Fold  4\n",
            "0.7008962479112867\n",
            "\n",
            "Fold  5\n",
            "0.7046559319459214\n",
            "0.7052148357377435\n"
          ],
          "name": "stdout"
        }
      ]
    },
    {
      "cell_type": "code",
      "metadata": {
        "id": "ZkEnX9X3_M1t",
        "colab_type": "code",
        "colab": {}
      },
      "source": [
        "d = pd.DataFrame()\n",
        "for i in range(1, 6):\n",
        "    d = pd.concat([d,pd.DataFrame(result[i])],axis=1)\n",
        "d.columns=['1','2','3','4','5']\n",
        "#d.to_csv(\"d.csv\",index=False)"
      ],
      "execution_count": 0,
      "outputs": []
    },
    {
      "cell_type": "code",
      "metadata": {
        "id": "Ww2zlY0N_NP-",
        "colab_type": "code",
        "colab": {}
      },
      "source": [
        "re = d.mode(axis=1)[0]"
      ],
      "execution_count": 0,
      "outputs": []
    },
    {
      "cell_type": "code",
      "metadata": {
        "id": "ia_qMWzc_lwe",
        "colab_type": "code",
        "colab": {}
      },
      "source": [
        "sub.Surge_Pricing_Type = re\n",
        "sub.to_csv('cb_k.csv',index = False)"
      ],
      "execution_count": 0,
      "outputs": []
    },
    {
      "cell_type": "code",
      "metadata": {
        "id": "a5fnMOPG_mS1",
        "colab_type": "code",
        "colab": {
          "base_uri": "https://localhost:8080/",
          "height": 419
        },
        "outputId": "3c3287e7-bc67-4652-8811-9355299ea582"
      },
      "source": [
        "sub"
      ],
      "execution_count": 16,
      "outputs": [
        {
          "output_type": "execute_result",
          "data": {
            "text/html": [
              "<div>\n",
              "<style scoped>\n",
              "    .dataframe tbody tr th:only-of-type {\n",
              "        vertical-align: middle;\n",
              "    }\n",
              "\n",
              "    .dataframe tbody tr th {\n",
              "        vertical-align: top;\n",
              "    }\n",
              "\n",
              "    .dataframe thead th {\n",
              "        text-align: right;\n",
              "    }\n",
              "</style>\n",
              "<table border=\"1\" class=\"dataframe\">\n",
              "  <thead>\n",
              "    <tr style=\"text-align: right;\">\n",
              "      <th></th>\n",
              "      <th>Trip_ID</th>\n",
              "      <th>Surge_Pricing_Type</th>\n",
              "    </tr>\n",
              "  </thead>\n",
              "  <tbody>\n",
              "    <tr>\n",
              "      <th>0</th>\n",
              "      <td>T0005689459</td>\n",
              "      <td>1.0</td>\n",
              "    </tr>\n",
              "    <tr>\n",
              "      <th>1</th>\n",
              "      <td>T0005689462</td>\n",
              "      <td>2.0</td>\n",
              "    </tr>\n",
              "    <tr>\n",
              "      <th>2</th>\n",
              "      <td>T0005689463</td>\n",
              "      <td>2.0</td>\n",
              "    </tr>\n",
              "    <tr>\n",
              "      <th>3</th>\n",
              "      <td>T0005689466</td>\n",
              "      <td>2.0</td>\n",
              "    </tr>\n",
              "    <tr>\n",
              "      <th>4</th>\n",
              "      <td>T0005689468</td>\n",
              "      <td>2.0</td>\n",
              "    </tr>\n",
              "    <tr>\n",
              "      <th>...</th>\n",
              "      <td>...</td>\n",
              "      <td>...</td>\n",
              "    </tr>\n",
              "    <tr>\n",
              "      <th>87390</th>\n",
              "      <td>T0005908503</td>\n",
              "      <td>2.0</td>\n",
              "    </tr>\n",
              "    <tr>\n",
              "      <th>87391</th>\n",
              "      <td>T0005908504</td>\n",
              "      <td>2.0</td>\n",
              "    </tr>\n",
              "    <tr>\n",
              "      <th>87392</th>\n",
              "      <td>T0005908505</td>\n",
              "      <td>1.0</td>\n",
              "    </tr>\n",
              "    <tr>\n",
              "      <th>87393</th>\n",
              "      <td>T0005908511</td>\n",
              "      <td>2.0</td>\n",
              "    </tr>\n",
              "    <tr>\n",
              "      <th>87394</th>\n",
              "      <td>T0005908515</td>\n",
              "      <td>2.0</td>\n",
              "    </tr>\n",
              "  </tbody>\n",
              "</table>\n",
              "<p>87395 rows × 2 columns</p>\n",
              "</div>"
            ],
            "text/plain": [
              "           Trip_ID  Surge_Pricing_Type\n",
              "0      T0005689459                 1.0\n",
              "1      T0005689462                 2.0\n",
              "2      T0005689463                 2.0\n",
              "3      T0005689466                 2.0\n",
              "4      T0005689468                 2.0\n",
              "...            ...                 ...\n",
              "87390  T0005908503                 2.0\n",
              "87391  T0005908504                 2.0\n",
              "87392  T0005908505                 1.0\n",
              "87393  T0005908511                 2.0\n",
              "87394  T0005908515                 2.0\n",
              "\n",
              "[87395 rows x 2 columns]"
            ]
          },
          "metadata": {
            "tags": []
          },
          "execution_count": 16
        }
      ]
    },
    {
      "cell_type": "markdown",
      "metadata": {
        "id": "6dM3kOGuF-HV",
        "colab_type": "text"
      },
      "source": [
        "My own **code**"
      ]
    },
    {
      "cell_type": "code",
      "metadata": {
        "id": "zYlJC4KvGdQf",
        "colab_type": "code",
        "colab": {}
      },
      "source": [
        ""
      ],
      "execution_count": 0,
      "outputs": []
    },
    {
      "cell_type": "markdown",
      "metadata": {
        "id": "EKciTxEt_3ay",
        "colab_type": "text"
      },
      "source": [
        "#### Compare the datasets for the number of values that are missing in training and testing dataset"
      ]
    },
    {
      "cell_type": "code",
      "metadata": {
        "id": "iAA8dfq8_3a0",
        "colab_type": "code",
        "outputId": "245d8348-31f5-46fa-dfef-5d8a96dfe4fc",
        "colab": {}
      },
      "source": [
        "cab_data1 = cab_data.copy()\n",
        "cab_data1 = cab_data1.drop('Surge_Pricing_Type', axis = 1)\n",
        "cab_data1.info()"
      ],
      "execution_count": 0,
      "outputs": [
        {
          "output_type": "stream",
          "text": [
            "<class 'pandas.core.frame.DataFrame'>\n",
            "RangeIndex: 131662 entries, 0 to 131661\n",
            "Data columns (total 13 columns):\n",
            "Trip_ID                        131662 non-null object\n",
            "Trip_Distance                  131662 non-null float64\n",
            "Type_of_Cab                    111452 non-null object\n",
            "Customer_Since_Months          125742 non-null float64\n",
            "Life_Style_Index               111469 non-null float64\n",
            "Confidence_Life_Style_Index    111469 non-null object\n",
            "Destination_Type               131662 non-null object\n",
            "Customer_Rating                131662 non-null float64\n",
            "Cancellation_Last_1Month       131662 non-null int64\n",
            "Var1                           60632 non-null float64\n",
            "Var2                           131662 non-null int64\n",
            "Var3                           131662 non-null int64\n",
            "Gender                         131662 non-null object\n",
            "dtypes: float64(5), int64(3), object(5)\n",
            "memory usage: 13.1+ MB\n"
          ],
          "name": "stdout"
        }
      ]
    },
    {
      "cell_type": "code",
      "metadata": {
        "scrolled": true,
        "id": "2y1c7k80_3a5",
        "colab_type": "code",
        "outputId": "871ee8cc-c69a-4cb3-e46d-aa03f2a2fa5b",
        "colab": {}
      },
      "source": [
        "### The function compare_train_test compares the training and testing dataset to check if the same set of \n",
        "### categorical values are present in both the dataframes.\n",
        "def compare_train_test(train_data, test_data):\n",
        "    train_levels = train_data.apply(lambda x: set(x.unique()),axis=0)\n",
        "    test_levels = test_data.apply(lambda x: set(x.unique()),axis=0)\n",
        "    extra = []\n",
        "    missing = []\n",
        "    for x1,x2 in zip(train_levels, test_levels):\n",
        "        missing.append(x1-x2)\n",
        "        extra.append(x2-x1)\n",
        "    \n",
        "    return pd.DataFrame({\"Train Data Type\":train_data.dtypes, \"Test Data Type\":test_data.dtypes,\n",
        "                         \"Train #Levels\":train_data.apply(lambda x: x.unique().shape[0],axis=0),\"Test #Levels\":test_data.apply(lambda x: x.unique().shape[0],axis=0),\n",
        "                         \"Test Missing\":missing, \"Test Extra\":extra})\n",
        "compare_train_test(cab_data1, valid_data)"
      ],
      "execution_count": 0,
      "outputs": [
        {
          "output_type": "execute_result",
          "data": {
            "text/html": [
              "<div>\n",
              "<style scoped>\n",
              "    .dataframe tbody tr th:only-of-type {\n",
              "        vertical-align: middle;\n",
              "    }\n",
              "\n",
              "    .dataframe tbody tr th {\n",
              "        vertical-align: top;\n",
              "    }\n",
              "\n",
              "    .dataframe thead th {\n",
              "        text-align: right;\n",
              "    }\n",
              "</style>\n",
              "<table border=\"1\" class=\"dataframe\">\n",
              "  <thead>\n",
              "    <tr style=\"text-align: right;\">\n",
              "      <th></th>\n",
              "      <th>Train Data Type</th>\n",
              "      <th>Test Data Type</th>\n",
              "      <th>Train #Levels</th>\n",
              "      <th>Test #Levels</th>\n",
              "      <th>Test Missing</th>\n",
              "      <th>Test Extra</th>\n",
              "    </tr>\n",
              "  </thead>\n",
              "  <tbody>\n",
              "    <tr>\n",
              "      <td>Trip_ID</td>\n",
              "      <td>object</td>\n",
              "      <td>object</td>\n",
              "      <td>131662</td>\n",
              "      <td>87395</td>\n",
              "      <td>{T0005787686, T0005879504, T0005781197, T00057...</td>\n",
              "      <td>{T0005867185, T0005903661, T0005865886, T00057...</td>\n",
              "    </tr>\n",
              "    <tr>\n",
              "      <td>Trip_Distance</td>\n",
              "      <td>float64</td>\n",
              "      <td>float64</td>\n",
              "      <td>10326</td>\n",
              "      <td>9942</td>\n",
              "      <td>{1.62, 2.75, 2.5, 2.0, 2.83, 4.52, 5.52, 7.52,...</td>\n",
              "      <td>{1.75, 2.11, 2.21, 1.96, 1.69, 102.12, 103.37,...</td>\n",
              "    </tr>\n",
              "    <tr>\n",
              "      <td>Type_of_Cab</td>\n",
              "      <td>object</td>\n",
              "      <td>object</td>\n",
              "      <td>6</td>\n",
              "      <td>6</td>\n",
              "      <td>{}</td>\n",
              "      <td>{}</td>\n",
              "    </tr>\n",
              "    <tr>\n",
              "      <td>Customer_Since_Months</td>\n",
              "      <td>float64</td>\n",
              "      <td>float64</td>\n",
              "      <td>12</td>\n",
              "      <td>12</td>\n",
              "      <td>{nan}</td>\n",
              "      <td>{nan}</td>\n",
              "    </tr>\n",
              "    <tr>\n",
              "      <td>Life_Style_Index</td>\n",
              "      <td>float64</td>\n",
              "      <td>float64</td>\n",
              "      <td>55979</td>\n",
              "      <td>44858</td>\n",
              "      <td>{nan, 1.9063400000000001, 2.52337, 2.03125, 3....</td>\n",
              "      <td>{nan, 1.8994900000000001, 2.72654, 3.53904, 2....</td>\n",
              "    </tr>\n",
              "    <tr>\n",
              "      <td>Confidence_Life_Style_Index</td>\n",
              "      <td>object</td>\n",
              "      <td>object</td>\n",
              "      <td>4</td>\n",
              "      <td>4</td>\n",
              "      <td>{}</td>\n",
              "      <td>{}</td>\n",
              "    </tr>\n",
              "    <tr>\n",
              "      <td>Destination_Type</td>\n",
              "      <td>object</td>\n",
              "      <td>object</td>\n",
              "      <td>14</td>\n",
              "      <td>14</td>\n",
              "      <td>{}</td>\n",
              "      <td>{}</td>\n",
              "    </tr>\n",
              "    <tr>\n",
              "      <td>Customer_Rating</td>\n",
              "      <td>float64</td>\n",
              "      <td>float64</td>\n",
              "      <td>3931</td>\n",
              "      <td>3857</td>\n",
              "      <td>{0.0625, 0.09375, 0.5625, 0.34375, 4.98875, 0....</td>\n",
              "      <td>{0.12, 0.1175, 0.26125, 0.48125, 0.1375, 0.306...</td>\n",
              "    </tr>\n",
              "    <tr>\n",
              "      <td>Cancellation_Last_1Month</td>\n",
              "      <td>int64</td>\n",
              "      <td>int64</td>\n",
              "      <td>9</td>\n",
              "      <td>9</td>\n",
              "      <td>{}</td>\n",
              "      <td>{}</td>\n",
              "    </tr>\n",
              "    <tr>\n",
              "      <td>Var1</td>\n",
              "      <td>float64</td>\n",
              "      <td>float64</td>\n",
              "      <td>123</td>\n",
              "      <td>106</td>\n",
              "      <td>{nan, 129.0, 128.0, 132.0, 133.0, 135.0, 136.0...</td>\n",
              "      <td>{nan, 137.0, 140.0, 178.0, 151.0, 152.0, 123.0...</td>\n",
              "    </tr>\n",
              "    <tr>\n",
              "      <td>Var2</td>\n",
              "      <td>int64</td>\n",
              "      <td>int64</td>\n",
              "      <td>58</td>\n",
              "      <td>51</td>\n",
              "      <td>{101, 40, 124, 88, 89, 91, 92, 93, 94, 95}</td>\n",
              "      <td>{102, 116, 86}</td>\n",
              "    </tr>\n",
              "    <tr>\n",
              "      <td>Var3</td>\n",
              "      <td>int64</td>\n",
              "      <td>int64</td>\n",
              "      <td>96</td>\n",
              "      <td>94</td>\n",
              "      <td>{166, 137, 141, 142, 174, 206, 147, 155}</td>\n",
              "      <td>{169, 143, 144, 148, 149, 152}</td>\n",
              "    </tr>\n",
              "    <tr>\n",
              "      <td>Gender</td>\n",
              "      <td>object</td>\n",
              "      <td>object</td>\n",
              "      <td>2</td>\n",
              "      <td>2</td>\n",
              "      <td>{}</td>\n",
              "      <td>{}</td>\n",
              "    </tr>\n",
              "  </tbody>\n",
              "</table>\n",
              "</div>"
            ],
            "text/plain": [
              "                            Train Data Type Test Data Type  Train #Levels  \\\n",
              "Trip_ID                              object         object         131662   \n",
              "Trip_Distance                       float64        float64          10326   \n",
              "Type_of_Cab                          object         object              6   \n",
              "Customer_Since_Months               float64        float64             12   \n",
              "Life_Style_Index                    float64        float64          55979   \n",
              "Confidence_Life_Style_Index          object         object              4   \n",
              "Destination_Type                     object         object             14   \n",
              "Customer_Rating                     float64        float64           3931   \n",
              "Cancellation_Last_1Month              int64          int64              9   \n",
              "Var1                                float64        float64            123   \n",
              "Var2                                  int64          int64             58   \n",
              "Var3                                  int64          int64             96   \n",
              "Gender                               object         object              2   \n",
              "\n",
              "                             Test #Levels  \\\n",
              "Trip_ID                             87395   \n",
              "Trip_Distance                        9942   \n",
              "Type_of_Cab                             6   \n",
              "Customer_Since_Months                  12   \n",
              "Life_Style_Index                    44858   \n",
              "Confidence_Life_Style_Index             4   \n",
              "Destination_Type                       14   \n",
              "Customer_Rating                      3857   \n",
              "Cancellation_Last_1Month                9   \n",
              "Var1                                  106   \n",
              "Var2                                   51   \n",
              "Var3                                   94   \n",
              "Gender                                  2   \n",
              "\n",
              "                                                                  Test Missing  \\\n",
              "Trip_ID                      {T0005787686, T0005879504, T0005781197, T00057...   \n",
              "Trip_Distance                {1.62, 2.75, 2.5, 2.0, 2.83, 4.52, 5.52, 7.52,...   \n",
              "Type_of_Cab                                                                 {}   \n",
              "Customer_Since_Months                                                    {nan}   \n",
              "Life_Style_Index             {nan, 1.9063400000000001, 2.52337, 2.03125, 3....   \n",
              "Confidence_Life_Style_Index                                                 {}   \n",
              "Destination_Type                                                            {}   \n",
              "Customer_Rating              {0.0625, 0.09375, 0.5625, 0.34375, 4.98875, 0....   \n",
              "Cancellation_Last_1Month                                                    {}   \n",
              "Var1                         {nan, 129.0, 128.0, 132.0, 133.0, 135.0, 136.0...   \n",
              "Var2                                {101, 40, 124, 88, 89, 91, 92, 93, 94, 95}   \n",
              "Var3                                  {166, 137, 141, 142, 174, 206, 147, 155}   \n",
              "Gender                                                                      {}   \n",
              "\n",
              "                                                                    Test Extra  \n",
              "Trip_ID                      {T0005867185, T0005903661, T0005865886, T00057...  \n",
              "Trip_Distance                {1.75, 2.11, 2.21, 1.96, 1.69, 102.12, 103.37,...  \n",
              "Type_of_Cab                                                                 {}  \n",
              "Customer_Since_Months                                                    {nan}  \n",
              "Life_Style_Index             {nan, 1.8994900000000001, 2.72654, 3.53904, 2....  \n",
              "Confidence_Life_Style_Index                                                 {}  \n",
              "Destination_Type                                                            {}  \n",
              "Customer_Rating              {0.12, 0.1175, 0.26125, 0.48125, 0.1375, 0.306...  \n",
              "Cancellation_Last_1Month                                                    {}  \n",
              "Var1                         {nan, 137.0, 140.0, 178.0, 151.0, 152.0, 123.0...  \n",
              "Var2                                                            {102, 116, 86}  \n",
              "Var3                                            {169, 143, 144, 148, 149, 152}  \n",
              "Gender                                                                      {}  "
            ]
          },
          "metadata": {
            "tags": []
          },
          "execution_count": 18
        }
      ]
    },
    {
      "cell_type": "markdown",
      "metadata": {
        "id": "ySx9RSBY_3a-",
        "colab_type": "text"
      },
      "source": [
        "### _Understand the dataset_"
      ]
    },
    {
      "cell_type": "code",
      "metadata": {
        "id": "HMws_X3H_3a_",
        "colab_type": "code",
        "outputId": "1e4086a2-0014-4ce3-a3d1-7b8f25c95309",
        "colab": {}
      },
      "source": [
        "# What are the names of the columns?\n",
        "print(list(cab_data.columns))"
      ],
      "execution_count": 0,
      "outputs": [
        {
          "output_type": "stream",
          "text": [
            "['Trip_ID', 'Trip_Distance', 'Type_of_Cab', 'Customer_Since_Months', 'Life_Style_Index', 'Confidence_Life_Style_Index', 'Destination_Type', 'Customer_Rating', 'Cancellation_Last_1Month', 'Var1', 'Var2', 'Var3', 'Gender', 'Surge_Pricing_Type']\n"
          ],
          "name": "stdout"
        }
      ]
    },
    {
      "cell_type": "code",
      "metadata": {
        "id": "M6X7EphU_3bG",
        "colab_type": "code",
        "outputId": "1dd203c2-6e85-4f0a-8895-9dae349a380f",
        "colab": {}
      },
      "source": [
        "# What are the data types?\n",
        "cab_data.dtypes"
      ],
      "execution_count": 0,
      "outputs": [
        {
          "output_type": "execute_result",
          "data": {
            "text/plain": [
              "Trip_ID                         object\n",
              "Trip_Distance                  float64\n",
              "Type_of_Cab                     object\n",
              "Customer_Since_Months          float64\n",
              "Life_Style_Index               float64\n",
              "Confidence_Life_Style_Index     object\n",
              "Destination_Type                object\n",
              "Customer_Rating                float64\n",
              "Cancellation_Last_1Month         int64\n",
              "Var1                           float64\n",
              "Var2                             int64\n",
              "Var3                             int64\n",
              "Gender                          object\n",
              "Surge_Pricing_Type               int64\n",
              "dtype: object"
            ]
          },
          "metadata": {
            "tags": []
          },
          "execution_count": 20
        }
      ]
    },
    {
      "cell_type": "code",
      "metadata": {
        "id": "gTSeoKTC_3bN",
        "colab_type": "code",
        "outputId": "ad1a8499-df9f-4932-9077-2e6f9c4eff52",
        "colab": {}
      },
      "source": [
        "# What is the distribution of numerical columns?\n",
        "cab_data.describe()"
      ],
      "execution_count": 0,
      "outputs": [
        {
          "output_type": "execute_result",
          "data": {
            "text/html": [
              "<div>\n",
              "<style scoped>\n",
              "    .dataframe tbody tr th:only-of-type {\n",
              "        vertical-align: middle;\n",
              "    }\n",
              "\n",
              "    .dataframe tbody tr th {\n",
              "        vertical-align: top;\n",
              "    }\n",
              "\n",
              "    .dataframe thead th {\n",
              "        text-align: right;\n",
              "    }\n",
              "</style>\n",
              "<table border=\"1\" class=\"dataframe\">\n",
              "  <thead>\n",
              "    <tr style=\"text-align: right;\">\n",
              "      <th></th>\n",
              "      <th>Trip_Distance</th>\n",
              "      <th>Customer_Since_Months</th>\n",
              "      <th>Life_Style_Index</th>\n",
              "      <th>Customer_Rating</th>\n",
              "      <th>Cancellation_Last_1Month</th>\n",
              "      <th>Var1</th>\n",
              "      <th>Var2</th>\n",
              "      <th>Var3</th>\n",
              "      <th>Surge_Pricing_Type</th>\n",
              "    </tr>\n",
              "  </thead>\n",
              "  <tbody>\n",
              "    <tr>\n",
              "      <td>count</td>\n",
              "      <td>131662.000000</td>\n",
              "      <td>125742.000000</td>\n",
              "      <td>111469.000000</td>\n",
              "      <td>131662.000000</td>\n",
              "      <td>131662.000000</td>\n",
              "      <td>60632.000000</td>\n",
              "      <td>131662.000000</td>\n",
              "      <td>131662.000000</td>\n",
              "      <td>131662.000000</td>\n",
              "    </tr>\n",
              "    <tr>\n",
              "      <td>mean</td>\n",
              "      <td>44.200909</td>\n",
              "      <td>6.016661</td>\n",
              "      <td>2.802064</td>\n",
              "      <td>2.849458</td>\n",
              "      <td>0.782838</td>\n",
              "      <td>64.202698</td>\n",
              "      <td>51.202800</td>\n",
              "      <td>75.099019</td>\n",
              "      <td>2.155747</td>\n",
              "    </tr>\n",
              "    <tr>\n",
              "      <td>std</td>\n",
              "      <td>25.522882</td>\n",
              "      <td>3.626887</td>\n",
              "      <td>0.225796</td>\n",
              "      <td>0.980675</td>\n",
              "      <td>1.037559</td>\n",
              "      <td>21.820447</td>\n",
              "      <td>4.986142</td>\n",
              "      <td>11.578278</td>\n",
              "      <td>0.738164</td>\n",
              "    </tr>\n",
              "    <tr>\n",
              "      <td>min</td>\n",
              "      <td>0.310000</td>\n",
              "      <td>0.000000</td>\n",
              "      <td>1.596380</td>\n",
              "      <td>0.001250</td>\n",
              "      <td>0.000000</td>\n",
              "      <td>30.000000</td>\n",
              "      <td>40.000000</td>\n",
              "      <td>52.000000</td>\n",
              "      <td>1.000000</td>\n",
              "    </tr>\n",
              "    <tr>\n",
              "      <td>25%</td>\n",
              "      <td>24.580000</td>\n",
              "      <td>3.000000</td>\n",
              "      <td>2.654730</td>\n",
              "      <td>2.152500</td>\n",
              "      <td>0.000000</td>\n",
              "      <td>46.000000</td>\n",
              "      <td>48.000000</td>\n",
              "      <td>67.000000</td>\n",
              "      <td>2.000000</td>\n",
              "    </tr>\n",
              "    <tr>\n",
              "      <td>50%</td>\n",
              "      <td>38.200000</td>\n",
              "      <td>6.000000</td>\n",
              "      <td>2.798050</td>\n",
              "      <td>2.895000</td>\n",
              "      <td>0.000000</td>\n",
              "      <td>61.000000</td>\n",
              "      <td>50.000000</td>\n",
              "      <td>74.000000</td>\n",
              "      <td>2.000000</td>\n",
              "    </tr>\n",
              "    <tr>\n",
              "      <td>75%</td>\n",
              "      <td>60.730000</td>\n",
              "      <td>10.000000</td>\n",
              "      <td>2.946780</td>\n",
              "      <td>3.582500</td>\n",
              "      <td>1.000000</td>\n",
              "      <td>80.000000</td>\n",
              "      <td>54.000000</td>\n",
              "      <td>82.000000</td>\n",
              "      <td>3.000000</td>\n",
              "    </tr>\n",
              "    <tr>\n",
              "      <td>max</td>\n",
              "      <td>109.230000</td>\n",
              "      <td>10.000000</td>\n",
              "      <td>4.875110</td>\n",
              "      <td>5.000000</td>\n",
              "      <td>8.000000</td>\n",
              "      <td>210.000000</td>\n",
              "      <td>124.000000</td>\n",
              "      <td>206.000000</td>\n",
              "      <td>3.000000</td>\n",
              "    </tr>\n",
              "  </tbody>\n",
              "</table>\n",
              "</div>"
            ],
            "text/plain": [
              "       Trip_Distance  Customer_Since_Months  Life_Style_Index  \\\n",
              "count  131662.000000          125742.000000     111469.000000   \n",
              "mean       44.200909               6.016661          2.802064   \n",
              "std        25.522882               3.626887          0.225796   \n",
              "min         0.310000               0.000000          1.596380   \n",
              "25%        24.580000               3.000000          2.654730   \n",
              "50%        38.200000               6.000000          2.798050   \n",
              "75%        60.730000              10.000000          2.946780   \n",
              "max       109.230000              10.000000          4.875110   \n",
              "\n",
              "       Customer_Rating  Cancellation_Last_1Month          Var1           Var2  \\\n",
              "count    131662.000000             131662.000000  60632.000000  131662.000000   \n",
              "mean          2.849458                  0.782838     64.202698      51.202800   \n",
              "std           0.980675                  1.037559     21.820447       4.986142   \n",
              "min           0.001250                  0.000000     30.000000      40.000000   \n",
              "25%           2.152500                  0.000000     46.000000      48.000000   \n",
              "50%           2.895000                  0.000000     61.000000      50.000000   \n",
              "75%           3.582500                  1.000000     80.000000      54.000000   \n",
              "max           5.000000                  8.000000    210.000000     124.000000   \n",
              "\n",
              "                Var3  Surge_Pricing_Type  \n",
              "count  131662.000000       131662.000000  \n",
              "mean       75.099019            2.155747  \n",
              "std        11.578278            0.738164  \n",
              "min        52.000000            1.000000  \n",
              "25%        67.000000            2.000000  \n",
              "50%        74.000000            2.000000  \n",
              "75%        82.000000            3.000000  \n",
              "max       206.000000            3.000000  "
            ]
          },
          "metadata": {
            "tags": []
          },
          "execution_count": 21
        }
      ]
    },
    {
      "cell_type": "code",
      "metadata": {
        "id": "t3v2YcsG_3bV",
        "colab_type": "code",
        "outputId": "d8c03942-706f-45fc-fd90-90fade0950a4",
        "colab": {}
      },
      "source": [
        "# what is the distribution of numerical columns in test data ?\n",
        "valid_data.describe()"
      ],
      "execution_count": 0,
      "outputs": [
        {
          "output_type": "execute_result",
          "data": {
            "text/html": [
              "<div>\n",
              "<style scoped>\n",
              "    .dataframe tbody tr th:only-of-type {\n",
              "        vertical-align: middle;\n",
              "    }\n",
              "\n",
              "    .dataframe tbody tr th {\n",
              "        vertical-align: top;\n",
              "    }\n",
              "\n",
              "    .dataframe thead th {\n",
              "        text-align: right;\n",
              "    }\n",
              "</style>\n",
              "<table border=\"1\" class=\"dataframe\">\n",
              "  <thead>\n",
              "    <tr style=\"text-align: right;\">\n",
              "      <th></th>\n",
              "      <th>Trip_Distance</th>\n",
              "      <th>Customer_Since_Months</th>\n",
              "      <th>Life_Style_Index</th>\n",
              "      <th>Customer_Rating</th>\n",
              "      <th>Cancellation_Last_1Month</th>\n",
              "      <th>Var1</th>\n",
              "      <th>Var2</th>\n",
              "      <th>Var3</th>\n",
              "    </tr>\n",
              "  </thead>\n",
              "  <tbody>\n",
              "    <tr>\n",
              "      <td>count</td>\n",
              "      <td>87395.000000</td>\n",
              "      <td>83429.000000</td>\n",
              "      <td>74068.000000</td>\n",
              "      <td>87395.000000</td>\n",
              "      <td>87395.000000</td>\n",
              "      <td>40606.000000</td>\n",
              "      <td>87395.000000</td>\n",
              "      <td>87395.000000</td>\n",
              "    </tr>\n",
              "    <tr>\n",
              "      <td>mean</td>\n",
              "      <td>44.095174</td>\n",
              "      <td>5.990051</td>\n",
              "      <td>2.803392</td>\n",
              "      <td>2.847389</td>\n",
              "      <td>0.783031</td>\n",
              "      <td>63.936610</td>\n",
              "      <td>51.162160</td>\n",
              "      <td>75.015699</td>\n",
              "    </tr>\n",
              "    <tr>\n",
              "      <td>std</td>\n",
              "      <td>25.483993</td>\n",
              "      <td>3.626861</td>\n",
              "      <td>0.227113</td>\n",
              "      <td>0.981744</td>\n",
              "      <td>1.034266</td>\n",
              "      <td>21.636247</td>\n",
              "      <td>4.956831</td>\n",
              "      <td>11.582761</td>\n",
              "    </tr>\n",
              "    <tr>\n",
              "      <td>min</td>\n",
              "      <td>1.550000</td>\n",
              "      <td>0.000000</td>\n",
              "      <td>1.317850</td>\n",
              "      <td>0.001250</td>\n",
              "      <td>0.000000</td>\n",
              "      <td>30.000000</td>\n",
              "      <td>41.000000</td>\n",
              "      <td>52.000000</td>\n",
              "    </tr>\n",
              "    <tr>\n",
              "      <td>25%</td>\n",
              "      <td>24.540000</td>\n",
              "      <td>3.000000</td>\n",
              "      <td>2.654518</td>\n",
              "      <td>2.152500</td>\n",
              "      <td>0.000000</td>\n",
              "      <td>45.000000</td>\n",
              "      <td>48.000000</td>\n",
              "      <td>67.000000</td>\n",
              "    </tr>\n",
              "    <tr>\n",
              "      <td>50%</td>\n",
              "      <td>38.060000</td>\n",
              "      <td>6.000000</td>\n",
              "      <td>2.798630</td>\n",
              "      <td>2.895000</td>\n",
              "      <td>0.000000</td>\n",
              "      <td>61.000000</td>\n",
              "      <td>50.000000</td>\n",
              "      <td>73.000000</td>\n",
              "    </tr>\n",
              "    <tr>\n",
              "      <td>75%</td>\n",
              "      <td>60.690000</td>\n",
              "      <td>10.000000</td>\n",
              "      <td>2.949053</td>\n",
              "      <td>3.580000</td>\n",
              "      <td>1.000000</td>\n",
              "      <td>79.000000</td>\n",
              "      <td>54.000000</td>\n",
              "      <td>82.000000</td>\n",
              "    </tr>\n",
              "    <tr>\n",
              "      <td>max</td>\n",
              "      <td>109.230000</td>\n",
              "      <td>10.000000</td>\n",
              "      <td>4.871920</td>\n",
              "      <td>5.000000</td>\n",
              "      <td>8.000000</td>\n",
              "      <td>178.000000</td>\n",
              "      <td>116.000000</td>\n",
              "      <td>169.000000</td>\n",
              "    </tr>\n",
              "  </tbody>\n",
              "</table>\n",
              "</div>"
            ],
            "text/plain": [
              "       Trip_Distance  Customer_Since_Months  Life_Style_Index  \\\n",
              "count   87395.000000           83429.000000      74068.000000   \n",
              "mean       44.095174               5.990051          2.803392   \n",
              "std        25.483993               3.626861          0.227113   \n",
              "min         1.550000               0.000000          1.317850   \n",
              "25%        24.540000               3.000000          2.654518   \n",
              "50%        38.060000               6.000000          2.798630   \n",
              "75%        60.690000              10.000000          2.949053   \n",
              "max       109.230000              10.000000          4.871920   \n",
              "\n",
              "       Customer_Rating  Cancellation_Last_1Month          Var1          Var2  \\\n",
              "count     87395.000000              87395.000000  40606.000000  87395.000000   \n",
              "mean          2.847389                  0.783031     63.936610     51.162160   \n",
              "std           0.981744                  1.034266     21.636247      4.956831   \n",
              "min           0.001250                  0.000000     30.000000     41.000000   \n",
              "25%           2.152500                  0.000000     45.000000     48.000000   \n",
              "50%           2.895000                  0.000000     61.000000     50.000000   \n",
              "75%           3.580000                  1.000000     79.000000     54.000000   \n",
              "max           5.000000                  8.000000    178.000000    116.000000   \n",
              "\n",
              "               Var3  \n",
              "count  87395.000000  \n",
              "mean      75.015699  \n",
              "std       11.582761  \n",
              "min       52.000000  \n",
              "25%       67.000000  \n",
              "50%       73.000000  \n",
              "75%       82.000000  \n",
              "max      169.000000  "
            ]
          },
          "metadata": {
            "tags": []
          },
          "execution_count": 22
        }
      ]
    },
    {
      "cell_type": "code",
      "metadata": {
        "scrolled": true,
        "id": "zzn0gwNz_3bc",
        "colab_type": "code",
        "outputId": "155bbb82-4e04-4444-97ac-a5226f954ce3",
        "colab": {}
      },
      "source": [
        "# What about categorical variable levels count?\n",
        "cab_data.describe(include=['object'])"
      ],
      "execution_count": 0,
      "outputs": [
        {
          "output_type": "execute_result",
          "data": {
            "text/html": [
              "<div>\n",
              "<style scoped>\n",
              "    .dataframe tbody tr th:only-of-type {\n",
              "        vertical-align: middle;\n",
              "    }\n",
              "\n",
              "    .dataframe tbody tr th {\n",
              "        vertical-align: top;\n",
              "    }\n",
              "\n",
              "    .dataframe thead th {\n",
              "        text-align: right;\n",
              "    }\n",
              "</style>\n",
              "<table border=\"1\" class=\"dataframe\">\n",
              "  <thead>\n",
              "    <tr style=\"text-align: right;\">\n",
              "      <th></th>\n",
              "      <th>Trip_ID</th>\n",
              "      <th>Type_of_Cab</th>\n",
              "      <th>Confidence_Life_Style_Index</th>\n",
              "      <th>Destination_Type</th>\n",
              "      <th>Gender</th>\n",
              "    </tr>\n",
              "  </thead>\n",
              "  <tbody>\n",
              "    <tr>\n",
              "      <td>count</td>\n",
              "      <td>131662</td>\n",
              "      <td>111452</td>\n",
              "      <td>111469</td>\n",
              "      <td>131662</td>\n",
              "      <td>131662</td>\n",
              "    </tr>\n",
              "    <tr>\n",
              "      <td>unique</td>\n",
              "      <td>131662</td>\n",
              "      <td>5</td>\n",
              "      <td>3</td>\n",
              "      <td>14</td>\n",
              "      <td>2</td>\n",
              "    </tr>\n",
              "    <tr>\n",
              "      <td>top</td>\n",
              "      <td>T0005887046</td>\n",
              "      <td>B</td>\n",
              "      <td>B</td>\n",
              "      <td>A</td>\n",
              "      <td>Male</td>\n",
              "    </tr>\n",
              "    <tr>\n",
              "      <td>freq</td>\n",
              "      <td>1</td>\n",
              "      <td>31136</td>\n",
              "      <td>40355</td>\n",
              "      <td>77597</td>\n",
              "      <td>93900</td>\n",
              "    </tr>\n",
              "  </tbody>\n",
              "</table>\n",
              "</div>"
            ],
            "text/plain": [
              "            Trip_ID Type_of_Cab Confidence_Life_Style_Index Destination_Type  \\\n",
              "count        131662      111452                      111469           131662   \n",
              "unique       131662           5                           3               14   \n",
              "top     T0005887046           B                           B                A   \n",
              "freq              1       31136                       40355            77597   \n",
              "\n",
              "        Gender  \n",
              "count   131662  \n",
              "unique       2  \n",
              "top       Male  \n",
              "freq     93900  "
            ]
          },
          "metadata": {
            "tags": []
          },
          "execution_count": 23
        }
      ]
    },
    {
      "cell_type": "code",
      "metadata": {
        "scrolled": false,
        "id": "l83SWXuD_3bj",
        "colab_type": "code",
        "outputId": "c08fe456-82a1-4e4d-d627-9c1986bd31bc",
        "colab": {}
      },
      "source": [
        "# What about categorical variable levels count in test data?\n",
        "valid_data.describe(include=['object'])"
      ],
      "execution_count": 0,
      "outputs": [
        {
          "output_type": "execute_result",
          "data": {
            "text/html": [
              "<div>\n",
              "<style scoped>\n",
              "    .dataframe tbody tr th:only-of-type {\n",
              "        vertical-align: middle;\n",
              "    }\n",
              "\n",
              "    .dataframe tbody tr th {\n",
              "        vertical-align: top;\n",
              "    }\n",
              "\n",
              "    .dataframe thead th {\n",
              "        text-align: right;\n",
              "    }\n",
              "</style>\n",
              "<table border=\"1\" class=\"dataframe\">\n",
              "  <thead>\n",
              "    <tr style=\"text-align: right;\">\n",
              "      <th></th>\n",
              "      <th>Trip_ID</th>\n",
              "      <th>Type_of_Cab</th>\n",
              "      <th>Confidence_Life_Style_Index</th>\n",
              "      <th>Destination_Type</th>\n",
              "      <th>Gender</th>\n",
              "    </tr>\n",
              "  </thead>\n",
              "  <tbody>\n",
              "    <tr>\n",
              "      <td>count</td>\n",
              "      <td>87395</td>\n",
              "      <td>74237</td>\n",
              "      <td>74068</td>\n",
              "      <td>87395</td>\n",
              "      <td>87395</td>\n",
              "    </tr>\n",
              "    <tr>\n",
              "      <td>unique</td>\n",
              "      <td>87395</td>\n",
              "      <td>5</td>\n",
              "      <td>3</td>\n",
              "      <td>14</td>\n",
              "      <td>2</td>\n",
              "    </tr>\n",
              "    <tr>\n",
              "      <td>top</td>\n",
              "      <td>T0005839346</td>\n",
              "      <td>B</td>\n",
              "      <td>B</td>\n",
              "      <td>A</td>\n",
              "      <td>Male</td>\n",
              "    </tr>\n",
              "    <tr>\n",
              "      <td>freq</td>\n",
              "      <td>1</td>\n",
              "      <td>20449</td>\n",
              "      <td>26910</td>\n",
              "      <td>51413</td>\n",
              "      <td>62228</td>\n",
              "    </tr>\n",
              "  </tbody>\n",
              "</table>\n",
              "</div>"
            ],
            "text/plain": [
              "            Trip_ID Type_of_Cab Confidence_Life_Style_Index Destination_Type  \\\n",
              "count         87395       74237                       74068            87395   \n",
              "unique        87395           5                           3               14   \n",
              "top     T0005839346           B                           B                A   \n",
              "freq              1       20449                       26910            51413   \n",
              "\n",
              "       Gender  \n",
              "count   87395  \n",
              "unique      2  \n",
              "top      Male  \n",
              "freq    62228  "
            ]
          },
          "metadata": {
            "tags": []
          },
          "execution_count": 24
        }
      ]
    },
    {
      "cell_type": "code",
      "metadata": {
        "id": "_rO_E_z0_3bp",
        "colab_type": "code",
        "colab": {}
      },
      "source": [
        "cab_data = cab_data.drop('Trip_ID', axis = 1)\n",
        "valid_data = valid_data.drop('Trip_ID', axis = 1)"
      ],
      "execution_count": 0,
      "outputs": []
    },
    {
      "cell_type": "code",
      "metadata": {
        "id": "Hb2kyfDF_3bw",
        "colab_type": "code",
        "outputId": "4cd2209c-b981-4f14-92c2-74091efdb85b",
        "colab": {
          "base_uri": "https://localhost:8080/",
          "height": 102
        }
      },
      "source": [
        "cab_data.columns"
      ],
      "execution_count": 0,
      "outputs": [
        {
          "output_type": "execute_result",
          "data": {
            "text/plain": [
              "Index(['Trip_Distance', 'Type_of_Cab', 'Customer_Since_Months',\n",
              "       'Life_Style_Index', 'Confidence_Life_Style_Index', 'Destination_Type',\n",
              "       'Customer_Rating', 'Cancellation_Last_1Month', 'Var1', 'Var2', 'Var3',\n",
              "       'Gender', 'Surge_Pricing_Type'],\n",
              "      dtype='object')"
            ]
          },
          "metadata": {
            "tags": []
          },
          "execution_count": 13
        }
      ]
    },
    {
      "cell_type": "code",
      "metadata": {
        "id": "l-2zwgnL_3b5",
        "colab_type": "code",
        "outputId": "668419e8-fd53-42cd-d406-5aa49bb474d5",
        "colab": {
          "base_uri": "https://localhost:8080/",
          "height": 51
        }
      },
      "source": [
        "#### Adding code using the categorical and numerical Columns\n",
        "num_cols = ['Trip_Distance', 'Customer_Since_Months',\n",
        "       'Life_Style_Index', 'Customer_Rating', 'Cancellation_Last_1Month', 'Var1', 'Var2', 'Var3']\n",
        "       \n",
        "cat_cols = cab_data.columns.difference(num_cols).tolist()\n",
        "\n",
        "print(\"Numeric Columns ->\", num_cols)\n",
        "print(\"Categorical Columns ->\", cat_cols)"
      ],
      "execution_count": 0,
      "outputs": [
        {
          "output_type": "stream",
          "text": [
            "Numeric Columns -> ['Trip_Distance', 'Customer_Since_Months', 'Life_Style_Index', 'Customer_Rating', 'Cancellation_Last_1Month', 'Var1', 'Var2', 'Var3']\n",
            "Categorical Columns -> ['Confidence_Life_Style_Index', 'Destination_Type', 'Gender', 'Surge_Pricing_Type', 'Type_of_Cab']\n"
          ],
          "name": "stdout"
        }
      ]
    },
    {
      "cell_type": "code",
      "metadata": {
        "id": "AL4wAo-m_3cE",
        "colab_type": "code",
        "outputId": "8faa7518-880a-4924-d1b2-b4441420316f",
        "colab": {}
      },
      "source": [
        "# Checking Target Distribution\n",
        "sns.countplot(x = 'Surge_Pricing_Type', data = cab_data)\n"
      ],
      "execution_count": 0,
      "outputs": [
        {
          "output_type": "execute_result",
          "data": {
            "text/plain": [
              "<matplotlib.axes._subplots.AxesSubplot at 0x24b195a59b0>"
            ]
          },
          "metadata": {
            "tags": []
          },
          "execution_count": 28
        },
        {
          "output_type": "display_data",
          "data": {
            "image/png": "[encoded data removed]",
            "text/plain": [
              "<Figure size 432x288 with 1 Axes>"
            ]
          },
          "metadata": {
            "tags": [],
            "needs_background": "light"
          }
        }
      ]
    },
    {
      "cell_type": "code",
      "metadata": {
        "id": "5NZeV3se_3cM",
        "colab_type": "code",
        "outputId": "450602cb-17b6-4909-ad26-78b6c8449b06",
        "colab": {}
      },
      "source": [
        "# Checking other columns distribution based on target column\n",
        "for col in cat_cols:\n",
        "    if col != 'Surge_Pricing_Type':\n",
        "        sns.countplot(x = col, hue= 'Surge_Pricing_Type', data = cab_data)\n",
        "        plt.show()\n"
      ],
      "execution_count": 0,
      "outputs": [
        {
          "output_type": "display_data",
          "data": {
            "image/png": "[encoded data removed]",
            "text/plain": [
              "<Figure size 432x288 with 1 Axes>"
            ]
          },
          "metadata": {
            "tags": [],
            "needs_background": "light"
          }
        },
        {
          "output_type": "display_data",
          "data": {
            "image/png": "[encoded data removed]",
            "text/plain": [
              "<Figure size 432x288 with 1 Axes>"
            ]
          },
          "metadata": {
            "tags": [],
            "needs_background": "light"
          }
        },
        {
          "output_type": "display_data",
          "data": {
            "image/png": "[encoded data removed]",
            "text/plain": [
              "<Figure size 432x288 with 1 Axes>"
            ]
          },
          "metadata": {
            "tags": [],
            "needs_background": "light"
          }
        },
        {
          "output_type": "display_data",
          "data": {
            "image/png": "[encoded data removed]",
            "text/plain": [
              "<Figure size 432x288 with 1 Axes>"
            ]
          },
          "metadata": {
            "tags": [],
            "needs_background": "light"
          }
        }
      ]
    },
    {
      "cell_type": "code",
      "metadata": {
        "id": "XBYqtBNs_3cT",
        "colab_type": "code",
        "outputId": "a5d87206-ab52-4afe-ab5d-25074a7fe01c",
        "colab": {}
      },
      "source": [
        "import dexplot as dxp\n",
        "for col in cat_cols:\n",
        "    if col != 'Surge_Pricing_Type':\n",
        "        dxp.aggplot(agg = col, hue= 'Surge_Pricing_Type', data = cab_data, normalize = \"all\", xlabel = col, orient='v', figsize=(5,4))\n",
        "        plt.show()\n",
        "#dxp.aggplot(agg='occupation', data=df, hue='income')"
      ],
      "execution_count": 0,
      "outputs": [
        {
          "output_type": "display_data",
          "data": {
            "image/png": "[encoded data removed]",
            "text/plain": [
              "<Figure size 360x288 with 1 Axes>"
            ]
          },
          "metadata": {
            "tags": [],
            "needs_background": "light"
          }
        },
        {
          "output_type": "display_data",
          "data": {
            "image/png": "[encoded data removed]",
            "text/plain": [
              "<Figure size 360x288 with 1 Axes>"
            ]
          },
          "metadata": {
            "tags": [],
            "needs_background": "light"
          }
        },
        {
          "output_type": "display_data",
          "data": {
            "image/png": "[encoded data removed]",
            "text/plain": [
              "<Figure size 360x288 with 1 Axes>"
            ]
          },
          "metadata": {
            "tags": [],
            "needs_background": "light"
          }
        },
        {
          "output_type": "display_data",
          "data": {
            "image/png": "[encoded data removed]",
            "text/plain": [
              "<Figure size 360x288 with 1 Axes>"
            ]
          },
          "metadata": {
            "tags": [],
            "needs_background": "light"
          }
        }
      ]
    },
    {
      "cell_type": "code",
      "metadata": {
        "id": "XFs6uyQX_3cZ",
        "colab_type": "code",
        "outputId": "d53b672c-383e-4d78-8db5-b847c088a136",
        "colab": {}
      },
      "source": [
        "# Check distribution of age\n",
        "%matplotlib inline\n",
        "for col in num_cols:\n",
        "    sns.barplot(y = col, x = 'Surge_Pricing_Type', data = cab_data)\n",
        "    plt.show()"
      ],
      "execution_count": 0,
      "outputs": [
        {
          "output_type": "display_data",
          "data": {
            "image/png": "[encoded data removed]",
            "text/plain": [
              "<Figure size 432x288 with 1 Axes>"
            ]
          },
          "metadata": {
            "tags": [],
            "needs_background": "light"
          }
        },
        {
          "output_type": "display_data",
          "data": {
            "image/png": "[encoded data removed]",
            "text/plain": [
              "<Figure size 432x288 with 1 Axes>"
            ]
          },
          "metadata": {
            "tags": [],
            "needs_background": "light"
          }
        },
        {
          "output_type": "display_data",
          "data": {
            "image/png": "[encoded data removed]",
            "text/plain": [
              "<Figure size 432x288 with 1 Axes>"
            ]
          },
          "metadata": {
            "tags": [],
            "needs_background": "light"
          }
        },
        {
          "output_type": "display_data",
          "data": {
            "image/png": "[encoded data removed]",
            "text/plain": [
              "<Figure size 432x288 with 1 Axes>"
            ]
          },
          "metadata": {
            "tags": [],
            "needs_background": "light"
          }
        },
        {
          "output_type": "display_data",
          "data": {
            "image/png": "[encoded data removed]",
            "text/plain": [
              "<Figure size 432x288 with 1 Axes>"
            ]
          },
          "metadata": {
            "tags": [],
            "needs_background": "light"
          }
        },
        {
          "output_type": "display_data",
          "data": {
            "image/png": "[encoded data removed]",
            "text/plain": [
              "<Figure size 432x288 with 1 Axes>"
            ]
          },
          "metadata": {
            "tags": [],
            "needs_background": "light"
          }
        },
        {
          "output_type": "display_data",
          "data": {
            "image/png": "[encoded data removed]",
            "text/plain": [
              "<Figure size 432x288 with 1 Axes>"
            ]
          },
          "metadata": {
            "tags": [],
            "needs_background": "light"
          }
        },
        {
          "output_type": "display_data",
          "data": {
            "image/png": "[encoded data removed]",
            "text/plain": [
              "<Figure size 432x288 with 1 Axes>"
            ]
          },
          "metadata": {
            "tags": [],
            "needs_background": "light"
          }
        }
      ]
    },
    {
      "cell_type": "code",
      "metadata": {
        "id": "6zQF1u9V_3ce",
        "colab_type": "code",
        "outputId": "5a66239c-6486-4ffd-c8f9-6699e5e8b683",
        "colab": {}
      },
      "source": [
        "#cab_data[~df['x'].isnull()]df[['x']].astype(int)\n",
        "\n",
        "\n",
        "for col in cab_data[num_cols]:\n",
        "    cab_data[~cab_data[col].isnull()],cab_data[[col]].astype(int)\n",
        "    #cab_data.loc[cab_data[col].isnull(), col].astype(int)\n",
        "    sns.distplot(cab_data[col])\n",
        "    plt.show()\n",
        "   "
      ],
      "execution_count": 0,
      "outputs": [
        {
          "output_type": "display_data",
          "data": {
            "image/png": "[encoded data removed]",
            "text/plain": [
              "<Figure size 432x288 with 1 Axes>"
            ]
          },
          "metadata": {
            "tags": [],
            "needs_background": "light"
          }
        },
        {
          "output_type": "error",
          "ename": "ValueError",
          "evalue": "Cannot convert non-finite values (NA or inf) to integer",
          "traceback": [
            "\u001b[1;31m---------------------------------------------------------------------------\u001b[0m",
            "\u001b[1;31mValueError\u001b[0m                                Traceback (most recent call last)",
            "\u001b[1;32m<ipython-input-67-04a7fa8bce55>\u001b[0m in \u001b[0;36m<module>\u001b[1;34m()\u001b[0m\n\u001b[0;32m      3\u001b[0m \u001b[1;33m\u001b[0m\u001b[0m\n\u001b[0;32m      4\u001b[0m \u001b[1;32mfor\u001b[0m \u001b[0mcol\u001b[0m \u001b[1;32min\u001b[0m \u001b[0mcab_data\u001b[0m\u001b[1;33m[\u001b[0m\u001b[0mnum_cols\u001b[0m\u001b[1;33m]\u001b[0m\u001b[1;33m:\u001b[0m\u001b[1;33m\u001b[0m\u001b[0m\n\u001b[1;32m----> 5\u001b[1;33m     \u001b[0mcab_data\u001b[0m\u001b[1;33m[\u001b[0m\u001b[1;33m~\u001b[0m\u001b[0mcab_data\u001b[0m\u001b[1;33m[\u001b[0m\u001b[0mcol\u001b[0m\u001b[1;33m]\u001b[0m\u001b[1;33m.\u001b[0m\u001b[0misnull\u001b[0m\u001b[1;33m(\u001b[0m\u001b[1;33m)\u001b[0m\u001b[1;33m]\u001b[0m\u001b[1;33m,\u001b[0m\u001b[0mcab_data\u001b[0m\u001b[1;33m[\u001b[0m\u001b[1;33m[\u001b[0m\u001b[0mcol\u001b[0m\u001b[1;33m]\u001b[0m\u001b[1;33m]\u001b[0m\u001b[1;33m.\u001b[0m\u001b[0mastype\u001b[0m\u001b[1;33m(\u001b[0m\u001b[0mint\u001b[0m\u001b[1;33m)\u001b[0m\u001b[1;33m\u001b[0m\u001b[0m\n\u001b[0m\u001b[0;32m      6\u001b[0m     \u001b[1;31m#cab_data.loc[cab_data[col].isnull(), col].astype(int)\u001b[0m\u001b[1;33m\u001b[0m\u001b[1;33m\u001b[0m\u001b[0m\n\u001b[0;32m      7\u001b[0m     \u001b[0msns\u001b[0m\u001b[1;33m.\u001b[0m\u001b[0mdistplot\u001b[0m\u001b[1;33m(\u001b[0m\u001b[0mcab_data\u001b[0m\u001b[1;33m[\u001b[0m\u001b[0mcol\u001b[0m\u001b[1;33m]\u001b[0m\u001b[1;33m)\u001b[0m\u001b[1;33m\u001b[0m\u001b[0m\n",
            "\u001b[1;32mc:\\users\\my home\\appdata\\local\\programs\\python\\python36\\lib\\site-packages\\pandas\\core\\generic.py\u001b[0m in \u001b[0;36mastype\u001b[1;34m(self, dtype, copy, errors, **kwargs)\u001b[0m\n\u001b[0;32m   5880\u001b[0m             \u001b[1;31m# else, only a single dtype is given\u001b[0m\u001b[1;33m\u001b[0m\u001b[1;33m\u001b[0m\u001b[0m\n\u001b[0;32m   5881\u001b[0m             new_data = self._data.astype(\n\u001b[1;32m-> 5882\u001b[1;33m                 \u001b[0mdtype\u001b[0m\u001b[1;33m=\u001b[0m\u001b[0mdtype\u001b[0m\u001b[1;33m,\u001b[0m \u001b[0mcopy\u001b[0m\u001b[1;33m=\u001b[0m\u001b[0mcopy\u001b[0m\u001b[1;33m,\u001b[0m \u001b[0merrors\u001b[0m\u001b[1;33m=\u001b[0m\u001b[0merrors\u001b[0m\u001b[1;33m,\u001b[0m \u001b[1;33m**\u001b[0m\u001b[0mkwargs\u001b[0m\u001b[1;33m\u001b[0m\u001b[0m\n\u001b[0m\u001b[0;32m   5883\u001b[0m             )\n\u001b[0;32m   5884\u001b[0m             \u001b[1;32mreturn\u001b[0m \u001b[0mself\u001b[0m\u001b[1;33m.\u001b[0m\u001b[0m_constructor\u001b[0m\u001b[1;33m(\u001b[0m\u001b[0mnew_data\u001b[0m\u001b[1;33m)\u001b[0m\u001b[1;33m.\u001b[0m\u001b[0m__finalize__\u001b[0m\u001b[1;33m(\u001b[0m\u001b[0mself\u001b[0m\u001b[1;33m)\u001b[0m\u001b[1;33m\u001b[0m\u001b[0m\n",
            "\u001b[1;32mc:\\users\\my home\\appdata\\local\\programs\\python\\python36\\lib\\site-packages\\pandas\\core\\internals\\managers.py\u001b[0m in \u001b[0;36mastype\u001b[1;34m(self, dtype, **kwargs)\u001b[0m\n\u001b[0;32m    579\u001b[0m \u001b[1;33m\u001b[0m\u001b[0m\n\u001b[0;32m    580\u001b[0m     \u001b[1;32mdef\u001b[0m \u001b[0mastype\u001b[0m\u001b[1;33m(\u001b[0m\u001b[0mself\u001b[0m\u001b[1;33m,\u001b[0m \u001b[0mdtype\u001b[0m\u001b[1;33m,\u001b[0m \u001b[1;33m**\u001b[0m\u001b[0mkwargs\u001b[0m\u001b[1;33m)\u001b[0m\u001b[1;33m:\u001b[0m\u001b[1;33m\u001b[0m\u001b[0m\n\u001b[1;32m--> 581\u001b[1;33m         \u001b[1;32mreturn\u001b[0m \u001b[0mself\u001b[0m\u001b[1;33m.\u001b[0m\u001b[0mapply\u001b[0m\u001b[1;33m(\u001b[0m\u001b[1;34m\"astype\"\u001b[0m\u001b[1;33m,\u001b[0m \u001b[0mdtype\u001b[0m\u001b[1;33m=\u001b[0m\u001b[0mdtype\u001b[0m\u001b[1;33m,\u001b[0m \u001b[1;33m**\u001b[0m\u001b[0mkwargs\u001b[0m\u001b[1;33m)\u001b[0m\u001b[1;33m\u001b[0m\u001b[0m\n\u001b[0m\u001b[0;32m    582\u001b[0m \u001b[1;33m\u001b[0m\u001b[0m\n\u001b[0;32m    583\u001b[0m     \u001b[1;32mdef\u001b[0m \u001b[0mconvert\u001b[0m\u001b[1;33m(\u001b[0m\u001b[0mself\u001b[0m\u001b[1;33m,\u001b[0m \u001b[1;33m**\u001b[0m\u001b[0mkwargs\u001b[0m\u001b[1;33m)\u001b[0m\u001b[1;33m:\u001b[0m\u001b[1;33m\u001b[0m\u001b[0m\n",
            "\u001b[1;32mc:\\users\\my home\\appdata\\local\\programs\\python\\python36\\lib\\site-packages\\pandas\\core\\internals\\managers.py\u001b[0m in \u001b[0;36mapply\u001b[1;34m(self, f, axes, filter, do_integrity_check, consolidate, **kwargs)\u001b[0m\n\u001b[0;32m    436\u001b[0m                     \u001b[0mkwargs\u001b[0m\u001b[1;33m[\u001b[0m\u001b[0mk\u001b[0m\u001b[1;33m]\u001b[0m \u001b[1;33m=\u001b[0m \u001b[0mobj\u001b[0m\u001b[1;33m.\u001b[0m\u001b[0mreindex\u001b[0m\u001b[1;33m(\u001b[0m\u001b[0mb_items\u001b[0m\u001b[1;33m,\u001b[0m \u001b[0maxis\u001b[0m\u001b[1;33m=\u001b[0m\u001b[0maxis\u001b[0m\u001b[1;33m,\u001b[0m \u001b[0mcopy\u001b[0m\u001b[1;33m=\u001b[0m\u001b[0malign_copy\u001b[0m\u001b[1;33m)\u001b[0m\u001b[1;33m\u001b[0m\u001b[0m\n\u001b[0;32m    437\u001b[0m \u001b[1;33m\u001b[0m\u001b[0m\n\u001b[1;32m--> 438\u001b[1;33m             \u001b[0mapplied\u001b[0m \u001b[1;33m=\u001b[0m \u001b[0mgetattr\u001b[0m\u001b[1;33m(\u001b[0m\u001b[0mb\u001b[0m\u001b[1;33m,\u001b[0m \u001b[0mf\u001b[0m\u001b[1;33m)\u001b[0m\u001b[1;33m(\u001b[0m\u001b[1;33m**\u001b[0m\u001b[0mkwargs\u001b[0m\u001b[1;33m)\u001b[0m\u001b[1;33m\u001b[0m\u001b[0m\n\u001b[0m\u001b[0;32m    439\u001b[0m             \u001b[0mresult_blocks\u001b[0m \u001b[1;33m=\u001b[0m \u001b[0m_extend_blocks\u001b[0m\u001b[1;33m(\u001b[0m\u001b[0mapplied\u001b[0m\u001b[1;33m,\u001b[0m \u001b[0mresult_blocks\u001b[0m\u001b[1;33m)\u001b[0m\u001b[1;33m\u001b[0m\u001b[0m\n\u001b[0;32m    440\u001b[0m \u001b[1;33m\u001b[0m\u001b[0m\n",
            "\u001b[1;32mc:\\users\\my home\\appdata\\local\\programs\\python\\python36\\lib\\site-packages\\pandas\\core\\internals\\blocks.py\u001b[0m in \u001b[0;36mastype\u001b[1;34m(self, dtype, copy, errors, values, **kwargs)\u001b[0m\n\u001b[0;32m    557\u001b[0m \u001b[1;33m\u001b[0m\u001b[0m\n\u001b[0;32m    558\u001b[0m     \u001b[1;32mdef\u001b[0m \u001b[0mastype\u001b[0m\u001b[1;33m(\u001b[0m\u001b[0mself\u001b[0m\u001b[1;33m,\u001b[0m \u001b[0mdtype\u001b[0m\u001b[1;33m,\u001b[0m \u001b[0mcopy\u001b[0m\u001b[1;33m=\u001b[0m\u001b[1;32mFalse\u001b[0m\u001b[1;33m,\u001b[0m \u001b[0merrors\u001b[0m\u001b[1;33m=\u001b[0m\u001b[1;34m\"raise\"\u001b[0m\u001b[1;33m,\u001b[0m \u001b[0mvalues\u001b[0m\u001b[1;33m=\u001b[0m\u001b[1;32mNone\u001b[0m\u001b[1;33m,\u001b[0m \u001b[1;33m**\u001b[0m\u001b[0mkwargs\u001b[0m\u001b[1;33m)\u001b[0m\u001b[1;33m:\u001b[0m\u001b[1;33m\u001b[0m\u001b[0m\n\u001b[1;32m--> 559\u001b[1;33m         \u001b[1;32mreturn\u001b[0m \u001b[0mself\u001b[0m\u001b[1;33m.\u001b[0m\u001b[0m_astype\u001b[0m\u001b[1;33m(\u001b[0m\u001b[0mdtype\u001b[0m\u001b[1;33m,\u001b[0m \u001b[0mcopy\u001b[0m\u001b[1;33m=\u001b[0m\u001b[0mcopy\u001b[0m\u001b[1;33m,\u001b[0m \u001b[0merrors\u001b[0m\u001b[1;33m=\u001b[0m\u001b[0merrors\u001b[0m\u001b[1;33m,\u001b[0m \u001b[0mvalues\u001b[0m\u001b[1;33m=\u001b[0m\u001b[0mvalues\u001b[0m\u001b[1;33m,\u001b[0m \u001b[1;33m**\u001b[0m\u001b[0mkwargs\u001b[0m\u001b[1;33m)\u001b[0m\u001b[1;33m\u001b[0m\u001b[0m\n\u001b[0m\u001b[0;32m    560\u001b[0m \u001b[1;33m\u001b[0m\u001b[0m\n\u001b[0;32m    561\u001b[0m     \u001b[1;32mdef\u001b[0m \u001b[0m_astype\u001b[0m\u001b[1;33m(\u001b[0m\u001b[0mself\u001b[0m\u001b[1;33m,\u001b[0m \u001b[0mdtype\u001b[0m\u001b[1;33m,\u001b[0m \u001b[0mcopy\u001b[0m\u001b[1;33m=\u001b[0m\u001b[1;32mFalse\u001b[0m\u001b[1;33m,\u001b[0m \u001b[0merrors\u001b[0m\u001b[1;33m=\u001b[0m\u001b[1;34m\"raise\"\u001b[0m\u001b[1;33m,\u001b[0m \u001b[0mvalues\u001b[0m\u001b[1;33m=\u001b[0m\u001b[1;32mNone\u001b[0m\u001b[1;33m,\u001b[0m \u001b[1;33m**\u001b[0m\u001b[0mkwargs\u001b[0m\u001b[1;33m)\u001b[0m\u001b[1;33m:\u001b[0m\u001b[1;33m\u001b[0m\u001b[0m\n",
            "\u001b[1;32mc:\\users\\my home\\appdata\\local\\programs\\python\\python36\\lib\\site-packages\\pandas\\core\\internals\\blocks.py\u001b[0m in \u001b[0;36m_astype\u001b[1;34m(self, dtype, copy, errors, values, **kwargs)\u001b[0m\n\u001b[0;32m    641\u001b[0m                     \u001b[1;31m# _astype_nansafe works fine with 1-d only\u001b[0m\u001b[1;33m\u001b[0m\u001b[1;33m\u001b[0m\u001b[0m\n\u001b[0;32m    642\u001b[0m                     \u001b[0mvals1d\u001b[0m \u001b[1;33m=\u001b[0m \u001b[0mvalues\u001b[0m\u001b[1;33m.\u001b[0m\u001b[0mravel\u001b[0m\u001b[1;33m(\u001b[0m\u001b[1;33m)\u001b[0m\u001b[1;33m\u001b[0m\u001b[0m\n\u001b[1;32m--> 643\u001b[1;33m                     \u001b[0mvalues\u001b[0m \u001b[1;33m=\u001b[0m \u001b[0mastype_nansafe\u001b[0m\u001b[1;33m(\u001b[0m\u001b[0mvals1d\u001b[0m\u001b[1;33m,\u001b[0m \u001b[0mdtype\u001b[0m\u001b[1;33m,\u001b[0m \u001b[0mcopy\u001b[0m\u001b[1;33m=\u001b[0m\u001b[1;32mTrue\u001b[0m\u001b[1;33m,\u001b[0m \u001b[1;33m**\u001b[0m\u001b[0mkwargs\u001b[0m\u001b[1;33m)\u001b[0m\u001b[1;33m\u001b[0m\u001b[0m\n\u001b[0m\u001b[0;32m    644\u001b[0m \u001b[1;33m\u001b[0m\u001b[0m\n\u001b[0;32m    645\u001b[0m                 \u001b[1;31m# TODO(extension)\u001b[0m\u001b[1;33m\u001b[0m\u001b[1;33m\u001b[0m\u001b[0m\n",
            "\u001b[1;32mc:\\users\\my home\\appdata\\local\\programs\\python\\python36\\lib\\site-packages\\pandas\\core\\dtypes\\cast.py\u001b[0m in \u001b[0;36mastype_nansafe\u001b[1;34m(arr, dtype, copy, skipna)\u001b[0m\n\u001b[0;32m    698\u001b[0m         \u001b[1;32mif\u001b[0m \u001b[1;32mnot\u001b[0m \u001b[0mnp\u001b[0m\u001b[1;33m.\u001b[0m\u001b[0misfinite\u001b[0m\u001b[1;33m(\u001b[0m\u001b[0marr\u001b[0m\u001b[1;33m)\u001b[0m\u001b[1;33m.\u001b[0m\u001b[0mall\u001b[0m\u001b[1;33m(\u001b[0m\u001b[1;33m)\u001b[0m\u001b[1;33m:\u001b[0m\u001b[1;33m\u001b[0m\u001b[0m\n\u001b[0;32m    699\u001b[0m             raise ValueError(\n\u001b[1;32m--> 700\u001b[1;33m                 \u001b[1;34m\"Cannot convert non-finite values (NA or inf) to \"\u001b[0m \u001b[1;34m\"integer\"\u001b[0m\u001b[1;33m\u001b[0m\u001b[0m\n\u001b[0m\u001b[0;32m    701\u001b[0m             )\n\u001b[0;32m    702\u001b[0m \u001b[1;33m\u001b[0m\u001b[0m\n",
            "\u001b[1;31mValueError\u001b[0m: Cannot convert non-finite values (NA or inf) to integer"
          ]
        }
      ]
    },
    {
      "cell_type": "code",
      "metadata": {
        "id": "SUvyx3Gz_3ci",
        "colab_type": "code",
        "outputId": "6cb8fa33-ffae-4596-ac34-63e9f422c54d",
        "colab": {}
      },
      "source": [
        "#checking for boxplots for num cols\n",
        "for col in num_cols:\n",
        "    print(\"\\n\\n\\n=============>\",col,\"<=============\\n\")\n",
        "    plt.figure(figsize=(20,3),facecolor='pink')\n",
        "    plt.subplot(1,4,1)\n",
        "    sns.boxplot(y=col, data = cab_data)\n",
        "    plt.show()        \n",
        "    plt.show()\n",
        "    print(\"\\n==============================================\")\n"
      ],
      "execution_count": 0,
      "outputs": [
        {
          "output_type": "stream",
          "text": [
            "\n",
            "\n",
            "\n",
            "=============> Trip_Distance <=============\n",
            "\n"
          ],
          "name": "stdout"
        },
        {
          "output_type": "display_data",
          "data": {
            "image/png": "[encoded data removed]",
            "text/plain": [
              "<Figure size 1440x216 with 1 Axes>"
            ]
          },
          "metadata": {
            "tags": []
          }
        },
        {
          "output_type": "stream",
          "text": [
            "\n",
            "==============================================\n",
            "\n",
            "\n",
            "\n",
            "=============> Customer_Since_Months <=============\n",
            "\n"
          ],
          "name": "stdout"
        },
        {
          "output_type": "display_data",
          "data": {
            "image/png": "[encoded data removed]",
            "text/plain": [
              "<Figure size 1440x216 with 1 Axes>"
            ]
          },
          "metadata": {
            "tags": []
          }
        },
        {
          "output_type": "stream",
          "text": [
            "\n",
            "==============================================\n",
            "\n",
            "\n",
            "\n",
            "=============> Life_Style_Index <=============\n",
            "\n"
          ],
          "name": "stdout"
        },
        {
          "output_type": "display_data",
          "data": {
            "image/png": "[encoded data removed]",
            "text/plain": [
              "<Figure size 1440x216 with 1 Axes>"
            ]
          },
          "metadata": {
            "tags": []
          }
        },
        {
          "output_type": "stream",
          "text": [
            "\n",
            "==============================================\n",
            "\n",
            "\n",
            "\n",
            "=============> Customer_Rating <=============\n",
            "\n"
          ],
          "name": "stdout"
        },
        {
          "output_type": "display_data",
          "data": {
            "image/png": "[encoded data removed]",
            "text/plain": [
              "<Figure size 1440x216 with 1 Axes>"
            ]
          },
          "metadata": {
            "tags": []
          }
        },
        {
          "output_type": "stream",
          "text": [
            "\n",
            "==============================================\n",
            "\n",
            "\n",
            "\n",
            "=============> Cancellation_Last_1Month <=============\n",
            "\n"
          ],
          "name": "stdout"
        },
        {
          "output_type": "display_data",
          "data": {
            "image/png": "[encoded data removed]",
            "text/plain": [
              "<Figure size 1440x216 with 1 Axes>"
            ]
          },
          "metadata": {
            "tags": []
          }
        },
        {
          "output_type": "stream",
          "text": [
            "\n",
            "==============================================\n",
            "\n",
            "\n",
            "\n",
            "=============> Var1 <=============\n",
            "\n"
          ],
          "name": "stdout"
        },
        {
          "output_type": "display_data",
          "data": {
            "image/png": "[encoded data removed]",
            "text/plain": [
              "<Figure size 1440x216 with 1 Axes>"
            ]
          },
          "metadata": {
            "tags": []
          }
        },
        {
          "output_type": "stream",
          "text": [
            "\n",
            "==============================================\n",
            "\n",
            "\n",
            "\n",
            "=============> Var2 <=============\n",
            "\n"
          ],
          "name": "stdout"
        },
        {
          "output_type": "display_data",
          "data": {
            "image/png": "[encoded data removed]",
            "text/plain": [
              "<Figure size 1440x216 with 1 Axes>"
            ]
          },
          "metadata": {
            "tags": []
          }
        },
        {
          "output_type": "stream",
          "text": [
            "\n",
            "==============================================\n",
            "\n",
            "\n",
            "\n",
            "=============> Var3 <=============\n",
            "\n"
          ],
          "name": "stdout"
        },
        {
          "output_type": "display_data",
          "data": {
            "image/png": "[encoded data removed]",
            "text/plain": [
              "<Figure size 1440x216 with 1 Axes>"
            ]
          },
          "metadata": {
            "tags": []
          }
        },
        {
          "output_type": "stream",
          "text": [
            "\n",
            "==============================================\n"
          ],
          "name": "stdout"
        }
      ]
    },
    {
      "cell_type": "code",
      "metadata": {
        "id": "WQlFPwXv_3cm",
        "colab_type": "code",
        "outputId": "01e2f3c6-4ca5-4595-b953-f34f55e30a1c",
        "colab": {}
      },
      "source": [
        "#correlation\n",
        "corr = cab_data.corr()\n",
        "print(corr)\n",
        "corr.style.background_gradient(cmap='coolwarm')\n"
      ],
      "execution_count": 0,
      "outputs": [
        {
          "output_type": "stream",
          "text": [
            "                          Trip_Distance  Customer_Since_Months  \\\n",
            "Trip_Distance                  1.000000               0.116812   \n",
            "Customer_Since_Months          0.116812               1.000000   \n",
            "Life_Style_Index               0.509482               0.135114   \n",
            "Customer_Rating               -0.054654              -0.050349   \n",
            "Cancellation_Last_1Month      -0.007686              -0.006325   \n",
            "Var1                          -0.045468              -0.009856   \n",
            "Var2                           0.200456               0.042637   \n",
            "Var3                           0.231706               0.113403   \n",
            "Surge_Pricing_Type             0.135928               0.027827   \n",
            "\n",
            "                          Life_Style_Index  Customer_Rating  \\\n",
            "Trip_Distance                     0.509482        -0.054654   \n",
            "Customer_Since_Months             0.135114        -0.050349   \n",
            "Life_Style_Index                  1.000000         0.205824   \n",
            "Customer_Rating                   0.205824         1.000000   \n",
            "Cancellation_Last_1Month          0.074023         0.003595   \n",
            "Var1                             -0.091307        -0.010968   \n",
            "Var2                              0.234754        -0.302968   \n",
            "Var3                              0.329312        -0.227531   \n",
            "Surge_Pricing_Type               -0.080108        -0.155279   \n",
            "\n",
            "                          Cancellation_Last_1Month      Var1      Var2  \\\n",
            "Trip_Distance                            -0.007686 -0.045468  0.200456   \n",
            "Customer_Since_Months                    -0.006325 -0.009856  0.042637   \n",
            "Life_Style_Index                          0.074023 -0.091307  0.234754   \n",
            "Customer_Rating                           0.003595 -0.010968 -0.302968   \n",
            "Cancellation_Last_1Month                  1.000000  0.010953  0.095830   \n",
            "Var1                                      0.010953  1.000000 -0.046755   \n",
            "Var2                                      0.095830 -0.046755  1.000000   \n",
            "Var3                                      0.128686 -0.061993  0.683437   \n",
            "Surge_Pricing_Type                        0.185646 -0.040735  0.003437   \n",
            "\n",
            "                              Var3  Surge_Pricing_Type  \n",
            "Trip_Distance             0.231706            0.135928  \n",
            "Customer_Since_Months     0.113403            0.027827  \n",
            "Life_Style_Index          0.329312           -0.080108  \n",
            "Customer_Rating          -0.227531           -0.155279  \n",
            "Cancellation_Last_1Month  0.128686            0.185646  \n",
            "Var1                     -0.061993           -0.040735  \n",
            "Var2                      0.683437            0.003437  \n",
            "Var3                      1.000000           -0.039309  \n",
            "Surge_Pricing_Type       -0.039309            1.000000  \n"
          ],
          "name": "stdout"
        },
        {
          "output_type": "execute_result",
          "data": {
            "text/html": [
              "<style  type=\"text/css\" >\n",
              "    #T_237e430c_974d_11ea_973f_88b111a80551row0_col0 {\n",
              "            background-color:  #b40426;\n",
              "            color:  #f1f1f1;\n",
              "        }    #T_237e430c_974d_11ea_973f_88b111a80551row0_col1 {\n",
              "            background-color:  #6c8ff1;\n",
              "            color:  #000000;\n",
              "        }    #T_237e430c_974d_11ea_973f_88b111a80551row0_col2 {\n",
              "            background-color:  #e9d5cb;\n",
              "            color:  #000000;\n",
              "        }    #T_237e430c_974d_11ea_973f_88b111a80551row0_col3 {\n",
              "            background-color:  #779af7;\n",
              "            color:  #000000;\n",
              "        }    #T_237e430c_974d_11ea_973f_88b111a80551row0_col4 {\n",
              "            background-color:  #3b4cc0;\n",
              "            color:  #f1f1f1;\n",
              "        }    #T_237e430c_974d_11ea_973f_88b111a80551row0_col5 {\n",
              "            background-color:  #465ecf;\n",
              "            color:  #f1f1f1;\n",
              "        }    #T_237e430c_974d_11ea_973f_88b111a80551row0_col6 {\n",
              "            background-color:  #bbd1f8;\n",
              "            color:  #000000;\n",
              "        }    #T_237e430c_974d_11ea_973f_88b111a80551row0_col7 {\n",
              "            background-color:  #b7cff9;\n",
              "            color:  #000000;\n",
              "        }    #T_237e430c_974d_11ea_973f_88b111a80551row0_col8 {\n",
              "            background-color:  #8db0fe;\n",
              "            color:  #000000;\n",
              "        }    #T_237e430c_974d_11ea_973f_88b111a80551row1_col0 {\n",
              "            background-color:  #6e90f2;\n",
              "            color:  #000000;\n",
              "        }    #T_237e430c_974d_11ea_973f_88b111a80551row1_col1 {\n",
              "            background-color:  #b40426;\n",
              "            color:  #f1f1f1;\n",
              "        }    #T_237e430c_974d_11ea_973f_88b111a80551row1_col2 {\n",
              "            background-color:  #7ea1fa;\n",
              "            color:  #000000;\n",
              "        }    #T_237e430c_974d_11ea_973f_88b111a80551row1_col3 {\n",
              "            background-color:  #799cf8;\n",
              "            color:  #000000;\n",
              "        }    #T_237e430c_974d_11ea_973f_88b111a80551row1_col4 {\n",
              "            background-color:  #3b4cc0;\n",
              "            color:  #f1f1f1;\n",
              "        }    #T_237e430c_974d_11ea_973f_88b111a80551row1_col5 {\n",
              "            background-color:  #516ddb;\n",
              "            color:  #000000;\n",
              "        }    #T_237e430c_974d_11ea_973f_88b111a80551row1_col6 {\n",
              "            background-color:  #92b4fe;\n",
              "            color:  #000000;\n",
              "        }    #T_237e430c_974d_11ea_973f_88b111a80551row1_col7 {\n",
              "            background-color:  #97b8ff;\n",
              "            color:  #000000;\n",
              "        }    #T_237e430c_974d_11ea_973f_88b111a80551row1_col8 {\n",
              "            background-color:  #6c8ff1;\n",
              "            color:  #000000;\n",
              "        }    #T_237e430c_974d_11ea_973f_88b111a80551row2_col0 {\n",
              "            background-color:  #e5d8d1;\n",
              "            color:  #000000;\n",
              "        }    #T_237e430c_974d_11ea_973f_88b111a80551row2_col1 {\n",
              "            background-color:  #7396f5;\n",
              "            color:  #000000;\n",
              "        }    #T_237e430c_974d_11ea_973f_88b111a80551row2_col2 {\n",
              "            background-color:  #b40426;\n",
              "            color:  #f1f1f1;\n",
              "        }    #T_237e430c_974d_11ea_973f_88b111a80551row2_col3 {\n",
              "            background-color:  #bcd2f7;\n",
              "            color:  #000000;\n",
              "        }    #T_237e430c_974d_11ea_973f_88b111a80551row2_col4 {\n",
              "            background-color:  #536edd;\n",
              "            color:  #000000;\n",
              "        }    #T_237e430c_974d_11ea_973f_88b111a80551row2_col5 {\n",
              "            background-color:  #3b4cc0;\n",
              "            color:  #f1f1f1;\n",
              "        }    #T_237e430c_974d_11ea_973f_88b111a80551row2_col6 {\n",
              "            background-color:  #c4d5f3;\n",
              "            color:  #000000;\n",
              "        }    #T_237e430c_974d_11ea_973f_88b111a80551row2_col7 {\n",
              "            background-color:  #d1dae9;\n",
              "            color:  #000000;\n",
              "        }    #T_237e430c_974d_11ea_973f_88b111a80551row2_col8 {\n",
              "            background-color:  #4e68d8;\n",
              "            color:  #000000;\n",
              "        }    #T_237e430c_974d_11ea_973f_88b111a80551row3_col0 {\n",
              "            background-color:  #3b4cc0;\n",
              "            color:  #f1f1f1;\n",
              "        }    #T_237e430c_974d_11ea_973f_88b111a80551row3_col1 {\n",
              "            background-color:  #3b4cc0;\n",
              "            color:  #f1f1f1;\n",
              "        }    #T_237e430c_974d_11ea_973f_88b111a80551row3_col2 {\n",
              "            background-color:  #94b6ff;\n",
              "            color:  #000000;\n",
              "        }    #T_237e430c_974d_11ea_973f_88b111a80551row3_col3 {\n",
              "            background-color:  #b40426;\n",
              "            color:  #f1f1f1;\n",
              "        }    #T_237e430c_974d_11ea_973f_88b111a80551row3_col4 {\n",
              "            background-color:  #3d50c3;\n",
              "            color:  #f1f1f1;\n",
              "        }    #T_237e430c_974d_11ea_973f_88b111a80551row3_col5 {\n",
              "            background-color:  #506bda;\n",
              "            color:  #000000;\n",
              "        }    #T_237e430c_974d_11ea_973f_88b111a80551row3_col6 {\n",
              "            background-color:  #3b4cc0;\n",
              "            color:  #f1f1f1;\n",
              "        }    #T_237e430c_974d_11ea_973f_88b111a80551row3_col7 {\n",
              "            background-color:  #3b4cc0;\n",
              "            color:  #f1f1f1;\n",
              "        }    #T_237e430c_974d_11ea_973f_88b111a80551row3_col8 {\n",
              "            background-color:  #3b4cc0;\n",
              "            color:  #f1f1f1;\n",
              "        }    #T_237e430c_974d_11ea_973f_88b111a80551row4_col0 {\n",
              "            background-color:  #485fd1;\n",
              "            color:  #f1f1f1;\n",
              "        }    #T_237e430c_974d_11ea_973f_88b111a80551row4_col1 {\n",
              "            background-color:  #465ecf;\n",
              "            color:  #f1f1f1;\n",
              "        }    #T_237e430c_974d_11ea_973f_88b111a80551row4_col2 {\n",
              "            background-color:  #6a8bef;\n",
              "            color:  #000000;\n",
              "        }    #T_237e430c_974d_11ea_973f_88b111a80551row4_col3 {\n",
              "            background-color:  #88abfd;\n",
              "            color:  #000000;\n",
              "        }    #T_237e430c_974d_11ea_973f_88b111a80551row4_col4 {\n",
              "            background-color:  #b40426;\n",
              "            color:  #f1f1f1;\n",
              "        }    #T_237e430c_974d_11ea_973f_88b111a80551row4_col5 {\n",
              "            background-color:  #5673e0;\n",
              "            color:  #000000;\n",
              "        }    #T_237e430c_974d_11ea_973f_88b111a80551row4_col6 {\n",
              "            background-color:  #a1c0ff;\n",
              "            color:  #000000;\n",
              "        }    #T_237e430c_974d_11ea_973f_88b111a80551row4_col7 {\n",
              "            background-color:  #9bbcff;\n",
              "            color:  #000000;\n",
              "        }    #T_237e430c_974d_11ea_973f_88b111a80551row4_col8 {\n",
              "            background-color:  #9dbdff;\n",
              "            color:  #000000;\n",
              "        }    #T_237e430c_974d_11ea_973f_88b111a80551row5_col0 {\n",
              "            background-color:  #3d50c3;\n",
              "            color:  #f1f1f1;\n",
              "        }    #T_237e430c_974d_11ea_973f_88b111a80551row5_col1 {\n",
              "            background-color:  #455cce;\n",
              "            color:  #f1f1f1;\n",
              "        }    #T_237e430c_974d_11ea_973f_88b111a80551row5_col2 {\n",
              "            background-color:  #3b4cc0;\n",
              "            color:  #f1f1f1;\n",
              "        }    #T_237e430c_974d_11ea_973f_88b111a80551row5_col3 {\n",
              "            background-color:  #84a7fc;\n",
              "            color:  #000000;\n",
              "        }    #T_237e430c_974d_11ea_973f_88b111a80551row5_col4 {\n",
              "            background-color:  #3f53c6;\n",
              "            color:  #f1f1f1;\n",
              "        }    #T_237e430c_974d_11ea_973f_88b111a80551row5_col5 {\n",
              "            background-color:  #b40426;\n",
              "            color:  #f1f1f1;\n",
              "        }    #T_237e430c_974d_11ea_973f_88b111a80551row5_col6 {\n",
              "            background-color:  #7a9df8;\n",
              "            color:  #000000;\n",
              "        }    #T_237e430c_974d_11ea_973f_88b111a80551row5_col7 {\n",
              "            background-color:  #6485ec;\n",
              "            color:  #000000;\n",
              "        }    #T_237e430c_974d_11ea_973f_88b111a80551row5_col8 {\n",
              "            background-color:  #5977e3;\n",
              "            color:  #000000;\n",
              "        }    #T_237e430c_974d_11ea_973f_88b111a80551row6_col0 {\n",
              "            background-color:  #89acfd;\n",
              "            color:  #000000;\n",
              "        }    #T_237e430c_974d_11ea_973f_88b111a80551row6_col1 {\n",
              "            background-color:  #5572df;\n",
              "            color:  #000000;\n",
              "        }    #T_237e430c_974d_11ea_973f_88b111a80551row6_col2 {\n",
              "            background-color:  #9ebeff;\n",
              "            color:  #000000;\n",
              "        }    #T_237e430c_974d_11ea_973f_88b111a80551row6_col3 {\n",
              "            background-color:  #3b4cc0;\n",
              "            color:  #f1f1f1;\n",
              "        }    #T_237e430c_974d_11ea_973f_88b111a80551row6_col4 {\n",
              "            background-color:  #5a78e4;\n",
              "            color:  #000000;\n",
              "        }    #T_237e430c_974d_11ea_973f_88b111a80551row6_col5 {\n",
              "            background-color:  #465ecf;\n",
              "            color:  #f1f1f1;\n",
              "        }    #T_237e430c_974d_11ea_973f_88b111a80551row6_col6 {\n",
              "            background-color:  #b40426;\n",
              "            color:  #f1f1f1;\n",
              "        }    #T_237e430c_974d_11ea_973f_88b111a80551row6_col7 {\n",
              "            background-color:  #f59d7e;\n",
              "            color:  #000000;\n",
              "        }    #T_237e430c_974d_11ea_973f_88b111a80551row6_col8 {\n",
              "            background-color:  #6687ed;\n",
              "            color:  #000000;\n",
              "        }    #T_237e430c_974d_11ea_973f_88b111a80551row7_col0 {\n",
              "            background-color:  #94b6ff;\n",
              "            color:  #000000;\n",
              "        }    #T_237e430c_974d_11ea_973f_88b111a80551row7_col1 {\n",
              "            background-color:  #6b8df0;\n",
              "            color:  #000000;\n",
              "        }    #T_237e430c_974d_11ea_973f_88b111a80551row7_col2 {\n",
              "            background-color:  #bbd1f8;\n",
              "            color:  #000000;\n",
              "        }    #T_237e430c_974d_11ea_973f_88b111a80551row7_col3 {\n",
              "            background-color:  #4b64d5;\n",
              "            color:  #f1f1f1;\n",
              "        }    #T_237e430c_974d_11ea_973f_88b111a80551row7_col4 {\n",
              "            background-color:  #6485ec;\n",
              "            color:  #000000;\n",
              "        }    #T_237e430c_974d_11ea_973f_88b111a80551row7_col5 {\n",
              "            background-color:  #4257c9;\n",
              "            color:  #f1f1f1;\n",
              "        }    #T_237e430c_974d_11ea_973f_88b111a80551row7_col6 {\n",
              "            background-color:  #f39778;\n",
              "            color:  #000000;\n",
              "        }    #T_237e430c_974d_11ea_973f_88b111a80551row7_col7 {\n",
              "            background-color:  #b40426;\n",
              "            color:  #f1f1f1;\n",
              "        }    #T_237e430c_974d_11ea_973f_88b111a80551row7_col8 {\n",
              "            background-color:  #5977e3;\n",
              "            color:  #000000;\n",
              "        }    #T_237e430c_974d_11ea_973f_88b111a80551row8_col0 {\n",
              "            background-color:  #7597f6;\n",
              "            color:  #000000;\n",
              "        }    #T_237e430c_974d_11ea_973f_88b111a80551row8_col1 {\n",
              "            background-color:  #516ddb;\n",
              "            color:  #000000;\n",
              "        }    #T_237e430c_974d_11ea_973f_88b111a80551row8_col2 {\n",
              "            background-color:  #3d50c3;\n",
              "            color:  #f1f1f1;\n",
              "        }    #T_237e430c_974d_11ea_973f_88b111a80551row8_col3 {\n",
              "            background-color:  #5e7de7;\n",
              "            color:  #000000;\n",
              "        }    #T_237e430c_974d_11ea_973f_88b111a80551row8_col4 {\n",
              "            background-color:  #799cf8;\n",
              "            color:  #000000;\n",
              "        }    #T_237e430c_974d_11ea_973f_88b111a80551row8_col5 {\n",
              "            background-color:  #485fd1;\n",
              "            color:  #f1f1f1;\n",
              "        }    #T_237e430c_974d_11ea_973f_88b111a80551row8_col6 {\n",
              "            background-color:  #88abfd;\n",
              "            color:  #000000;\n",
              "        }    #T_237e430c_974d_11ea_973f_88b111a80551row8_col7 {\n",
              "            background-color:  #6b8df0;\n",
              "            color:  #000000;\n",
              "        }    #T_237e430c_974d_11ea_973f_88b111a80551row8_col8 {\n",
              "            background-color:  #b40426;\n",
              "            color:  #f1f1f1;\n",
              "        }</style><table id=\"T_237e430c_974d_11ea_973f_88b111a80551\" ><thead>    <tr>        <th class=\"blank level0\" ></th>        <th class=\"col_heading level0 col0\" >Trip_Distance</th>        <th class=\"col_heading level0 col1\" >Customer_Since_Months</th>        <th class=\"col_heading level0 col2\" >Life_Style_Index</th>        <th class=\"col_heading level0 col3\" >Customer_Rating</th>        <th class=\"col_heading level0 col4\" >Cancellation_Last_1Month</th>        <th class=\"col_heading level0 col5\" >Var1</th>        <th class=\"col_heading level0 col6\" >Var2</th>        <th class=\"col_heading level0 col7\" >Var3</th>        <th class=\"col_heading level0 col8\" >Surge_Pricing_Type</th>    </tr></thead><tbody>\n",
              "                <tr>\n",
              "                        <th id=\"T_237e430c_974d_11ea_973f_88b111a80551level0_row0\" class=\"row_heading level0 row0\" >Trip_Distance</th>\n",
              "                        <td id=\"T_237e430c_974d_11ea_973f_88b111a80551row0_col0\" class=\"data row0 col0\" >1</td>\n",
              "                        <td id=\"T_237e430c_974d_11ea_973f_88b111a80551row0_col1\" class=\"data row0 col1\" >0.116812</td>\n",
              "                        <td id=\"T_237e430c_974d_11ea_973f_88b111a80551row0_col2\" class=\"data row0 col2\" >0.509482</td>\n",
              "                        <td id=\"T_237e430c_974d_11ea_973f_88b111a80551row0_col3\" class=\"data row0 col3\" >-0.0546542</td>\n",
              "                        <td id=\"T_237e430c_974d_11ea_973f_88b111a80551row0_col4\" class=\"data row0 col4\" >-0.0076865</td>\n",
              "                        <td id=\"T_237e430c_974d_11ea_973f_88b111a80551row0_col5\" class=\"data row0 col5\" >-0.0454677</td>\n",
              "                        <td id=\"T_237e430c_974d_11ea_973f_88b111a80551row0_col6\" class=\"data row0 col6\" >0.200456</td>\n",
              "                        <td id=\"T_237e430c_974d_11ea_973f_88b111a80551row0_col7\" class=\"data row0 col7\" >0.231706</td>\n",
              "                        <td id=\"T_237e430c_974d_11ea_973f_88b111a80551row0_col8\" class=\"data row0 col8\" >0.135928</td>\n",
              "            </tr>\n",
              "            <tr>\n",
              "                        <th id=\"T_237e430c_974d_11ea_973f_88b111a80551level0_row1\" class=\"row_heading level0 row1\" >Customer_Since_Months</th>\n",
              "                        <td id=\"T_237e430c_974d_11ea_973f_88b111a80551row1_col0\" class=\"data row1 col0\" >0.116812</td>\n",
              "                        <td id=\"T_237e430c_974d_11ea_973f_88b111a80551row1_col1\" class=\"data row1 col1\" >1</td>\n",
              "                        <td id=\"T_237e430c_974d_11ea_973f_88b111a80551row1_col2\" class=\"data row1 col2\" >0.135114</td>\n",
              "                        <td id=\"T_237e430c_974d_11ea_973f_88b111a80551row1_col3\" class=\"data row1 col3\" >-0.0503487</td>\n",
              "                        <td id=\"T_237e430c_974d_11ea_973f_88b111a80551row1_col4\" class=\"data row1 col4\" >-0.00632461</td>\n",
              "                        <td id=\"T_237e430c_974d_11ea_973f_88b111a80551row1_col5\" class=\"data row1 col5\" >-0.00985628</td>\n",
              "                        <td id=\"T_237e430c_974d_11ea_973f_88b111a80551row1_col6\" class=\"data row1 col6\" >0.0426373</td>\n",
              "                        <td id=\"T_237e430c_974d_11ea_973f_88b111a80551row1_col7\" class=\"data row1 col7\" >0.113403</td>\n",
              "                        <td id=\"T_237e430c_974d_11ea_973f_88b111a80551row1_col8\" class=\"data row1 col8\" >0.0278272</td>\n",
              "            </tr>\n",
              "            <tr>\n",
              "                        <th id=\"T_237e430c_974d_11ea_973f_88b111a80551level0_row2\" class=\"row_heading level0 row2\" >Life_Style_Index</th>\n",
              "                        <td id=\"T_237e430c_974d_11ea_973f_88b111a80551row2_col0\" class=\"data row2 col0\" >0.509482</td>\n",
              "                        <td id=\"T_237e430c_974d_11ea_973f_88b111a80551row2_col1\" class=\"data row2 col1\" >0.135114</td>\n",
              "                        <td id=\"T_237e430c_974d_11ea_973f_88b111a80551row2_col2\" class=\"data row2 col2\" >1</td>\n",
              "                        <td id=\"T_237e430c_974d_11ea_973f_88b111a80551row2_col3\" class=\"data row2 col3\" >0.205824</td>\n",
              "                        <td id=\"T_237e430c_974d_11ea_973f_88b111a80551row2_col4\" class=\"data row2 col4\" >0.0740229</td>\n",
              "                        <td id=\"T_237e430c_974d_11ea_973f_88b111a80551row2_col5\" class=\"data row2 col5\" >-0.0913072</td>\n",
              "                        <td id=\"T_237e430c_974d_11ea_973f_88b111a80551row2_col6\" class=\"data row2 col6\" >0.234754</td>\n",
              "                        <td id=\"T_237e430c_974d_11ea_973f_88b111a80551row2_col7\" class=\"data row2 col7\" >0.329312</td>\n",
              "                        <td id=\"T_237e430c_974d_11ea_973f_88b111a80551row2_col8\" class=\"data row2 col8\" >-0.0801077</td>\n",
              "            </tr>\n",
              "            <tr>\n",
              "                        <th id=\"T_237e430c_974d_11ea_973f_88b111a80551level0_row3\" class=\"row_heading level0 row3\" >Customer_Rating</th>\n",
              "                        <td id=\"T_237e430c_974d_11ea_973f_88b111a80551row3_col0\" class=\"data row3 col0\" >-0.0546542</td>\n",
              "                        <td id=\"T_237e430c_974d_11ea_973f_88b111a80551row3_col1\" class=\"data row3 col1\" >-0.0503487</td>\n",
              "                        <td id=\"T_237e430c_974d_11ea_973f_88b111a80551row3_col2\" class=\"data row3 col2\" >0.205824</td>\n",
              "                        <td id=\"T_237e430c_974d_11ea_973f_88b111a80551row3_col3\" class=\"data row3 col3\" >1</td>\n",
              "                        <td id=\"T_237e430c_974d_11ea_973f_88b111a80551row3_col4\" class=\"data row3 col4\" >0.00359534</td>\n",
              "                        <td id=\"T_237e430c_974d_11ea_973f_88b111a80551row3_col5\" class=\"data row3 col5\" >-0.0109678</td>\n",
              "                        <td id=\"T_237e430c_974d_11ea_973f_88b111a80551row3_col6\" class=\"data row3 col6\" >-0.302968</td>\n",
              "                        <td id=\"T_237e430c_974d_11ea_973f_88b111a80551row3_col7\" class=\"data row3 col7\" >-0.227531</td>\n",
              "                        <td id=\"T_237e430c_974d_11ea_973f_88b111a80551row3_col8\" class=\"data row3 col8\" >-0.155279</td>\n",
              "            </tr>\n",
              "            <tr>\n",
              "                        <th id=\"T_237e430c_974d_11ea_973f_88b111a80551level0_row4\" class=\"row_heading level0 row4\" >Cancellation_Last_1Month</th>\n",
              "                        <td id=\"T_237e430c_974d_11ea_973f_88b111a80551row4_col0\" class=\"data row4 col0\" >-0.0076865</td>\n",
              "                        <td id=\"T_237e430c_974d_11ea_973f_88b111a80551row4_col1\" class=\"data row4 col1\" >-0.00632461</td>\n",
              "                        <td id=\"T_237e430c_974d_11ea_973f_88b111a80551row4_col2\" class=\"data row4 col2\" >0.0740229</td>\n",
              "                        <td id=\"T_237e430c_974d_11ea_973f_88b111a80551row4_col3\" class=\"data row4 col3\" >0.00359534</td>\n",
              "                        <td id=\"T_237e430c_974d_11ea_973f_88b111a80551row4_col4\" class=\"data row4 col4\" >1</td>\n",
              "                        <td id=\"T_237e430c_974d_11ea_973f_88b111a80551row4_col5\" class=\"data row4 col5\" >0.0109531</td>\n",
              "                        <td id=\"T_237e430c_974d_11ea_973f_88b111a80551row4_col6\" class=\"data row4 col6\" >0.0958301</td>\n",
              "                        <td id=\"T_237e430c_974d_11ea_973f_88b111a80551row4_col7\" class=\"data row4 col7\" >0.128686</td>\n",
              "                        <td id=\"T_237e430c_974d_11ea_973f_88b111a80551row4_col8\" class=\"data row4 col8\" >0.185646</td>\n",
              "            </tr>\n",
              "            <tr>\n",
              "                        <th id=\"T_237e430c_974d_11ea_973f_88b111a80551level0_row5\" class=\"row_heading level0 row5\" >Var1</th>\n",
              "                        <td id=\"T_237e430c_974d_11ea_973f_88b111a80551row5_col0\" class=\"data row5 col0\" >-0.0454677</td>\n",
              "                        <td id=\"T_237e430c_974d_11ea_973f_88b111a80551row5_col1\" class=\"data row5 col1\" >-0.00985628</td>\n",
              "                        <td id=\"T_237e430c_974d_11ea_973f_88b111a80551row5_col2\" class=\"data row5 col2\" >-0.0913072</td>\n",
              "                        <td id=\"T_237e430c_974d_11ea_973f_88b111a80551row5_col3\" class=\"data row5 col3\" >-0.0109678</td>\n",
              "                        <td id=\"T_237e430c_974d_11ea_973f_88b111a80551row5_col4\" class=\"data row5 col4\" >0.0109531</td>\n",
              "                        <td id=\"T_237e430c_974d_11ea_973f_88b111a80551row5_col5\" class=\"data row5 col5\" >1</td>\n",
              "                        <td id=\"T_237e430c_974d_11ea_973f_88b111a80551row5_col6\" class=\"data row5 col6\" >-0.0467551</td>\n",
              "                        <td id=\"T_237e430c_974d_11ea_973f_88b111a80551row5_col7\" class=\"data row5 col7\" >-0.061993</td>\n",
              "                        <td id=\"T_237e430c_974d_11ea_973f_88b111a80551row5_col8\" class=\"data row5 col8\" >-0.0407348</td>\n",
              "            </tr>\n",
              "            <tr>\n",
              "                        <th id=\"T_237e430c_974d_11ea_973f_88b111a80551level0_row6\" class=\"row_heading level0 row6\" >Var2</th>\n",
              "                        <td id=\"T_237e430c_974d_11ea_973f_88b111a80551row6_col0\" class=\"data row6 col0\" >0.200456</td>\n",
              "                        <td id=\"T_237e430c_974d_11ea_973f_88b111a80551row6_col1\" class=\"data row6 col1\" >0.0426373</td>\n",
              "                        <td id=\"T_237e430c_974d_11ea_973f_88b111a80551row6_col2\" class=\"data row6 col2\" >0.234754</td>\n",
              "                        <td id=\"T_237e430c_974d_11ea_973f_88b111a80551row6_col3\" class=\"data row6 col3\" >-0.302968</td>\n",
              "                        <td id=\"T_237e430c_974d_11ea_973f_88b111a80551row6_col4\" class=\"data row6 col4\" >0.0958301</td>\n",
              "                        <td id=\"T_237e430c_974d_11ea_973f_88b111a80551row6_col5\" class=\"data row6 col5\" >-0.0467551</td>\n",
              "                        <td id=\"T_237e430c_974d_11ea_973f_88b111a80551row6_col6\" class=\"data row6 col6\" >1</td>\n",
              "                        <td id=\"T_237e430c_974d_11ea_973f_88b111a80551row6_col7\" class=\"data row6 col7\" >0.683437</td>\n",
              "                        <td id=\"T_237e430c_974d_11ea_973f_88b111a80551row6_col8\" class=\"data row6 col8\" >0.0034367</td>\n",
              "            </tr>\n",
              "            <tr>\n",
              "                        <th id=\"T_237e430c_974d_11ea_973f_88b111a80551level0_row7\" class=\"row_heading level0 row7\" >Var3</th>\n",
              "                        <td id=\"T_237e430c_974d_11ea_973f_88b111a80551row7_col0\" class=\"data row7 col0\" >0.231706</td>\n",
              "                        <td id=\"T_237e430c_974d_11ea_973f_88b111a80551row7_col1\" class=\"data row7 col1\" >0.113403</td>\n",
              "                        <td id=\"T_237e430c_974d_11ea_973f_88b111a80551row7_col2\" class=\"data row7 col2\" >0.329312</td>\n",
              "                        <td id=\"T_237e430c_974d_11ea_973f_88b111a80551row7_col3\" class=\"data row7 col3\" >-0.227531</td>\n",
              "                        <td id=\"T_237e430c_974d_11ea_973f_88b111a80551row7_col4\" class=\"data row7 col4\" >0.128686</td>\n",
              "                        <td id=\"T_237e430c_974d_11ea_973f_88b111a80551row7_col5\" class=\"data row7 col5\" >-0.061993</td>\n",
              "                        <td id=\"T_237e430c_974d_11ea_973f_88b111a80551row7_col6\" class=\"data row7 col6\" >0.683437</td>\n",
              "                        <td id=\"T_237e430c_974d_11ea_973f_88b111a80551row7_col7\" class=\"data row7 col7\" >1</td>\n",
              "                        <td id=\"T_237e430c_974d_11ea_973f_88b111a80551row7_col8\" class=\"data row7 col8\" >-0.0393086</td>\n",
              "            </tr>\n",
              "            <tr>\n",
              "                        <th id=\"T_237e430c_974d_11ea_973f_88b111a80551level0_row8\" class=\"row_heading level0 row8\" >Surge_Pricing_Type</th>\n",
              "                        <td id=\"T_237e430c_974d_11ea_973f_88b111a80551row8_col0\" class=\"data row8 col0\" >0.135928</td>\n",
              "                        <td id=\"T_237e430c_974d_11ea_973f_88b111a80551row8_col1\" class=\"data row8 col1\" >0.0278272</td>\n",
              "                        <td id=\"T_237e430c_974d_11ea_973f_88b111a80551row8_col2\" class=\"data row8 col2\" >-0.0801077</td>\n",
              "                        <td id=\"T_237e430c_974d_11ea_973f_88b111a80551row8_col3\" class=\"data row8 col3\" >-0.155279</td>\n",
              "                        <td id=\"T_237e430c_974d_11ea_973f_88b111a80551row8_col4\" class=\"data row8 col4\" >0.185646</td>\n",
              "                        <td id=\"T_237e430c_974d_11ea_973f_88b111a80551row8_col5\" class=\"data row8 col5\" >-0.0407348</td>\n",
              "                        <td id=\"T_237e430c_974d_11ea_973f_88b111a80551row8_col6\" class=\"data row8 col6\" >0.0034367</td>\n",
              "                        <td id=\"T_237e430c_974d_11ea_973f_88b111a80551row8_col7\" class=\"data row8 col7\" >-0.0393086</td>\n",
              "                        <td id=\"T_237e430c_974d_11ea_973f_88b111a80551row8_col8\" class=\"data row8 col8\" >1</td>\n",
              "            </tr>\n",
              "    </tbody></table>"
            ],
            "text/plain": [
              "<pandas.io.formats.style.Styler at 0x24b359bf278>"
            ]
          },
          "metadata": {
            "tags": []
          },
          "execution_count": 36
        }
      ]
    },
    {
      "cell_type": "code",
      "metadata": {
        "id": "S4OIHlR1_3ct",
        "colab_type": "code",
        "outputId": "f3799c19-e544-4ee2-9803-94e2f594a3cc",
        "colab": {}
      },
      "source": [
        "### Check how many null values are there in each of the columns \n",
        "pd.DataFrame({\"Train data null values\" : cab_data.isnull().sum(),\"valid data null values\" : valid_data.isnull().sum()})\n"
      ],
      "execution_count": 0,
      "outputs": [
        {
          "output_type": "execute_result",
          "data": {
            "text/html": [
              "<div>\n",
              "<style scoped>\n",
              "    .dataframe tbody tr th:only-of-type {\n",
              "        vertical-align: middle;\n",
              "    }\n",
              "\n",
              "    .dataframe tbody tr th {\n",
              "        vertical-align: top;\n",
              "    }\n",
              "\n",
              "    .dataframe thead th {\n",
              "        text-align: right;\n",
              "    }\n",
              "</style>\n",
              "<table border=\"1\" class=\"dataframe\">\n",
              "  <thead>\n",
              "    <tr style=\"text-align: right;\">\n",
              "      <th></th>\n",
              "      <th>Train data null values</th>\n",
              "      <th>valid data null values</th>\n",
              "    </tr>\n",
              "  </thead>\n",
              "  <tbody>\n",
              "    <tr>\n",
              "      <td>Cancellation_Last_1Month</td>\n",
              "      <td>0</td>\n",
              "      <td>0.0</td>\n",
              "    </tr>\n",
              "    <tr>\n",
              "      <td>Confidence_Life_Style_Index</td>\n",
              "      <td>20193</td>\n",
              "      <td>13327.0</td>\n",
              "    </tr>\n",
              "    <tr>\n",
              "      <td>Customer_Rating</td>\n",
              "      <td>0</td>\n",
              "      <td>0.0</td>\n",
              "    </tr>\n",
              "    <tr>\n",
              "      <td>Customer_Since_Months</td>\n",
              "      <td>5920</td>\n",
              "      <td>3966.0</td>\n",
              "    </tr>\n",
              "    <tr>\n",
              "      <td>Destination_Type</td>\n",
              "      <td>0</td>\n",
              "      <td>0.0</td>\n",
              "    </tr>\n",
              "    <tr>\n",
              "      <td>Gender</td>\n",
              "      <td>0</td>\n",
              "      <td>0.0</td>\n",
              "    </tr>\n",
              "    <tr>\n",
              "      <td>Life_Style_Index</td>\n",
              "      <td>20193</td>\n",
              "      <td>13327.0</td>\n",
              "    </tr>\n",
              "    <tr>\n",
              "      <td>Surge_Pricing_Type</td>\n",
              "      <td>0</td>\n",
              "      <td>NaN</td>\n",
              "    </tr>\n",
              "    <tr>\n",
              "      <td>Trip_Distance</td>\n",
              "      <td>0</td>\n",
              "      <td>0.0</td>\n",
              "    </tr>\n",
              "    <tr>\n",
              "      <td>Type_of_Cab</td>\n",
              "      <td>20210</td>\n",
              "      <td>13158.0</td>\n",
              "    </tr>\n",
              "    <tr>\n",
              "      <td>Var1</td>\n",
              "      <td>71030</td>\n",
              "      <td>46789.0</td>\n",
              "    </tr>\n",
              "    <tr>\n",
              "      <td>Var2</td>\n",
              "      <td>0</td>\n",
              "      <td>0.0</td>\n",
              "    </tr>\n",
              "    <tr>\n",
              "      <td>Var3</td>\n",
              "      <td>0</td>\n",
              "      <td>0.0</td>\n",
              "    </tr>\n",
              "  </tbody>\n",
              "</table>\n",
              "</div>"
            ],
            "text/plain": [
              "                             Train data null values  valid data null values\n",
              "Cancellation_Last_1Month                          0                     0.0\n",
              "Confidence_Life_Style_Index                   20193                 13327.0\n",
              "Customer_Rating                                   0                     0.0\n",
              "Customer_Since_Months                          5920                  3966.0\n",
              "Destination_Type                                  0                     0.0\n",
              "Gender                                            0                     0.0\n",
              "Life_Style_Index                              20193                 13327.0\n",
              "Surge_Pricing_Type                                0                     NaN\n",
              "Trip_Distance                                     0                     0.0\n",
              "Type_of_Cab                                   20210                 13158.0\n",
              "Var1                                          71030                 46789.0\n",
              "Var2                                              0                     0.0\n",
              "Var3                                              0                     0.0"
            ]
          },
          "metadata": {
            "tags": []
          },
          "execution_count": 37
        }
      ]
    },
    {
      "cell_type": "markdown",
      "metadata": {
        "id": "ml4SXf2y_3dA",
        "colab_type": "text"
      },
      "source": [
        "### _Distribition of dependent variable_"
      ]
    },
    {
      "cell_type": "code",
      "metadata": {
        "id": "jWz91q81_3dC",
        "colab_type": "code",
        "outputId": "4ef0381f-587e-4650-851d-c38bdca68ec7",
        "colab": {}
      },
      "source": [
        "# Plot Distribution\n",
        "sns.countplot(x='Surge_Pricing_Type',data=cab_data)\n",
        "plt.show()\n",
        "\n",
        "# What are the counts?\n",
        "print(cab_data.Surge_Pricing_Type.value_counts())\n",
        "\n",
        "# What is the percentage?\n",
        "count_1 = len(cab_data[cab_data.Surge_Pricing_Type == 1])\n",
        "count_2 = len(cab_data[cab_data.Surge_Pricing_Type == 2])\n",
        "count_3 = len(cab_data[cab_data.Surge_Pricing_Type == 3])\n",
        "\n",
        "percent_1 = (count_1/(count_1 + count_2 + count_3))*100\n",
        "percent_2 = (count_2/(count_1 + count_2 + count_3))*100\n",
        "percent_3 = (count_3/(count_1 + count_2 + count_3))*100\n",
        "\n",
        "print('Percentage ofSurge_Pricing_Type:', percent_1, percent_2, percent_3 )"
      ],
      "execution_count": 0,
      "outputs": [
        {
          "output_type": "display_data",
          "data": {
            "image/png": "[encoded data removed]",
            "text/plain": [
              "<Figure size 432x288 with 1 Axes>"
            ]
          },
          "metadata": {
            "tags": [],
            "needs_background": "light"
          }
        },
        {
          "output_type": "stream",
          "text": [
            "2    56728\n",
            "3    47720\n",
            "1    27214\n",
            "Name: Surge_Pricing_Type, dtype: int64\n",
            "Percentage ofSurge_Pricing_Type: 20.66959335267579 43.086084063738966 36.244322583585245\n"
          ],
          "name": "stdout"
        }
      ]
    },
    {
      "cell_type": "markdown",
      "metadata": {
        "id": "qt7iasq0_3dJ",
        "colab_type": "text"
      },
      "source": [
        "### _Drawing trends toward the target variable_"
      ]
    },
    {
      "cell_type": "code",
      "metadata": {
        "id": "oPR5I72b_3dK",
        "colab_type": "code",
        "outputId": "2ef4c2cc-9d6f-479a-e124-c40668b3d5f5",
        "colab": {}
      },
      "source": [
        "cab_data.groupby('Surge_Pricing_Type').mean()"
      ],
      "execution_count": 0,
      "outputs": [
        {
          "output_type": "execute_result",
          "data": {
            "text/html": [
              "<div>\n",
              "<style scoped>\n",
              "    .dataframe tbody tr th:only-of-type {\n",
              "        vertical-align: middle;\n",
              "    }\n",
              "\n",
              "    .dataframe tbody tr th {\n",
              "        vertical-align: top;\n",
              "    }\n",
              "\n",
              "    .dataframe thead th {\n",
              "        text-align: right;\n",
              "    }\n",
              "</style>\n",
              "<table border=\"1\" class=\"dataframe\">\n",
              "  <thead>\n",
              "    <tr style=\"text-align: right;\">\n",
              "      <th></th>\n",
              "      <th>Trip_Distance</th>\n",
              "      <th>Customer_Since_Months</th>\n",
              "      <th>Life_Style_Index</th>\n",
              "      <th>Customer_Rating</th>\n",
              "      <th>Cancellation_Last_1Month</th>\n",
              "      <th>Var1</th>\n",
              "      <th>Var2</th>\n",
              "      <th>Var3</th>\n",
              "    </tr>\n",
              "    <tr>\n",
              "      <th>Surge_Pricing_Type</th>\n",
              "      <th></th>\n",
              "      <th></th>\n",
              "      <th></th>\n",
              "      <th></th>\n",
              "      <th></th>\n",
              "      <th></th>\n",
              "      <th></th>\n",
              "      <th></th>\n",
              "    </tr>\n",
              "  </thead>\n",
              "  <tbody>\n",
              "    <tr>\n",
              "      <td>1</td>\n",
              "      <td>41.061633</td>\n",
              "      <td>5.898262</td>\n",
              "      <td>2.847554</td>\n",
              "      <td>3.112791</td>\n",
              "      <td>0.516242</td>\n",
              "      <td>66.033552</td>\n",
              "      <td>51.316785</td>\n",
              "      <td>76.252223</td>\n",
              "    </tr>\n",
              "    <tr>\n",
              "      <td>2</td>\n",
              "      <td>41.269265</td>\n",
              "      <td>5.957647</td>\n",
              "      <td>2.789416</td>\n",
              "      <td>2.857688</td>\n",
              "      <td>0.708627</td>\n",
              "      <td>64.343560</td>\n",
              "      <td>51.064078</td>\n",
              "      <td>74.772299</td>\n",
              "    </tr>\n",
              "    <tr>\n",
              "      <td>3</td>\n",
              "      <td>49.476234</td>\n",
              "      <td>6.154813</td>\n",
              "      <td>2.791163</td>\n",
              "      <td>2.689500</td>\n",
              "      <td>1.023093</td>\n",
              "      <td>63.347217</td>\n",
              "      <td>51.302703</td>\n",
              "      <td>74.829757</td>\n",
              "    </tr>\n",
              "  </tbody>\n",
              "</table>\n",
              "</div>"
            ],
            "text/plain": [
              "                    Trip_Distance  Customer_Since_Months  Life_Style_Index  \\\n",
              "Surge_Pricing_Type                                                           \n",
              "1                       41.061633               5.898262          2.847554   \n",
              "2                       41.269265               5.957647          2.789416   \n",
              "3                       49.476234               6.154813          2.791163   \n",
              "\n",
              "                    Customer_Rating  Cancellation_Last_1Month       Var1  \\\n",
              "Surge_Pricing_Type                                                         \n",
              "1                          3.112791                  0.516242  66.033552   \n",
              "2                          2.857688                  0.708627  64.343560   \n",
              "3                          2.689500                  1.023093  63.347217   \n",
              "\n",
              "                         Var2       Var3  \n",
              "Surge_Pricing_Type                        \n",
              "1                   51.316785  76.252223  \n",
              "2                   51.064078  74.772299  \n",
              "3                   51.302703  74.829757  "
            ]
          },
          "metadata": {
            "tags": []
          },
          "execution_count": 41
        }
      ]
    },
    {
      "cell_type": "markdown",
      "metadata": {
        "id": "1w4h_TNs_3dQ",
        "colab_type": "text"
      },
      "source": [
        "#### _Type Casting_"
      ]
    },
    {
      "cell_type": "code",
      "metadata": {
        "id": "eby7DbWV_3dS",
        "colab_type": "code",
        "colab": {}
      },
      "source": [
        "for col in cat_cols:\n",
        "    cab_data[col] = cab_data[col].astype('category')"
      ],
      "execution_count": 0,
      "outputs": []
    },
    {
      "cell_type": "code",
      "metadata": {
        "id": "lFTnFcZA_3de",
        "colab_type": "code",
        "outputId": "892196fd-ea27-4dd8-d593-9f711b7698ce",
        "colab": {}
      },
      "source": [
        "cab_data.dtypes"
      ],
      "execution_count": 0,
      "outputs": [
        {
          "output_type": "execute_result",
          "data": {
            "text/plain": [
              "Trip_Distance                   float64\n",
              "Type_of_Cab                    category\n",
              "Customer_Since_Months           float64\n",
              "Life_Style_Index                float64\n",
              "Confidence_Life_Style_Index    category\n",
              "Destination_Type               category\n",
              "Customer_Rating                 float64\n",
              "Cancellation_Last_1Month          int64\n",
              "Var1                            float64\n",
              "Var2                              int64\n",
              "Var3                              int64\n",
              "Gender                         category\n",
              "Surge_Pricing_Type             category\n",
              "dtype: object"
            ]
          },
          "metadata": {
            "tags": []
          },
          "execution_count": 84
        }
      ]
    },
    {
      "cell_type": "code",
      "metadata": {
        "id": "_03pJ0LB_3do",
        "colab_type": "code",
        "colab": {}
      },
      "source": [
        "cat_cols2 = ['Confidence_Life_Style_Index', 'Destination_Type', 'Gender', 'Type_of_Cab']\n",
        "for col in cat_cols2:\n",
        "    valid_data[col] = valid_data[col].astype('category')"
      ],
      "execution_count": 0,
      "outputs": []
    },
    {
      "cell_type": "code",
      "metadata": {
        "id": "OCzwwEJ5_3ds",
        "colab_type": "code",
        "outputId": "303b223a-5db5-465d-da70-95f2f7aaa27c",
        "colab": {
          "base_uri": "https://localhost:8080/",
          "height": 340
        }
      },
      "source": [
        "valid_data.info()"
      ],
      "execution_count": 0,
      "outputs": [
        {
          "output_type": "stream",
          "text": [
            "<class 'pandas.core.frame.DataFrame'>\n",
            "RangeIndex: 87395 entries, 0 to 87394\n",
            "Data columns (total 12 columns):\n",
            " #   Column                       Non-Null Count  Dtype   \n",
            "---  ------                       --------------  -----   \n",
            " 0   Trip_Distance                87395 non-null  float64 \n",
            " 1   Type_of_Cab                  74237 non-null  category\n",
            " 2   Customer_Since_Months        83429 non-null  float64 \n",
            " 3   Life_Style_Index             74068 non-null  float64 \n",
            " 4   Confidence_Life_Style_Index  74068 non-null  category\n",
            " 5   Destination_Type             87395 non-null  category\n",
            " 6   Customer_Rating              87395 non-null  float64 \n",
            " 7   Cancellation_Last_1Month     87395 non-null  int64   \n",
            " 8   Var1                         40606 non-null  float64 \n",
            " 9   Var2                         87395 non-null  int64   \n",
            " 10  Var3                         87395 non-null  int64   \n",
            " 11  Gender                       87395 non-null  category\n",
            "dtypes: category(4), float64(5), int64(3)\n",
            "memory usage: 5.7 MB\n"
          ],
          "name": "stdout"
        }
      ]
    },
    {
      "cell_type": "markdown",
      "metadata": {
        "id": "umrU3e76_3dz",
        "colab_type": "text"
      },
      "source": [
        "#### Split Numeric and Categorical Columns"
      ]
    },
    {
      "cell_type": "markdown",
      "metadata": {
        "id": "eknTk-6__3gX",
        "colab_type": "text"
      },
      "source": [
        "## Sklearn pipelines\n",
        "\n",
        "Pipelines are a way to streamline a lot of the routine processes, encapsulating little pieces of logic into one function call, which makes it easier to actually do modeling instead just writing a bunch of code.\n",
        "\n",
        "Pipelines are set up with the fit/transform/predict functionality, so you can fit a whole pipeline to the training data and transform to the test data, without having to do it individually for each thing you do. Super convenienent, right??\n",
        "\n",
        "In single sentence a Pipeline is a Pipeline of transforms with a final estimator.\n",
        "\n",
        "Steps to follow to create a pipeline\n",
        "\n",
        "Step 1) Fetch the numerical and categorical columns\n",
        "\n",
        "Step 2) Create a transformer/pipeline for numerical attributes\n",
        "\n",
        "    Create a list of tuples where each tuple represents the operation to be performed on numerical attributes\n",
        "\n",
        "Step 3) Create a transformer/pipeline for categorical attributes\n",
        "\n",
        "    Create a list of tuples where each tuple represent the operation to be performed on categorical attributes\n",
        "\n",
        "Step 4) Create a ColumnTransformer which merges both the numerical and categorical transformers\n",
        "\n",
        "Step5) Create a final pipeline object which includes the ColumnTransformer and an estimator (an algorithm to be build on dataset)\n",
        "\n",
        "Step6) (optional) Create a GridSearchCV object with pipeline as one of the inputs along with hyperparameter grid and Cross validation object\n",
        "\n",
        "Step7) Apply fit() on train data and predict() on test data <br><br>\n",
        "\n",
        "__Bird's view of sklearn pipeline__\n",
        "\n",
        "<img src=\"Pipeline_broadview.png\"><br><br>\n",
        "\n",
        "__Train and Test dataflow inside the sklearn pipeline__\n",
        "<img src=\"fit_tranform.jpg\">"
      ]
    },
    {
      "cell_type": "markdown",
      "metadata": {
        "id": "K-E4cSPm_3gY",
        "colab_type": "text"
      },
      "source": [
        "#### _Instantiate Pre-processing Objects for Pipeline_"
      ]
    },
    {
      "cell_type": "code",
      "metadata": {
        "id": "ypv0Opti_3gY",
        "colab_type": "code",
        "colab": {}
      },
      "source": [
        "from sklearn.impute import SimpleImputer \n",
        "from sklearn.compose import ColumnTransformer\n",
        "from sklearn.pipeline import Pipeline"
      ],
      "execution_count": 0,
      "outputs": []
    },
    {
      "cell_type": "code",
      "metadata": {
        "id": "5aPgw5zk_3ge",
        "colab_type": "code",
        "colab": {}
      },
      "source": [
        "numeric_transformer = Pipeline(steps=[\n",
        "    ('imputer', SimpleImputer(strategy='mean')),\n",
        "    ('scaler', StandardScaler())])\n",
        "\n",
        "\n",
        "categorical_transformer = Pipeline(steps=[\n",
        "    ('imputer', SimpleImputer(strategy='most_frequent')),\n",
        "    ('onehot', OneHotEncoder(handle_unknown='ignore'))])\n",
        "\n",
        "preprocessor = ColumnTransformer(\n",
        "    transformers=[\n",
        "        ('num', numeric_transformer, num_cols),\n",
        "        ('cat', categorical_transformer, cat_cols2)])"
      ],
      "execution_count": 0,
      "outputs": []
    },
    {
      "cell_type": "markdown",
      "metadata": {
        "id": "cZzBupSM_3gi",
        "colab_type": "text"
      },
      "source": [
        "### _Train-Test Split_"
      ]
    },
    {
      "cell_type": "code",
      "metadata": {
        "id": "xgV8Fti6_3gj",
        "colab_type": "code",
        "colab": {}
      },
      "source": [
        "X_train, X_test, y_train, y_test = train_test_split(cab_data.drop(['Surge_Pricing_Type'],axis=1),\n",
        "                                                 cab_data['Surge_Pricing_Type'],test_size = 0.2,random_state=1)"
      ],
      "execution_count": 0,
      "outputs": []
    },
    {
      "cell_type": "code",
      "metadata": {
        "id": "O4z81qvs_3gn",
        "colab_type": "code",
        "outputId": "4e344764-9326-4a98-e548-46ec5a9f739b",
        "colab": {
          "base_uri": "https://localhost:8080/",
          "height": 85
        }
      },
      "source": [
        "print(X_train.shape)\n",
        "print(X_test.shape)\n",
        "print(y_train.shape)\n",
        "y_test.shape "
      ],
      "execution_count": 0,
      "outputs": [
        {
          "output_type": "stream",
          "text": [
            "(105329, 12)\n",
            "(26333, 12)\n",
            "(105329,)\n"
          ],
          "name": "stdout"
        },
        {
          "output_type": "execute_result",
          "data": {
            "text/plain": [
              "(26333,)"
            ]
          },
          "metadata": {
            "tags": []
          },
          "execution_count": 18
        }
      ]
    },
    {
      "cell_type": "code",
      "metadata": {
        "id": "9dv7zfrq_3gw",
        "colab_type": "code",
        "colab": {}
      },
      "source": [
        "y_train = pd.DataFrame(y_train)\n",
        "y_test = pd.DataFrame(y_test)"
      ],
      "execution_count": 0,
      "outputs": []
    },
    {
      "cell_type": "markdown",
      "metadata": {
        "id": "3ZTPq7zw_3g2",
        "colab_type": "text"
      },
      "source": [
        "#### _Instantiate Pipeline Object_"
      ]
    },
    {
      "cell_type": "markdown",
      "metadata": {
        "id": "b0dRMVnP_3ha",
        "colab_type": "text"
      },
      "source": [
        "### _Build Decision Tree Model - 2_"
      ]
    },
    {
      "cell_type": "code",
      "metadata": {
        "id": "uihJpwYJ_3ha",
        "colab_type": "code",
        "colab": {}
      },
      "source": [
        "clf_dt = Pipeline(steps=[('preprocessor', preprocessor),\n",
        "                      ('classifier', DecisionTreeClassifier())])\n",
        "\n",
        "dt_param_grid = {'classifier__criterion': ['entropy', 'gini'], 'classifier__max_depth': [6,8,10,12], \n",
        "                 \"classifier__min_samples_split\": [2, 10, 20],\"classifier__min_samples_leaf\": [1, 5, 10]}\n",
        "\n",
        "dt_grid = GridSearchCV(clf_dt, param_grid=dt_param_grid, cv=5)\n",
        "\n",
        "dt_grid.fit(X_train,y_train)"
      ],
      "execution_count": 0,
      "outputs": []
    },
    {
      "cell_type": "code",
      "metadata": {
        "id": "Jo8H8ick_3hd",
        "colab_type": "code",
        "outputId": "8190bc14-23b2-47c5-b3a2-ad31c00d1353",
        "colab": {}
      },
      "source": [
        "dt_grid.best_params_\n",
        "\n",
        "#{'classifier__criterion': 'gini',\n",
        " #'classifier__max_depth': 6,\n",
        " #'classifier__min_samples_leaf': 1,\n",
        " #'classifier__min_samples_split': 2}"
      ],
      "execution_count": 0,
      "outputs": [
        {
          "output_type": "execute_result",
          "data": {
            "text/plain": [
              "{'classifier__criterion': 'gini',\n",
              " 'classifier__max_depth': 6,\n",
              " 'classifier__min_samples_leaf': 1,\n",
              " 'classifier__min_samples_split': 2}"
            ]
          },
          "metadata": {
            "tags": []
          },
          "execution_count": 79
        }
      ]
    },
    {
      "cell_type": "code",
      "metadata": {
        "id": "Y1ILtdnl_3hi",
        "colab_type": "code",
        "outputId": "1604b0af-5e63-4d7b-ce4d-8316da7da495",
        "colab": {}
      },
      "source": [
        "train_pred = dt_grid.predict(X_train)\n",
        "test_pred = dt_grid.predict(X_test)\n",
        "\n",
        "print(dt_grid.score(X_train, y_train))\n",
        "print(dt_grid.score(X_test, y_test))\n",
        "\n",
        "print(confusion_matrix(y_true=y_train, y_pred = train_pred))\n",
        "\n",
        "confusion_matrix_test = confusion_matrix(y_true=y_test, y_pred =  test_pred)\n"
      ],
      "execution_count": 0,
      "outputs": [
        {
          "output_type": "stream",
          "text": [
            "0.8411405295315683\n",
            "0.7967479674796748\n",
            "[[ 78  75]\n",
            " [  3 335]]\n"
          ],
          "name": "stdout"
        }
      ]
    },
    {
      "cell_type": "code",
      "metadata": {
        "id": "WVA0olUQ_3hp",
        "colab_type": "code",
        "outputId": "629fcf58-6269-4aac-adee-20ec78108aa1",
        "colab": {}
      },
      "source": [
        "Accuracy_test=(confusion_matrix_test[0,0]+confusion_matrix_test[1,1])/(confusion_matrix_test[0,0]+confusion_matrix_test[0,1]+confusion_matrix_test[1,0]+confusion_matrix_test[1,1])\n",
        "\n",
        "Precision_Test= confusion_matrix_test[1,1]/(confusion_matrix_test[1,1]+confusion_matrix_test[0,1])\n",
        "Recall_Test= confusion_matrix_test[1,1]/(confusion_matrix_test[1,0]+confusion_matrix_test[1,1])\n",
        "\n",
        "print(\"Test Precision: \",Precision_Test)\n",
        "print(\"Test Recall: \",Recall_Test)\n",
        "print(\"Test Accuracy: \",Accuracy_test)"
      ],
      "execution_count": 0,
      "outputs": [
        {
          "output_type": "stream",
          "text": [
            "Test Precision:  0.7864077669902912\n",
            "Test Recall:  0.9642857142857143\n",
            "Test Accuracy:  0.7967479674796748\n"
          ],
          "name": "stdout"
        }
      ]
    },
    {
      "cell_type": "code",
      "metadata": {
        "id": "TY4cYx-m_3hu",
        "colab_type": "code",
        "colab": {}
      },
      "source": [
        "valid_pred_dt = dt_grid.predict(valid_data)"
      ],
      "execution_count": 0,
      "outputs": []
    },
    {
      "cell_type": "code",
      "metadata": {
        "id": "n5SRXumJ_3h9",
        "colab_type": "code",
        "outputId": "4a7489bb-b5ef-4ac4-9759-3331bafb4186",
        "colab": {}
      },
      "source": [
        "valid_pred_dt"
      ],
      "execution_count": 0,
      "outputs": [
        {
          "output_type": "execute_result",
          "data": {
            "text/plain": [
              "array([0, 0, 0, 0, 0, 0, 0, 1, 0, 0, 0, 0, 0, 1, 0, 0, 0, 0, 0, 0, 0, 0,\n",
              "       0, 0, 0, 1, 0, 0, 0, 0, 0, 0, 0, 0, 0, 1, 0, 0, 0, 0, 0, 0, 0, 0,\n",
              "       0, 0, 0, 0, 0, 0, 0, 0, 0, 0, 0, 1, 0, 0, 1, 0, 0, 0, 0, 1, 0, 0,\n",
              "       1, 1, 0, 1, 0, 0, 0, 0, 0, 0, 0, 0, 0, 0, 1, 0, 1, 0, 1, 0, 0, 0,\n",
              "       0, 0, 0, 0, 0, 0, 1, 0, 0, 0, 0, 0, 0, 1, 0, 0, 0, 0, 1, 0, 0, 0,\n",
              "       0, 0, 0, 0, 0, 0, 0, 1, 1, 1, 0, 0, 0, 1, 1, 0, 1, 0, 0, 0, 0, 0,\n",
              "       0, 0, 0, 0, 0, 0, 0, 0, 1, 0, 1, 0, 0, 0, 0, 1, 0, 0, 0, 0, 0, 1,\n",
              "       0, 0, 0, 0, 0, 0, 0, 1, 0, 0, 0, 1, 1, 0, 1, 0, 0, 0, 0, 1, 1, 0,\n",
              "       0, 0, 0, 0, 0, 0, 0, 0, 0, 0, 0, 0, 0, 0, 0, 0, 1, 1, 0, 0, 1, 0,\n",
              "       1, 0, 0, 0, 0, 0, 0, 0, 0, 0, 0, 0, 0, 1, 0, 0, 0, 0, 0, 0, 0, 0,\n",
              "       0, 0, 0, 0, 1, 0, 0, 0, 0, 1, 0, 0, 0, 0, 0, 1, 1, 0, 0, 0, 0, 1,\n",
              "       0, 1, 0, 1, 0, 0, 0, 0, 1, 0, 0, 0, 0, 1, 0, 0, 0, 0, 0, 0, 0, 0,\n",
              "       0, 0, 1, 0, 1, 0, 0, 0, 0, 1, 1, 0, 0, 0, 1, 0, 0, 0, 0, 0, 0, 0,\n",
              "       0, 0, 0, 0, 0, 0, 0, 1, 0, 0, 0, 0, 0, 0, 0, 1, 0, 0, 0, 0, 0, 0,\n",
              "       0, 0, 0, 1, 0, 0, 0, 0, 0, 1, 0, 0, 0, 0, 0, 0, 0, 1, 0, 0, 0, 0,\n",
              "       0, 0, 0, 0, 0, 0, 0, 0, 0, 1, 0, 0, 0, 0, 0, 0, 1, 0, 0, 0, 0, 0,\n",
              "       0, 0, 1, 0, 0, 0, 0, 0, 0, 0, 0, 0, 0, 0, 0])"
            ]
          },
          "metadata": {
            "tags": []
          },
          "execution_count": 83
        }
      ]
    },
    {
      "cell_type": "code",
      "metadata": {
        "id": "b3qF91ot31HF",
        "colab_type": "code",
        "colab": {}
      },
      "source": [
        "valid_pred_dt = pd.DataFrame(valid_pred_dt)\n",
        "valid_pred_dt"
      ],
      "execution_count": 0,
      "outputs": []
    },
    {
      "cell_type": "code",
      "metadata": {
        "id": "nvHdlRlU39ZD",
        "colab_type": "code",
        "colab": {}
      },
      "source": [
        "valid_pred_dt.to_csv('valid_pred_dt.csv')"
      ],
      "execution_count": 0,
      "outputs": []
    },
    {
      "cell_type": "markdown",
      "metadata": {
        "id": "ArT-qNAm_3iC",
        "colab_type": "text"
      },
      "source": [
        "### _Build Random Forest Model - 3_ (Using Stratified KFold)\n",
        "\n",
        "__Stratified K-Folds cross-validator__\n",
        "\n",
        "This cross-validation object is a **variation** of KFold that returns stratified folds. The folds are made by **preserving the percentage of samples for each class**."
      ]
    },
    {
      "cell_type": "code",
      "metadata": {
        "id": "5pEs9OyU_3iC",
        "colab_type": "code",
        "colab": {}
      },
      "source": [
        "clf = Pipeline(steps=[('preprocessor', preprocessor),\n",
        "                      ('classifier', RandomForestClassifier())])"
      ],
      "execution_count": 0,
      "outputs": []
    },
    {
      "cell_type": "code",
      "metadata": {
        "id": "72cGcoku_3iI",
        "colab_type": "code",
        "colab": {}
      },
      "source": [
        "kfold = StratifiedKFold(n_splits=5, shuffle=True, random_state=143)\n",
        "\n",
        "param_grid = {'classifier__criterion': ['entropy', 'gini'], 'classifier__max_depth': [6,8,10,12], \n",
        "                 \"classifier__min_samples_split\": [2, 10, 20],\"classifier__min_samples_leaf\": [1, 5, 10],\n",
        "                   \"classifier__n_estimators\" : [150, 250, 300],\n",
        "              \"classifier__max_depth\" : [5,8,10],\n",
        "              \"classifier__max_features\" : [3, 5, 7],\n",
        "              \"classifier__min_samples_leaf\" : [4, 6, 8, 10]}\n",
        "\n",
        "rf_grid = RandomizedSearchCV(clf, param_distributions = param_grid, n_iter = 100, cv=kfold, verbose=2, random_state=42, n_jobs = 1)"
      ],
      "execution_count": 0,
      "outputs": []
    },
    {
      "cell_type": "code",
      "metadata": {
        "id": "6YYGYbea_3iO",
        "colab_type": "code",
        "outputId": "1b16e0ff-983f-4e9a-c23a-f2179b745e13",
        "colab": {
          "base_uri": "https://localhost:8080/",
          "height": 1000
        }
      },
      "source": [
        "rf_grid.fit(X_train,y_train)"
      ],
      "execution_count": 0,
      "outputs": [
        {
          "output_type": "stream",
          "text": [
            "Fitting 5 folds for each of 100 candidates, totalling 500 fits\n",
            "[CV] classifier__n_estimators=300, classifier__min_samples_split=10, classifier__min_samples_leaf=8, classifier__max_features=7, classifier__max_depth=10, classifier__criterion=gini \n"
          ],
          "name": "stdout"
        },
        {
          "output_type": "stream",
          "text": [
            "[Parallel(n_jobs=1)]: Using backend SequentialBackend with 1 concurrent workers.\n"
          ],
          "name": "stderr"
        },
        {
          "output_type": "stream",
          "text": [
            "[CV]  classifier__n_estimators=300, classifier__min_samples_split=10, classifier__min_samples_leaf=8, classifier__max_features=7, classifier__max_depth=10, classifier__criterion=gini, total=  35.0s\n",
            "[CV] classifier__n_estimators=300, classifier__min_samples_split=10, classifier__min_samples_leaf=8, classifier__max_features=7, classifier__max_depth=10, classifier__criterion=gini \n"
          ],
          "name": "stdout"
        },
        {
          "output_type": "stream",
          "text": [
            "[Parallel(n_jobs=1)]: Done   1 out of   1 | elapsed:   35.0s remaining:    0.0s\n"
          ],
          "name": "stderr"
        },
        {
          "output_type": "stream",
          "text": [
            "[CV]  classifier__n_estimators=300, classifier__min_samples_split=10, classifier__min_samples_leaf=8, classifier__max_features=7, classifier__max_depth=10, classifier__criterion=gini, total=  35.2s\n",
            "[CV] classifier__n_estimators=300, classifier__min_samples_split=10, classifier__min_samples_leaf=8, classifier__max_features=7, classifier__max_depth=10, classifier__criterion=gini \n",
            "[CV]  classifier__n_estimators=300, classifier__min_samples_split=10, classifier__min_samples_leaf=8, classifier__max_features=7, classifier__max_depth=10, classifier__criterion=gini, total=  35.1s\n",
            "[CV] classifier__n_estimators=300, classifier__min_samples_split=10, classifier__min_samples_leaf=8, classifier__max_features=7, classifier__max_depth=10, classifier__criterion=gini \n",
            "[CV]  classifier__n_estimators=300, classifier__min_samples_split=10, classifier__min_samples_leaf=8, classifier__max_features=7, classifier__max_depth=10, classifier__criterion=gini, total=  33.5s\n",
            "[CV] classifier__n_estimators=300, classifier__min_samples_split=10, classifier__min_samples_leaf=8, classifier__max_features=7, classifier__max_depth=10, classifier__criterion=gini \n",
            "[CV]  classifier__n_estimators=300, classifier__min_samples_split=10, classifier__min_samples_leaf=8, classifier__max_features=7, classifier__max_depth=10, classifier__criterion=gini, total=  33.4s\n",
            "[CV] classifier__n_estimators=250, classifier__min_samples_split=10, classifier__min_samples_leaf=4, classifier__max_features=3, classifier__max_depth=10, classifier__criterion=entropy \n",
            "[CV]  classifier__n_estimators=250, classifier__min_samples_split=10, classifier__min_samples_leaf=4, classifier__max_features=3, classifier__max_depth=10, classifier__criterion=entropy, total=  20.7s\n",
            "[CV] classifier__n_estimators=250, classifier__min_samples_split=10, classifier__min_samples_leaf=4, classifier__max_features=3, classifier__max_depth=10, classifier__criterion=entropy \n",
            "[CV]  classifier__n_estimators=250, classifier__min_samples_split=10, classifier__min_samples_leaf=4, classifier__max_features=3, classifier__max_depth=10, classifier__criterion=entropy, total=  20.7s\n",
            "[CV] classifier__n_estimators=250, classifier__min_samples_split=10, classifier__min_samples_leaf=4, classifier__max_features=3, classifier__max_depth=10, classifier__criterion=entropy \n",
            "[CV]  classifier__n_estimators=250, classifier__min_samples_split=10, classifier__min_samples_leaf=4, classifier__max_features=3, classifier__max_depth=10, classifier__criterion=entropy, total=  20.7s\n",
            "[CV] classifier__n_estimators=250, classifier__min_samples_split=10, classifier__min_samples_leaf=4, classifier__max_features=3, classifier__max_depth=10, classifier__criterion=entropy \n",
            "[CV]  classifier__n_estimators=250, classifier__min_samples_split=10, classifier__min_samples_leaf=4, classifier__max_features=3, classifier__max_depth=10, classifier__criterion=entropy, total=  20.5s\n",
            "[CV] classifier__n_estimators=250, classifier__min_samples_split=10, classifier__min_samples_leaf=4, classifier__max_features=3, classifier__max_depth=10, classifier__criterion=entropy \n",
            "[CV]  classifier__n_estimators=250, classifier__min_samples_split=10, classifier__min_samples_leaf=4, classifier__max_features=3, classifier__max_depth=10, classifier__criterion=entropy, total=  20.2s\n",
            "[CV] classifier__n_estimators=300, classifier__min_samples_split=20, classifier__min_samples_leaf=6, classifier__max_features=5, classifier__max_depth=10, classifier__criterion=gini \n",
            "[CV]  classifier__n_estimators=300, classifier__min_samples_split=20, classifier__min_samples_leaf=6, classifier__max_features=5, classifier__max_depth=10, classifier__criterion=gini, total=  26.0s\n",
            "[CV] classifier__n_estimators=300, classifier__min_samples_split=20, classifier__min_samples_leaf=6, classifier__max_features=5, classifier__max_depth=10, classifier__criterion=gini \n",
            "[CV]  classifier__n_estimators=300, classifier__min_samples_split=20, classifier__min_samples_leaf=6, classifier__max_features=5, classifier__max_depth=10, classifier__criterion=gini, total=  26.1s\n",
            "[CV] classifier__n_estimators=300, classifier__min_samples_split=20, classifier__min_samples_leaf=6, classifier__max_features=5, classifier__max_depth=10, classifier__criterion=gini \n",
            "[CV]  classifier__n_estimators=300, classifier__min_samples_split=20, classifier__min_samples_leaf=6, classifier__max_features=5, classifier__max_depth=10, classifier__criterion=gini, total=  26.2s\n",
            "[CV] classifier__n_estimators=300, classifier__min_samples_split=20, classifier__min_samples_leaf=6, classifier__max_features=5, classifier__max_depth=10, classifier__criterion=gini \n",
            "[CV]  classifier__n_estimators=300, classifier__min_samples_split=20, classifier__min_samples_leaf=6, classifier__max_features=5, classifier__max_depth=10, classifier__criterion=gini, total=  26.1s\n",
            "[CV] classifier__n_estimators=300, classifier__min_samples_split=20, classifier__min_samples_leaf=6, classifier__max_features=5, classifier__max_depth=10, classifier__criterion=gini \n",
            "[CV]  classifier__n_estimators=300, classifier__min_samples_split=20, classifier__min_samples_leaf=6, classifier__max_features=5, classifier__max_depth=10, classifier__criterion=gini, total=  26.3s\n",
            "[CV] classifier__n_estimators=150, classifier__min_samples_split=20, classifier__min_samples_leaf=10, classifier__max_features=7, classifier__max_depth=5, classifier__criterion=gini \n",
            "[CV]  classifier__n_estimators=150, classifier__min_samples_split=20, classifier__min_samples_leaf=10, classifier__max_features=7, classifier__max_depth=5, classifier__criterion=gini, total=  11.3s\n",
            "[CV] classifier__n_estimators=150, classifier__min_samples_split=20, classifier__min_samples_leaf=10, classifier__max_features=7, classifier__max_depth=5, classifier__criterion=gini \n",
            "[CV]  classifier__n_estimators=150, classifier__min_samples_split=20, classifier__min_samples_leaf=10, classifier__max_features=7, classifier__max_depth=5, classifier__criterion=gini, total=  11.3s\n",
            "[CV] classifier__n_estimators=150, classifier__min_samples_split=20, classifier__min_samples_leaf=10, classifier__max_features=7, classifier__max_depth=5, classifier__criterion=gini \n",
            "[CV]  classifier__n_estimators=150, classifier__min_samples_split=20, classifier__min_samples_leaf=10, classifier__max_features=7, classifier__max_depth=5, classifier__criterion=gini, total=  11.3s\n",
            "[CV] classifier__n_estimators=150, classifier__min_samples_split=20, classifier__min_samples_leaf=10, classifier__max_features=7, classifier__max_depth=5, classifier__criterion=gini \n",
            "[CV]  classifier__n_estimators=150, classifier__min_samples_split=20, classifier__min_samples_leaf=10, classifier__max_features=7, classifier__max_depth=5, classifier__criterion=gini, total=  11.6s\n",
            "[CV] classifier__n_estimators=150, classifier__min_samples_split=20, classifier__min_samples_leaf=10, classifier__max_features=7, classifier__max_depth=5, classifier__criterion=gini \n",
            "[CV]  classifier__n_estimators=150, classifier__min_samples_split=20, classifier__min_samples_leaf=10, classifier__max_features=7, classifier__max_depth=5, classifier__criterion=gini, total=  11.4s\n",
            "[CV] classifier__n_estimators=150, classifier__min_samples_split=2, classifier__min_samples_leaf=4, classifier__max_features=7, classifier__max_depth=5, classifier__criterion=entropy \n",
            "[CV]  classifier__n_estimators=150, classifier__min_samples_split=2, classifier__min_samples_leaf=4, classifier__max_features=7, classifier__max_depth=5, classifier__criterion=entropy, total=  13.2s\n",
            "[CV] classifier__n_estimators=150, classifier__min_samples_split=2, classifier__min_samples_leaf=4, classifier__max_features=7, classifier__max_depth=5, classifier__criterion=entropy \n",
            "[CV]  classifier__n_estimators=150, classifier__min_samples_split=2, classifier__min_samples_leaf=4, classifier__max_features=7, classifier__max_depth=5, classifier__criterion=entropy, total=  13.3s\n",
            "[CV] classifier__n_estimators=150, classifier__min_samples_split=2, classifier__min_samples_leaf=4, classifier__max_features=7, classifier__max_depth=5, classifier__criterion=entropy \n",
            "[CV]  classifier__n_estimators=150, classifier__min_samples_split=2, classifier__min_samples_leaf=4, classifier__max_features=7, classifier__max_depth=5, classifier__criterion=entropy, total=  13.0s\n",
            "[CV] classifier__n_estimators=150, classifier__min_samples_split=2, classifier__min_samples_leaf=4, classifier__max_features=7, classifier__max_depth=5, classifier__criterion=entropy \n",
            "[CV]  classifier__n_estimators=150, classifier__min_samples_split=2, classifier__min_samples_leaf=4, classifier__max_features=7, classifier__max_depth=5, classifier__criterion=entropy, total=  13.3s\n",
            "[CV] classifier__n_estimators=150, classifier__min_samples_split=2, classifier__min_samples_leaf=4, classifier__max_features=7, classifier__max_depth=5, classifier__criterion=entropy \n",
            "[CV]  classifier__n_estimators=150, classifier__min_samples_split=2, classifier__min_samples_leaf=4, classifier__max_features=7, classifier__max_depth=5, classifier__criterion=entropy, total=  13.2s\n",
            "[CV] classifier__n_estimators=250, classifier__min_samples_split=20, classifier__min_samples_leaf=6, classifier__max_features=3, classifier__max_depth=8, classifier__criterion=gini \n",
            "[CV]  classifier__n_estimators=250, classifier__min_samples_split=20, classifier__min_samples_leaf=6, classifier__max_features=3, classifier__max_depth=8, classifier__criterion=gini, total=  14.4s\n",
            "[CV] classifier__n_estimators=250, classifier__min_samples_split=20, classifier__min_samples_leaf=6, classifier__max_features=3, classifier__max_depth=8, classifier__criterion=gini \n",
            "[CV]  classifier__n_estimators=250, classifier__min_samples_split=20, classifier__min_samples_leaf=6, classifier__max_features=3, classifier__max_depth=8, classifier__criterion=gini, total=  14.4s\n",
            "[CV] classifier__n_estimators=250, classifier__min_samples_split=20, classifier__min_samples_leaf=6, classifier__max_features=3, classifier__max_depth=8, classifier__criterion=gini \n",
            "[CV]  classifier__n_estimators=250, classifier__min_samples_split=20, classifier__min_samples_leaf=6, classifier__max_features=3, classifier__max_depth=8, classifier__criterion=gini, total=  14.6s\n",
            "[CV] classifier__n_estimators=250, classifier__min_samples_split=20, classifier__min_samples_leaf=6, classifier__max_features=3, classifier__max_depth=8, classifier__criterion=gini \n",
            "[CV]  classifier__n_estimators=250, classifier__min_samples_split=20, classifier__min_samples_leaf=6, classifier__max_features=3, classifier__max_depth=8, classifier__criterion=gini, total=  14.4s\n",
            "[CV] classifier__n_estimators=250, classifier__min_samples_split=20, classifier__min_samples_leaf=6, classifier__max_features=3, classifier__max_depth=8, classifier__criterion=gini \n",
            "[CV]  classifier__n_estimators=250, classifier__min_samples_split=20, classifier__min_samples_leaf=6, classifier__max_features=3, classifier__max_depth=8, classifier__criterion=gini, total=  14.5s\n",
            "[CV] classifier__n_estimators=250, classifier__min_samples_split=2, classifier__min_samples_leaf=4, classifier__max_features=7, classifier__max_depth=8, classifier__criterion=entropy \n",
            "[CV]  classifier__n_estimators=250, classifier__min_samples_split=2, classifier__min_samples_leaf=4, classifier__max_features=7, classifier__max_depth=8, classifier__criterion=entropy, total=  30.4s\n",
            "[CV] classifier__n_estimators=250, classifier__min_samples_split=2, classifier__min_samples_leaf=4, classifier__max_features=7, classifier__max_depth=8, classifier__criterion=entropy \n",
            "[CV]  classifier__n_estimators=250, classifier__min_samples_split=2, classifier__min_samples_leaf=4, classifier__max_features=7, classifier__max_depth=8, classifier__criterion=entropy, total=  30.6s\n",
            "[CV] classifier__n_estimators=250, classifier__min_samples_split=2, classifier__min_samples_leaf=4, classifier__max_features=7, classifier__max_depth=8, classifier__criterion=entropy \n",
            "[CV]  classifier__n_estimators=250, classifier__min_samples_split=2, classifier__min_samples_leaf=4, classifier__max_features=7, classifier__max_depth=8, classifier__criterion=entropy, total=  30.7s\n",
            "[CV] classifier__n_estimators=250, classifier__min_samples_split=2, classifier__min_samples_leaf=4, classifier__max_features=7, classifier__max_depth=8, classifier__criterion=entropy \n",
            "[CV]  classifier__n_estimators=250, classifier__min_samples_split=2, classifier__min_samples_leaf=4, classifier__max_features=7, classifier__max_depth=8, classifier__criterion=entropy, total=  30.7s\n",
            "[CV] classifier__n_estimators=250, classifier__min_samples_split=2, classifier__min_samples_leaf=4, classifier__max_features=7, classifier__max_depth=8, classifier__criterion=entropy \n",
            "[CV]  classifier__n_estimators=250, classifier__min_samples_split=2, classifier__min_samples_leaf=4, classifier__max_features=7, classifier__max_depth=8, classifier__criterion=entropy, total=  30.6s\n",
            "[CV] classifier__n_estimators=300, classifier__min_samples_split=10, classifier__min_samples_leaf=8, classifier__max_features=3, classifier__max_depth=8, classifier__criterion=entropy \n",
            "[CV]  classifier__n_estimators=300, classifier__min_samples_split=10, classifier__min_samples_leaf=8, classifier__max_features=3, classifier__max_depth=8, classifier__criterion=entropy, total=  20.4s\n",
            "[CV] classifier__n_estimators=300, classifier__min_samples_split=10, classifier__min_samples_leaf=8, classifier__max_features=3, classifier__max_depth=8, classifier__criterion=entropy \n",
            "[CV]  classifier__n_estimators=300, classifier__min_samples_split=10, classifier__min_samples_leaf=8, classifier__max_features=3, classifier__max_depth=8, classifier__criterion=entropy, total=  20.2s\n",
            "[CV] classifier__n_estimators=300, classifier__min_samples_split=10, classifier__min_samples_leaf=8, classifier__max_features=3, classifier__max_depth=8, classifier__criterion=entropy \n",
            "[CV]  classifier__n_estimators=300, classifier__min_samples_split=10, classifier__min_samples_leaf=8, classifier__max_features=3, classifier__max_depth=8, classifier__criterion=entropy, total=  20.1s\n",
            "[CV] classifier__n_estimators=300, classifier__min_samples_split=10, classifier__min_samples_leaf=8, classifier__max_features=3, classifier__max_depth=8, classifier__criterion=entropy \n",
            "[CV]  classifier__n_estimators=300, classifier__min_samples_split=10, classifier__min_samples_leaf=8, classifier__max_features=3, classifier__max_depth=8, classifier__criterion=entropy, total=  20.0s\n",
            "[CV] classifier__n_estimators=300, classifier__min_samples_split=10, classifier__min_samples_leaf=8, classifier__max_features=3, classifier__max_depth=8, classifier__criterion=entropy \n",
            "[CV]  classifier__n_estimators=300, classifier__min_samples_split=10, classifier__min_samples_leaf=8, classifier__max_features=3, classifier__max_depth=8, classifier__criterion=entropy, total=  19.9s\n",
            "[CV] classifier__n_estimators=150, classifier__min_samples_split=20, classifier__min_samples_leaf=6, classifier__max_features=3, classifier__max_depth=10, classifier__criterion=entropy \n",
            "[CV]  classifier__n_estimators=150, classifier__min_samples_split=20, classifier__min_samples_leaf=6, classifier__max_features=3, classifier__max_depth=10, classifier__criterion=entropy, total=  12.7s\n",
            "[CV] classifier__n_estimators=150, classifier__min_samples_split=20, classifier__min_samples_leaf=6, classifier__max_features=3, classifier__max_depth=10, classifier__criterion=entropy \n",
            "[CV]  classifier__n_estimators=150, classifier__min_samples_split=20, classifier__min_samples_leaf=6, classifier__max_features=3, classifier__max_depth=10, classifier__criterion=entropy, total=  12.9s\n",
            "[CV] classifier__n_estimators=150, classifier__min_samples_split=20, classifier__min_samples_leaf=6, classifier__max_features=3, classifier__max_depth=10, classifier__criterion=entropy \n",
            "[CV]  classifier__n_estimators=150, classifier__min_samples_split=20, classifier__min_samples_leaf=6, classifier__max_features=3, classifier__max_depth=10, classifier__criterion=entropy, total=  12.7s\n",
            "[CV] classifier__n_estimators=150, classifier__min_samples_split=20, classifier__min_samples_leaf=6, classifier__max_features=3, classifier__max_depth=10, classifier__criterion=entropy \n",
            "[CV]  classifier__n_estimators=150, classifier__min_samples_split=20, classifier__min_samples_leaf=6, classifier__max_features=3, classifier__max_depth=10, classifier__criterion=entropy, total=  12.9s\n",
            "[CV] classifier__n_estimators=150, classifier__min_samples_split=20, classifier__min_samples_leaf=6, classifier__max_features=3, classifier__max_depth=10, classifier__criterion=entropy \n",
            "[CV]  classifier__n_estimators=150, classifier__min_samples_split=20, classifier__min_samples_leaf=6, classifier__max_features=3, classifier__max_depth=10, classifier__criterion=entropy, total=  12.8s\n",
            "[CV] classifier__n_estimators=250, classifier__min_samples_split=20, classifier__min_samples_leaf=8, classifier__max_features=5, classifier__max_depth=10, classifier__criterion=entropy \n",
            "[CV]  classifier__n_estimators=250, classifier__min_samples_split=20, classifier__min_samples_leaf=8, classifier__max_features=5, classifier__max_depth=10, classifier__criterion=entropy, total=  28.3s\n",
            "[CV] classifier__n_estimators=250, classifier__min_samples_split=20, classifier__min_samples_leaf=8, classifier__max_features=5, classifier__max_depth=10, classifier__criterion=entropy \n",
            "[CV]  classifier__n_estimators=250, classifier__min_samples_split=20, classifier__min_samples_leaf=8, classifier__max_features=5, classifier__max_depth=10, classifier__criterion=entropy, total=  28.5s\n",
            "[CV] classifier__n_estimators=250, classifier__min_samples_split=20, classifier__min_samples_leaf=8, classifier__max_features=5, classifier__max_depth=10, classifier__criterion=entropy \n",
            "[CV]  classifier__n_estimators=250, classifier__min_samples_split=20, classifier__min_samples_leaf=8, classifier__max_features=5, classifier__max_depth=10, classifier__criterion=entropy, total=  28.3s\n",
            "[CV] classifier__n_estimators=250, classifier__min_samples_split=20, classifier__min_samples_leaf=8, classifier__max_features=5, classifier__max_depth=10, classifier__criterion=entropy \n",
            "[CV]  classifier__n_estimators=250, classifier__min_samples_split=20, classifier__min_samples_leaf=8, classifier__max_features=5, classifier__max_depth=10, classifier__criterion=entropy, total=  28.7s\n",
            "[CV] classifier__n_estimators=250, classifier__min_samples_split=20, classifier__min_samples_leaf=8, classifier__max_features=5, classifier__max_depth=10, classifier__criterion=entropy \n",
            "[CV]  classifier__n_estimators=250, classifier__min_samples_split=20, classifier__min_samples_leaf=8, classifier__max_features=5, classifier__max_depth=10, classifier__criterion=entropy, total=  28.7s\n",
            "[CV] classifier__n_estimators=300, classifier__min_samples_split=2, classifier__min_samples_leaf=10, classifier__max_features=5, classifier__max_depth=10, classifier__criterion=gini \n",
            "[CV]  classifier__n_estimators=300, classifier__min_samples_split=2, classifier__min_samples_leaf=10, classifier__max_features=5, classifier__max_depth=10, classifier__criterion=gini, total=  26.1s\n",
            "[CV] classifier__n_estimators=300, classifier__min_samples_split=2, classifier__min_samples_leaf=10, classifier__max_features=5, classifier__max_depth=10, classifier__criterion=gini \n",
            "[CV]  classifier__n_estimators=300, classifier__min_samples_split=2, classifier__min_samples_leaf=10, classifier__max_features=5, classifier__max_depth=10, classifier__criterion=gini, total=  26.1s\n",
            "[CV] classifier__n_estimators=300, classifier__min_samples_split=2, classifier__min_samples_leaf=10, classifier__max_features=5, classifier__max_depth=10, classifier__criterion=gini \n",
            "[CV]  classifier__n_estimators=300, classifier__min_samples_split=2, classifier__min_samples_leaf=10, classifier__max_features=5, classifier__max_depth=10, classifier__criterion=gini, total=  25.9s\n",
            "[CV] classifier__n_estimators=300, classifier__min_samples_split=2, classifier__min_samples_leaf=10, classifier__max_features=5, classifier__max_depth=10, classifier__criterion=gini \n",
            "[CV]  classifier__n_estimators=300, classifier__min_samples_split=2, classifier__min_samples_leaf=10, classifier__max_features=5, classifier__max_depth=10, classifier__criterion=gini, total=  26.0s\n",
            "[CV] classifier__n_estimators=300, classifier__min_samples_split=2, classifier__min_samples_leaf=10, classifier__max_features=5, classifier__max_depth=10, classifier__criterion=gini \n",
            "[CV]  classifier__n_estimators=300, classifier__min_samples_split=2, classifier__min_samples_leaf=10, classifier__max_features=5, classifier__max_depth=10, classifier__criterion=gini, total=  26.1s\n",
            "[CV] classifier__n_estimators=300, classifier__min_samples_split=2, classifier__min_samples_leaf=10, classifier__max_features=5, classifier__max_depth=10, classifier__criterion=entropy \n",
            "[CV]  classifier__n_estimators=300, classifier__min_samples_split=2, classifier__min_samples_leaf=10, classifier__max_features=5, classifier__max_depth=10, classifier__criterion=entropy, total=  34.0s\n",
            "[CV] classifier__n_estimators=300, classifier__min_samples_split=2, classifier__min_samples_leaf=10, classifier__max_features=5, classifier__max_depth=10, classifier__criterion=entropy \n",
            "[CV]  classifier__n_estimators=300, classifier__min_samples_split=2, classifier__min_samples_leaf=10, classifier__max_features=5, classifier__max_depth=10, classifier__criterion=entropy, total=  34.1s\n",
            "[CV] classifier__n_estimators=300, classifier__min_samples_split=2, classifier__min_samples_leaf=10, classifier__max_features=5, classifier__max_depth=10, classifier__criterion=entropy \n",
            "[CV]  classifier__n_estimators=300, classifier__min_samples_split=2, classifier__min_samples_leaf=10, classifier__max_features=5, classifier__max_depth=10, classifier__criterion=entropy, total=  33.9s\n",
            "[CV] classifier__n_estimators=300, classifier__min_samples_split=2, classifier__min_samples_leaf=10, classifier__max_features=5, classifier__max_depth=10, classifier__criterion=entropy \n",
            "[CV]  classifier__n_estimators=300, classifier__min_samples_split=2, classifier__min_samples_leaf=10, classifier__max_features=5, classifier__max_depth=10, classifier__criterion=entropy, total=  33.7s\n",
            "[CV] classifier__n_estimators=300, classifier__min_samples_split=2, classifier__min_samples_leaf=10, classifier__max_features=5, classifier__max_depth=10, classifier__criterion=entropy \n",
            "[CV]  classifier__n_estimators=300, classifier__min_samples_split=2, classifier__min_samples_leaf=10, classifier__max_features=5, classifier__max_depth=10, classifier__criterion=entropy, total=  33.6s\n",
            "[CV] classifier__n_estimators=150, classifier__min_samples_split=20, classifier__min_samples_leaf=10, classifier__max_features=3, classifier__max_depth=10, classifier__criterion=entropy \n",
            "[CV]  classifier__n_estimators=150, classifier__min_samples_split=20, classifier__min_samples_leaf=10, classifier__max_features=3, classifier__max_depth=10, classifier__criterion=entropy, total=  13.0s\n",
            "[CV] classifier__n_estimators=150, classifier__min_samples_split=20, classifier__min_samples_leaf=10, classifier__max_features=3, classifier__max_depth=10, classifier__criterion=entropy \n",
            "[CV]  classifier__n_estimators=150, classifier__min_samples_split=20, classifier__min_samples_leaf=10, classifier__max_features=3, classifier__max_depth=10, classifier__criterion=entropy, total=  12.8s\n",
            "[CV] classifier__n_estimators=150, classifier__min_samples_split=20, classifier__min_samples_leaf=10, classifier__max_features=3, classifier__max_depth=10, classifier__criterion=entropy \n",
            "[CV]  classifier__n_estimators=150, classifier__min_samples_split=20, classifier__min_samples_leaf=10, classifier__max_features=3, classifier__max_depth=10, classifier__criterion=entropy, total=  13.0s\n",
            "[CV] classifier__n_estimators=150, classifier__min_samples_split=20, classifier__min_samples_leaf=10, classifier__max_features=3, classifier__max_depth=10, classifier__criterion=entropy \n",
            "[CV]  classifier__n_estimators=150, classifier__min_samples_split=20, classifier__min_samples_leaf=10, classifier__max_features=3, classifier__max_depth=10, classifier__criterion=entropy, total=  13.0s\n",
            "[CV] classifier__n_estimators=150, classifier__min_samples_split=20, classifier__min_samples_leaf=10, classifier__max_features=3, classifier__max_depth=10, classifier__criterion=entropy \n",
            "[CV]  classifier__n_estimators=150, classifier__min_samples_split=20, classifier__min_samples_leaf=10, classifier__max_features=3, classifier__max_depth=10, classifier__criterion=entropy, total=  12.7s\n",
            "[CV] classifier__n_estimators=150, classifier__min_samples_split=2, classifier__min_samples_leaf=6, classifier__max_features=7, classifier__max_depth=5, classifier__criterion=entropy \n",
            "[CV]  classifier__n_estimators=150, classifier__min_samples_split=2, classifier__min_samples_leaf=6, classifier__max_features=7, classifier__max_depth=5, classifier__criterion=entropy, total=  13.4s\n",
            "[CV] classifier__n_estimators=150, classifier__min_samples_split=2, classifier__min_samples_leaf=6, classifier__max_features=7, classifier__max_depth=5, classifier__criterion=entropy \n",
            "[CV]  classifier__n_estimators=150, classifier__min_samples_split=2, classifier__min_samples_leaf=6, classifier__max_features=7, classifier__max_depth=5, classifier__criterion=entropy, total=  13.5s\n",
            "[CV] classifier__n_estimators=150, classifier__min_samples_split=2, classifier__min_samples_leaf=6, classifier__max_features=7, classifier__max_depth=5, classifier__criterion=entropy \n",
            "[CV]  classifier__n_estimators=150, classifier__min_samples_split=2, classifier__min_samples_leaf=6, classifier__max_features=7, classifier__max_depth=5, classifier__criterion=entropy, total=  13.2s\n",
            "[CV] classifier__n_estimators=150, classifier__min_samples_split=2, classifier__min_samples_leaf=6, classifier__max_features=7, classifier__max_depth=5, classifier__criterion=entropy \n",
            "[CV]  classifier__n_estimators=150, classifier__min_samples_split=2, classifier__min_samples_leaf=6, classifier__max_features=7, classifier__max_depth=5, classifier__criterion=entropy, total=  13.3s\n",
            "[CV] classifier__n_estimators=150, classifier__min_samples_split=2, classifier__min_samples_leaf=6, classifier__max_features=7, classifier__max_depth=5, classifier__criterion=entropy \n",
            "[CV]  classifier__n_estimators=150, classifier__min_samples_split=2, classifier__min_samples_leaf=6, classifier__max_features=7, classifier__max_depth=5, classifier__criterion=entropy, total=  13.2s\n",
            "[CV] classifier__n_estimators=250, classifier__min_samples_split=10, classifier__min_samples_leaf=10, classifier__max_features=3, classifier__max_depth=8, classifier__criterion=gini \n",
            "[CV]  classifier__n_estimators=250, classifier__min_samples_split=10, classifier__min_samples_leaf=10, classifier__max_features=3, classifier__max_depth=8, classifier__criterion=gini, total=  14.4s\n",
            "[CV] classifier__n_estimators=250, classifier__min_samples_split=10, classifier__min_samples_leaf=10, classifier__max_features=3, classifier__max_depth=8, classifier__criterion=gini \n",
            "[CV]  classifier__n_estimators=250, classifier__min_samples_split=10, classifier__min_samples_leaf=10, classifier__max_features=3, classifier__max_depth=8, classifier__criterion=gini, total=  14.3s\n",
            "[CV] classifier__n_estimators=250, classifier__min_samples_split=10, classifier__min_samples_leaf=10, classifier__max_features=3, classifier__max_depth=8, classifier__criterion=gini \n",
            "[CV]  classifier__n_estimators=250, classifier__min_samples_split=10, classifier__min_samples_leaf=10, classifier__max_features=3, classifier__max_depth=8, classifier__criterion=gini, total=  14.4s\n",
            "[CV] classifier__n_estimators=250, classifier__min_samples_split=10, classifier__min_samples_leaf=10, classifier__max_features=3, classifier__max_depth=8, classifier__criterion=gini \n",
            "[CV]  classifier__n_estimators=250, classifier__min_samples_split=10, classifier__min_samples_leaf=10, classifier__max_features=3, classifier__max_depth=8, classifier__criterion=gini, total=  14.4s\n",
            "[CV] classifier__n_estimators=250, classifier__min_samples_split=10, classifier__min_samples_leaf=10, classifier__max_features=3, classifier__max_depth=8, classifier__criterion=gini \n",
            "[CV]  classifier__n_estimators=250, classifier__min_samples_split=10, classifier__min_samples_leaf=10, classifier__max_features=3, classifier__max_depth=8, classifier__criterion=gini, total=  14.5s\n",
            "[CV] classifier__n_estimators=250, classifier__min_samples_split=10, classifier__min_samples_leaf=10, classifier__max_features=3, classifier__max_depth=10, classifier__criterion=entropy \n",
            "[CV]  classifier__n_estimators=250, classifier__min_samples_split=10, classifier__min_samples_leaf=10, classifier__max_features=3, classifier__max_depth=10, classifier__criterion=entropy, total=  20.1s\n",
            "[CV] classifier__n_estimators=250, classifier__min_samples_split=10, classifier__min_samples_leaf=10, classifier__max_features=3, classifier__max_depth=10, classifier__criterion=entropy \n",
            "[CV]  classifier__n_estimators=250, classifier__min_samples_split=10, classifier__min_samples_leaf=10, classifier__max_features=3, classifier__max_depth=10, classifier__criterion=entropy, total=  20.2s\n",
            "[CV] classifier__n_estimators=250, classifier__min_samples_split=10, classifier__min_samples_leaf=10, classifier__max_features=3, classifier__max_depth=10, classifier__criterion=entropy \n",
            "[CV]  classifier__n_estimators=250, classifier__min_samples_split=10, classifier__min_samples_leaf=10, classifier__max_features=3, classifier__max_depth=10, classifier__criterion=entropy, total=  20.5s\n",
            "[CV] classifier__n_estimators=250, classifier__min_samples_split=10, classifier__min_samples_leaf=10, classifier__max_features=3, classifier__max_depth=10, classifier__criterion=entropy \n",
            "[CV]  classifier__n_estimators=250, classifier__min_samples_split=10, classifier__min_samples_leaf=10, classifier__max_features=3, classifier__max_depth=10, classifier__criterion=entropy, total=  20.4s\n",
            "[CV] classifier__n_estimators=250, classifier__min_samples_split=10, classifier__min_samples_leaf=10, classifier__max_features=3, classifier__max_depth=10, classifier__criterion=entropy \n",
            "[CV]  classifier__n_estimators=250, classifier__min_samples_split=10, classifier__min_samples_leaf=10, classifier__max_features=3, classifier__max_depth=10, classifier__criterion=entropy, total=  20.4s\n",
            "[CV] classifier__n_estimators=300, classifier__min_samples_split=2, classifier__min_samples_leaf=4, classifier__max_features=5, classifier__max_depth=5, classifier__criterion=gini \n",
            "[CV]  classifier__n_estimators=300, classifier__min_samples_split=2, classifier__min_samples_leaf=4, classifier__max_features=5, classifier__max_depth=5, classifier__criterion=gini, total=  17.2s\n",
            "[CV] classifier__n_estimators=300, classifier__min_samples_split=2, classifier__min_samples_leaf=4, classifier__max_features=5, classifier__max_depth=5, classifier__criterion=gini \n",
            "[CV]  classifier__n_estimators=300, classifier__min_samples_split=2, classifier__min_samples_leaf=4, classifier__max_features=5, classifier__max_depth=5, classifier__criterion=gini, total=  17.0s\n",
            "[CV] classifier__n_estimators=300, classifier__min_samples_split=2, classifier__min_samples_leaf=4, classifier__max_features=5, classifier__max_depth=5, classifier__criterion=gini \n",
            "[CV]  classifier__n_estimators=300, classifier__min_samples_split=2, classifier__min_samples_leaf=4, classifier__max_features=5, classifier__max_depth=5, classifier__criterion=gini, total=  17.0s\n",
            "[CV] classifier__n_estimators=300, classifier__min_samples_split=2, classifier__min_samples_leaf=4, classifier__max_features=5, classifier__max_depth=5, classifier__criterion=gini \n",
            "[CV]  classifier__n_estimators=300, classifier__min_samples_split=2, classifier__min_samples_leaf=4, classifier__max_features=5, classifier__max_depth=5, classifier__criterion=gini, total=  17.1s\n",
            "[CV] classifier__n_estimators=300, classifier__min_samples_split=2, classifier__min_samples_leaf=4, classifier__max_features=5, classifier__max_depth=5, classifier__criterion=gini \n",
            "[CV]  classifier__n_estimators=300, classifier__min_samples_split=2, classifier__min_samples_leaf=4, classifier__max_features=5, classifier__max_depth=5, classifier__criterion=gini, total=  17.0s\n",
            "[CV] classifier__n_estimators=250, classifier__min_samples_split=10, classifier__min_samples_leaf=8, classifier__max_features=5, classifier__max_depth=10, classifier__criterion=gini \n",
            "[CV]  classifier__n_estimators=250, classifier__min_samples_split=10, classifier__min_samples_leaf=8, classifier__max_features=5, classifier__max_depth=10, classifier__criterion=gini, total=  22.5s\n",
            "[CV] classifier__n_estimators=250, classifier__min_samples_split=10, classifier__min_samples_leaf=8, classifier__max_features=5, classifier__max_depth=10, classifier__criterion=gini \n",
            "[CV]  classifier__n_estimators=250, classifier__min_samples_split=10, classifier__min_samples_leaf=8, classifier__max_features=5, classifier__max_depth=10, classifier__criterion=gini, total=  22.6s\n",
            "[CV] classifier__n_estimators=250, classifier__min_samples_split=10, classifier__min_samples_leaf=8, classifier__max_features=5, classifier__max_depth=10, classifier__criterion=gini \n",
            "[CV]  classifier__n_estimators=250, classifier__min_samples_split=10, classifier__min_samples_leaf=8, classifier__max_features=5, classifier__max_depth=10, classifier__criterion=gini, total=  22.0s\n",
            "[CV] classifier__n_estimators=250, classifier__min_samples_split=10, classifier__min_samples_leaf=8, classifier__max_features=5, classifier__max_depth=10, classifier__criterion=gini \n",
            "[CV]  classifier__n_estimators=250, classifier__min_samples_split=10, classifier__min_samples_leaf=8, classifier__max_features=5, classifier__max_depth=10, classifier__criterion=gini, total=  22.3s\n",
            "[CV] classifier__n_estimators=250, classifier__min_samples_split=10, classifier__min_samples_leaf=8, classifier__max_features=5, classifier__max_depth=10, classifier__criterion=gini \n",
            "[CV]  classifier__n_estimators=250, classifier__min_samples_split=10, classifier__min_samples_leaf=8, classifier__max_features=5, classifier__max_depth=10, classifier__criterion=gini, total=  22.5s\n",
            "[CV] classifier__n_estimators=150, classifier__min_samples_split=20, classifier__min_samples_leaf=10, classifier__max_features=5, classifier__max_depth=5, classifier__criterion=entropy \n",
            "[CV]  classifier__n_estimators=150, classifier__min_samples_split=20, classifier__min_samples_leaf=10, classifier__max_features=5, classifier__max_depth=5, classifier__criterion=entropy, total=  11.0s\n",
            "[CV] classifier__n_estimators=150, classifier__min_samples_split=20, classifier__min_samples_leaf=10, classifier__max_features=5, classifier__max_depth=5, classifier__criterion=entropy \n",
            "[CV]  classifier__n_estimators=150, classifier__min_samples_split=20, classifier__min_samples_leaf=10, classifier__max_features=5, classifier__max_depth=5, classifier__criterion=entropy, total=  10.7s\n",
            "[CV] classifier__n_estimators=150, classifier__min_samples_split=20, classifier__min_samples_leaf=10, classifier__max_features=5, classifier__max_depth=5, classifier__criterion=entropy \n",
            "[CV]  classifier__n_estimators=150, classifier__min_samples_split=20, classifier__min_samples_leaf=10, classifier__max_features=5, classifier__max_depth=5, classifier__criterion=entropy, total=  10.8s\n",
            "[CV] classifier__n_estimators=150, classifier__min_samples_split=20, classifier__min_samples_leaf=10, classifier__max_features=5, classifier__max_depth=5, classifier__criterion=entropy \n",
            "[CV]  classifier__n_estimators=150, classifier__min_samples_split=20, classifier__min_samples_leaf=10, classifier__max_features=5, classifier__max_depth=5, classifier__criterion=entropy, total=  11.1s\n",
            "[CV] classifier__n_estimators=150, classifier__min_samples_split=20, classifier__min_samples_leaf=10, classifier__max_features=5, classifier__max_depth=5, classifier__criterion=entropy \n",
            "[CV]  classifier__n_estimators=150, classifier__min_samples_split=20, classifier__min_samples_leaf=10, classifier__max_features=5, classifier__max_depth=5, classifier__criterion=entropy, total=  10.9s\n",
            "[CV] classifier__n_estimators=250, classifier__min_samples_split=2, classifier__min_samples_leaf=6, classifier__max_features=3, classifier__max_depth=5, classifier__criterion=entropy \n",
            "[CV]  classifier__n_estimators=250, classifier__min_samples_split=2, classifier__min_samples_leaf=6, classifier__max_features=3, classifier__max_depth=5, classifier__criterion=entropy, total=  12.6s\n",
            "[CV] classifier__n_estimators=250, classifier__min_samples_split=2, classifier__min_samples_leaf=6, classifier__max_features=3, classifier__max_depth=5, classifier__criterion=entropy \n",
            "[CV]  classifier__n_estimators=250, classifier__min_samples_split=2, classifier__min_samples_leaf=6, classifier__max_features=3, classifier__max_depth=5, classifier__criterion=entropy, total=  12.5s\n",
            "[CV] classifier__n_estimators=250, classifier__min_samples_split=2, classifier__min_samples_leaf=6, classifier__max_features=3, classifier__max_depth=5, classifier__criterion=entropy \n",
            "[CV]  classifier__n_estimators=250, classifier__min_samples_split=2, classifier__min_samples_leaf=6, classifier__max_features=3, classifier__max_depth=5, classifier__criterion=entropy, total=  12.7s\n",
            "[CV] classifier__n_estimators=250, classifier__min_samples_split=2, classifier__min_samples_leaf=6, classifier__max_features=3, classifier__max_depth=5, classifier__criterion=entropy \n",
            "[CV]  classifier__n_estimators=250, classifier__min_samples_split=2, classifier__min_samples_leaf=6, classifier__max_features=3, classifier__max_depth=5, classifier__criterion=entropy, total=  12.6s\n",
            "[CV] classifier__n_estimators=250, classifier__min_samples_split=2, classifier__min_samples_leaf=6, classifier__max_features=3, classifier__max_depth=5, classifier__criterion=entropy \n",
            "[CV]  classifier__n_estimators=250, classifier__min_samples_split=2, classifier__min_samples_leaf=6, classifier__max_features=3, classifier__max_depth=5, classifier__criterion=entropy, total=  12.9s\n",
            "[CV] classifier__n_estimators=250, classifier__min_samples_split=20, classifier__min_samples_leaf=6, classifier__max_features=3, classifier__max_depth=5, classifier__criterion=gini \n",
            "[CV]  classifier__n_estimators=250, classifier__min_samples_split=20, classifier__min_samples_leaf=6, classifier__max_features=3, classifier__max_depth=5, classifier__criterion=gini, total=  11.3s\n",
            "[CV] classifier__n_estimators=250, classifier__min_samples_split=20, classifier__min_samples_leaf=6, classifier__max_features=3, classifier__max_depth=5, classifier__criterion=gini \n",
            "[CV]  classifier__n_estimators=250, classifier__min_samples_split=20, classifier__min_samples_leaf=6, classifier__max_features=3, classifier__max_depth=5, classifier__criterion=gini, total=  11.3s\n",
            "[CV] classifier__n_estimators=250, classifier__min_samples_split=20, classifier__min_samples_leaf=6, classifier__max_features=3, classifier__max_depth=5, classifier__criterion=gini \n",
            "[CV]  classifier__n_estimators=250, classifier__min_samples_split=20, classifier__min_samples_leaf=6, classifier__max_features=3, classifier__max_depth=5, classifier__criterion=gini, total=  11.4s\n",
            "[CV] classifier__n_estimators=250, classifier__min_samples_split=20, classifier__min_samples_leaf=6, classifier__max_features=3, classifier__max_depth=5, classifier__criterion=gini \n",
            "[CV]  classifier__n_estimators=250, classifier__min_samples_split=20, classifier__min_samples_leaf=6, classifier__max_features=3, classifier__max_depth=5, classifier__criterion=gini, total=  11.4s\n",
            "[CV] classifier__n_estimators=250, classifier__min_samples_split=20, classifier__min_samples_leaf=6, classifier__max_features=3, classifier__max_depth=5, classifier__criterion=gini \n",
            "[CV]  classifier__n_estimators=250, classifier__min_samples_split=20, classifier__min_samples_leaf=6, classifier__max_features=3, classifier__max_depth=5, classifier__criterion=gini, total=  11.3s\n",
            "[CV] classifier__n_estimators=150, classifier__min_samples_split=2, classifier__min_samples_leaf=10, classifier__max_features=5, classifier__max_depth=5, classifier__criterion=entropy \n",
            "[CV]  classifier__n_estimators=150, classifier__min_samples_split=2, classifier__min_samples_leaf=10, classifier__max_features=5, classifier__max_depth=5, classifier__criterion=entropy, total=  10.7s\n",
            "[CV] classifier__n_estimators=150, classifier__min_samples_split=2, classifier__min_samples_leaf=10, classifier__max_features=5, classifier__max_depth=5, classifier__criterion=entropy \n",
            "[CV]  classifier__n_estimators=150, classifier__min_samples_split=2, classifier__min_samples_leaf=10, classifier__max_features=5, classifier__max_depth=5, classifier__criterion=entropy, total=  11.0s\n",
            "[CV] classifier__n_estimators=150, classifier__min_samples_split=2, classifier__min_samples_leaf=10, classifier__max_features=5, classifier__max_depth=5, classifier__criterion=entropy \n",
            "[CV]  classifier__n_estimators=150, classifier__min_samples_split=2, classifier__min_samples_leaf=10, classifier__max_features=5, classifier__max_depth=5, classifier__criterion=entropy, total=  10.9s\n",
            "[CV] classifier__n_estimators=150, classifier__min_samples_split=2, classifier__min_samples_leaf=10, classifier__max_features=5, classifier__max_depth=5, classifier__criterion=entropy \n",
            "[CV]  classifier__n_estimators=150, classifier__min_samples_split=2, classifier__min_samples_leaf=10, classifier__max_features=5, classifier__max_depth=5, classifier__criterion=entropy, total=  11.0s\n",
            "[CV] classifier__n_estimators=150, classifier__min_samples_split=2, classifier__min_samples_leaf=10, classifier__max_features=5, classifier__max_depth=5, classifier__criterion=entropy \n",
            "[CV]  classifier__n_estimators=150, classifier__min_samples_split=2, classifier__min_samples_leaf=10, classifier__max_features=5, classifier__max_depth=5, classifier__criterion=entropy, total=  10.8s\n",
            "[CV] classifier__n_estimators=300, classifier__min_samples_split=20, classifier__min_samples_leaf=6, classifier__max_features=3, classifier__max_depth=5, classifier__criterion=gini \n",
            "[CV]  classifier__n_estimators=300, classifier__min_samples_split=20, classifier__min_samples_leaf=6, classifier__max_features=3, classifier__max_depth=5, classifier__criterion=gini, total=  13.2s\n",
            "[CV] classifier__n_estimators=300, classifier__min_samples_split=20, classifier__min_samples_leaf=6, classifier__max_features=3, classifier__max_depth=5, classifier__criterion=gini \n",
            "[CV]  classifier__n_estimators=300, classifier__min_samples_split=20, classifier__min_samples_leaf=6, classifier__max_features=3, classifier__max_depth=5, classifier__criterion=gini, total=  13.1s\n",
            "[CV] classifier__n_estimators=300, classifier__min_samples_split=20, classifier__min_samples_leaf=6, classifier__max_features=3, classifier__max_depth=5, classifier__criterion=gini \n",
            "[CV]  classifier__n_estimators=300, classifier__min_samples_split=20, classifier__min_samples_leaf=6, classifier__max_features=3, classifier__max_depth=5, classifier__criterion=gini, total=  13.3s\n",
            "[CV] classifier__n_estimators=300, classifier__min_samples_split=20, classifier__min_samples_leaf=6, classifier__max_features=3, classifier__max_depth=5, classifier__criterion=gini \n",
            "[CV]  classifier__n_estimators=300, classifier__min_samples_split=20, classifier__min_samples_leaf=6, classifier__max_features=3, classifier__max_depth=5, classifier__criterion=gini, total=  13.0s\n",
            "[CV] classifier__n_estimators=300, classifier__min_samples_split=20, classifier__min_samples_leaf=6, classifier__max_features=3, classifier__max_depth=5, classifier__criterion=gini \n",
            "[CV]  classifier__n_estimators=300, classifier__min_samples_split=20, classifier__min_samples_leaf=6, classifier__max_features=3, classifier__max_depth=5, classifier__criterion=gini, total=  13.1s\n",
            "[CV] classifier__n_estimators=150, classifier__min_samples_split=2, classifier__min_samples_leaf=8, classifier__max_features=5, classifier__max_depth=5, classifier__criterion=entropy \n",
            "[CV]  classifier__n_estimators=150, classifier__min_samples_split=2, classifier__min_samples_leaf=8, classifier__max_features=5, classifier__max_depth=5, classifier__criterion=entropy, total=  10.8s\n",
            "[CV] classifier__n_estimators=150, classifier__min_samples_split=2, classifier__min_samples_leaf=8, classifier__max_features=5, classifier__max_depth=5, classifier__criterion=entropy \n",
            "[CV]  classifier__n_estimators=150, classifier__min_samples_split=2, classifier__min_samples_leaf=8, classifier__max_features=5, classifier__max_depth=5, classifier__criterion=entropy, total=  11.0s\n",
            "[CV] classifier__n_estimators=150, classifier__min_samples_split=2, classifier__min_samples_leaf=8, classifier__max_features=5, classifier__max_depth=5, classifier__criterion=entropy \n",
            "[CV]  classifier__n_estimators=150, classifier__min_samples_split=2, classifier__min_samples_leaf=8, classifier__max_features=5, classifier__max_depth=5, classifier__criterion=entropy, total=  10.8s\n",
            "[CV] classifier__n_estimators=150, classifier__min_samples_split=2, classifier__min_samples_leaf=8, classifier__max_features=5, classifier__max_depth=5, classifier__criterion=entropy \n",
            "[CV]  classifier__n_estimators=150, classifier__min_samples_split=2, classifier__min_samples_leaf=8, classifier__max_features=5, classifier__max_depth=5, classifier__criterion=entropy, total=  11.0s\n",
            "[CV] classifier__n_estimators=150, classifier__min_samples_split=2, classifier__min_samples_leaf=8, classifier__max_features=5, classifier__max_depth=5, classifier__criterion=entropy \n",
            "[CV]  classifier__n_estimators=150, classifier__min_samples_split=2, classifier__min_samples_leaf=8, classifier__max_features=5, classifier__max_depth=5, classifier__criterion=entropy, total=  11.0s\n",
            "[CV] classifier__n_estimators=250, classifier__min_samples_split=2, classifier__min_samples_leaf=10, classifier__max_features=7, classifier__max_depth=8, classifier__criterion=gini \n",
            "[CV]  classifier__n_estimators=250, classifier__min_samples_split=2, classifier__min_samples_leaf=10, classifier__max_features=7, classifier__max_depth=8, classifier__criterion=gini, total=  24.4s\n",
            "[CV] classifier__n_estimators=250, classifier__min_samples_split=2, classifier__min_samples_leaf=10, classifier__max_features=7, classifier__max_depth=8, classifier__criterion=gini \n",
            "[CV]  classifier__n_estimators=250, classifier__min_samples_split=2, classifier__min_samples_leaf=10, classifier__max_features=7, classifier__max_depth=8, classifier__criterion=gini, total=  24.3s\n",
            "[CV] classifier__n_estimators=250, classifier__min_samples_split=2, classifier__min_samples_leaf=10, classifier__max_features=7, classifier__max_depth=8, classifier__criterion=gini \n",
            "[CV]  classifier__n_estimators=250, classifier__min_samples_split=2, classifier__min_samples_leaf=10, classifier__max_features=7, classifier__max_depth=8, classifier__criterion=gini, total=  24.0s\n",
            "[CV] classifier__n_estimators=250, classifier__min_samples_split=2, classifier__min_samples_leaf=10, classifier__max_features=7, classifier__max_depth=8, classifier__criterion=gini \n",
            "[CV]  classifier__n_estimators=250, classifier__min_samples_split=2, classifier__min_samples_leaf=10, classifier__max_features=7, classifier__max_depth=8, classifier__criterion=gini, total=  24.0s\n",
            "[CV] classifier__n_estimators=250, classifier__min_samples_split=2, classifier__min_samples_leaf=10, classifier__max_features=7, classifier__max_depth=8, classifier__criterion=gini \n",
            "[CV]  classifier__n_estimators=250, classifier__min_samples_split=2, classifier__min_samples_leaf=10, classifier__max_features=7, classifier__max_depth=8, classifier__criterion=gini, total=  24.0s\n",
            "[CV] classifier__n_estimators=250, classifier__min_samples_split=10, classifier__min_samples_leaf=8, classifier__max_features=3, classifier__max_depth=5, classifier__criterion=gini \n",
            "[CV]  classifier__n_estimators=250, classifier__min_samples_split=10, classifier__min_samples_leaf=8, classifier__max_features=3, classifier__max_depth=5, classifier__criterion=gini, total=  11.3s\n",
            "[CV] classifier__n_estimators=250, classifier__min_samples_split=10, classifier__min_samples_leaf=8, classifier__max_features=3, classifier__max_depth=5, classifier__criterion=gini \n",
            "[CV]  classifier__n_estimators=250, classifier__min_samples_split=10, classifier__min_samples_leaf=8, classifier__max_features=3, classifier__max_depth=5, classifier__criterion=gini, total=  11.2s\n",
            "[CV] classifier__n_estimators=250, classifier__min_samples_split=10, classifier__min_samples_leaf=8, classifier__max_features=3, classifier__max_depth=5, classifier__criterion=gini \n",
            "[CV]  classifier__n_estimators=250, classifier__min_samples_split=10, classifier__min_samples_leaf=8, classifier__max_features=3, classifier__max_depth=5, classifier__criterion=gini, total=  11.3s\n",
            "[CV] classifier__n_estimators=250, classifier__min_samples_split=10, classifier__min_samples_leaf=8, classifier__max_features=3, classifier__max_depth=5, classifier__criterion=gini \n",
            "[CV]  classifier__n_estimators=250, classifier__min_samples_split=10, classifier__min_samples_leaf=8, classifier__max_features=3, classifier__max_depth=5, classifier__criterion=gini, total=  11.4s\n",
            "[CV] classifier__n_estimators=250, classifier__min_samples_split=10, classifier__min_samples_leaf=8, classifier__max_features=3, classifier__max_depth=5, classifier__criterion=gini \n",
            "[CV]  classifier__n_estimators=250, classifier__min_samples_split=10, classifier__min_samples_leaf=8, classifier__max_features=3, classifier__max_depth=5, classifier__criterion=gini, total=  11.2s\n",
            "[CV] classifier__n_estimators=150, classifier__min_samples_split=20, classifier__min_samples_leaf=10, classifier__max_features=5, classifier__max_depth=8, classifier__criterion=entropy \n",
            "[CV]  classifier__n_estimators=150, classifier__min_samples_split=20, classifier__min_samples_leaf=10, classifier__max_features=5, classifier__max_depth=8, classifier__criterion=entropy, total=  15.4s\n",
            "[CV] classifier__n_estimators=150, classifier__min_samples_split=20, classifier__min_samples_leaf=10, classifier__max_features=5, classifier__max_depth=8, classifier__criterion=entropy \n",
            "[CV]  classifier__n_estimators=150, classifier__min_samples_split=20, classifier__min_samples_leaf=10, classifier__max_features=5, classifier__max_depth=8, classifier__criterion=entropy, total=  15.2s\n",
            "[CV] classifier__n_estimators=150, classifier__min_samples_split=20, classifier__min_samples_leaf=10, classifier__max_features=5, classifier__max_depth=8, classifier__criterion=entropy \n",
            "[CV]  classifier__n_estimators=150, classifier__min_samples_split=20, classifier__min_samples_leaf=10, classifier__max_features=5, classifier__max_depth=8, classifier__criterion=entropy, total=  14.9s\n",
            "[CV] classifier__n_estimators=150, classifier__min_samples_split=20, classifier__min_samples_leaf=10, classifier__max_features=5, classifier__max_depth=8, classifier__criterion=entropy \n",
            "[CV]  classifier__n_estimators=150, classifier__min_samples_split=20, classifier__min_samples_leaf=10, classifier__max_features=5, classifier__max_depth=8, classifier__criterion=entropy, total=  15.2s\n",
            "[CV] classifier__n_estimators=150, classifier__min_samples_split=20, classifier__min_samples_leaf=10, classifier__max_features=5, classifier__max_depth=8, classifier__criterion=entropy \n",
            "[CV]  classifier__n_estimators=150, classifier__min_samples_split=20, classifier__min_samples_leaf=10, classifier__max_features=5, classifier__max_depth=8, classifier__criterion=entropy, total=  15.2s\n",
            "[CV] classifier__n_estimators=250, classifier__min_samples_split=2, classifier__min_samples_leaf=6, classifier__max_features=7, classifier__max_depth=10, classifier__criterion=entropy \n",
            "[CV]  classifier__n_estimators=250, classifier__min_samples_split=2, classifier__min_samples_leaf=6, classifier__max_features=7, classifier__max_depth=10, classifier__criterion=entropy, total=  36.8s\n",
            "[CV] classifier__n_estimators=250, classifier__min_samples_split=2, classifier__min_samples_leaf=6, classifier__max_features=7, classifier__max_depth=10, classifier__criterion=entropy \n",
            "[CV]  classifier__n_estimators=250, classifier__min_samples_split=2, classifier__min_samples_leaf=6, classifier__max_features=7, classifier__max_depth=10, classifier__criterion=entropy, total=  37.4s\n",
            "[CV] classifier__n_estimators=250, classifier__min_samples_split=2, classifier__min_samples_leaf=6, classifier__max_features=7, classifier__max_depth=10, classifier__criterion=entropy \n",
            "[CV]  classifier__n_estimators=250, classifier__min_samples_split=2, classifier__min_samples_leaf=6, classifier__max_features=7, classifier__max_depth=10, classifier__criterion=entropy, total=  38.7s\n",
            "[CV] classifier__n_estimators=250, classifier__min_samples_split=2, classifier__min_samples_leaf=6, classifier__max_features=7, classifier__max_depth=10, classifier__criterion=entropy \n",
            "[CV]  classifier__n_estimators=250, classifier__min_samples_split=2, classifier__min_samples_leaf=6, classifier__max_features=7, classifier__max_depth=10, classifier__criterion=entropy, total=  38.1s\n",
            "[CV] classifier__n_estimators=250, classifier__min_samples_split=2, classifier__min_samples_leaf=6, classifier__max_features=7, classifier__max_depth=10, classifier__criterion=entropy \n",
            "[CV]  classifier__n_estimators=250, classifier__min_samples_split=2, classifier__min_samples_leaf=6, classifier__max_features=7, classifier__max_depth=10, classifier__criterion=entropy, total=  37.6s\n",
            "[CV] classifier__n_estimators=150, classifier__min_samples_split=10, classifier__min_samples_leaf=4, classifier__max_features=7, classifier__max_depth=8, classifier__criterion=gini \n",
            "[CV]  classifier__n_estimators=150, classifier__min_samples_split=10, classifier__min_samples_leaf=4, classifier__max_features=7, classifier__max_depth=8, classifier__criterion=gini, total=  15.9s\n",
            "[CV] classifier__n_estimators=150, classifier__min_samples_split=10, classifier__min_samples_leaf=4, classifier__max_features=7, classifier__max_depth=8, classifier__criterion=gini \n",
            "[CV]  classifier__n_estimators=150, classifier__min_samples_split=10, classifier__min_samples_leaf=4, classifier__max_features=7, classifier__max_depth=8, classifier__criterion=gini, total=  15.8s\n",
            "[CV] classifier__n_estimators=150, classifier__min_samples_split=10, classifier__min_samples_leaf=4, classifier__max_features=7, classifier__max_depth=8, classifier__criterion=gini \n",
            "[CV]  classifier__n_estimators=150, classifier__min_samples_split=10, classifier__min_samples_leaf=4, classifier__max_features=7, classifier__max_depth=8, classifier__criterion=gini, total=  15.8s\n",
            "[CV] classifier__n_estimators=150, classifier__min_samples_split=10, classifier__min_samples_leaf=4, classifier__max_features=7, classifier__max_depth=8, classifier__criterion=gini \n",
            "[CV]  classifier__n_estimators=150, classifier__min_samples_split=10, classifier__min_samples_leaf=4, classifier__max_features=7, classifier__max_depth=8, classifier__criterion=gini, total=  15.7s\n",
            "[CV] classifier__n_estimators=150, classifier__min_samples_split=10, classifier__min_samples_leaf=4, classifier__max_features=7, classifier__max_depth=8, classifier__criterion=gini \n",
            "[CV]  classifier__n_estimators=150, classifier__min_samples_split=10, classifier__min_samples_leaf=4, classifier__max_features=7, classifier__max_depth=8, classifier__criterion=gini, total=  15.8s\n",
            "[CV] classifier__n_estimators=250, classifier__min_samples_split=10, classifier__min_samples_leaf=10, classifier__max_features=3, classifier__max_depth=5, classifier__criterion=entropy \n",
            "[CV]  classifier__n_estimators=250, classifier__min_samples_split=10, classifier__min_samples_leaf=10, classifier__max_features=3, classifier__max_depth=5, classifier__criterion=entropy, total=  12.9s\n",
            "[CV] classifier__n_estimators=250, classifier__min_samples_split=10, classifier__min_samples_leaf=10, classifier__max_features=3, classifier__max_depth=5, classifier__criterion=entropy \n",
            "[CV]  classifier__n_estimators=250, classifier__min_samples_split=10, classifier__min_samples_leaf=10, classifier__max_features=3, classifier__max_depth=5, classifier__criterion=entropy, total=  13.0s\n",
            "[CV] classifier__n_estimators=250, classifier__min_samples_split=10, classifier__min_samples_leaf=10, classifier__max_features=3, classifier__max_depth=5, classifier__criterion=entropy \n",
            "[CV]  classifier__n_estimators=250, classifier__min_samples_split=10, classifier__min_samples_leaf=10, classifier__max_features=3, classifier__max_depth=5, classifier__criterion=entropy, total=  12.8s\n",
            "[CV] classifier__n_estimators=250, classifier__min_samples_split=10, classifier__min_samples_leaf=10, classifier__max_features=3, classifier__max_depth=5, classifier__criterion=entropy \n",
            "[CV]  classifier__n_estimators=250, classifier__min_samples_split=10, classifier__min_samples_leaf=10, classifier__max_features=3, classifier__max_depth=5, classifier__criterion=entropy, total=  12.9s\n",
            "[CV] classifier__n_estimators=250, classifier__min_samples_split=10, classifier__min_samples_leaf=10, classifier__max_features=3, classifier__max_depth=5, classifier__criterion=entropy \n",
            "[CV]  classifier__n_estimators=250, classifier__min_samples_split=10, classifier__min_samples_leaf=10, classifier__max_features=3, classifier__max_depth=5, classifier__criterion=entropy, total=  12.8s\n",
            "[CV] classifier__n_estimators=250, classifier__min_samples_split=2, classifier__min_samples_leaf=6, classifier__max_features=7, classifier__max_depth=10, classifier__criterion=gini \n",
            "[CV]  classifier__n_estimators=250, classifier__min_samples_split=2, classifier__min_samples_leaf=6, classifier__max_features=7, classifier__max_depth=10, classifier__criterion=gini, total=  28.4s\n",
            "[CV] classifier__n_estimators=250, classifier__min_samples_split=2, classifier__min_samples_leaf=6, classifier__max_features=7, classifier__max_depth=10, classifier__criterion=gini \n",
            "[CV]  classifier__n_estimators=250, classifier__min_samples_split=2, classifier__min_samples_leaf=6, classifier__max_features=7, classifier__max_depth=10, classifier__criterion=gini, total=  29.2s\n",
            "[CV] classifier__n_estimators=250, classifier__min_samples_split=2, classifier__min_samples_leaf=6, classifier__max_features=7, classifier__max_depth=10, classifier__criterion=gini \n",
            "[CV]  classifier__n_estimators=250, classifier__min_samples_split=2, classifier__min_samples_leaf=6, classifier__max_features=7, classifier__max_depth=10, classifier__criterion=gini, total=  29.3s\n",
            "[CV] classifier__n_estimators=250, classifier__min_samples_split=2, classifier__min_samples_leaf=6, classifier__max_features=7, classifier__max_depth=10, classifier__criterion=gini \n",
            "[CV]  classifier__n_estimators=250, classifier__min_samples_split=2, classifier__min_samples_leaf=6, classifier__max_features=7, classifier__max_depth=10, classifier__criterion=gini, total=  29.6s\n",
            "[CV] classifier__n_estimators=250, classifier__min_samples_split=2, classifier__min_samples_leaf=6, classifier__max_features=7, classifier__max_depth=10, classifier__criterion=gini \n",
            "[CV]  classifier__n_estimators=250, classifier__min_samples_split=2, classifier__min_samples_leaf=6, classifier__max_features=7, classifier__max_depth=10, classifier__criterion=gini, total=  29.3s\n",
            "[CV] classifier__n_estimators=250, classifier__min_samples_split=2, classifier__min_samples_leaf=8, classifier__max_features=5, classifier__max_depth=5, classifier__criterion=entropy \n",
            "[CV]  classifier__n_estimators=250, classifier__min_samples_split=2, classifier__min_samples_leaf=8, classifier__max_features=5, classifier__max_depth=5, classifier__criterion=entropy, total=  17.1s\n",
            "[CV] classifier__n_estimators=250, classifier__min_samples_split=2, classifier__min_samples_leaf=8, classifier__max_features=5, classifier__max_depth=5, classifier__criterion=entropy \n",
            "[CV]  classifier__n_estimators=250, classifier__min_samples_split=2, classifier__min_samples_leaf=8, classifier__max_features=5, classifier__max_depth=5, classifier__criterion=entropy, total=  17.0s\n",
            "[CV] classifier__n_estimators=250, classifier__min_samples_split=2, classifier__min_samples_leaf=8, classifier__max_features=5, classifier__max_depth=5, classifier__criterion=entropy \n",
            "[CV]  classifier__n_estimators=250, classifier__min_samples_split=2, classifier__min_samples_leaf=8, classifier__max_features=5, classifier__max_depth=5, classifier__criterion=entropy, total=  16.7s\n",
            "[CV] classifier__n_estimators=250, classifier__min_samples_split=2, classifier__min_samples_leaf=8, classifier__max_features=5, classifier__max_depth=5, classifier__criterion=entropy \n",
            "[CV]  classifier__n_estimators=250, classifier__min_samples_split=2, classifier__min_samples_leaf=8, classifier__max_features=5, classifier__max_depth=5, classifier__criterion=entropy, total=  17.3s\n",
            "[CV] classifier__n_estimators=250, classifier__min_samples_split=2, classifier__min_samples_leaf=8, classifier__max_features=5, classifier__max_depth=5, classifier__criterion=entropy \n",
            "[CV]  classifier__n_estimators=250, classifier__min_samples_split=2, classifier__min_samples_leaf=8, classifier__max_features=5, classifier__max_depth=5, classifier__criterion=entropy, total=  17.0s\n",
            "[CV] classifier__n_estimators=150, classifier__min_samples_split=10, classifier__min_samples_leaf=10, classifier__max_features=5, classifier__max_depth=8, classifier__criterion=entropy \n",
            "[CV]  classifier__n_estimators=150, classifier__min_samples_split=10, classifier__min_samples_leaf=10, classifier__max_features=5, classifier__max_depth=8, classifier__criterion=entropy, total=  15.4s\n",
            "[CV] classifier__n_estimators=150, classifier__min_samples_split=10, classifier__min_samples_leaf=10, classifier__max_features=5, classifier__max_depth=8, classifier__criterion=entropy \n",
            "[CV]  classifier__n_estimators=150, classifier__min_samples_split=10, classifier__min_samples_leaf=10, classifier__max_features=5, classifier__max_depth=8, classifier__criterion=entropy, total=  15.5s\n",
            "[CV] classifier__n_estimators=150, classifier__min_samples_split=10, classifier__min_samples_leaf=10, classifier__max_features=5, classifier__max_depth=8, classifier__criterion=entropy \n",
            "[CV]  classifier__n_estimators=150, classifier__min_samples_split=10, classifier__min_samples_leaf=10, classifier__max_features=5, classifier__max_depth=8, classifier__criterion=entropy, total=  15.6s\n",
            "[CV] classifier__n_estimators=150, classifier__min_samples_split=10, classifier__min_samples_leaf=10, classifier__max_features=5, classifier__max_depth=8, classifier__criterion=entropy \n",
            "[CV]  classifier__n_estimators=150, classifier__min_samples_split=10, classifier__min_samples_leaf=10, classifier__max_features=5, classifier__max_depth=8, classifier__criterion=entropy, total=  15.3s\n",
            "[CV] classifier__n_estimators=150, classifier__min_samples_split=10, classifier__min_samples_leaf=10, classifier__max_features=5, classifier__max_depth=8, classifier__criterion=entropy \n",
            "[CV]  classifier__n_estimators=150, classifier__min_samples_split=10, classifier__min_samples_leaf=10, classifier__max_features=5, classifier__max_depth=8, classifier__criterion=entropy, total=  15.6s\n",
            "[CV] classifier__n_estimators=250, classifier__min_samples_split=2, classifier__min_samples_leaf=6, classifier__max_features=5, classifier__max_depth=8, classifier__criterion=gini \n",
            "[CV]  classifier__n_estimators=250, classifier__min_samples_split=2, classifier__min_samples_leaf=6, classifier__max_features=5, classifier__max_depth=8, classifier__criterion=gini, total=  20.1s\n",
            "[CV] classifier__n_estimators=250, classifier__min_samples_split=2, classifier__min_samples_leaf=6, classifier__max_features=5, classifier__max_depth=8, classifier__criterion=gini \n",
            "[CV]  classifier__n_estimators=250, classifier__min_samples_split=2, classifier__min_samples_leaf=6, classifier__max_features=5, classifier__max_depth=8, classifier__criterion=gini, total=  20.3s\n",
            "[CV] classifier__n_estimators=250, classifier__min_samples_split=2, classifier__min_samples_leaf=6, classifier__max_features=5, classifier__max_depth=8, classifier__criterion=gini \n",
            "[CV]  classifier__n_estimators=250, classifier__min_samples_split=2, classifier__min_samples_leaf=6, classifier__max_features=5, classifier__max_depth=8, classifier__criterion=gini, total=  19.1s\n",
            "[CV] classifier__n_estimators=250, classifier__min_samples_split=2, classifier__min_samples_leaf=6, classifier__max_features=5, classifier__max_depth=8, classifier__criterion=gini \n",
            "[CV]  classifier__n_estimators=250, classifier__min_samples_split=2, classifier__min_samples_leaf=6, classifier__max_features=5, classifier__max_depth=8, classifier__criterion=gini, total=  19.3s\n",
            "[CV] classifier__n_estimators=250, classifier__min_samples_split=2, classifier__min_samples_leaf=6, classifier__max_features=5, classifier__max_depth=8, classifier__criterion=gini \n",
            "[CV]  classifier__n_estimators=250, classifier__min_samples_split=2, classifier__min_samples_leaf=6, classifier__max_features=5, classifier__max_depth=8, classifier__criterion=gini, total=  19.3s\n",
            "[CV] classifier__n_estimators=300, classifier__min_samples_split=20, classifier__min_samples_leaf=4, classifier__max_features=3, classifier__max_depth=10, classifier__criterion=gini \n",
            "[CV]  classifier__n_estimators=300, classifier__min_samples_split=20, classifier__min_samples_leaf=4, classifier__max_features=3, classifier__max_depth=10, classifier__criterion=gini, total=  19.9s\n",
            "[CV] classifier__n_estimators=300, classifier__min_samples_split=20, classifier__min_samples_leaf=4, classifier__max_features=3, classifier__max_depth=10, classifier__criterion=gini \n",
            "[CV]  classifier__n_estimators=300, classifier__min_samples_split=20, classifier__min_samples_leaf=4, classifier__max_features=3, classifier__max_depth=10, classifier__criterion=gini, total=  20.2s\n",
            "[CV] classifier__n_estimators=300, classifier__min_samples_split=20, classifier__min_samples_leaf=4, classifier__max_features=3, classifier__max_depth=10, classifier__criterion=gini \n",
            "[CV]  classifier__n_estimators=300, classifier__min_samples_split=20, classifier__min_samples_leaf=4, classifier__max_features=3, classifier__max_depth=10, classifier__criterion=gini, total=  20.1s\n",
            "[CV] classifier__n_estimators=300, classifier__min_samples_split=20, classifier__min_samples_leaf=4, classifier__max_features=3, classifier__max_depth=10, classifier__criterion=gini \n",
            "[CV]  classifier__n_estimators=300, classifier__min_samples_split=20, classifier__min_samples_leaf=4, classifier__max_features=3, classifier__max_depth=10, classifier__criterion=gini, total=  20.3s\n",
            "[CV] classifier__n_estimators=300, classifier__min_samples_split=20, classifier__min_samples_leaf=4, classifier__max_features=3, classifier__max_depth=10, classifier__criterion=gini \n",
            "[CV]  classifier__n_estimators=300, classifier__min_samples_split=20, classifier__min_samples_leaf=4, classifier__max_features=3, classifier__max_depth=10, classifier__criterion=gini, total=  20.0s\n",
            "[CV] classifier__n_estimators=300, classifier__min_samples_split=2, classifier__min_samples_leaf=10, classifier__max_features=7, classifier__max_depth=8, classifier__criterion=entropy \n",
            "[CV]  classifier__n_estimators=300, classifier__min_samples_split=2, classifier__min_samples_leaf=10, classifier__max_features=7, classifier__max_depth=8, classifier__criterion=entropy, total=  36.5s\n",
            "[CV] classifier__n_estimators=300, classifier__min_samples_split=2, classifier__min_samples_leaf=10, classifier__max_features=7, classifier__max_depth=8, classifier__criterion=entropy \n",
            "[CV]  classifier__n_estimators=300, classifier__min_samples_split=2, classifier__min_samples_leaf=10, classifier__max_features=7, classifier__max_depth=8, classifier__criterion=entropy, total=  36.4s\n",
            "[CV] classifier__n_estimators=300, classifier__min_samples_split=2, classifier__min_samples_leaf=10, classifier__max_features=7, classifier__max_depth=8, classifier__criterion=entropy \n",
            "[CV]  classifier__n_estimators=300, classifier__min_samples_split=2, classifier__min_samples_leaf=10, classifier__max_features=7, classifier__max_depth=8, classifier__criterion=entropy, total=  36.2s\n",
            "[CV] classifier__n_estimators=300, classifier__min_samples_split=2, classifier__min_samples_leaf=10, classifier__max_features=7, classifier__max_depth=8, classifier__criterion=entropy \n",
            "[CV]  classifier__n_estimators=300, classifier__min_samples_split=2, classifier__min_samples_leaf=10, classifier__max_features=7, classifier__max_depth=8, classifier__criterion=entropy, total=  36.7s\n",
            "[CV] classifier__n_estimators=300, classifier__min_samples_split=2, classifier__min_samples_leaf=10, classifier__max_features=7, classifier__max_depth=8, classifier__criterion=entropy \n",
            "[CV]  classifier__n_estimators=300, classifier__min_samples_split=2, classifier__min_samples_leaf=10, classifier__max_features=7, classifier__max_depth=8, classifier__criterion=entropy, total=  36.5s\n",
            "[CV] classifier__n_estimators=300, classifier__min_samples_split=2, classifier__min_samples_leaf=4, classifier__max_features=3, classifier__max_depth=8, classifier__criterion=entropy \n",
            "[CV]  classifier__n_estimators=300, classifier__min_samples_split=2, classifier__min_samples_leaf=4, classifier__max_features=3, classifier__max_depth=8, classifier__criterion=entropy, total=  20.4s\n",
            "[CV] classifier__n_estimators=300, classifier__min_samples_split=2, classifier__min_samples_leaf=4, classifier__max_features=3, classifier__max_depth=8, classifier__criterion=entropy \n",
            "[CV]  classifier__n_estimators=300, classifier__min_samples_split=2, classifier__min_samples_leaf=4, classifier__max_features=3, classifier__max_depth=8, classifier__criterion=entropy, total=  20.4s\n",
            "[CV] classifier__n_estimators=300, classifier__min_samples_split=2, classifier__min_samples_leaf=4, classifier__max_features=3, classifier__max_depth=8, classifier__criterion=entropy \n",
            "[CV]  classifier__n_estimators=300, classifier__min_samples_split=2, classifier__min_samples_leaf=4, classifier__max_features=3, classifier__max_depth=8, classifier__criterion=entropy, total=  20.5s\n",
            "[CV] classifier__n_estimators=300, classifier__min_samples_split=2, classifier__min_samples_leaf=4, classifier__max_features=3, classifier__max_depth=8, classifier__criterion=entropy \n",
            "[CV]  classifier__n_estimators=300, classifier__min_samples_split=2, classifier__min_samples_leaf=4, classifier__max_features=3, classifier__max_depth=8, classifier__criterion=entropy, total=  20.4s\n",
            "[CV] classifier__n_estimators=300, classifier__min_samples_split=2, classifier__min_samples_leaf=4, classifier__max_features=3, classifier__max_depth=8, classifier__criterion=entropy \n",
            "[CV]  classifier__n_estimators=300, classifier__min_samples_split=2, classifier__min_samples_leaf=4, classifier__max_features=3, classifier__max_depth=8, classifier__criterion=entropy, total=  20.5s\n",
            "[CV] classifier__n_estimators=150, classifier__min_samples_split=20, classifier__min_samples_leaf=6, classifier__max_features=5, classifier__max_depth=5, classifier__criterion=gini \n",
            "[CV]  classifier__n_estimators=150, classifier__min_samples_split=20, classifier__min_samples_leaf=6, classifier__max_features=5, classifier__max_depth=5, classifier__criterion=gini, total=   9.4s\n",
            "[CV] classifier__n_estimators=150, classifier__min_samples_split=20, classifier__min_samples_leaf=6, classifier__max_features=5, classifier__max_depth=5, classifier__criterion=gini \n",
            "[CV]  classifier__n_estimators=150, classifier__min_samples_split=20, classifier__min_samples_leaf=6, classifier__max_features=5, classifier__max_depth=5, classifier__criterion=gini, total=   9.5s\n",
            "[CV] classifier__n_estimators=150, classifier__min_samples_split=20, classifier__min_samples_leaf=6, classifier__max_features=5, classifier__max_depth=5, classifier__criterion=gini \n",
            "[CV]  classifier__n_estimators=150, classifier__min_samples_split=20, classifier__min_samples_leaf=6, classifier__max_features=5, classifier__max_depth=5, classifier__criterion=gini, total=   9.5s\n",
            "[CV] classifier__n_estimators=150, classifier__min_samples_split=20, classifier__min_samples_leaf=6, classifier__max_features=5, classifier__max_depth=5, classifier__criterion=gini \n",
            "[CV]  classifier__n_estimators=150, classifier__min_samples_split=20, classifier__min_samples_leaf=6, classifier__max_features=5, classifier__max_depth=5, classifier__criterion=gini, total=   9.6s\n",
            "[CV] classifier__n_estimators=150, classifier__min_samples_split=20, classifier__min_samples_leaf=6, classifier__max_features=5, classifier__max_depth=5, classifier__criterion=gini \n",
            "[CV]  classifier__n_estimators=150, classifier__min_samples_split=20, classifier__min_samples_leaf=6, classifier__max_features=5, classifier__max_depth=5, classifier__criterion=gini, total=   9.5s\n",
            "[CV] classifier__n_estimators=150, classifier__min_samples_split=10, classifier__min_samples_leaf=10, classifier__max_features=7, classifier__max_depth=8, classifier__criterion=entropy \n",
            "[CV]  classifier__n_estimators=150, classifier__min_samples_split=10, classifier__min_samples_leaf=10, classifier__max_features=7, classifier__max_depth=8, classifier__criterion=entropy, total=  19.0s\n",
            "[CV] classifier__n_estimators=150, classifier__min_samples_split=10, classifier__min_samples_leaf=10, classifier__max_features=7, classifier__max_depth=8, classifier__criterion=entropy \n",
            "[CV]  classifier__n_estimators=150, classifier__min_samples_split=10, classifier__min_samples_leaf=10, classifier__max_features=7, classifier__max_depth=8, classifier__criterion=entropy, total=  18.8s\n",
            "[CV] classifier__n_estimators=150, classifier__min_samples_split=10, classifier__min_samples_leaf=10, classifier__max_features=7, classifier__max_depth=8, classifier__criterion=entropy \n",
            "[CV]  classifier__n_estimators=150, classifier__min_samples_split=10, classifier__min_samples_leaf=10, classifier__max_features=7, classifier__max_depth=8, classifier__criterion=entropy, total=  19.1s\n",
            "[CV] classifier__n_estimators=150, classifier__min_samples_split=10, classifier__min_samples_leaf=10, classifier__max_features=7, classifier__max_depth=8, classifier__criterion=entropy \n",
            "[CV]  classifier__n_estimators=150, classifier__min_samples_split=10, classifier__min_samples_leaf=10, classifier__max_features=7, classifier__max_depth=8, classifier__criterion=entropy, total=  19.1s\n",
            "[CV] classifier__n_estimators=150, classifier__min_samples_split=10, classifier__min_samples_leaf=10, classifier__max_features=7, classifier__max_depth=8, classifier__criterion=entropy \n",
            "[CV]  classifier__n_estimators=150, classifier__min_samples_split=10, classifier__min_samples_leaf=10, classifier__max_features=7, classifier__max_depth=8, classifier__criterion=entropy, total=  19.2s\n",
            "[CV] classifier__n_estimators=300, classifier__min_samples_split=10, classifier__min_samples_leaf=6, classifier__max_features=5, classifier__max_depth=8, classifier__criterion=entropy \n",
            "[CV]  classifier__n_estimators=300, classifier__min_samples_split=10, classifier__min_samples_leaf=6, classifier__max_features=5, classifier__max_depth=8, classifier__criterion=entropy, total=  28.7s\n",
            "[CV] classifier__n_estimators=300, classifier__min_samples_split=10, classifier__min_samples_leaf=6, classifier__max_features=5, classifier__max_depth=8, classifier__criterion=entropy \n",
            "[CV]  classifier__n_estimators=300, classifier__min_samples_split=10, classifier__min_samples_leaf=6, classifier__max_features=5, classifier__max_depth=8, classifier__criterion=entropy, total=  28.7s\n",
            "[CV] classifier__n_estimators=300, classifier__min_samples_split=10, classifier__min_samples_leaf=6, classifier__max_features=5, classifier__max_depth=8, classifier__criterion=entropy \n",
            "[CV]  classifier__n_estimators=300, classifier__min_samples_split=10, classifier__min_samples_leaf=6, classifier__max_features=5, classifier__max_depth=8, classifier__criterion=entropy, total=  28.4s\n",
            "[CV] classifier__n_estimators=300, classifier__min_samples_split=10, classifier__min_samples_leaf=6, classifier__max_features=5, classifier__max_depth=8, classifier__criterion=entropy \n",
            "[CV]  classifier__n_estimators=300, classifier__min_samples_split=10, classifier__min_samples_leaf=6, classifier__max_features=5, classifier__max_depth=8, classifier__criterion=entropy, total=  28.3s\n",
            "[CV] classifier__n_estimators=300, classifier__min_samples_split=10, classifier__min_samples_leaf=6, classifier__max_features=5, classifier__max_depth=8, classifier__criterion=entropy \n",
            "[CV]  classifier__n_estimators=300, classifier__min_samples_split=10, classifier__min_samples_leaf=6, classifier__max_features=5, classifier__max_depth=8, classifier__criterion=entropy, total=  28.4s\n",
            "[CV] classifier__n_estimators=150, classifier__min_samples_split=10, classifier__min_samples_leaf=8, classifier__max_features=5, classifier__max_depth=8, classifier__criterion=entropy \n",
            "[CV]  classifier__n_estimators=150, classifier__min_samples_split=10, classifier__min_samples_leaf=8, classifier__max_features=5, classifier__max_depth=8, classifier__criterion=entropy, total=  15.6s\n",
            "[CV] classifier__n_estimators=150, classifier__min_samples_split=10, classifier__min_samples_leaf=8, classifier__max_features=5, classifier__max_depth=8, classifier__criterion=entropy \n",
            "[CV]  classifier__n_estimators=150, classifier__min_samples_split=10, classifier__min_samples_leaf=8, classifier__max_features=5, classifier__max_depth=8, classifier__criterion=entropy, total=  15.1s\n",
            "[CV] classifier__n_estimators=150, classifier__min_samples_split=10, classifier__min_samples_leaf=8, classifier__max_features=5, classifier__max_depth=8, classifier__criterion=entropy \n",
            "[CV]  classifier__n_estimators=150, classifier__min_samples_split=10, classifier__min_samples_leaf=8, classifier__max_features=5, classifier__max_depth=8, classifier__criterion=entropy, total=  15.1s\n",
            "[CV] classifier__n_estimators=150, classifier__min_samples_split=10, classifier__min_samples_leaf=8, classifier__max_features=5, classifier__max_depth=8, classifier__criterion=entropy \n",
            "[CV]  classifier__n_estimators=150, classifier__min_samples_split=10, classifier__min_samples_leaf=8, classifier__max_features=5, classifier__max_depth=8, classifier__criterion=entropy, total=  15.0s\n",
            "[CV] classifier__n_estimators=150, classifier__min_samples_split=10, classifier__min_samples_leaf=8, classifier__max_features=5, classifier__max_depth=8, classifier__criterion=entropy \n",
            "[CV]  classifier__n_estimators=150, classifier__min_samples_split=10, classifier__min_samples_leaf=8, classifier__max_features=5, classifier__max_depth=8, classifier__criterion=entropy, total=  15.0s\n",
            "[CV] classifier__n_estimators=250, classifier__min_samples_split=2, classifier__min_samples_leaf=4, classifier__max_features=5, classifier__max_depth=5, classifier__criterion=gini \n",
            "[CV]  classifier__n_estimators=250, classifier__min_samples_split=2, classifier__min_samples_leaf=4, classifier__max_features=5, classifier__max_depth=5, classifier__criterion=gini, total=  14.6s\n",
            "[CV] classifier__n_estimators=250, classifier__min_samples_split=2, classifier__min_samples_leaf=4, classifier__max_features=5, classifier__max_depth=5, classifier__criterion=gini \n",
            "[CV]  classifier__n_estimators=250, classifier__min_samples_split=2, classifier__min_samples_leaf=4, classifier__max_features=5, classifier__max_depth=5, classifier__criterion=gini, total=  14.7s\n",
            "[CV] classifier__n_estimators=250, classifier__min_samples_split=2, classifier__min_samples_leaf=4, classifier__max_features=5, classifier__max_depth=5, classifier__criterion=gini \n",
            "[CV]  classifier__n_estimators=250, classifier__min_samples_split=2, classifier__min_samples_leaf=4, classifier__max_features=5, classifier__max_depth=5, classifier__criterion=gini, total=  14.4s\n",
            "[CV] classifier__n_estimators=250, classifier__min_samples_split=2, classifier__min_samples_leaf=4, classifier__max_features=5, classifier__max_depth=5, classifier__criterion=gini \n",
            "[CV]  classifier__n_estimators=250, classifier__min_samples_split=2, classifier__min_samples_leaf=4, classifier__max_features=5, classifier__max_depth=5, classifier__criterion=gini, total=  14.3s\n",
            "[CV] classifier__n_estimators=250, classifier__min_samples_split=2, classifier__min_samples_leaf=4, classifier__max_features=5, classifier__max_depth=5, classifier__criterion=gini \n",
            "[CV]  classifier__n_estimators=250, classifier__min_samples_split=2, classifier__min_samples_leaf=4, classifier__max_features=5, classifier__max_depth=5, classifier__criterion=gini, total=  14.3s\n",
            "[CV] classifier__n_estimators=150, classifier__min_samples_split=2, classifier__min_samples_leaf=8, classifier__max_features=7, classifier__max_depth=8, classifier__criterion=gini \n",
            "[CV]  classifier__n_estimators=150, classifier__min_samples_split=2, classifier__min_samples_leaf=8, classifier__max_features=7, classifier__max_depth=8, classifier__criterion=gini, total=  15.1s\n",
            "[CV] classifier__n_estimators=150, classifier__min_samples_split=2, classifier__min_samples_leaf=8, classifier__max_features=7, classifier__max_depth=8, classifier__criterion=gini \n",
            "[CV]  classifier__n_estimators=150, classifier__min_samples_split=2, classifier__min_samples_leaf=8, classifier__max_features=7, classifier__max_depth=8, classifier__criterion=gini, total=  15.4s\n",
            "[CV] classifier__n_estimators=150, classifier__min_samples_split=2, classifier__min_samples_leaf=8, classifier__max_features=7, classifier__max_depth=8, classifier__criterion=gini \n",
            "[CV]  classifier__n_estimators=150, classifier__min_samples_split=2, classifier__min_samples_leaf=8, classifier__max_features=7, classifier__max_depth=8, classifier__criterion=gini, total=  15.3s\n",
            "[CV] classifier__n_estimators=150, classifier__min_samples_split=2, classifier__min_samples_leaf=8, classifier__max_features=7, classifier__max_depth=8, classifier__criterion=gini \n",
            "[CV]  classifier__n_estimators=150, classifier__min_samples_split=2, classifier__min_samples_leaf=8, classifier__max_features=7, classifier__max_depth=8, classifier__criterion=gini, total=  15.2s\n",
            "[CV] classifier__n_estimators=150, classifier__min_samples_split=2, classifier__min_samples_leaf=8, classifier__max_features=7, classifier__max_depth=8, classifier__criterion=gini \n",
            "[CV]  classifier__n_estimators=150, classifier__min_samples_split=2, classifier__min_samples_leaf=8, classifier__max_features=7, classifier__max_depth=8, classifier__criterion=gini, total=  15.1s\n",
            "[CV] classifier__n_estimators=250, classifier__min_samples_split=10, classifier__min_samples_leaf=4, classifier__max_features=7, classifier__max_depth=5, classifier__criterion=entropy \n",
            "[CV]  classifier__n_estimators=250, classifier__min_samples_split=10, classifier__min_samples_leaf=4, classifier__max_features=7, classifier__max_depth=5, classifier__criterion=entropy, total=  20.9s\n",
            "[CV] classifier__n_estimators=250, classifier__min_samples_split=10, classifier__min_samples_leaf=4, classifier__max_features=7, classifier__max_depth=5, classifier__criterion=entropy \n",
            "[CV]  classifier__n_estimators=250, classifier__min_samples_split=10, classifier__min_samples_leaf=4, classifier__max_features=7, classifier__max_depth=5, classifier__criterion=entropy, total=  20.9s\n",
            "[CV] classifier__n_estimators=250, classifier__min_samples_split=10, classifier__min_samples_leaf=4, classifier__max_features=7, classifier__max_depth=5, classifier__criterion=entropy \n",
            "[CV]  classifier__n_estimators=250, classifier__min_samples_split=10, classifier__min_samples_leaf=4, classifier__max_features=7, classifier__max_depth=5, classifier__criterion=entropy, total=  21.0s\n",
            "[CV] classifier__n_estimators=250, classifier__min_samples_split=10, classifier__min_samples_leaf=4, classifier__max_features=7, classifier__max_depth=5, classifier__criterion=entropy \n",
            "[CV]  classifier__n_estimators=250, classifier__min_samples_split=10, classifier__min_samples_leaf=4, classifier__max_features=7, classifier__max_depth=5, classifier__criterion=entropy, total=  20.8s\n",
            "[CV] classifier__n_estimators=250, classifier__min_samples_split=10, classifier__min_samples_leaf=4, classifier__max_features=7, classifier__max_depth=5, classifier__criterion=entropy \n",
            "[CV]  classifier__n_estimators=250, classifier__min_samples_split=10, classifier__min_samples_leaf=4, classifier__max_features=7, classifier__max_depth=5, classifier__criterion=entropy, total=  21.1s\n",
            "[CV] classifier__n_estimators=250, classifier__min_samples_split=20, classifier__min_samples_leaf=6, classifier__max_features=5, classifier__max_depth=10, classifier__criterion=gini \n",
            "[CV]  classifier__n_estimators=250, classifier__min_samples_split=20, classifier__min_samples_leaf=6, classifier__max_features=5, classifier__max_depth=10, classifier__criterion=gini, total=  22.3s\n",
            "[CV] classifier__n_estimators=250, classifier__min_samples_split=20, classifier__min_samples_leaf=6, classifier__max_features=5, classifier__max_depth=10, classifier__criterion=gini \n",
            "[CV]  classifier__n_estimators=250, classifier__min_samples_split=20, classifier__min_samples_leaf=6, classifier__max_features=5, classifier__max_depth=10, classifier__criterion=gini, total=  23.5s\n",
            "[CV] classifier__n_estimators=250, classifier__min_samples_split=20, classifier__min_samples_leaf=6, classifier__max_features=5, classifier__max_depth=10, classifier__criterion=gini \n",
            "[CV]  classifier__n_estimators=250, classifier__min_samples_split=20, classifier__min_samples_leaf=6, classifier__max_features=5, classifier__max_depth=10, classifier__criterion=gini, total=  22.9s\n",
            "[CV] classifier__n_estimators=250, classifier__min_samples_split=20, classifier__min_samples_leaf=6, classifier__max_features=5, classifier__max_depth=10, classifier__criterion=gini \n",
            "[CV]  classifier__n_estimators=250, classifier__min_samples_split=20, classifier__min_samples_leaf=6, classifier__max_features=5, classifier__max_depth=10, classifier__criterion=gini, total=  23.2s\n",
            "[CV] classifier__n_estimators=250, classifier__min_samples_split=20, classifier__min_samples_leaf=6, classifier__max_features=5, classifier__max_depth=10, classifier__criterion=gini \n",
            "[CV]  classifier__n_estimators=250, classifier__min_samples_split=20, classifier__min_samples_leaf=6, classifier__max_features=5, classifier__max_depth=10, classifier__criterion=gini, total=  23.2s\n",
            "[CV] classifier__n_estimators=300, classifier__min_samples_split=2, classifier__min_samples_leaf=4, classifier__max_features=3, classifier__max_depth=5, classifier__criterion=entropy \n",
            "[CV]  classifier__n_estimators=300, classifier__min_samples_split=2, classifier__min_samples_leaf=4, classifier__max_features=3, classifier__max_depth=5, classifier__criterion=entropy, total=  15.2s\n",
            "[CV] classifier__n_estimators=300, classifier__min_samples_split=2, classifier__min_samples_leaf=4, classifier__max_features=3, classifier__max_depth=5, classifier__criterion=entropy \n",
            "[CV]  classifier__n_estimators=300, classifier__min_samples_split=2, classifier__min_samples_leaf=4, classifier__max_features=3, classifier__max_depth=5, classifier__criterion=entropy, total=  15.0s\n",
            "[CV] classifier__n_estimators=300, classifier__min_samples_split=2, classifier__min_samples_leaf=4, classifier__max_features=3, classifier__max_depth=5, classifier__criterion=entropy \n",
            "[CV]  classifier__n_estimators=300, classifier__min_samples_split=2, classifier__min_samples_leaf=4, classifier__max_features=3, classifier__max_depth=5, classifier__criterion=entropy, total=  15.2s\n",
            "[CV] classifier__n_estimators=300, classifier__min_samples_split=2, classifier__min_samples_leaf=4, classifier__max_features=3, classifier__max_depth=5, classifier__criterion=entropy \n",
            "[CV]  classifier__n_estimators=300, classifier__min_samples_split=2, classifier__min_samples_leaf=4, classifier__max_features=3, classifier__max_depth=5, classifier__criterion=entropy, total=  15.2s\n",
            "[CV] classifier__n_estimators=300, classifier__min_samples_split=2, classifier__min_samples_leaf=4, classifier__max_features=3, classifier__max_depth=5, classifier__criterion=entropy \n",
            "[CV]  classifier__n_estimators=300, classifier__min_samples_split=2, classifier__min_samples_leaf=4, classifier__max_features=3, classifier__max_depth=5, classifier__criterion=entropy, total=  15.0s\n",
            "[CV] classifier__n_estimators=250, classifier__min_samples_split=10, classifier__min_samples_leaf=4, classifier__max_features=7, classifier__max_depth=10, classifier__criterion=gini \n",
            "[CV]  classifier__n_estimators=250, classifier__min_samples_split=10, classifier__min_samples_leaf=4, classifier__max_features=7, classifier__max_depth=10, classifier__criterion=gini, total=  29.3s\n",
            "[CV] classifier__n_estimators=250, classifier__min_samples_split=10, classifier__min_samples_leaf=4, classifier__max_features=7, classifier__max_depth=10, classifier__criterion=gini \n",
            "[CV]  classifier__n_estimators=250, classifier__min_samples_split=10, classifier__min_samples_leaf=4, classifier__max_features=7, classifier__max_depth=10, classifier__criterion=gini, total=  29.6s\n",
            "[CV] classifier__n_estimators=250, classifier__min_samples_split=10, classifier__min_samples_leaf=4, classifier__max_features=7, classifier__max_depth=10, classifier__criterion=gini \n",
            "[CV]  classifier__n_estimators=250, classifier__min_samples_split=10, classifier__min_samples_leaf=4, classifier__max_features=7, classifier__max_depth=10, classifier__criterion=gini, total=  29.3s\n",
            "[CV] classifier__n_estimators=250, classifier__min_samples_split=10, classifier__min_samples_leaf=4, classifier__max_features=7, classifier__max_depth=10, classifier__criterion=gini \n",
            "[CV]  classifier__n_estimators=250, classifier__min_samples_split=10, classifier__min_samples_leaf=4, classifier__max_features=7, classifier__max_depth=10, classifier__criterion=gini, total=  29.4s\n",
            "[CV] classifier__n_estimators=250, classifier__min_samples_split=10, classifier__min_samples_leaf=4, classifier__max_features=7, classifier__max_depth=10, classifier__criterion=gini \n",
            "[CV]  classifier__n_estimators=250, classifier__min_samples_split=10, classifier__min_samples_leaf=4, classifier__max_features=7, classifier__max_depth=10, classifier__criterion=gini, total=  29.1s\n",
            "[CV] classifier__n_estimators=250, classifier__min_samples_split=2, classifier__min_samples_leaf=8, classifier__max_features=5, classifier__max_depth=10, classifier__criterion=entropy \n",
            "[CV]  classifier__n_estimators=250, classifier__min_samples_split=2, classifier__min_samples_leaf=8, classifier__max_features=5, classifier__max_depth=10, classifier__criterion=entropy, total=  29.6s\n",
            "[CV] classifier__n_estimators=250, classifier__min_samples_split=2, classifier__min_samples_leaf=8, classifier__max_features=5, classifier__max_depth=10, classifier__criterion=entropy \n",
            "[CV]  classifier__n_estimators=250, classifier__min_samples_split=2, classifier__min_samples_leaf=8, classifier__max_features=5, classifier__max_depth=10, classifier__criterion=entropy, total=  29.3s\n",
            "[CV] classifier__n_estimators=250, classifier__min_samples_split=2, classifier__min_samples_leaf=8, classifier__max_features=5, classifier__max_depth=10, classifier__criterion=entropy \n",
            "[CV]  classifier__n_estimators=250, classifier__min_samples_split=2, classifier__min_samples_leaf=8, classifier__max_features=5, classifier__max_depth=10, classifier__criterion=entropy, total=  29.3s\n",
            "[CV] classifier__n_estimators=250, classifier__min_samples_split=2, classifier__min_samples_leaf=8, classifier__max_features=5, classifier__max_depth=10, classifier__criterion=entropy \n",
            "[CV]  classifier__n_estimators=250, classifier__min_samples_split=2, classifier__min_samples_leaf=8, classifier__max_features=5, classifier__max_depth=10, classifier__criterion=entropy, total=  29.5s\n",
            "[CV] classifier__n_estimators=250, classifier__min_samples_split=2, classifier__min_samples_leaf=8, classifier__max_features=5, classifier__max_depth=10, classifier__criterion=entropy \n",
            "[CV]  classifier__n_estimators=250, classifier__min_samples_split=2, classifier__min_samples_leaf=8, classifier__max_features=5, classifier__max_depth=10, classifier__criterion=entropy, total=  29.5s\n",
            "[CV] classifier__n_estimators=250, classifier__min_samples_split=10, classifier__min_samples_leaf=4, classifier__max_features=7, classifier__max_depth=10, classifier__criterion=entropy \n",
            "[CV]  classifier__n_estimators=250, classifier__min_samples_split=10, classifier__min_samples_leaf=4, classifier__max_features=7, classifier__max_depth=10, classifier__criterion=entropy, total=  37.4s\n",
            "[CV] classifier__n_estimators=250, classifier__min_samples_split=10, classifier__min_samples_leaf=4, classifier__max_features=7, classifier__max_depth=10, classifier__criterion=entropy \n",
            "[CV]  classifier__n_estimators=250, classifier__min_samples_split=10, classifier__min_samples_leaf=4, classifier__max_features=7, classifier__max_depth=10, classifier__criterion=entropy, total=  38.3s\n",
            "[CV] classifier__n_estimators=250, classifier__min_samples_split=10, classifier__min_samples_leaf=4, classifier__max_features=7, classifier__max_depth=10, classifier__criterion=entropy \n",
            "[CV]  classifier__n_estimators=250, classifier__min_samples_split=10, classifier__min_samples_leaf=4, classifier__max_features=7, classifier__max_depth=10, classifier__criterion=entropy, total=  39.8s\n",
            "[CV] classifier__n_estimators=250, classifier__min_samples_split=10, classifier__min_samples_leaf=4, classifier__max_features=7, classifier__max_depth=10, classifier__criterion=entropy \n",
            "[CV]  classifier__n_estimators=250, classifier__min_samples_split=10, classifier__min_samples_leaf=4, classifier__max_features=7, classifier__max_depth=10, classifier__criterion=entropy, total=  38.4s\n",
            "[CV] classifier__n_estimators=250, classifier__min_samples_split=10, classifier__min_samples_leaf=4, classifier__max_features=7, classifier__max_depth=10, classifier__criterion=entropy \n",
            "[CV]  classifier__n_estimators=250, classifier__min_samples_split=10, classifier__min_samples_leaf=4, classifier__max_features=7, classifier__max_depth=10, classifier__criterion=entropy, total=  37.2s\n",
            "[CV] classifier__n_estimators=300, classifier__min_samples_split=10, classifier__min_samples_leaf=4, classifier__max_features=3, classifier__max_depth=8, classifier__criterion=gini \n",
            "[CV]  classifier__n_estimators=300, classifier__min_samples_split=10, classifier__min_samples_leaf=4, classifier__max_features=3, classifier__max_depth=8, classifier__criterion=gini, total=  17.3s\n",
            "[CV] classifier__n_estimators=300, classifier__min_samples_split=10, classifier__min_samples_leaf=4, classifier__max_features=3, classifier__max_depth=8, classifier__criterion=gini \n",
            "[CV]  classifier__n_estimators=300, classifier__min_samples_split=10, classifier__min_samples_leaf=4, classifier__max_features=3, classifier__max_depth=8, classifier__criterion=gini, total=  17.3s\n",
            "[CV] classifier__n_estimators=300, classifier__min_samples_split=10, classifier__min_samples_leaf=4, classifier__max_features=3, classifier__max_depth=8, classifier__criterion=gini \n",
            "[CV]  classifier__n_estimators=300, classifier__min_samples_split=10, classifier__min_samples_leaf=4, classifier__max_features=3, classifier__max_depth=8, classifier__criterion=gini, total=  17.2s\n",
            "[CV] classifier__n_estimators=300, classifier__min_samples_split=10, classifier__min_samples_leaf=4, classifier__max_features=3, classifier__max_depth=8, classifier__criterion=gini \n",
            "[CV]  classifier__n_estimators=300, classifier__min_samples_split=10, classifier__min_samples_leaf=4, classifier__max_features=3, classifier__max_depth=8, classifier__criterion=gini, total=  17.2s\n",
            "[CV] classifier__n_estimators=300, classifier__min_samples_split=10, classifier__min_samples_leaf=4, classifier__max_features=3, classifier__max_depth=8, classifier__criterion=gini \n",
            "[CV]  classifier__n_estimators=300, classifier__min_samples_split=10, classifier__min_samples_leaf=4, classifier__max_features=3, classifier__max_depth=8, classifier__criterion=gini, total=  17.2s\n",
            "[CV] classifier__n_estimators=250, classifier__min_samples_split=10, classifier__min_samples_leaf=10, classifier__max_features=7, classifier__max_depth=10, classifier__criterion=gini \n",
            "[CV]  classifier__n_estimators=250, classifier__min_samples_split=10, classifier__min_samples_leaf=10, classifier__max_features=7, classifier__max_depth=10, classifier__criterion=gini, total=  28.5s\n",
            "[CV] classifier__n_estimators=250, classifier__min_samples_split=10, classifier__min_samples_leaf=10, classifier__max_features=7, classifier__max_depth=10, classifier__criterion=gini \n",
            "[CV]  classifier__n_estimators=250, classifier__min_samples_split=10, classifier__min_samples_leaf=10, classifier__max_features=7, classifier__max_depth=10, classifier__criterion=gini, total=  29.2s\n",
            "[CV] classifier__n_estimators=250, classifier__min_samples_split=10, classifier__min_samples_leaf=10, classifier__max_features=7, classifier__max_depth=10, classifier__criterion=gini \n",
            "[CV]  classifier__n_estimators=250, classifier__min_samples_split=10, classifier__min_samples_leaf=10, classifier__max_features=7, classifier__max_depth=10, classifier__criterion=gini, total=  27.6s\n",
            "[CV] classifier__n_estimators=250, classifier__min_samples_split=10, classifier__min_samples_leaf=10, classifier__max_features=7, classifier__max_depth=10, classifier__criterion=gini \n",
            "[CV]  classifier__n_estimators=250, classifier__min_samples_split=10, classifier__min_samples_leaf=10, classifier__max_features=7, classifier__max_depth=10, classifier__criterion=gini, total=  28.4s\n",
            "[CV] classifier__n_estimators=250, classifier__min_samples_split=10, classifier__min_samples_leaf=10, classifier__max_features=7, classifier__max_depth=10, classifier__criterion=gini \n",
            "[CV]  classifier__n_estimators=250, classifier__min_samples_split=10, classifier__min_samples_leaf=10, classifier__max_features=7, classifier__max_depth=10, classifier__criterion=gini, total=  29.0s\n",
            "[CV] classifier__n_estimators=150, classifier__min_samples_split=2, classifier__min_samples_leaf=8, classifier__max_features=7, classifier__max_depth=5, classifier__criterion=entropy \n",
            "[CV]  classifier__n_estimators=150, classifier__min_samples_split=2, classifier__min_samples_leaf=8, classifier__max_features=7, classifier__max_depth=5, classifier__criterion=entropy, total=  13.6s\n",
            "[CV] classifier__n_estimators=150, classifier__min_samples_split=2, classifier__min_samples_leaf=8, classifier__max_features=7, classifier__max_depth=5, classifier__criterion=entropy \n",
            "[CV]  classifier__n_estimators=150, classifier__min_samples_split=2, classifier__min_samples_leaf=8, classifier__max_features=7, classifier__max_depth=5, classifier__criterion=entropy, total=  13.5s\n",
            "[CV] classifier__n_estimators=150, classifier__min_samples_split=2, classifier__min_samples_leaf=8, classifier__max_features=7, classifier__max_depth=5, classifier__criterion=entropy \n",
            "[CV]  classifier__n_estimators=150, classifier__min_samples_split=2, classifier__min_samples_leaf=8, classifier__max_features=7, classifier__max_depth=5, classifier__criterion=entropy, total=  13.3s\n",
            "[CV] classifier__n_estimators=150, classifier__min_samples_split=2, classifier__min_samples_leaf=8, classifier__max_features=7, classifier__max_depth=5, classifier__criterion=entropy \n",
            "[CV]  classifier__n_estimators=150, classifier__min_samples_split=2, classifier__min_samples_leaf=8, classifier__max_features=7, classifier__max_depth=5, classifier__criterion=entropy, total=  13.7s\n",
            "[CV] classifier__n_estimators=150, classifier__min_samples_split=2, classifier__min_samples_leaf=8, classifier__max_features=7, classifier__max_depth=5, classifier__criterion=entropy \n",
            "[CV]  classifier__n_estimators=150, classifier__min_samples_split=2, classifier__min_samples_leaf=8, classifier__max_features=7, classifier__max_depth=5, classifier__criterion=entropy, total=  13.6s\n",
            "[CV] classifier__n_estimators=250, classifier__min_samples_split=2, classifier__min_samples_leaf=10, classifier__max_features=5, classifier__max_depth=8, classifier__criterion=gini \n",
            "[CV]  classifier__n_estimators=250, classifier__min_samples_split=2, classifier__min_samples_leaf=10, classifier__max_features=5, classifier__max_depth=8, classifier__criterion=gini, total=  19.7s\n",
            "[CV] classifier__n_estimators=250, classifier__min_samples_split=2, classifier__min_samples_leaf=10, classifier__max_features=5, classifier__max_depth=8, classifier__criterion=gini \n",
            "[CV]  classifier__n_estimators=250, classifier__min_samples_split=2, classifier__min_samples_leaf=10, classifier__max_features=5, classifier__max_depth=8, classifier__criterion=gini, total=  19.1s\n",
            "[CV] classifier__n_estimators=250, classifier__min_samples_split=2, classifier__min_samples_leaf=10, classifier__max_features=5, classifier__max_depth=8, classifier__criterion=gini \n",
            "[CV]  classifier__n_estimators=250, classifier__min_samples_split=2, classifier__min_samples_leaf=10, classifier__max_features=5, classifier__max_depth=8, classifier__criterion=gini, total=  19.9s\n",
            "[CV] classifier__n_estimators=250, classifier__min_samples_split=2, classifier__min_samples_leaf=10, classifier__max_features=5, classifier__max_depth=8, classifier__criterion=gini \n",
            "[CV]  classifier__n_estimators=250, classifier__min_samples_split=2, classifier__min_samples_leaf=10, classifier__max_features=5, classifier__max_depth=8, classifier__criterion=gini, total=  19.8s\n",
            "[CV] classifier__n_estimators=250, classifier__min_samples_split=2, classifier__min_samples_leaf=10, classifier__max_features=5, classifier__max_depth=8, classifier__criterion=gini \n",
            "[CV]  classifier__n_estimators=250, classifier__min_samples_split=2, classifier__min_samples_leaf=10, classifier__max_features=5, classifier__max_depth=8, classifier__criterion=gini, total=  20.0s\n",
            "[CV] classifier__n_estimators=250, classifier__min_samples_split=10, classifier__min_samples_leaf=6, classifier__max_features=5, classifier__max_depth=8, classifier__criterion=gini \n",
            "[CV]  classifier__n_estimators=250, classifier__min_samples_split=10, classifier__min_samples_leaf=6, classifier__max_features=5, classifier__max_depth=8, classifier__criterion=gini, total=  20.2s\n",
            "[CV] classifier__n_estimators=250, classifier__min_samples_split=10, classifier__min_samples_leaf=6, classifier__max_features=5, classifier__max_depth=8, classifier__criterion=gini \n",
            "[CV]  classifier__n_estimators=250, classifier__min_samples_split=10, classifier__min_samples_leaf=6, classifier__max_features=5, classifier__max_depth=8, classifier__criterion=gini, total=  20.1s\n",
            "[CV] classifier__n_estimators=250, classifier__min_samples_split=10, classifier__min_samples_leaf=6, classifier__max_features=5, classifier__max_depth=8, classifier__criterion=gini \n",
            "[CV]  classifier__n_estimators=250, classifier__min_samples_split=10, classifier__min_samples_leaf=6, classifier__max_features=5, classifier__max_depth=8, classifier__criterion=gini, total=  19.9s\n",
            "[CV] classifier__n_estimators=250, classifier__min_samples_split=10, classifier__min_samples_leaf=6, classifier__max_features=5, classifier__max_depth=8, classifier__criterion=gini \n",
            "[CV]  classifier__n_estimators=250, classifier__min_samples_split=10, classifier__min_samples_leaf=6, classifier__max_features=5, classifier__max_depth=8, classifier__criterion=gini, total=  19.9s\n",
            "[CV] classifier__n_estimators=250, classifier__min_samples_split=10, classifier__min_samples_leaf=6, classifier__max_features=5, classifier__max_depth=8, classifier__criterion=gini \n",
            "[CV]  classifier__n_estimators=250, classifier__min_samples_split=10, classifier__min_samples_leaf=6, classifier__max_features=5, classifier__max_depth=8, classifier__criterion=gini, total=  19.5s\n",
            "[CV] classifier__n_estimators=150, classifier__min_samples_split=10, classifier__min_samples_leaf=10, classifier__max_features=3, classifier__max_depth=5, classifier__criterion=entropy \n",
            "[CV]  classifier__n_estimators=150, classifier__min_samples_split=10, classifier__min_samples_leaf=10, classifier__max_features=3, classifier__max_depth=5, classifier__criterion=entropy, total=   8.5s\n",
            "[CV] classifier__n_estimators=150, classifier__min_samples_split=10, classifier__min_samples_leaf=10, classifier__max_features=3, classifier__max_depth=5, classifier__criterion=entropy \n",
            "[CV]  classifier__n_estimators=150, classifier__min_samples_split=10, classifier__min_samples_leaf=10, classifier__max_features=3, classifier__max_depth=5, classifier__criterion=entropy, total=   8.5s\n",
            "[CV] classifier__n_estimators=150, classifier__min_samples_split=10, classifier__min_samples_leaf=10, classifier__max_features=3, classifier__max_depth=5, classifier__criterion=entropy \n",
            "[CV]  classifier__n_estimators=150, classifier__min_samples_split=10, classifier__min_samples_leaf=10, classifier__max_features=3, classifier__max_depth=5, classifier__criterion=entropy, total=   8.6s\n",
            "[CV] classifier__n_estimators=150, classifier__min_samples_split=10, classifier__min_samples_leaf=10, classifier__max_features=3, classifier__max_depth=5, classifier__criterion=entropy \n",
            "[CV]  classifier__n_estimators=150, classifier__min_samples_split=10, classifier__min_samples_leaf=10, classifier__max_features=3, classifier__max_depth=5, classifier__criterion=entropy, total=   8.4s\n",
            "[CV] classifier__n_estimators=150, classifier__min_samples_split=10, classifier__min_samples_leaf=10, classifier__max_features=3, classifier__max_depth=5, classifier__criterion=entropy \n",
            "[CV]  classifier__n_estimators=150, classifier__min_samples_split=10, classifier__min_samples_leaf=10, classifier__max_features=3, classifier__max_depth=5, classifier__criterion=entropy, total=   8.2s\n",
            "[CV] classifier__n_estimators=150, classifier__min_samples_split=10, classifier__min_samples_leaf=4, classifier__max_features=3, classifier__max_depth=5, classifier__criterion=gini \n",
            "[CV]  classifier__n_estimators=150, classifier__min_samples_split=10, classifier__min_samples_leaf=4, classifier__max_features=3, classifier__max_depth=5, classifier__criterion=gini, total=   7.5s\n",
            "[CV] classifier__n_estimators=150, classifier__min_samples_split=10, classifier__min_samples_leaf=4, classifier__max_features=3, classifier__max_depth=5, classifier__criterion=gini \n",
            "[CV]  classifier__n_estimators=150, classifier__min_samples_split=10, classifier__min_samples_leaf=4, classifier__max_features=3, classifier__max_depth=5, classifier__criterion=gini, total=   7.6s\n",
            "[CV] classifier__n_estimators=150, classifier__min_samples_split=10, classifier__min_samples_leaf=4, classifier__max_features=3, classifier__max_depth=5, classifier__criterion=gini \n",
            "[CV]  classifier__n_estimators=150, classifier__min_samples_split=10, classifier__min_samples_leaf=4, classifier__max_features=3, classifier__max_depth=5, classifier__criterion=gini, total=   7.7s\n",
            "[CV] classifier__n_estimators=150, classifier__min_samples_split=10, classifier__min_samples_leaf=4, classifier__max_features=3, classifier__max_depth=5, classifier__criterion=gini \n",
            "[CV]  classifier__n_estimators=150, classifier__min_samples_split=10, classifier__min_samples_leaf=4, classifier__max_features=3, classifier__max_depth=5, classifier__criterion=gini, total=   7.6s\n",
            "[CV] classifier__n_estimators=150, classifier__min_samples_split=10, classifier__min_samples_leaf=4, classifier__max_features=3, classifier__max_depth=5, classifier__criterion=gini \n",
            "[CV]  classifier__n_estimators=150, classifier__min_samples_split=10, classifier__min_samples_leaf=4, classifier__max_features=3, classifier__max_depth=5, classifier__criterion=gini, total=   7.7s\n",
            "[CV] classifier__n_estimators=300, classifier__min_samples_split=10, classifier__min_samples_leaf=10, classifier__max_features=5, classifier__max_depth=8, classifier__criterion=entropy \n",
            "[CV]  classifier__n_estimators=300, classifier__min_samples_split=10, classifier__min_samples_leaf=10, classifier__max_features=5, classifier__max_depth=8, classifier__criterion=entropy, total=  29.3s\n",
            "[CV] classifier__n_estimators=300, classifier__min_samples_split=10, classifier__min_samples_leaf=10, classifier__max_features=5, classifier__max_depth=8, classifier__criterion=entropy \n",
            "[CV]  classifier__n_estimators=300, classifier__min_samples_split=10, classifier__min_samples_leaf=10, classifier__max_features=5, classifier__max_depth=8, classifier__criterion=entropy, total=  29.2s\n",
            "[CV] classifier__n_estimators=300, classifier__min_samples_split=10, classifier__min_samples_leaf=10, classifier__max_features=5, classifier__max_depth=8, classifier__criterion=entropy \n",
            "[CV]  classifier__n_estimators=300, classifier__min_samples_split=10, classifier__min_samples_leaf=10, classifier__max_features=5, classifier__max_depth=8, classifier__criterion=entropy, total=  29.0s\n",
            "[CV] classifier__n_estimators=300, classifier__min_samples_split=10, classifier__min_samples_leaf=10, classifier__max_features=5, classifier__max_depth=8, classifier__criterion=entropy \n",
            "[CV]  classifier__n_estimators=300, classifier__min_samples_split=10, classifier__min_samples_leaf=10, classifier__max_features=5, classifier__max_depth=8, classifier__criterion=entropy, total=  28.5s\n",
            "[CV] classifier__n_estimators=300, classifier__min_samples_split=10, classifier__min_samples_leaf=10, classifier__max_features=5, classifier__max_depth=8, classifier__criterion=entropy \n",
            "[CV]  classifier__n_estimators=300, classifier__min_samples_split=10, classifier__min_samples_leaf=10, classifier__max_features=5, classifier__max_depth=8, classifier__criterion=entropy, total=  28.7s\n",
            "[CV] classifier__n_estimators=250, classifier__min_samples_split=20, classifier__min_samples_leaf=10, classifier__max_features=7, classifier__max_depth=5, classifier__criterion=gini \n",
            "[CV]  classifier__n_estimators=250, classifier__min_samples_split=20, classifier__min_samples_leaf=10, classifier__max_features=7, classifier__max_depth=5, classifier__criterion=gini, total=  18.1s\n",
            "[CV] classifier__n_estimators=250, classifier__min_samples_split=20, classifier__min_samples_leaf=10, classifier__max_features=7, classifier__max_depth=5, classifier__criterion=gini \n",
            "[CV]  classifier__n_estimators=250, classifier__min_samples_split=20, classifier__min_samples_leaf=10, classifier__max_features=7, classifier__max_depth=5, classifier__criterion=gini, total=  17.8s\n",
            "[CV] classifier__n_estimators=250, classifier__min_samples_split=20, classifier__min_samples_leaf=10, classifier__max_features=7, classifier__max_depth=5, classifier__criterion=gini \n",
            "[CV]  classifier__n_estimators=250, classifier__min_samples_split=20, classifier__min_samples_leaf=10, classifier__max_features=7, classifier__max_depth=5, classifier__criterion=gini, total=  17.8s\n",
            "[CV] classifier__n_estimators=250, classifier__min_samples_split=20, classifier__min_samples_leaf=10, classifier__max_features=7, classifier__max_depth=5, classifier__criterion=gini \n",
            "[CV]  classifier__n_estimators=250, classifier__min_samples_split=20, classifier__min_samples_leaf=10, classifier__max_features=7, classifier__max_depth=5, classifier__criterion=gini, total=  17.8s\n",
            "[CV] classifier__n_estimators=250, classifier__min_samples_split=20, classifier__min_samples_leaf=10, classifier__max_features=7, classifier__max_depth=5, classifier__criterion=gini \n",
            "[CV]  classifier__n_estimators=250, classifier__min_samples_split=20, classifier__min_samples_leaf=10, classifier__max_features=7, classifier__max_depth=5, classifier__criterion=gini, total=  17.8s\n",
            "[CV] classifier__n_estimators=300, classifier__min_samples_split=20, classifier__min_samples_leaf=4, classifier__max_features=5, classifier__max_depth=5, classifier__criterion=entropy \n",
            "[CV]  classifier__n_estimators=300, classifier__min_samples_split=20, classifier__min_samples_leaf=4, classifier__max_features=5, classifier__max_depth=5, classifier__criterion=entropy, total=  20.6s\n",
            "[CV] classifier__n_estimators=300, classifier__min_samples_split=20, classifier__min_samples_leaf=4, classifier__max_features=5, classifier__max_depth=5, classifier__criterion=entropy \n",
            "[CV]  classifier__n_estimators=300, classifier__min_samples_split=20, classifier__min_samples_leaf=4, classifier__max_features=5, classifier__max_depth=5, classifier__criterion=entropy, total=  19.7s\n",
            "[CV] classifier__n_estimators=300, classifier__min_samples_split=20, classifier__min_samples_leaf=4, classifier__max_features=5, classifier__max_depth=5, classifier__criterion=entropy \n",
            "[CV]  classifier__n_estimators=300, classifier__min_samples_split=20, classifier__min_samples_leaf=4, classifier__max_features=5, classifier__max_depth=5, classifier__criterion=entropy, total=  19.7s\n",
            "[CV] classifier__n_estimators=300, classifier__min_samples_split=20, classifier__min_samples_leaf=4, classifier__max_features=5, classifier__max_depth=5, classifier__criterion=entropy \n",
            "[CV]  classifier__n_estimators=300, classifier__min_samples_split=20, classifier__min_samples_leaf=4, classifier__max_features=5, classifier__max_depth=5, classifier__criterion=entropy, total=  19.8s\n",
            "[CV] classifier__n_estimators=300, classifier__min_samples_split=20, classifier__min_samples_leaf=4, classifier__max_features=5, classifier__max_depth=5, classifier__criterion=entropy \n",
            "[CV]  classifier__n_estimators=300, classifier__min_samples_split=20, classifier__min_samples_leaf=4, classifier__max_features=5, classifier__max_depth=5, classifier__criterion=entropy, total=  19.6s\n",
            "[CV] classifier__n_estimators=150, classifier__min_samples_split=10, classifier__min_samples_leaf=6, classifier__max_features=5, classifier__max_depth=10, classifier__criterion=entropy \n",
            "[CV]  classifier__n_estimators=150, classifier__min_samples_split=10, classifier__min_samples_leaf=6, classifier__max_features=5, classifier__max_depth=10, classifier__criterion=entropy, total=  18.1s\n",
            "[CV] classifier__n_estimators=150, classifier__min_samples_split=10, classifier__min_samples_leaf=6, classifier__max_features=5, classifier__max_depth=10, classifier__criterion=entropy \n",
            "[CV]  classifier__n_estimators=150, classifier__min_samples_split=10, classifier__min_samples_leaf=6, classifier__max_features=5, classifier__max_depth=10, classifier__criterion=entropy, total=  18.3s\n",
            "[CV] classifier__n_estimators=150, classifier__min_samples_split=10, classifier__min_samples_leaf=6, classifier__max_features=5, classifier__max_depth=10, classifier__criterion=entropy \n",
            "[CV]  classifier__n_estimators=150, classifier__min_samples_split=10, classifier__min_samples_leaf=6, classifier__max_features=5, classifier__max_depth=10, classifier__criterion=entropy, total=  18.3s\n",
            "[CV] classifier__n_estimators=150, classifier__min_samples_split=10, classifier__min_samples_leaf=6, classifier__max_features=5, classifier__max_depth=10, classifier__criterion=entropy \n",
            "[CV]  classifier__n_estimators=150, classifier__min_samples_split=10, classifier__min_samples_leaf=6, classifier__max_features=5, classifier__max_depth=10, classifier__criterion=entropy, total=  18.1s\n",
            "[CV] classifier__n_estimators=150, classifier__min_samples_split=10, classifier__min_samples_leaf=6, classifier__max_features=5, classifier__max_depth=10, classifier__criterion=entropy \n",
            "[CV]  classifier__n_estimators=150, classifier__min_samples_split=10, classifier__min_samples_leaf=6, classifier__max_features=5, classifier__max_depth=10, classifier__criterion=entropy, total=  18.3s\n",
            "[CV] classifier__n_estimators=150, classifier__min_samples_split=20, classifier__min_samples_leaf=4, classifier__max_features=7, classifier__max_depth=5, classifier__criterion=entropy \n",
            "[CV]  classifier__n_estimators=150, classifier__min_samples_split=20, classifier__min_samples_leaf=4, classifier__max_features=7, classifier__max_depth=5, classifier__criterion=entropy, total=  13.9s\n",
            "[CV] classifier__n_estimators=150, classifier__min_samples_split=20, classifier__min_samples_leaf=4, classifier__max_features=7, classifier__max_depth=5, classifier__criterion=entropy \n",
            "[CV]  classifier__n_estimators=150, classifier__min_samples_split=20, classifier__min_samples_leaf=4, classifier__max_features=7, classifier__max_depth=5, classifier__criterion=entropy, total=  13.7s\n",
            "[CV] classifier__n_estimators=150, classifier__min_samples_split=20, classifier__min_samples_leaf=4, classifier__max_features=7, classifier__max_depth=5, classifier__criterion=entropy \n",
            "[CV]  classifier__n_estimators=150, classifier__min_samples_split=20, classifier__min_samples_leaf=4, classifier__max_features=7, classifier__max_depth=5, classifier__criterion=entropy, total=  13.7s\n",
            "[CV] classifier__n_estimators=150, classifier__min_samples_split=20, classifier__min_samples_leaf=4, classifier__max_features=7, classifier__max_depth=5, classifier__criterion=entropy \n",
            "[CV]  classifier__n_estimators=150, classifier__min_samples_split=20, classifier__min_samples_leaf=4, classifier__max_features=7, classifier__max_depth=5, classifier__criterion=entropy, total=  13.4s\n",
            "[CV] classifier__n_estimators=150, classifier__min_samples_split=20, classifier__min_samples_leaf=4, classifier__max_features=7, classifier__max_depth=5, classifier__criterion=entropy \n",
            "[CV]  classifier__n_estimators=150, classifier__min_samples_split=20, classifier__min_samples_leaf=4, classifier__max_features=7, classifier__max_depth=5, classifier__criterion=entropy, total=  13.7s\n",
            "[CV] classifier__n_estimators=300, classifier__min_samples_split=10, classifier__min_samples_leaf=6, classifier__max_features=3, classifier__max_depth=8, classifier__criterion=gini \n",
            "[CV]  classifier__n_estimators=300, classifier__min_samples_split=10, classifier__min_samples_leaf=6, classifier__max_features=3, classifier__max_depth=8, classifier__criterion=gini, total=  17.7s\n",
            "[CV] classifier__n_estimators=300, classifier__min_samples_split=10, classifier__min_samples_leaf=6, classifier__max_features=3, classifier__max_depth=8, classifier__criterion=gini \n",
            "[CV]  classifier__n_estimators=300, classifier__min_samples_split=10, classifier__min_samples_leaf=6, classifier__max_features=3, classifier__max_depth=8, classifier__criterion=gini, total=  17.7s\n",
            "[CV] classifier__n_estimators=300, classifier__min_samples_split=10, classifier__min_samples_leaf=6, classifier__max_features=3, classifier__max_depth=8, classifier__criterion=gini \n",
            "[CV]  classifier__n_estimators=300, classifier__min_samples_split=10, classifier__min_samples_leaf=6, classifier__max_features=3, classifier__max_depth=8, classifier__criterion=gini, total=  17.6s\n",
            "[CV] classifier__n_estimators=300, classifier__min_samples_split=10, classifier__min_samples_leaf=6, classifier__max_features=3, classifier__max_depth=8, classifier__criterion=gini \n",
            "[CV]  classifier__n_estimators=300, classifier__min_samples_split=10, classifier__min_samples_leaf=6, classifier__max_features=3, classifier__max_depth=8, classifier__criterion=gini, total=  17.7s\n",
            "[CV] classifier__n_estimators=300, classifier__min_samples_split=10, classifier__min_samples_leaf=6, classifier__max_features=3, classifier__max_depth=8, classifier__criterion=gini \n",
            "[CV]  classifier__n_estimators=300, classifier__min_samples_split=10, classifier__min_samples_leaf=6, classifier__max_features=3, classifier__max_depth=8, classifier__criterion=gini, total=  17.6s\n",
            "[CV] classifier__n_estimators=300, classifier__min_samples_split=2, classifier__min_samples_leaf=10, classifier__max_features=7, classifier__max_depth=5, classifier__criterion=entropy \n",
            "[CV]  classifier__n_estimators=300, classifier__min_samples_split=2, classifier__min_samples_leaf=10, classifier__max_features=7, classifier__max_depth=5, classifier__criterion=entropy, total=  24.5s\n",
            "[CV] classifier__n_estimators=300, classifier__min_samples_split=2, classifier__min_samples_leaf=10, classifier__max_features=7, classifier__max_depth=5, classifier__criterion=entropy \n",
            "[CV]  classifier__n_estimators=300, classifier__min_samples_split=2, classifier__min_samples_leaf=10, classifier__max_features=7, classifier__max_depth=5, classifier__criterion=entropy, total=  24.9s\n",
            "[CV] classifier__n_estimators=300, classifier__min_samples_split=2, classifier__min_samples_leaf=10, classifier__max_features=7, classifier__max_depth=5, classifier__criterion=entropy \n",
            "[CV]  classifier__n_estimators=300, classifier__min_samples_split=2, classifier__min_samples_leaf=10, classifier__max_features=7, classifier__max_depth=5, classifier__criterion=entropy, total=  24.7s\n",
            "[CV] classifier__n_estimators=300, classifier__min_samples_split=2, classifier__min_samples_leaf=10, classifier__max_features=7, classifier__max_depth=5, classifier__criterion=entropy \n",
            "[CV]  classifier__n_estimators=300, classifier__min_samples_split=2, classifier__min_samples_leaf=10, classifier__max_features=7, classifier__max_depth=5, classifier__criterion=entropy, total=  24.7s\n",
            "[CV] classifier__n_estimators=300, classifier__min_samples_split=2, classifier__min_samples_leaf=10, classifier__max_features=7, classifier__max_depth=5, classifier__criterion=entropy \n",
            "[CV]  classifier__n_estimators=300, classifier__min_samples_split=2, classifier__min_samples_leaf=10, classifier__max_features=7, classifier__max_depth=5, classifier__criterion=entropy, total=  24.9s\n",
            "[CV] classifier__n_estimators=250, classifier__min_samples_split=20, classifier__min_samples_leaf=4, classifier__max_features=5, classifier__max_depth=5, classifier__criterion=gini \n",
            "[CV]  classifier__n_estimators=250, classifier__min_samples_split=20, classifier__min_samples_leaf=4, classifier__max_features=5, classifier__max_depth=5, classifier__criterion=gini, total=  14.6s\n",
            "[CV] classifier__n_estimators=250, classifier__min_samples_split=20, classifier__min_samples_leaf=4, classifier__max_features=5, classifier__max_depth=5, classifier__criterion=gini \n",
            "[CV]  classifier__n_estimators=250, classifier__min_samples_split=20, classifier__min_samples_leaf=4, classifier__max_features=5, classifier__max_depth=5, classifier__criterion=gini, total=  14.5s\n",
            "[CV] classifier__n_estimators=250, classifier__min_samples_split=20, classifier__min_samples_leaf=4, classifier__max_features=5, classifier__max_depth=5, classifier__criterion=gini \n",
            "[CV]  classifier__n_estimators=250, classifier__min_samples_split=20, classifier__min_samples_leaf=4, classifier__max_features=5, classifier__max_depth=5, classifier__criterion=gini, total=  14.7s\n",
            "[CV] classifier__n_estimators=250, classifier__min_samples_split=20, classifier__min_samples_leaf=4, classifier__max_features=5, classifier__max_depth=5, classifier__criterion=gini \n",
            "[CV]  classifier__n_estimators=250, classifier__min_samples_split=20, classifier__min_samples_leaf=4, classifier__max_features=5, classifier__max_depth=5, classifier__criterion=gini, total=  14.5s\n",
            "[CV] classifier__n_estimators=250, classifier__min_samples_split=20, classifier__min_samples_leaf=4, classifier__max_features=5, classifier__max_depth=5, classifier__criterion=gini \n",
            "[CV]  classifier__n_estimators=250, classifier__min_samples_split=20, classifier__min_samples_leaf=4, classifier__max_features=5, classifier__max_depth=5, classifier__criterion=gini, total=  14.7s\n",
            "[CV] classifier__n_estimators=250, classifier__min_samples_split=10, classifier__min_samples_leaf=4, classifier__max_features=5, classifier__max_depth=5, classifier__criterion=gini \n",
            "[CV]  classifier__n_estimators=250, classifier__min_samples_split=10, classifier__min_samples_leaf=4, classifier__max_features=5, classifier__max_depth=5, classifier__criterion=gini, total=  14.4s\n",
            "[CV] classifier__n_estimators=250, classifier__min_samples_split=10, classifier__min_samples_leaf=4, classifier__max_features=5, classifier__max_depth=5, classifier__criterion=gini \n",
            "[CV]  classifier__n_estimators=250, classifier__min_samples_split=10, classifier__min_samples_leaf=4, classifier__max_features=5, classifier__max_depth=5, classifier__criterion=gini, total=  14.4s\n",
            "[CV] classifier__n_estimators=250, classifier__min_samples_split=10, classifier__min_samples_leaf=4, classifier__max_features=5, classifier__max_depth=5, classifier__criterion=gini \n",
            "[CV]  classifier__n_estimators=250, classifier__min_samples_split=10, classifier__min_samples_leaf=4, classifier__max_features=5, classifier__max_depth=5, classifier__criterion=gini, total=  14.7s\n",
            "[CV] classifier__n_estimators=250, classifier__min_samples_split=10, classifier__min_samples_leaf=4, classifier__max_features=5, classifier__max_depth=5, classifier__criterion=gini \n",
            "[CV]  classifier__n_estimators=250, classifier__min_samples_split=10, classifier__min_samples_leaf=4, classifier__max_features=5, classifier__max_depth=5, classifier__criterion=gini, total=  14.5s\n",
            "[CV] classifier__n_estimators=250, classifier__min_samples_split=10, classifier__min_samples_leaf=4, classifier__max_features=5, classifier__max_depth=5, classifier__criterion=gini \n",
            "[CV]  classifier__n_estimators=250, classifier__min_samples_split=10, classifier__min_samples_leaf=4, classifier__max_features=5, classifier__max_depth=5, classifier__criterion=gini, total=  14.4s\n",
            "[CV] classifier__n_estimators=150, classifier__min_samples_split=10, classifier__min_samples_leaf=6, classifier__max_features=7, classifier__max_depth=10, classifier__criterion=entropy \n",
            "[CV]  classifier__n_estimators=150, classifier__min_samples_split=10, classifier__min_samples_leaf=6, classifier__max_features=7, classifier__max_depth=10, classifier__criterion=entropy, total=  23.2s\n",
            "[CV] classifier__n_estimators=150, classifier__min_samples_split=10, classifier__min_samples_leaf=6, classifier__max_features=7, classifier__max_depth=10, classifier__criterion=entropy \n",
            "[CV]  classifier__n_estimators=150, classifier__min_samples_split=10, classifier__min_samples_leaf=6, classifier__max_features=7, classifier__max_depth=10, classifier__criterion=entropy, total=  24.0s\n",
            "[CV] classifier__n_estimators=150, classifier__min_samples_split=10, classifier__min_samples_leaf=6, classifier__max_features=7, classifier__max_depth=10, classifier__criterion=entropy \n",
            "[CV]  classifier__n_estimators=150, classifier__min_samples_split=10, classifier__min_samples_leaf=6, classifier__max_features=7, classifier__max_depth=10, classifier__criterion=entropy, total=  23.7s\n",
            "[CV] classifier__n_estimators=150, classifier__min_samples_split=10, classifier__min_samples_leaf=6, classifier__max_features=7, classifier__max_depth=10, classifier__criterion=entropy \n",
            "[CV]  classifier__n_estimators=150, classifier__min_samples_split=10, classifier__min_samples_leaf=6, classifier__max_features=7, classifier__max_depth=10, classifier__criterion=entropy, total=  23.2s\n",
            "[CV] classifier__n_estimators=150, classifier__min_samples_split=10, classifier__min_samples_leaf=6, classifier__max_features=7, classifier__max_depth=10, classifier__criterion=entropy \n",
            "[CV]  classifier__n_estimators=150, classifier__min_samples_split=10, classifier__min_samples_leaf=6, classifier__max_features=7, classifier__max_depth=10, classifier__criterion=entropy, total=  23.8s\n",
            "[CV] classifier__n_estimators=300, classifier__min_samples_split=20, classifier__min_samples_leaf=8, classifier__max_features=3, classifier__max_depth=5, classifier__criterion=gini \n",
            "[CV]  classifier__n_estimators=300, classifier__min_samples_split=20, classifier__min_samples_leaf=8, classifier__max_features=3, classifier__max_depth=5, classifier__criterion=gini, total=  13.2s\n",
            "[CV] classifier__n_estimators=300, classifier__min_samples_split=20, classifier__min_samples_leaf=8, classifier__max_features=3, classifier__max_depth=5, classifier__criterion=gini \n",
            "[CV]  classifier__n_estimators=300, classifier__min_samples_split=20, classifier__min_samples_leaf=8, classifier__max_features=3, classifier__max_depth=5, classifier__criterion=gini, total=  13.3s\n",
            "[CV] classifier__n_estimators=300, classifier__min_samples_split=20, classifier__min_samples_leaf=8, classifier__max_features=3, classifier__max_depth=5, classifier__criterion=gini \n",
            "[CV]  classifier__n_estimators=300, classifier__min_samples_split=20, classifier__min_samples_leaf=8, classifier__max_features=3, classifier__max_depth=5, classifier__criterion=gini, total=  13.3s\n",
            "[CV] classifier__n_estimators=300, classifier__min_samples_split=20, classifier__min_samples_leaf=8, classifier__max_features=3, classifier__max_depth=5, classifier__criterion=gini \n",
            "[CV]  classifier__n_estimators=300, classifier__min_samples_split=20, classifier__min_samples_leaf=8, classifier__max_features=3, classifier__max_depth=5, classifier__criterion=gini, total=  13.3s\n",
            "[CV] classifier__n_estimators=300, classifier__min_samples_split=20, classifier__min_samples_leaf=8, classifier__max_features=3, classifier__max_depth=5, classifier__criterion=gini \n",
            "[CV]  classifier__n_estimators=300, classifier__min_samples_split=20, classifier__min_samples_leaf=8, classifier__max_features=3, classifier__max_depth=5, classifier__criterion=gini, total=  13.4s\n",
            "[CV] classifier__n_estimators=250, classifier__min_samples_split=20, classifier__min_samples_leaf=6, classifier__max_features=3, classifier__max_depth=10, classifier__criterion=gini \n",
            "[CV]  classifier__n_estimators=250, classifier__min_samples_split=20, classifier__min_samples_leaf=6, classifier__max_features=3, classifier__max_depth=10, classifier__criterion=gini, total=  17.0s\n",
            "[CV] classifier__n_estimators=250, classifier__min_samples_split=20, classifier__min_samples_leaf=6, classifier__max_features=3, classifier__max_depth=10, classifier__criterion=gini \n",
            "[CV]  classifier__n_estimators=250, classifier__min_samples_split=20, classifier__min_samples_leaf=6, classifier__max_features=3, classifier__max_depth=10, classifier__criterion=gini, total=  17.1s\n",
            "[CV] classifier__n_estimators=250, classifier__min_samples_split=20, classifier__min_samples_leaf=6, classifier__max_features=3, classifier__max_depth=10, classifier__criterion=gini \n",
            "[CV]  classifier__n_estimators=250, classifier__min_samples_split=20, classifier__min_samples_leaf=6, classifier__max_features=3, classifier__max_depth=10, classifier__criterion=gini, total=  17.0s\n",
            "[CV] classifier__n_estimators=250, classifier__min_samples_split=20, classifier__min_samples_leaf=6, classifier__max_features=3, classifier__max_depth=10, classifier__criterion=gini \n",
            "[CV]  classifier__n_estimators=250, classifier__min_samples_split=20, classifier__min_samples_leaf=6, classifier__max_features=3, classifier__max_depth=10, classifier__criterion=gini, total=  16.7s\n",
            "[CV] classifier__n_estimators=250, classifier__min_samples_split=20, classifier__min_samples_leaf=6, classifier__max_features=3, classifier__max_depth=10, classifier__criterion=gini \n",
            "[CV]  classifier__n_estimators=250, classifier__min_samples_split=20, classifier__min_samples_leaf=6, classifier__max_features=3, classifier__max_depth=10, classifier__criterion=gini, total=  16.5s\n",
            "[CV] classifier__n_estimators=250, classifier__min_samples_split=2, classifier__min_samples_leaf=8, classifier__max_features=5, classifier__max_depth=8, classifier__criterion=entropy \n",
            "[CV]  classifier__n_estimators=250, classifier__min_samples_split=2, classifier__min_samples_leaf=8, classifier__max_features=5, classifier__max_depth=8, classifier__criterion=entropy, total=  24.3s\n",
            "[CV] classifier__n_estimators=250, classifier__min_samples_split=2, classifier__min_samples_leaf=8, classifier__max_features=5, classifier__max_depth=8, classifier__criterion=entropy \n",
            "[CV]  classifier__n_estimators=250, classifier__min_samples_split=2, classifier__min_samples_leaf=8, classifier__max_features=5, classifier__max_depth=8, classifier__criterion=entropy, total=  24.2s\n",
            "[CV] classifier__n_estimators=250, classifier__min_samples_split=2, classifier__min_samples_leaf=8, classifier__max_features=5, classifier__max_depth=8, classifier__criterion=entropy \n",
            "[CV]  classifier__n_estimators=250, classifier__min_samples_split=2, classifier__min_samples_leaf=8, classifier__max_features=5, classifier__max_depth=8, classifier__criterion=entropy, total=  24.1s\n",
            "[CV] classifier__n_estimators=250, classifier__min_samples_split=2, classifier__min_samples_leaf=8, classifier__max_features=5, classifier__max_depth=8, classifier__criterion=entropy \n",
            "[CV]  classifier__n_estimators=250, classifier__min_samples_split=2, classifier__min_samples_leaf=8, classifier__max_features=5, classifier__max_depth=8, classifier__criterion=entropy, total=  24.2s\n",
            "[CV] classifier__n_estimators=250, classifier__min_samples_split=2, classifier__min_samples_leaf=8, classifier__max_features=5, classifier__max_depth=8, classifier__criterion=entropy \n",
            "[CV]  classifier__n_estimators=250, classifier__min_samples_split=2, classifier__min_samples_leaf=8, classifier__max_features=5, classifier__max_depth=8, classifier__criterion=entropy, total=  24.3s\n",
            "[CV] classifier__n_estimators=250, classifier__min_samples_split=20, classifier__min_samples_leaf=8, classifier__max_features=5, classifier__max_depth=8, classifier__criterion=gini \n",
            "[CV]  classifier__n_estimators=250, classifier__min_samples_split=20, classifier__min_samples_leaf=8, classifier__max_features=5, classifier__max_depth=8, classifier__criterion=gini, total=  19.7s\n",
            "[CV] classifier__n_estimators=250, classifier__min_samples_split=20, classifier__min_samples_leaf=8, classifier__max_features=5, classifier__max_depth=8, classifier__criterion=gini \n",
            "[CV]  classifier__n_estimators=250, classifier__min_samples_split=20, classifier__min_samples_leaf=8, classifier__max_features=5, classifier__max_depth=8, classifier__criterion=gini, total=  19.2s\n",
            "[CV] classifier__n_estimators=250, classifier__min_samples_split=20, classifier__min_samples_leaf=8, classifier__max_features=5, classifier__max_depth=8, classifier__criterion=gini \n",
            "[CV]  classifier__n_estimators=250, classifier__min_samples_split=20, classifier__min_samples_leaf=8, classifier__max_features=5, classifier__max_depth=8, classifier__criterion=gini, total=  19.5s\n",
            "[CV] classifier__n_estimators=250, classifier__min_samples_split=20, classifier__min_samples_leaf=8, classifier__max_features=5, classifier__max_depth=8, classifier__criterion=gini \n",
            "[CV]  classifier__n_estimators=250, classifier__min_samples_split=20, classifier__min_samples_leaf=8, classifier__max_features=5, classifier__max_depth=8, classifier__criterion=gini, total=  19.5s\n",
            "[CV] classifier__n_estimators=250, classifier__min_samples_split=20, classifier__min_samples_leaf=8, classifier__max_features=5, classifier__max_depth=8, classifier__criterion=gini \n",
            "[CV]  classifier__n_estimators=250, classifier__min_samples_split=20, classifier__min_samples_leaf=8, classifier__max_features=5, classifier__max_depth=8, classifier__criterion=gini, total=  19.7s\n",
            "[CV] classifier__n_estimators=300, classifier__min_samples_split=2, classifier__min_samples_leaf=10, classifier__max_features=5, classifier__max_depth=5, classifier__criterion=entropy \n",
            "[CV]  classifier__n_estimators=300, classifier__min_samples_split=2, classifier__min_samples_leaf=10, classifier__max_features=5, classifier__max_depth=5, classifier__criterion=entropy, total=  19.8s\n",
            "[CV] classifier__n_estimators=300, classifier__min_samples_split=2, classifier__min_samples_leaf=10, classifier__max_features=5, classifier__max_depth=5, classifier__criterion=entropy \n",
            "[CV]  classifier__n_estimators=300, classifier__min_samples_split=2, classifier__min_samples_leaf=10, classifier__max_features=5, classifier__max_depth=5, classifier__criterion=entropy, total=  20.0s\n",
            "[CV] classifier__n_estimators=300, classifier__min_samples_split=2, classifier__min_samples_leaf=10, classifier__max_features=5, classifier__max_depth=5, classifier__criterion=entropy \n",
            "[CV]  classifier__n_estimators=300, classifier__min_samples_split=2, classifier__min_samples_leaf=10, classifier__max_features=5, classifier__max_depth=5, classifier__criterion=entropy, total=  19.9s\n",
            "[CV] classifier__n_estimators=300, classifier__min_samples_split=2, classifier__min_samples_leaf=10, classifier__max_features=5, classifier__max_depth=5, classifier__criterion=entropy \n",
            "[CV]  classifier__n_estimators=300, classifier__min_samples_split=2, classifier__min_samples_leaf=10, classifier__max_features=5, classifier__max_depth=5, classifier__criterion=entropy, total=  20.0s\n",
            "[CV] classifier__n_estimators=300, classifier__min_samples_split=2, classifier__min_samples_leaf=10, classifier__max_features=5, classifier__max_depth=5, classifier__criterion=entropy \n",
            "[CV]  classifier__n_estimators=300, classifier__min_samples_split=2, classifier__min_samples_leaf=10, classifier__max_features=5, classifier__max_depth=5, classifier__criterion=entropy, total=  19.8s\n",
            "[CV] classifier__n_estimators=250, classifier__min_samples_split=20, classifier__min_samples_leaf=4, classifier__max_features=7, classifier__max_depth=5, classifier__criterion=gini \n",
            "[CV]  classifier__n_estimators=250, classifier__min_samples_split=20, classifier__min_samples_leaf=4, classifier__max_features=7, classifier__max_depth=5, classifier__criterion=gini, total=  17.7s\n",
            "[CV] classifier__n_estimators=250, classifier__min_samples_split=20, classifier__min_samples_leaf=4, classifier__max_features=7, classifier__max_depth=5, classifier__criterion=gini \n",
            "[CV]  classifier__n_estimators=250, classifier__min_samples_split=20, classifier__min_samples_leaf=4, classifier__max_features=7, classifier__max_depth=5, classifier__criterion=gini, total=  17.8s\n",
            "[CV] classifier__n_estimators=250, classifier__min_samples_split=20, classifier__min_samples_leaf=4, classifier__max_features=7, classifier__max_depth=5, classifier__criterion=gini \n",
            "[CV]  classifier__n_estimators=250, classifier__min_samples_split=20, classifier__min_samples_leaf=4, classifier__max_features=7, classifier__max_depth=5, classifier__criterion=gini, total=  17.8s\n",
            "[CV] classifier__n_estimators=250, classifier__min_samples_split=20, classifier__min_samples_leaf=4, classifier__max_features=7, classifier__max_depth=5, classifier__criterion=gini \n",
            "[CV]  classifier__n_estimators=250, classifier__min_samples_split=20, classifier__min_samples_leaf=4, classifier__max_features=7, classifier__max_depth=5, classifier__criterion=gini, total=  17.7s\n",
            "[CV] classifier__n_estimators=250, classifier__min_samples_split=20, classifier__min_samples_leaf=4, classifier__max_features=7, classifier__max_depth=5, classifier__criterion=gini \n",
            "[CV]  classifier__n_estimators=250, classifier__min_samples_split=20, classifier__min_samples_leaf=4, classifier__max_features=7, classifier__max_depth=5, classifier__criterion=gini, total=  18.0s\n",
            "[CV] classifier__n_estimators=250, classifier__min_samples_split=10, classifier__min_samples_leaf=6, classifier__max_features=5, classifier__max_depth=5, classifier__criterion=entropy \n",
            "[CV]  classifier__n_estimators=250, classifier__min_samples_split=10, classifier__min_samples_leaf=6, classifier__max_features=5, classifier__max_depth=5, classifier__criterion=entropy, total=  17.0s\n",
            "[CV] classifier__n_estimators=250, classifier__min_samples_split=10, classifier__min_samples_leaf=6, classifier__max_features=5, classifier__max_depth=5, classifier__criterion=entropy \n",
            "[CV]  classifier__n_estimators=250, classifier__min_samples_split=10, classifier__min_samples_leaf=6, classifier__max_features=5, classifier__max_depth=5, classifier__criterion=entropy, total=  17.1s\n",
            "[CV] classifier__n_estimators=250, classifier__min_samples_split=10, classifier__min_samples_leaf=6, classifier__max_features=5, classifier__max_depth=5, classifier__criterion=entropy \n",
            "[CV]  classifier__n_estimators=250, classifier__min_samples_split=10, classifier__min_samples_leaf=6, classifier__max_features=5, classifier__max_depth=5, classifier__criterion=entropy, total=  16.9s\n",
            "[CV] classifier__n_estimators=250, classifier__min_samples_split=10, classifier__min_samples_leaf=6, classifier__max_features=5, classifier__max_depth=5, classifier__criterion=entropy \n",
            "[CV]  classifier__n_estimators=250, classifier__min_samples_split=10, classifier__min_samples_leaf=6, classifier__max_features=5, classifier__max_depth=5, classifier__criterion=entropy, total=  16.9s\n",
            "[CV] classifier__n_estimators=250, classifier__min_samples_split=10, classifier__min_samples_leaf=6, classifier__max_features=5, classifier__max_depth=5, classifier__criterion=entropy \n",
            "[CV]  classifier__n_estimators=250, classifier__min_samples_split=10, classifier__min_samples_leaf=6, classifier__max_features=5, classifier__max_depth=5, classifier__criterion=entropy, total=  16.8s\n",
            "[CV] classifier__n_estimators=250, classifier__min_samples_split=10, classifier__min_samples_leaf=10, classifier__max_features=5, classifier__max_depth=8, classifier__criterion=gini \n",
            "[CV]  classifier__n_estimators=250, classifier__min_samples_split=10, classifier__min_samples_leaf=10, classifier__max_features=5, classifier__max_depth=8, classifier__criterion=gini, total=  19.5s\n",
            "[CV] classifier__n_estimators=250, classifier__min_samples_split=10, classifier__min_samples_leaf=10, classifier__max_features=5, classifier__max_depth=8, classifier__criterion=gini \n",
            "[CV]  classifier__n_estimators=250, classifier__min_samples_split=10, classifier__min_samples_leaf=10, classifier__max_features=5, classifier__max_depth=8, classifier__criterion=gini, total=  19.5s\n",
            "[CV] classifier__n_estimators=250, classifier__min_samples_split=10, classifier__min_samples_leaf=10, classifier__max_features=5, classifier__max_depth=8, classifier__criterion=gini \n",
            "[CV]  classifier__n_estimators=250, classifier__min_samples_split=10, classifier__min_samples_leaf=10, classifier__max_features=5, classifier__max_depth=8, classifier__criterion=gini, total=  19.7s\n",
            "[CV] classifier__n_estimators=250, classifier__min_samples_split=10, classifier__min_samples_leaf=10, classifier__max_features=5, classifier__max_depth=8, classifier__criterion=gini \n",
            "[CV]  classifier__n_estimators=250, classifier__min_samples_split=10, classifier__min_samples_leaf=10, classifier__max_features=5, classifier__max_depth=8, classifier__criterion=gini, total=  19.5s\n",
            "[CV] classifier__n_estimators=250, classifier__min_samples_split=10, classifier__min_samples_leaf=10, classifier__max_features=5, classifier__max_depth=8, classifier__criterion=gini \n",
            "[CV]  classifier__n_estimators=250, classifier__min_samples_split=10, classifier__min_samples_leaf=10, classifier__max_features=5, classifier__max_depth=8, classifier__criterion=gini, total=  19.6s\n",
            "[CV] classifier__n_estimators=300, classifier__min_samples_split=2, classifier__min_samples_leaf=4, classifier__max_features=3, classifier__max_depth=10, classifier__criterion=entropy \n",
            "[CV]  classifier__n_estimators=300, classifier__min_samples_split=2, classifier__min_samples_leaf=4, classifier__max_features=3, classifier__max_depth=10, classifier__criterion=entropy, total=  24.6s\n",
            "[CV] classifier__n_estimators=300, classifier__min_samples_split=2, classifier__min_samples_leaf=4, classifier__max_features=3, classifier__max_depth=10, classifier__criterion=entropy \n",
            "[CV]  classifier__n_estimators=300, classifier__min_samples_split=2, classifier__min_samples_leaf=4, classifier__max_features=3, classifier__max_depth=10, classifier__criterion=entropy, total=  25.4s\n",
            "[CV] classifier__n_estimators=300, classifier__min_samples_split=2, classifier__min_samples_leaf=4, classifier__max_features=3, classifier__max_depth=10, classifier__criterion=entropy \n",
            "[CV]  classifier__n_estimators=300, classifier__min_samples_split=2, classifier__min_samples_leaf=4, classifier__max_features=3, classifier__max_depth=10, classifier__criterion=entropy, total=  24.8s\n",
            "[CV] classifier__n_estimators=300, classifier__min_samples_split=2, classifier__min_samples_leaf=4, classifier__max_features=3, classifier__max_depth=10, classifier__criterion=entropy \n",
            "[CV]  classifier__n_estimators=300, classifier__min_samples_split=2, classifier__min_samples_leaf=4, classifier__max_features=3, classifier__max_depth=10, classifier__criterion=entropy, total=  24.9s\n",
            "[CV] classifier__n_estimators=300, classifier__min_samples_split=2, classifier__min_samples_leaf=4, classifier__max_features=3, classifier__max_depth=10, classifier__criterion=entropy \n",
            "[CV]  classifier__n_estimators=300, classifier__min_samples_split=2, classifier__min_samples_leaf=4, classifier__max_features=3, classifier__max_depth=10, classifier__criterion=entropy, total=  25.1s\n",
            "[CV] classifier__n_estimators=150, classifier__min_samples_split=10, classifier__min_samples_leaf=4, classifier__max_features=5, classifier__max_depth=5, classifier__criterion=entropy \n",
            "[CV]  classifier__n_estimators=150, classifier__min_samples_split=10, classifier__min_samples_leaf=4, classifier__max_features=5, classifier__max_depth=5, classifier__criterion=entropy, total=  11.0s\n",
            "[CV] classifier__n_estimators=150, classifier__min_samples_split=10, classifier__min_samples_leaf=4, classifier__max_features=5, classifier__max_depth=5, classifier__criterion=entropy \n",
            "[CV]  classifier__n_estimators=150, classifier__min_samples_split=10, classifier__min_samples_leaf=4, classifier__max_features=5, classifier__max_depth=5, classifier__criterion=entropy, total=  11.1s\n",
            "[CV] classifier__n_estimators=150, classifier__min_samples_split=10, classifier__min_samples_leaf=4, classifier__max_features=5, classifier__max_depth=5, classifier__criterion=entropy \n",
            "[CV]  classifier__n_estimators=150, classifier__min_samples_split=10, classifier__min_samples_leaf=4, classifier__max_features=5, classifier__max_depth=5, classifier__criterion=entropy, total=  11.0s\n",
            "[CV] classifier__n_estimators=150, classifier__min_samples_split=10, classifier__min_samples_leaf=4, classifier__max_features=5, classifier__max_depth=5, classifier__criterion=entropy \n",
            "[CV]  classifier__n_estimators=150, classifier__min_samples_split=10, classifier__min_samples_leaf=4, classifier__max_features=5, classifier__max_depth=5, classifier__criterion=entropy, total=  11.0s\n",
            "[CV] classifier__n_estimators=150, classifier__min_samples_split=10, classifier__min_samples_leaf=4, classifier__max_features=5, classifier__max_depth=5, classifier__criterion=entropy \n",
            "[CV]  classifier__n_estimators=150, classifier__min_samples_split=10, classifier__min_samples_leaf=4, classifier__max_features=5, classifier__max_depth=5, classifier__criterion=entropy, total=  11.0s\n",
            "[CV] classifier__n_estimators=150, classifier__min_samples_split=20, classifier__min_samples_leaf=8, classifier__max_features=7, classifier__max_depth=8, classifier__criterion=entropy \n",
            "[CV]  classifier__n_estimators=150, classifier__min_samples_split=20, classifier__min_samples_leaf=8, classifier__max_features=7, classifier__max_depth=8, classifier__criterion=entropy, total=  19.9s\n",
            "[CV] classifier__n_estimators=150, classifier__min_samples_split=20, classifier__min_samples_leaf=8, classifier__max_features=7, classifier__max_depth=8, classifier__criterion=entropy \n",
            "[CV]  classifier__n_estimators=150, classifier__min_samples_split=20, classifier__min_samples_leaf=8, classifier__max_features=7, classifier__max_depth=8, classifier__criterion=entropy, total=  19.6s\n",
            "[CV] classifier__n_estimators=150, classifier__min_samples_split=20, classifier__min_samples_leaf=8, classifier__max_features=7, classifier__max_depth=8, classifier__criterion=entropy \n",
            "[CV]  classifier__n_estimators=150, classifier__min_samples_split=20, classifier__min_samples_leaf=8, classifier__max_features=7, classifier__max_depth=8, classifier__criterion=entropy, total=  19.6s\n",
            "[CV] classifier__n_estimators=150, classifier__min_samples_split=20, classifier__min_samples_leaf=8, classifier__max_features=7, classifier__max_depth=8, classifier__criterion=entropy \n",
            "[CV]  classifier__n_estimators=150, classifier__min_samples_split=20, classifier__min_samples_leaf=8, classifier__max_features=7, classifier__max_depth=8, classifier__criterion=entropy, total=  19.6s\n",
            "[CV] classifier__n_estimators=150, classifier__min_samples_split=20, classifier__min_samples_leaf=8, classifier__max_features=7, classifier__max_depth=8, classifier__criterion=entropy \n",
            "[CV]  classifier__n_estimators=150, classifier__min_samples_split=20, classifier__min_samples_leaf=8, classifier__max_features=7, classifier__max_depth=8, classifier__criterion=entropy, total=  19.6s\n",
            "[CV] classifier__n_estimators=150, classifier__min_samples_split=20, classifier__min_samples_leaf=10, classifier__max_features=7, classifier__max_depth=10, classifier__criterion=entropy \n",
            "[CV]  classifier__n_estimators=150, classifier__min_samples_split=20, classifier__min_samples_leaf=10, classifier__max_features=7, classifier__max_depth=10, classifier__criterion=entropy, total=  23.7s\n",
            "[CV] classifier__n_estimators=150, classifier__min_samples_split=20, classifier__min_samples_leaf=10, classifier__max_features=7, classifier__max_depth=10, classifier__criterion=entropy \n",
            "[CV]  classifier__n_estimators=150, classifier__min_samples_split=20, classifier__min_samples_leaf=10, classifier__max_features=7, classifier__max_depth=10, classifier__criterion=entropy, total=  23.3s\n",
            "[CV] classifier__n_estimators=150, classifier__min_samples_split=20, classifier__min_samples_leaf=10, classifier__max_features=7, classifier__max_depth=10, classifier__criterion=entropy \n",
            "[CV]  classifier__n_estimators=150, classifier__min_samples_split=20, classifier__min_samples_leaf=10, classifier__max_features=7, classifier__max_depth=10, classifier__criterion=entropy, total=  23.8s\n",
            "[CV] classifier__n_estimators=150, classifier__min_samples_split=20, classifier__min_samples_leaf=10, classifier__max_features=7, classifier__max_depth=10, classifier__criterion=entropy \n",
            "[CV]  classifier__n_estimators=150, classifier__min_samples_split=20, classifier__min_samples_leaf=10, classifier__max_features=7, classifier__max_depth=10, classifier__criterion=entropy, total=  23.7s\n",
            "[CV] classifier__n_estimators=150, classifier__min_samples_split=20, classifier__min_samples_leaf=10, classifier__max_features=7, classifier__max_depth=10, classifier__criterion=entropy \n",
            "[CV]  classifier__n_estimators=150, classifier__min_samples_split=20, classifier__min_samples_leaf=10, classifier__max_features=7, classifier__max_depth=10, classifier__criterion=entropy, total=  23.6s\n",
            "[CV] classifier__n_estimators=150, classifier__min_samples_split=20, classifier__min_samples_leaf=4, classifier__max_features=3, classifier__max_depth=5, classifier__criterion=entropy \n",
            "[CV]  classifier__n_estimators=150, classifier__min_samples_split=20, classifier__min_samples_leaf=4, classifier__max_features=3, classifier__max_depth=5, classifier__criterion=entropy, total=   8.5s\n",
            "[CV] classifier__n_estimators=150, classifier__min_samples_split=20, classifier__min_samples_leaf=4, classifier__max_features=3, classifier__max_depth=5, classifier__criterion=entropy \n",
            "[CV]  classifier__n_estimators=150, classifier__min_samples_split=20, classifier__min_samples_leaf=4, classifier__max_features=3, classifier__max_depth=5, classifier__criterion=entropy, total=   8.4s\n",
            "[CV] classifier__n_estimators=150, classifier__min_samples_split=20, classifier__min_samples_leaf=4, classifier__max_features=3, classifier__max_depth=5, classifier__criterion=entropy \n",
            "[CV]  classifier__n_estimators=150, classifier__min_samples_split=20, classifier__min_samples_leaf=4, classifier__max_features=3, classifier__max_depth=5, classifier__criterion=entropy, total=   8.1s\n",
            "[CV] classifier__n_estimators=150, classifier__min_samples_split=20, classifier__min_samples_leaf=4, classifier__max_features=3, classifier__max_depth=5, classifier__criterion=entropy \n",
            "[CV]  classifier__n_estimators=150, classifier__min_samples_split=20, classifier__min_samples_leaf=4, classifier__max_features=3, classifier__max_depth=5, classifier__criterion=entropy, total=   8.3s\n",
            "[CV] classifier__n_estimators=150, classifier__min_samples_split=20, classifier__min_samples_leaf=4, classifier__max_features=3, classifier__max_depth=5, classifier__criterion=entropy \n",
            "[CV]  classifier__n_estimators=150, classifier__min_samples_split=20, classifier__min_samples_leaf=4, classifier__max_features=3, classifier__max_depth=5, classifier__criterion=entropy, total=   8.4s\n",
            "[CV] classifier__n_estimators=150, classifier__min_samples_split=10, classifier__min_samples_leaf=4, classifier__max_features=7, classifier__max_depth=10, classifier__criterion=gini \n",
            "[CV]  classifier__n_estimators=150, classifier__min_samples_split=10, classifier__min_samples_leaf=4, classifier__max_features=7, classifier__max_depth=10, classifier__criterion=gini, total=  17.9s\n",
            "[CV] classifier__n_estimators=150, classifier__min_samples_split=10, classifier__min_samples_leaf=4, classifier__max_features=7, classifier__max_depth=10, classifier__criterion=gini \n",
            "[CV]  classifier__n_estimators=150, classifier__min_samples_split=10, classifier__min_samples_leaf=4, classifier__max_features=7, classifier__max_depth=10, classifier__criterion=gini, total=  18.0s\n",
            "[CV] classifier__n_estimators=150, classifier__min_samples_split=10, classifier__min_samples_leaf=4, classifier__max_features=7, classifier__max_depth=10, classifier__criterion=gini \n",
            "[CV]  classifier__n_estimators=150, classifier__min_samples_split=10, classifier__min_samples_leaf=4, classifier__max_features=7, classifier__max_depth=10, classifier__criterion=gini, total=  17.8s\n",
            "[CV] classifier__n_estimators=150, classifier__min_samples_split=10, classifier__min_samples_leaf=4, classifier__max_features=7, classifier__max_depth=10, classifier__criterion=gini \n",
            "[CV]  classifier__n_estimators=150, classifier__min_samples_split=10, classifier__min_samples_leaf=4, classifier__max_features=7, classifier__max_depth=10, classifier__criterion=gini, total=  17.8s\n",
            "[CV] classifier__n_estimators=150, classifier__min_samples_split=10, classifier__min_samples_leaf=4, classifier__max_features=7, classifier__max_depth=10, classifier__criterion=gini \n",
            "[CV]  classifier__n_estimators=150, classifier__min_samples_split=10, classifier__min_samples_leaf=4, classifier__max_features=7, classifier__max_depth=10, classifier__criterion=gini, total=  17.9s\n",
            "[CV] classifier__n_estimators=150, classifier__min_samples_split=2, classifier__min_samples_leaf=6, classifier__max_features=7, classifier__max_depth=5, classifier__criterion=gini \n",
            "[CV]  classifier__n_estimators=150, classifier__min_samples_split=2, classifier__min_samples_leaf=6, classifier__max_features=7, classifier__max_depth=5, classifier__criterion=gini, total=  11.4s\n",
            "[CV] classifier__n_estimators=150, classifier__min_samples_split=2, classifier__min_samples_leaf=6, classifier__max_features=7, classifier__max_depth=5, classifier__criterion=gini \n",
            "[CV]  classifier__n_estimators=150, classifier__min_samples_split=2, classifier__min_samples_leaf=6, classifier__max_features=7, classifier__max_depth=5, classifier__criterion=gini, total=  11.3s\n",
            "[CV] classifier__n_estimators=150, classifier__min_samples_split=2, classifier__min_samples_leaf=6, classifier__max_features=7, classifier__max_depth=5, classifier__criterion=gini \n",
            "[CV]  classifier__n_estimators=150, classifier__min_samples_split=2, classifier__min_samples_leaf=6, classifier__max_features=7, classifier__max_depth=5, classifier__criterion=gini, total=  11.3s\n",
            "[CV] classifier__n_estimators=150, classifier__min_samples_split=2, classifier__min_samples_leaf=6, classifier__max_features=7, classifier__max_depth=5, classifier__criterion=gini \n",
            "[CV]  classifier__n_estimators=150, classifier__min_samples_split=2, classifier__min_samples_leaf=6, classifier__max_features=7, classifier__max_depth=5, classifier__criterion=gini, total=  11.4s\n",
            "[CV] classifier__n_estimators=150, classifier__min_samples_split=2, classifier__min_samples_leaf=6, classifier__max_features=7, classifier__max_depth=5, classifier__criterion=gini \n",
            "[CV]  classifier__n_estimators=150, classifier__min_samples_split=2, classifier__min_samples_leaf=6, classifier__max_features=7, classifier__max_depth=5, classifier__criterion=gini, total=  11.2s\n",
            "[CV] classifier__n_estimators=150, classifier__min_samples_split=10, classifier__min_samples_leaf=10, classifier__max_features=5, classifier__max_depth=10, classifier__criterion=gini \n",
            "[CV]  classifier__n_estimators=150, classifier__min_samples_split=10, classifier__min_samples_leaf=10, classifier__max_features=5, classifier__max_depth=10, classifier__criterion=gini, total=  14.4s\n",
            "[CV] classifier__n_estimators=150, classifier__min_samples_split=10, classifier__min_samples_leaf=10, classifier__max_features=5, classifier__max_depth=10, classifier__criterion=gini \n",
            "[CV]  classifier__n_estimators=150, classifier__min_samples_split=10, classifier__min_samples_leaf=10, classifier__max_features=5, classifier__max_depth=10, classifier__criterion=gini, total=  14.3s\n",
            "[CV] classifier__n_estimators=150, classifier__min_samples_split=10, classifier__min_samples_leaf=10, classifier__max_features=5, classifier__max_depth=10, classifier__criterion=gini \n",
            "[CV]  classifier__n_estimators=150, classifier__min_samples_split=10, classifier__min_samples_leaf=10, classifier__max_features=5, classifier__max_depth=10, classifier__criterion=gini, total=  14.3s\n",
            "[CV] classifier__n_estimators=150, classifier__min_samples_split=10, classifier__min_samples_leaf=10, classifier__max_features=5, classifier__max_depth=10, classifier__criterion=gini \n",
            "[CV]  classifier__n_estimators=150, classifier__min_samples_split=10, classifier__min_samples_leaf=10, classifier__max_features=5, classifier__max_depth=10, classifier__criterion=gini, total=  14.2s\n",
            "[CV] classifier__n_estimators=150, classifier__min_samples_split=10, classifier__min_samples_leaf=10, classifier__max_features=5, classifier__max_depth=10, classifier__criterion=gini \n",
            "[CV]  classifier__n_estimators=150, classifier__min_samples_split=10, classifier__min_samples_leaf=10, classifier__max_features=5, classifier__max_depth=10, classifier__criterion=gini, total=  14.3s\n",
            "[CV] classifier__n_estimators=150, classifier__min_samples_split=20, classifier__min_samples_leaf=8, classifier__max_features=7, classifier__max_depth=5, classifier__criterion=gini \n",
            "[CV]  classifier__n_estimators=150, classifier__min_samples_split=20, classifier__min_samples_leaf=8, classifier__max_features=7, classifier__max_depth=5, classifier__criterion=gini, total=  11.4s\n",
            "[CV] classifier__n_estimators=150, classifier__min_samples_split=20, classifier__min_samples_leaf=8, classifier__max_features=7, classifier__max_depth=5, classifier__criterion=gini \n",
            "[CV]  classifier__n_estimators=150, classifier__min_samples_split=20, classifier__min_samples_leaf=8, classifier__max_features=7, classifier__max_depth=5, classifier__criterion=gini, total=  11.4s\n",
            "[CV] classifier__n_estimators=150, classifier__min_samples_split=20, classifier__min_samples_leaf=8, classifier__max_features=7, classifier__max_depth=5, classifier__criterion=gini \n",
            "[CV]  classifier__n_estimators=150, classifier__min_samples_split=20, classifier__min_samples_leaf=8, classifier__max_features=7, classifier__max_depth=5, classifier__criterion=gini, total=  11.5s\n",
            "[CV] classifier__n_estimators=150, classifier__min_samples_split=20, classifier__min_samples_leaf=8, classifier__max_features=7, classifier__max_depth=5, classifier__criterion=gini \n",
            "[CV]  classifier__n_estimators=150, classifier__min_samples_split=20, classifier__min_samples_leaf=8, classifier__max_features=7, classifier__max_depth=5, classifier__criterion=gini, total=  11.3s\n",
            "[CV] classifier__n_estimators=150, classifier__min_samples_split=20, classifier__min_samples_leaf=8, classifier__max_features=7, classifier__max_depth=5, classifier__criterion=gini \n",
            "[CV]  classifier__n_estimators=150, classifier__min_samples_split=20, classifier__min_samples_leaf=8, classifier__max_features=7, classifier__max_depth=5, classifier__criterion=gini, total=  11.5s\n",
            "[CV] classifier__n_estimators=300, classifier__min_samples_split=2, classifier__min_samples_leaf=10, classifier__max_features=3, classifier__max_depth=10, classifier__criterion=gini \n",
            "[CV]  classifier__n_estimators=300, classifier__min_samples_split=2, classifier__min_samples_leaf=10, classifier__max_features=3, classifier__max_depth=10, classifier__criterion=gini, total=  19.5s\n",
            "[CV] classifier__n_estimators=300, classifier__min_samples_split=2, classifier__min_samples_leaf=10, classifier__max_features=3, classifier__max_depth=10, classifier__criterion=gini \n",
            "[CV]  classifier__n_estimators=300, classifier__min_samples_split=2, classifier__min_samples_leaf=10, classifier__max_features=3, classifier__max_depth=10, classifier__criterion=gini, total=  19.6s\n",
            "[CV] classifier__n_estimators=300, classifier__min_samples_split=2, classifier__min_samples_leaf=10, classifier__max_features=3, classifier__max_depth=10, classifier__criterion=gini \n",
            "[CV]  classifier__n_estimators=300, classifier__min_samples_split=2, classifier__min_samples_leaf=10, classifier__max_features=3, classifier__max_depth=10, classifier__criterion=gini, total=  19.7s\n",
            "[CV] classifier__n_estimators=300, classifier__min_samples_split=2, classifier__min_samples_leaf=10, classifier__max_features=3, classifier__max_depth=10, classifier__criterion=gini \n",
            "[CV]  classifier__n_estimators=300, classifier__min_samples_split=2, classifier__min_samples_leaf=10, classifier__max_features=3, classifier__max_depth=10, classifier__criterion=gini, total=  20.1s\n",
            "[CV] classifier__n_estimators=300, classifier__min_samples_split=2, classifier__min_samples_leaf=10, classifier__max_features=3, classifier__max_depth=10, classifier__criterion=gini \n",
            "[CV]  classifier__n_estimators=300, classifier__min_samples_split=2, classifier__min_samples_leaf=10, classifier__max_features=3, classifier__max_depth=10, classifier__criterion=gini, total=  20.1s\n",
            "[CV] classifier__n_estimators=300, classifier__min_samples_split=10, classifier__min_samples_leaf=8, classifier__max_features=7, classifier__max_depth=10, classifier__criterion=entropy \n",
            "[CV]  classifier__n_estimators=300, classifier__min_samples_split=10, classifier__min_samples_leaf=8, classifier__max_features=7, classifier__max_depth=10, classifier__criterion=entropy, total=  45.8s\n",
            "[CV] classifier__n_estimators=300, classifier__min_samples_split=10, classifier__min_samples_leaf=8, classifier__max_features=7, classifier__max_depth=10, classifier__criterion=entropy \n",
            "[CV]  classifier__n_estimators=300, classifier__min_samples_split=10, classifier__min_samples_leaf=8, classifier__max_features=7, classifier__max_depth=10, classifier__criterion=entropy, total=  45.6s\n",
            "[CV] classifier__n_estimators=300, classifier__min_samples_split=10, classifier__min_samples_leaf=8, classifier__max_features=7, classifier__max_depth=10, classifier__criterion=entropy \n",
            "[CV]  classifier__n_estimators=300, classifier__min_samples_split=10, classifier__min_samples_leaf=8, classifier__max_features=7, classifier__max_depth=10, classifier__criterion=entropy, total=  44.5s\n",
            "[CV] classifier__n_estimators=300, classifier__min_samples_split=10, classifier__min_samples_leaf=8, classifier__max_features=7, classifier__max_depth=10, classifier__criterion=entropy \n",
            "[CV]  classifier__n_estimators=300, classifier__min_samples_split=10, classifier__min_samples_leaf=8, classifier__max_features=7, classifier__max_depth=10, classifier__criterion=entropy, total=  44.5s\n",
            "[CV] classifier__n_estimators=300, classifier__min_samples_split=10, classifier__min_samples_leaf=8, classifier__max_features=7, classifier__max_depth=10, classifier__criterion=entropy \n",
            "[CV]  classifier__n_estimators=300, classifier__min_samples_split=10, classifier__min_samples_leaf=8, classifier__max_features=7, classifier__max_depth=10, classifier__criterion=entropy, total=  45.5s\n",
            "[CV] classifier__n_estimators=300, classifier__min_samples_split=2, classifier__min_samples_leaf=8, classifier__max_features=3, classifier__max_depth=5, classifier__criterion=gini \n",
            "[CV]  classifier__n_estimators=300, classifier__min_samples_split=2, classifier__min_samples_leaf=8, classifier__max_features=3, classifier__max_depth=5, classifier__criterion=gini, total=  13.3s\n",
            "[CV] classifier__n_estimators=300, classifier__min_samples_split=2, classifier__min_samples_leaf=8, classifier__max_features=3, classifier__max_depth=5, classifier__criterion=gini \n",
            "[CV]  classifier__n_estimators=300, classifier__min_samples_split=2, classifier__min_samples_leaf=8, classifier__max_features=3, classifier__max_depth=5, classifier__criterion=gini, total=  13.1s\n",
            "[CV] classifier__n_estimators=300, classifier__min_samples_split=2, classifier__min_samples_leaf=8, classifier__max_features=3, classifier__max_depth=5, classifier__criterion=gini \n",
            "[CV]  classifier__n_estimators=300, classifier__min_samples_split=2, classifier__min_samples_leaf=8, classifier__max_features=3, classifier__max_depth=5, classifier__criterion=gini, total=  13.3s\n",
            "[CV] classifier__n_estimators=300, classifier__min_samples_split=2, classifier__min_samples_leaf=8, classifier__max_features=3, classifier__max_depth=5, classifier__criterion=gini \n",
            "[CV]  classifier__n_estimators=300, classifier__min_samples_split=2, classifier__min_samples_leaf=8, classifier__max_features=3, classifier__max_depth=5, classifier__criterion=gini, total=  13.2s\n",
            "[CV] classifier__n_estimators=300, classifier__min_samples_split=2, classifier__min_samples_leaf=8, classifier__max_features=3, classifier__max_depth=5, classifier__criterion=gini \n",
            "[CV]  classifier__n_estimators=300, classifier__min_samples_split=2, classifier__min_samples_leaf=8, classifier__max_features=3, classifier__max_depth=5, classifier__criterion=gini, total=  13.3s\n",
            "[CV] classifier__n_estimators=300, classifier__min_samples_split=10, classifier__min_samples_leaf=6, classifier__max_features=7, classifier__max_depth=5, classifier__criterion=entropy \n",
            "[CV]  classifier__n_estimators=300, classifier__min_samples_split=10, classifier__min_samples_leaf=6, classifier__max_features=7, classifier__max_depth=5, classifier__criterion=entropy, total=  25.4s\n",
            "[CV] classifier__n_estimators=300, classifier__min_samples_split=10, classifier__min_samples_leaf=6, classifier__max_features=7, classifier__max_depth=5, classifier__criterion=entropy \n",
            "[CV]  classifier__n_estimators=300, classifier__min_samples_split=10, classifier__min_samples_leaf=6, classifier__max_features=7, classifier__max_depth=5, classifier__criterion=entropy, total=  25.3s\n",
            "[CV] classifier__n_estimators=300, classifier__min_samples_split=10, classifier__min_samples_leaf=6, classifier__max_features=7, classifier__max_depth=5, classifier__criterion=entropy \n",
            "[CV]  classifier__n_estimators=300, classifier__min_samples_split=10, classifier__min_samples_leaf=6, classifier__max_features=7, classifier__max_depth=5, classifier__criterion=entropy, total=  25.6s\n",
            "[CV] classifier__n_estimators=300, classifier__min_samples_split=10, classifier__min_samples_leaf=6, classifier__max_features=7, classifier__max_depth=5, classifier__criterion=entropy \n",
            "[CV]  classifier__n_estimators=300, classifier__min_samples_split=10, classifier__min_samples_leaf=6, classifier__max_features=7, classifier__max_depth=5, classifier__criterion=entropy, total=  25.2s\n",
            "[CV] classifier__n_estimators=300, classifier__min_samples_split=10, classifier__min_samples_leaf=6, classifier__max_features=7, classifier__max_depth=5, classifier__criterion=entropy \n",
            "[CV]  classifier__n_estimators=300, classifier__min_samples_split=10, classifier__min_samples_leaf=6, classifier__max_features=7, classifier__max_depth=5, classifier__criterion=entropy, total=  24.9s\n",
            "[CV] classifier__n_estimators=300, classifier__min_samples_split=10, classifier__min_samples_leaf=4, classifier__max_features=5, classifier__max_depth=10, classifier__criterion=entropy \n",
            "[CV]  classifier__n_estimators=300, classifier__min_samples_split=10, classifier__min_samples_leaf=4, classifier__max_features=5, classifier__max_depth=10, classifier__criterion=entropy, total=  35.4s\n",
            "[CV] classifier__n_estimators=300, classifier__min_samples_split=10, classifier__min_samples_leaf=4, classifier__max_features=5, classifier__max_depth=10, classifier__criterion=entropy \n",
            "[CV]  classifier__n_estimators=300, classifier__min_samples_split=10, classifier__min_samples_leaf=4, classifier__max_features=5, classifier__max_depth=10, classifier__criterion=entropy, total=  36.9s\n",
            "[CV] classifier__n_estimators=300, classifier__min_samples_split=10, classifier__min_samples_leaf=4, classifier__max_features=5, classifier__max_depth=10, classifier__criterion=entropy \n",
            "[CV]  classifier__n_estimators=300, classifier__min_samples_split=10, classifier__min_samples_leaf=4, classifier__max_features=5, classifier__max_depth=10, classifier__criterion=entropy, total=  34.7s\n",
            "[CV] classifier__n_estimators=300, classifier__min_samples_split=10, classifier__min_samples_leaf=4, classifier__max_features=5, classifier__max_depth=10, classifier__criterion=entropy \n",
            "[CV]  classifier__n_estimators=300, classifier__min_samples_split=10, classifier__min_samples_leaf=4, classifier__max_features=5, classifier__max_depth=10, classifier__criterion=entropy, total=  34.6s\n",
            "[CV] classifier__n_estimators=300, classifier__min_samples_split=10, classifier__min_samples_leaf=4, classifier__max_features=5, classifier__max_depth=10, classifier__criterion=entropy \n",
            "[CV]  classifier__n_estimators=300, classifier__min_samples_split=10, classifier__min_samples_leaf=4, classifier__max_features=5, classifier__max_depth=10, classifier__criterion=entropy, total=  34.7s\n",
            "[CV] classifier__n_estimators=250, classifier__min_samples_split=10, classifier__min_samples_leaf=6, classifier__max_features=5, classifier__max_depth=10, classifier__criterion=entropy \n",
            "[CV]  classifier__n_estimators=250, classifier__min_samples_split=10, classifier__min_samples_leaf=6, classifier__max_features=5, classifier__max_depth=10, classifier__criterion=entropy, total=  29.1s\n",
            "[CV] classifier__n_estimators=250, classifier__min_samples_split=10, classifier__min_samples_leaf=6, classifier__max_features=5, classifier__max_depth=10, classifier__criterion=entropy \n",
            "[CV]  classifier__n_estimators=250, classifier__min_samples_split=10, classifier__min_samples_leaf=6, classifier__max_features=5, classifier__max_depth=10, classifier__criterion=entropy, total=  29.1s\n",
            "[CV] classifier__n_estimators=250, classifier__min_samples_split=10, classifier__min_samples_leaf=6, classifier__max_features=5, classifier__max_depth=10, classifier__criterion=entropy \n",
            "[CV]  classifier__n_estimators=250, classifier__min_samples_split=10, classifier__min_samples_leaf=6, classifier__max_features=5, classifier__max_depth=10, classifier__criterion=entropy, total=  29.9s\n",
            "[CV] classifier__n_estimators=250, classifier__min_samples_split=10, classifier__min_samples_leaf=6, classifier__max_features=5, classifier__max_depth=10, classifier__criterion=entropy \n",
            "[CV]  classifier__n_estimators=250, classifier__min_samples_split=10, classifier__min_samples_leaf=6, classifier__max_features=5, classifier__max_depth=10, classifier__criterion=entropy, total=  30.0s\n",
            "[CV] classifier__n_estimators=250, classifier__min_samples_split=10, classifier__min_samples_leaf=6, classifier__max_features=5, classifier__max_depth=10, classifier__criterion=entropy \n",
            "[CV]  classifier__n_estimators=250, classifier__min_samples_split=10, classifier__min_samples_leaf=6, classifier__max_features=5, classifier__max_depth=10, classifier__criterion=entropy, total=  29.7s\n",
            "[CV] classifier__n_estimators=250, classifier__min_samples_split=20, classifier__min_samples_leaf=8, classifier__max_features=5, classifier__max_depth=10, classifier__criterion=gini \n",
            "[CV]  classifier__n_estimators=250, classifier__min_samples_split=20, classifier__min_samples_leaf=8, classifier__max_features=5, classifier__max_depth=10, classifier__criterion=gini, total=  23.3s\n",
            "[CV] classifier__n_estimators=250, classifier__min_samples_split=20, classifier__min_samples_leaf=8, classifier__max_features=5, classifier__max_depth=10, classifier__criterion=gini \n",
            "[CV]  classifier__n_estimators=250, classifier__min_samples_split=20, classifier__min_samples_leaf=8, classifier__max_features=5, classifier__max_depth=10, classifier__criterion=gini, total=  23.0s\n",
            "[CV] classifier__n_estimators=250, classifier__min_samples_split=20, classifier__min_samples_leaf=8, classifier__max_features=5, classifier__max_depth=10, classifier__criterion=gini \n",
            "[CV]  classifier__n_estimators=250, classifier__min_samples_split=20, classifier__min_samples_leaf=8, classifier__max_features=5, classifier__max_depth=10, classifier__criterion=gini, total=  22.7s\n",
            "[CV] classifier__n_estimators=250, classifier__min_samples_split=20, classifier__min_samples_leaf=8, classifier__max_features=5, classifier__max_depth=10, classifier__criterion=gini \n",
            "[CV]  classifier__n_estimators=250, classifier__min_samples_split=20, classifier__min_samples_leaf=8, classifier__max_features=5, classifier__max_depth=10, classifier__criterion=gini, total=  22.6s\n",
            "[CV] classifier__n_estimators=250, classifier__min_samples_split=20, classifier__min_samples_leaf=8, classifier__max_features=5, classifier__max_depth=10, classifier__criterion=gini \n",
            "[CV]  classifier__n_estimators=250, classifier__min_samples_split=20, classifier__min_samples_leaf=8, classifier__max_features=5, classifier__max_depth=10, classifier__criterion=gini, total=  22.5s\n",
            "[CV] classifier__n_estimators=250, classifier__min_samples_split=2, classifier__min_samples_leaf=4, classifier__max_features=3, classifier__max_depth=8, classifier__criterion=entropy \n",
            "[CV]  classifier__n_estimators=250, classifier__min_samples_split=2, classifier__min_samples_leaf=4, classifier__max_features=3, classifier__max_depth=8, classifier__criterion=entropy, total=  17.3s\n",
            "[CV] classifier__n_estimators=250, classifier__min_samples_split=2, classifier__min_samples_leaf=4, classifier__max_features=3, classifier__max_depth=8, classifier__criterion=entropy \n",
            "[CV]  classifier__n_estimators=250, classifier__min_samples_split=2, classifier__min_samples_leaf=4, classifier__max_features=3, classifier__max_depth=8, classifier__criterion=entropy, total=  17.2s\n",
            "[CV] classifier__n_estimators=250, classifier__min_samples_split=2, classifier__min_samples_leaf=4, classifier__max_features=3, classifier__max_depth=8, classifier__criterion=entropy \n",
            "[CV]  classifier__n_estimators=250, classifier__min_samples_split=2, classifier__min_samples_leaf=4, classifier__max_features=3, classifier__max_depth=8, classifier__criterion=entropy, total=  18.0s\n",
            "[CV] classifier__n_estimators=250, classifier__min_samples_split=2, classifier__min_samples_leaf=4, classifier__max_features=3, classifier__max_depth=8, classifier__criterion=entropy \n",
            "[CV]  classifier__n_estimators=250, classifier__min_samples_split=2, classifier__min_samples_leaf=4, classifier__max_features=3, classifier__max_depth=8, classifier__criterion=entropy, total=  17.2s\n",
            "[CV] classifier__n_estimators=250, classifier__min_samples_split=2, classifier__min_samples_leaf=4, classifier__max_features=3, classifier__max_depth=8, classifier__criterion=entropy \n",
            "[CV]  classifier__n_estimators=250, classifier__min_samples_split=2, classifier__min_samples_leaf=4, classifier__max_features=3, classifier__max_depth=8, classifier__criterion=entropy, total=  17.0s\n",
            "[CV] classifier__n_estimators=250, classifier__min_samples_split=10, classifier__min_samples_leaf=4, classifier__max_features=5, classifier__max_depth=8, classifier__criterion=entropy \n",
            "[CV]  classifier__n_estimators=250, classifier__min_samples_split=10, classifier__min_samples_leaf=4, classifier__max_features=5, classifier__max_depth=8, classifier__criterion=entropy, total=  23.1s\n",
            "[CV] classifier__n_estimators=250, classifier__min_samples_split=10, classifier__min_samples_leaf=4, classifier__max_features=5, classifier__max_depth=8, classifier__criterion=entropy \n",
            "[CV]  classifier__n_estimators=250, classifier__min_samples_split=10, classifier__min_samples_leaf=4, classifier__max_features=5, classifier__max_depth=8, classifier__criterion=entropy, total=  23.3s\n",
            "[CV] classifier__n_estimators=250, classifier__min_samples_split=10, classifier__min_samples_leaf=4, classifier__max_features=5, classifier__max_depth=8, classifier__criterion=entropy \n",
            "[CV]  classifier__n_estimators=250, classifier__min_samples_split=10, classifier__min_samples_leaf=4, classifier__max_features=5, classifier__max_depth=8, classifier__criterion=entropy, total=  23.2s\n",
            "[CV] classifier__n_estimators=250, classifier__min_samples_split=10, classifier__min_samples_leaf=4, classifier__max_features=5, classifier__max_depth=8, classifier__criterion=entropy \n",
            "[CV]  classifier__n_estimators=250, classifier__min_samples_split=10, classifier__min_samples_leaf=4, classifier__max_features=5, classifier__max_depth=8, classifier__criterion=entropy, total=  23.1s\n",
            "[CV] classifier__n_estimators=250, classifier__min_samples_split=10, classifier__min_samples_leaf=4, classifier__max_features=5, classifier__max_depth=8, classifier__criterion=entropy \n",
            "[CV]  classifier__n_estimators=250, classifier__min_samples_split=10, classifier__min_samples_leaf=4, classifier__max_features=5, classifier__max_depth=8, classifier__criterion=entropy, total=  23.1s\n",
            "[CV] classifier__n_estimators=300, classifier__min_samples_split=10, classifier__min_samples_leaf=4, classifier__max_features=5, classifier__max_depth=5, classifier__criterion=entropy \n",
            "[CV]  classifier__n_estimators=300, classifier__min_samples_split=10, classifier__min_samples_leaf=4, classifier__max_features=5, classifier__max_depth=5, classifier__criterion=entropy, total=  19.4s\n",
            "[CV] classifier__n_estimators=300, classifier__min_samples_split=10, classifier__min_samples_leaf=4, classifier__max_features=5, classifier__max_depth=5, classifier__criterion=entropy \n",
            "[CV]  classifier__n_estimators=300, classifier__min_samples_split=10, classifier__min_samples_leaf=4, classifier__max_features=5, classifier__max_depth=5, classifier__criterion=entropy, total=  19.6s\n",
            "[CV] classifier__n_estimators=300, classifier__min_samples_split=10, classifier__min_samples_leaf=4, classifier__max_features=5, classifier__max_depth=5, classifier__criterion=entropy \n",
            "[CV]  classifier__n_estimators=300, classifier__min_samples_split=10, classifier__min_samples_leaf=4, classifier__max_features=5, classifier__max_depth=5, classifier__criterion=entropy, total=  19.2s\n",
            "[CV] classifier__n_estimators=300, classifier__min_samples_split=10, classifier__min_samples_leaf=4, classifier__max_features=5, classifier__max_depth=5, classifier__criterion=entropy \n",
            "[CV]  classifier__n_estimators=300, classifier__min_samples_split=10, classifier__min_samples_leaf=4, classifier__max_features=5, classifier__max_depth=5, classifier__criterion=entropy, total=  19.2s\n",
            "[CV] classifier__n_estimators=300, classifier__min_samples_split=10, classifier__min_samples_leaf=4, classifier__max_features=5, classifier__max_depth=5, classifier__criterion=entropy \n",
            "[CV]  classifier__n_estimators=300, classifier__min_samples_split=10, classifier__min_samples_leaf=4, classifier__max_features=5, classifier__max_depth=5, classifier__criterion=entropy, total=  19.0s\n",
            "[CV] classifier__n_estimators=250, classifier__min_samples_split=20, classifier__min_samples_leaf=8, classifier__max_features=3, classifier__max_depth=5, classifier__criterion=gini \n",
            "[CV]  classifier__n_estimators=250, classifier__min_samples_split=20, classifier__min_samples_leaf=8, classifier__max_features=3, classifier__max_depth=5, classifier__criterion=gini, total=  11.1s\n",
            "[CV] classifier__n_estimators=250, classifier__min_samples_split=20, classifier__min_samples_leaf=8, classifier__max_features=3, classifier__max_depth=5, classifier__criterion=gini \n",
            "[CV]  classifier__n_estimators=250, classifier__min_samples_split=20, classifier__min_samples_leaf=8, classifier__max_features=3, classifier__max_depth=5, classifier__criterion=gini, total=  10.9s\n",
            "[CV] classifier__n_estimators=250, classifier__min_samples_split=20, classifier__min_samples_leaf=8, classifier__max_features=3, classifier__max_depth=5, classifier__criterion=gini \n",
            "[CV]  classifier__n_estimators=250, classifier__min_samples_split=20, classifier__min_samples_leaf=8, classifier__max_features=3, classifier__max_depth=5, classifier__criterion=gini, total=  11.3s\n",
            "[CV] classifier__n_estimators=250, classifier__min_samples_split=20, classifier__min_samples_leaf=8, classifier__max_features=3, classifier__max_depth=5, classifier__criterion=gini \n",
            "[CV]  classifier__n_estimators=250, classifier__min_samples_split=20, classifier__min_samples_leaf=8, classifier__max_features=3, classifier__max_depth=5, classifier__criterion=gini, total=  11.0s\n",
            "[CV] classifier__n_estimators=250, classifier__min_samples_split=20, classifier__min_samples_leaf=8, classifier__max_features=3, classifier__max_depth=5, classifier__criterion=gini \n",
            "[CV]  classifier__n_estimators=250, classifier__min_samples_split=20, classifier__min_samples_leaf=8, classifier__max_features=3, classifier__max_depth=5, classifier__criterion=gini, total=  11.0s\n",
            "[CV] classifier__n_estimators=150, classifier__min_samples_split=20, classifier__min_samples_leaf=6, classifier__max_features=3, classifier__max_depth=8, classifier__criterion=gini \n",
            "[CV]  classifier__n_estimators=150, classifier__min_samples_split=20, classifier__min_samples_leaf=6, classifier__max_features=3, classifier__max_depth=8, classifier__criterion=gini, total=   9.2s\n",
            "[CV] classifier__n_estimators=150, classifier__min_samples_split=20, classifier__min_samples_leaf=6, classifier__max_features=3, classifier__max_depth=8, classifier__criterion=gini \n",
            "[CV]  classifier__n_estimators=150, classifier__min_samples_split=20, classifier__min_samples_leaf=6, classifier__max_features=3, classifier__max_depth=8, classifier__criterion=gini, total=   9.1s\n",
            "[CV] classifier__n_estimators=150, classifier__min_samples_split=20, classifier__min_samples_leaf=6, classifier__max_features=3, classifier__max_depth=8, classifier__criterion=gini \n",
            "[CV]  classifier__n_estimators=150, classifier__min_samples_split=20, classifier__min_samples_leaf=6, classifier__max_features=3, classifier__max_depth=8, classifier__criterion=gini, total=   9.2s\n",
            "[CV] classifier__n_estimators=150, classifier__min_samples_split=20, classifier__min_samples_leaf=6, classifier__max_features=3, classifier__max_depth=8, classifier__criterion=gini \n",
            "[CV]  classifier__n_estimators=150, classifier__min_samples_split=20, classifier__min_samples_leaf=6, classifier__max_features=3, classifier__max_depth=8, classifier__criterion=gini, total=   9.2s\n",
            "[CV] classifier__n_estimators=150, classifier__min_samples_split=20, classifier__min_samples_leaf=6, classifier__max_features=3, classifier__max_depth=8, classifier__criterion=gini \n",
            "[CV]  classifier__n_estimators=150, classifier__min_samples_split=20, classifier__min_samples_leaf=6, classifier__max_features=3, classifier__max_depth=8, classifier__criterion=gini, total=   9.3s\n",
            "[CV] classifier__n_estimators=300, classifier__min_samples_split=2, classifier__min_samples_leaf=8, classifier__max_features=5, classifier__max_depth=5, classifier__criterion=entropy \n",
            "[CV]  classifier__n_estimators=300, classifier__min_samples_split=2, classifier__min_samples_leaf=8, classifier__max_features=5, classifier__max_depth=5, classifier__criterion=entropy, total=  19.5s\n",
            "[CV] classifier__n_estimators=300, classifier__min_samples_split=2, classifier__min_samples_leaf=8, classifier__max_features=5, classifier__max_depth=5, classifier__criterion=entropy \n",
            "[CV]  classifier__n_estimators=300, classifier__min_samples_split=2, classifier__min_samples_leaf=8, classifier__max_features=5, classifier__max_depth=5, classifier__criterion=entropy, total=  19.2s\n",
            "[CV] classifier__n_estimators=300, classifier__min_samples_split=2, classifier__min_samples_leaf=8, classifier__max_features=5, classifier__max_depth=5, classifier__criterion=entropy \n",
            "[CV]  classifier__n_estimators=300, classifier__min_samples_split=2, classifier__min_samples_leaf=8, classifier__max_features=5, classifier__max_depth=5, classifier__criterion=entropy, total=  19.4s\n",
            "[CV] classifier__n_estimators=300, classifier__min_samples_split=2, classifier__min_samples_leaf=8, classifier__max_features=5, classifier__max_depth=5, classifier__criterion=entropy \n",
            "[CV]  classifier__n_estimators=300, classifier__min_samples_split=2, classifier__min_samples_leaf=8, classifier__max_features=5, classifier__max_depth=5, classifier__criterion=entropy, total=  19.0s\n",
            "[CV] classifier__n_estimators=300, classifier__min_samples_split=2, classifier__min_samples_leaf=8, classifier__max_features=5, classifier__max_depth=5, classifier__criterion=entropy \n",
            "[CV]  classifier__n_estimators=300, classifier__min_samples_split=2, classifier__min_samples_leaf=8, classifier__max_features=5, classifier__max_depth=5, classifier__criterion=entropy, total=  19.2s\n",
            "[CV] classifier__n_estimators=300, classifier__min_samples_split=10, classifier__min_samples_leaf=10, classifier__max_features=7, classifier__max_depth=10, classifier__criterion=gini \n",
            "[CV]  classifier__n_estimators=300, classifier__min_samples_split=10, classifier__min_samples_leaf=10, classifier__max_features=7, classifier__max_depth=10, classifier__criterion=gini, total=  31.9s\n",
            "[CV] classifier__n_estimators=300, classifier__min_samples_split=10, classifier__min_samples_leaf=10, classifier__max_features=7, classifier__max_depth=10, classifier__criterion=gini \n",
            "[CV]  classifier__n_estimators=300, classifier__min_samples_split=10, classifier__min_samples_leaf=10, classifier__max_features=7, classifier__max_depth=10, classifier__criterion=gini, total=  33.7s\n",
            "[CV] classifier__n_estimators=300, classifier__min_samples_split=10, classifier__min_samples_leaf=10, classifier__max_features=7, classifier__max_depth=10, classifier__criterion=gini \n",
            "[CV]  classifier__n_estimators=300, classifier__min_samples_split=10, classifier__min_samples_leaf=10, classifier__max_features=7, classifier__max_depth=10, classifier__criterion=gini, total=  33.6s\n",
            "[CV] classifier__n_estimators=300, classifier__min_samples_split=10, classifier__min_samples_leaf=10, classifier__max_features=7, classifier__max_depth=10, classifier__criterion=gini \n",
            "[CV]  classifier__n_estimators=300, classifier__min_samples_split=10, classifier__min_samples_leaf=10, classifier__max_features=7, classifier__max_depth=10, classifier__criterion=gini, total=  32.5s\n",
            "[CV] classifier__n_estimators=300, classifier__min_samples_split=10, classifier__min_samples_leaf=10, classifier__max_features=7, classifier__max_depth=10, classifier__criterion=gini \n",
            "[CV]  classifier__n_estimators=300, classifier__min_samples_split=10, classifier__min_samples_leaf=10, classifier__max_features=7, classifier__max_depth=10, classifier__criterion=gini, total=  37.3s\n",
            "[CV] classifier__n_estimators=250, classifier__min_samples_split=20, classifier__min_samples_leaf=4, classifier__max_features=7, classifier__max_depth=10, classifier__criterion=gini \n",
            "[CV]  classifier__n_estimators=250, classifier__min_samples_split=20, classifier__min_samples_leaf=4, classifier__max_features=7, classifier__max_depth=10, classifier__criterion=gini, total=  28.6s\n",
            "[CV] classifier__n_estimators=250, classifier__min_samples_split=20, classifier__min_samples_leaf=4, classifier__max_features=7, classifier__max_depth=10, classifier__criterion=gini \n",
            "[CV]  classifier__n_estimators=250, classifier__min_samples_split=20, classifier__min_samples_leaf=4, classifier__max_features=7, classifier__max_depth=10, classifier__criterion=gini, total=  27.9s\n",
            "[CV] classifier__n_estimators=250, classifier__min_samples_split=20, classifier__min_samples_leaf=4, classifier__max_features=7, classifier__max_depth=10, classifier__criterion=gini \n",
            "[CV]  classifier__n_estimators=250, classifier__min_samples_split=20, classifier__min_samples_leaf=4, classifier__max_features=7, classifier__max_depth=10, classifier__criterion=gini, total=  28.0s\n",
            "[CV] classifier__n_estimators=250, classifier__min_samples_split=20, classifier__min_samples_leaf=4, classifier__max_features=7, classifier__max_depth=10, classifier__criterion=gini \n",
            "[CV]  classifier__n_estimators=250, classifier__min_samples_split=20, classifier__min_samples_leaf=4, classifier__max_features=7, classifier__max_depth=10, classifier__criterion=gini, total=  28.0s\n",
            "[CV] classifier__n_estimators=250, classifier__min_samples_split=20, classifier__min_samples_leaf=4, classifier__max_features=7, classifier__max_depth=10, classifier__criterion=gini \n",
            "[CV]  classifier__n_estimators=250, classifier__min_samples_split=20, classifier__min_samples_leaf=4, classifier__max_features=7, classifier__max_depth=10, classifier__criterion=gini, total=  26.2s\n",
            "[CV] classifier__n_estimators=250, classifier__min_samples_split=20, classifier__min_samples_leaf=6, classifier__max_features=5, classifier__max_depth=10, classifier__criterion=entropy \n",
            "[CV]  classifier__n_estimators=250, classifier__min_samples_split=20, classifier__min_samples_leaf=6, classifier__max_features=5, classifier__max_depth=10, classifier__criterion=entropy, total=  27.8s\n",
            "[CV] classifier__n_estimators=250, classifier__min_samples_split=20, classifier__min_samples_leaf=6, classifier__max_features=5, classifier__max_depth=10, classifier__criterion=entropy \n",
            "[CV]  classifier__n_estimators=250, classifier__min_samples_split=20, classifier__min_samples_leaf=6, classifier__max_features=5, classifier__max_depth=10, classifier__criterion=entropy, total=  28.0s\n",
            "[CV] classifier__n_estimators=250, classifier__min_samples_split=20, classifier__min_samples_leaf=6, classifier__max_features=5, classifier__max_depth=10, classifier__criterion=entropy \n",
            "[CV]  classifier__n_estimators=250, classifier__min_samples_split=20, classifier__min_samples_leaf=6, classifier__max_features=5, classifier__max_depth=10, classifier__criterion=entropy, total=  28.2s\n",
            "[CV] classifier__n_estimators=250, classifier__min_samples_split=20, classifier__min_samples_leaf=6, classifier__max_features=5, classifier__max_depth=10, classifier__criterion=entropy \n",
            "[CV]  classifier__n_estimators=250, classifier__min_samples_split=20, classifier__min_samples_leaf=6, classifier__max_features=5, classifier__max_depth=10, classifier__criterion=entropy, total=  28.1s\n",
            "[CV] classifier__n_estimators=250, classifier__min_samples_split=20, classifier__min_samples_leaf=6, classifier__max_features=5, classifier__max_depth=10, classifier__criterion=entropy \n",
            "[CV]  classifier__n_estimators=250, classifier__min_samples_split=20, classifier__min_samples_leaf=6, classifier__max_features=5, classifier__max_depth=10, classifier__criterion=entropy, total=  28.0s\n",
            "[CV] classifier__n_estimators=250, classifier__min_samples_split=2, classifier__min_samples_leaf=4, classifier__max_features=5, classifier__max_depth=8, classifier__criterion=entropy \n",
            "[CV]  classifier__n_estimators=250, classifier__min_samples_split=2, classifier__min_samples_leaf=4, classifier__max_features=5, classifier__max_depth=8, classifier__criterion=entropy, total=  22.5s\n",
            "[CV] classifier__n_estimators=250, classifier__min_samples_split=2, classifier__min_samples_leaf=4, classifier__max_features=5, classifier__max_depth=8, classifier__criterion=entropy \n",
            "[CV]  classifier__n_estimators=250, classifier__min_samples_split=2, classifier__min_samples_leaf=4, classifier__max_features=5, classifier__max_depth=8, classifier__criterion=entropy, total=  23.0s\n",
            "[CV] classifier__n_estimators=250, classifier__min_samples_split=2, classifier__min_samples_leaf=4, classifier__max_features=5, classifier__max_depth=8, classifier__criterion=entropy \n",
            "[CV]  classifier__n_estimators=250, classifier__min_samples_split=2, classifier__min_samples_leaf=4, classifier__max_features=5, classifier__max_depth=8, classifier__criterion=entropy, total=  22.8s\n",
            "[CV] classifier__n_estimators=250, classifier__min_samples_split=2, classifier__min_samples_leaf=4, classifier__max_features=5, classifier__max_depth=8, classifier__criterion=entropy \n",
            "[CV]  classifier__n_estimators=250, classifier__min_samples_split=2, classifier__min_samples_leaf=4, classifier__max_features=5, classifier__max_depth=8, classifier__criterion=entropy, total=  22.7s\n",
            "[CV] classifier__n_estimators=250, classifier__min_samples_split=2, classifier__min_samples_leaf=4, classifier__max_features=5, classifier__max_depth=8, classifier__criterion=entropy \n",
            "[CV]  classifier__n_estimators=250, classifier__min_samples_split=2, classifier__min_samples_leaf=4, classifier__max_features=5, classifier__max_depth=8, classifier__criterion=entropy, total=  23.4s\n"
          ],
          "name": "stdout"
        },
        {
          "output_type": "stream",
          "text": [
            "[Parallel(n_jobs=1)]: Done 500 out of 500 | elapsed: 164.8min finished\n"
          ],
          "name": "stderr"
        },
        {
          "output_type": "execute_result",
          "data": {
            "text/plain": [
              "RandomizedSearchCV(cv=StratifiedKFold(n_splits=5, random_state=143, shuffle=True),\n",
              "                   error_score=nan,\n",
              "                   estimator=Pipeline(memory=None,\n",
              "                                      steps=[('preprocessor',\n",
              "                                              ColumnTransformer(n_jobs=None,\n",
              "                                                                remainder='drop',\n",
              "                                                                sparse_threshold=0.3,\n",
              "                                                                transformer_weights=None,\n",
              "                                                                transformers=[('num',\n",
              "                                                                               Pipeline(memory=None,\n",
              "                                                                                        steps=[('imputer',\n",
              "                                                                                                SimpleImputer(add_indicator=False,\n",
              "                                                                                                              copy=True,\n",
              "                                                                                                              fil...\n",
              "                   param_distributions={'classifier__criterion': ['entropy',\n",
              "                                                                  'gini'],\n",
              "                                        'classifier__max_depth': [5, 8, 10],\n",
              "                                        'classifier__max_features': [3, 5, 7],\n",
              "                                        'classifier__min_samples_leaf': [4, 6,\n",
              "                                                                         8,\n",
              "                                                                         10],\n",
              "                                        'classifier__min_samples_split': [2, 10,\n",
              "                                                                          20],\n",
              "                                        'classifier__n_estimators': [150, 250,\n",
              "                                                                     300]},\n",
              "                   pre_dispatch='2*n_jobs', random_state=42, refit=True,\n",
              "                   return_train_score=False, scoring=None, verbose=2)"
            ]
          },
          "metadata": {
            "tags": []
          },
          "execution_count": 32
        }
      ]
    },
    {
      "cell_type": "code",
      "metadata": {
        "id": "-ZJzdwX7_3iU",
        "colab_type": "code",
        "outputId": "607c61be-c43c-4c25-db33-1d8071e43529",
        "colab": {
          "base_uri": "https://localhost:8080/",
          "height": 119
        }
      },
      "source": [
        "rf_grid.best_params_\n",
        "#{'classifier__criterion': 'gini',\n",
        " #'classifier__max_depth': 10,\n",
        " #'classifier__max_features': 7,\n",
        "#'classifier__min_samples_leaf': 8,\n",
        "# 'classifier__min_samples_split': 10,\n",
        " #'classifier__n_estimators': 300}"
      ],
      "execution_count": 0,
      "outputs": [
        {
          "output_type": "execute_result",
          "data": {
            "text/plain": [
              "{'classifier__criterion': 'gini',\n",
              " 'classifier__max_depth': 10,\n",
              " 'classifier__max_features': 7,\n",
              " 'classifier__min_samples_leaf': 8,\n",
              " 'classifier__min_samples_split': 10,\n",
              " 'classifier__n_estimators': 300}"
            ]
          },
          "metadata": {
            "tags": []
          },
          "execution_count": 33
        }
      ]
    },
    {
      "cell_type": "code",
      "metadata": {
        "id": "6shd7l25_3iX",
        "colab_type": "code",
        "outputId": "fc0c0028-b006-4ab0-fabb-fd782afe4662",
        "colab": {
          "base_uri": "https://localhost:8080/",
          "height": 153
        }
      },
      "source": [
        "train_pred = rf_grid.predict(X_train)\n",
        "test_pred = rf_grid.predict(X_test)\n",
        "\n",
        "print(rf_grid.score(X_train, y_train))\n",
        "print(rf_grid.score(X_test, y_test))\n",
        "\n",
        "print(confusion_matrix(y_true=y_train, y_pred = train_pred))\n",
        "\n",
        "confusion_matrix_test = confusion_matrix(y_true=y_test, y_pred =  test_pred)\n",
        "\n",
        "\n",
        "Accuracy_test=(confusion_matrix_test[0,0]+confusion_matrix_test[1,1])/(confusion_matrix_test[0,0]+confusion_matrix_test[0,1]+confusion_matrix_test[1,0]+confusion_matrix_test[1,1])\n",
        "\n",
        "Precision_Test= confusion_matrix_test[1,1]/(confusion_matrix_test[1,1]+confusion_matrix_test[0,1])\n",
        "Recall_Test= confusion_matrix_test[1,1]/(confusion_matrix_test[1,0]+confusion_matrix_test[1,1])\n",
        "\n",
        "print(\"Test Precision: \",Precision_Test)\n",
        "print(\"Test Recall: \",Recall_Test)\n",
        "print(\"Test Accuracy: \",Accuracy_test)"
      ],
      "execution_count": 0,
      "outputs": [
        {
          "output_type": "stream",
          "text": [
            "0.6908923468370535\n",
            "0.6845403106368435\n",
            "[[11755  8181  1791]\n",
            " [ 1684 39574  4118]\n",
            " [ 2216 14568 21442]]\n",
            "Test Precision:  0.82626481883453\n",
            "Test Recall:  0.9617141191332232\n",
            "Test Accuracy:  0.8380447585394581\n"
          ],
          "name": "stdout"
        }
      ]
    },
    {
      "cell_type": "code",
      "metadata": {
        "id": "tlKATVdK4er9",
        "colab_type": "code",
        "colab": {}
      },
      "source": [
        "valid_pred_rf = rf_grid.predict(valid_data)"
      ],
      "execution_count": 0,
      "outputs": []
    },
    {
      "cell_type": "code",
      "metadata": {
        "id": "Xtw_bChE4TUk",
        "colab_type": "code",
        "outputId": "d6df786b-93a0-41d8-8e76-50c31cf3e26a",
        "colab": {
          "base_uri": "https://localhost:8080/",
          "height": 34
        }
      },
      "source": [
        "valid_pred_rf"
      ],
      "execution_count": 0,
      "outputs": [
        {
          "output_type": "execute_result",
          "data": {
            "text/plain": [
              "array([1, 2, 2, ..., 1, 2, 2])"
            ]
          },
          "metadata": {
            "tags": []
          },
          "execution_count": 36
        }
      ]
    },
    {
      "cell_type": "code",
      "metadata": {
        "id": "dANBjo3z4ToA",
        "colab_type": "code",
        "outputId": "3174221b-6a4e-4dac-b13d-44f83d7c57b6",
        "colab": {
          "base_uri": "https://localhost:8080/",
          "height": 419
        }
      },
      "source": [
        "valid_pred_rf = pd.DataFrame(valid_pred_rf)\n",
        "valid_pred_rf"
      ],
      "execution_count": 0,
      "outputs": [
        {
          "output_type": "execute_result",
          "data": {
            "text/html": [
              "<div>\n",
              "<style scoped>\n",
              "    .dataframe tbody tr th:only-of-type {\n",
              "        vertical-align: middle;\n",
              "    }\n",
              "\n",
              "    .dataframe tbody tr th {\n",
              "        vertical-align: top;\n",
              "    }\n",
              "\n",
              "    .dataframe thead th {\n",
              "        text-align: right;\n",
              "    }\n",
              "</style>\n",
              "<table border=\"1\" class=\"dataframe\">\n",
              "  <thead>\n",
              "    <tr style=\"text-align: right;\">\n",
              "      <th></th>\n",
              "      <th>0</th>\n",
              "    </tr>\n",
              "  </thead>\n",
              "  <tbody>\n",
              "    <tr>\n",
              "      <th>0</th>\n",
              "      <td>1</td>\n",
              "    </tr>\n",
              "    <tr>\n",
              "      <th>1</th>\n",
              "      <td>2</td>\n",
              "    </tr>\n",
              "    <tr>\n",
              "      <th>2</th>\n",
              "      <td>2</td>\n",
              "    </tr>\n",
              "    <tr>\n",
              "      <th>3</th>\n",
              "      <td>2</td>\n",
              "    </tr>\n",
              "    <tr>\n",
              "      <th>4</th>\n",
              "      <td>2</td>\n",
              "    </tr>\n",
              "    <tr>\n",
              "      <th>...</th>\n",
              "      <td>...</td>\n",
              "    </tr>\n",
              "    <tr>\n",
              "      <th>87390</th>\n",
              "      <td>2</td>\n",
              "    </tr>\n",
              "    <tr>\n",
              "      <th>87391</th>\n",
              "      <td>2</td>\n",
              "    </tr>\n",
              "    <tr>\n",
              "      <th>87392</th>\n",
              "      <td>1</td>\n",
              "    </tr>\n",
              "    <tr>\n",
              "      <th>87393</th>\n",
              "      <td>2</td>\n",
              "    </tr>\n",
              "    <tr>\n",
              "      <th>87394</th>\n",
              "      <td>2</td>\n",
              "    </tr>\n",
              "  </tbody>\n",
              "</table>\n",
              "<p>87395 rows × 1 columns</p>\n",
              "</div>"
            ],
            "text/plain": [
              "       0\n",
              "0      1\n",
              "1      2\n",
              "2      2\n",
              "3      2\n",
              "4      2\n",
              "...   ..\n",
              "87390  2\n",
              "87391  2\n",
              "87392  1\n",
              "87393  2\n",
              "87394  2\n",
              "\n",
              "[87395 rows x 1 columns]"
            ]
          },
          "metadata": {
            "tags": []
          },
          "execution_count": 37
        }
      ]
    },
    {
      "cell_type": "code",
      "metadata": {
        "id": "Xu2qqRsa4T9_",
        "colab_type": "code",
        "colab": {}
      },
      "source": [
        "valid_pred_rf.to_csv('valid_pred_rf.csv')"
      ],
      "execution_count": 0,
      "outputs": []
    },
    {
      "cell_type": "markdown",
      "metadata": {
        "id": "8Ul1mOW1_3ia",
        "colab_type": "text"
      },
      "source": [
        "### _Build Gradient Boosting - 4_"
      ]
    },
    {
      "cell_type": "code",
      "metadata": {
        "id": "1VPPWE2m_3ib",
        "colab_type": "code",
        "colab": {}
      },
      "source": [
        "clf = Pipeline(steps=[('preprocessor', preprocessor),\n",
        "                      ('GBM',GradientBoostingClassifier())])"
      ],
      "execution_count": 0,
      "outputs": []
    },
    {
      "cell_type": "code",
      "metadata": {
        "id": "EwoA0-nW_3ie",
        "colab_type": "code",
        "outputId": "db11dee9-0d08-4f5b-e1e5-ba1462f07900",
        "colab": {
          "base_uri": "https://localhost:8080/",
          "height": 544
        }
      },
      "source": [
        "gbm_param_grid = {'GBM__max_depth': [8,10,12,14], 'GBM__subsample': [0.8, 0.6,], 'GBM__max_features':[0.2, 0.3], \n",
        "              'GBM__n_estimators': [10, 20, 30]}\n",
        "\n",
        "gbm_grid = GridSearchCV(clf, param_grid=gbm_param_grid, cv=3)\n",
        "\n",
        "gbm_grid.fit(X_train,y_train)"
      ],
      "execution_count": 0,
      "outputs": [
        {
          "output_type": "execute_result",
          "data": {
            "text/plain": [
              "GridSearchCV(cv=3, error_score=nan,\n",
              "             estimator=Pipeline(memory=None,\n",
              "                                steps=[('preprocessor',\n",
              "                                        ColumnTransformer(n_jobs=None,\n",
              "                                                          remainder='drop',\n",
              "                                                          sparse_threshold=0.3,\n",
              "                                                          transformer_weights=None,\n",
              "                                                          transformers=[('num',\n",
              "                                                                         Pipeline(memory=None,\n",
              "                                                                                  steps=[('imputer',\n",
              "                                                                                          SimpleImputer(add_indicator=False,\n",
              "                                                                                                        copy=True,\n",
              "                                                                                                        fill_value=None,\n",
              "                                                                                                        missing_values=nan,\n",
              "                                                                                                        strategy='mean',\n",
              "                                                                                                        verbose=0)),\n",
              "                                                                                         ('...\n",
              "                                                                   random_state=None,\n",
              "                                                                   subsample=1.0,\n",
              "                                                                   tol=0.0001,\n",
              "                                                                   validation_fraction=0.1,\n",
              "                                                                   verbose=0,\n",
              "                                                                   warm_start=False))],\n",
              "                                verbose=False),\n",
              "             iid='deprecated', n_jobs=None,\n",
              "             param_grid={'GBM__max_depth': [8, 10, 12, 14],\n",
              "                         'GBM__max_features': [0.2, 0.3],\n",
              "                         'GBM__n_estimators': [10, 20, 30],\n",
              "                         'GBM__subsample': [0.8, 0.6]},\n",
              "             pre_dispatch='2*n_jobs', refit=True, return_train_score=False,\n",
              "             scoring=None, verbose=0)"
            ]
          },
          "metadata": {
            "tags": []
          },
          "execution_count": 29
        }
      ]
    },
    {
      "cell_type": "code",
      "metadata": {
        "id": "crHXcW-6_3ig",
        "colab_type": "code",
        "outputId": "5dbe28e3-c281-4219-d7e7-3d37277dfccd",
        "colab": {
          "base_uri": "https://localhost:8080/",
          "height": 85
        }
      },
      "source": [
        "gbm_grid.best_params_\n",
        "#{'GBM__max_depth': 10,\n",
        " #'GBM__max_features': 0.3,\n",
        " #'GBM__n_estimators': 30,\n",
        " #'GBM__subsample': 0.8}"
      ],
      "execution_count": 0,
      "outputs": [
        {
          "output_type": "execute_result",
          "data": {
            "text/plain": [
              "{'GBM__max_depth': 10,\n",
              " 'GBM__max_features': 0.3,\n",
              " 'GBM__n_estimators': 30,\n",
              " 'GBM__subsample': 0.8}"
            ]
          },
          "metadata": {
            "tags": []
          },
          "execution_count": 30
        }
      ]
    },
    {
      "cell_type": "code",
      "metadata": {
        "scrolled": true,
        "id": "KWosjHB3_3im",
        "colab_type": "code",
        "outputId": "1f27597e-6221-4fe3-e4a3-ddf58e5e594d",
        "colab": {
          "base_uri": "https://localhost:8080/",
          "height": 153
        }
      },
      "source": [
        "train_pred = gbm_grid.predict(X_train)\n",
        "test_pred = gbm_grid.predict(X_test)\n",
        "\n",
        "print(gbm_grid.score(X_train, y_train))\n",
        "print(gbm_grid.score(X_test, y_test))\n",
        "\n",
        "print(confusion_matrix(y_true=y_train, y_pred = train_pred))\n",
        "\n",
        "confusion_matrix_test = confusion_matrix(y_true=y_test, y_pred =  test_pred)\n",
        "\n",
        "\n",
        "Accuracy_test=(confusion_matrix_test[0,0]+confusion_matrix_test[1,1])/(confusion_matrix_test[0,0]+confusion_matrix_test[0,1]+confusion_matrix_test[1,0]+confusion_matrix_test[1,1])\n",
        "\n",
        "Precision_Test= confusion_matrix_test[1,1]/(confusion_matrix_test[1,1]+confusion_matrix_test[0,1])\n",
        "Recall_Test= confusion_matrix_test[1,1]/(confusion_matrix_test[1,0]+confusion_matrix_test[1,1])\n",
        "\n",
        "print(\"Test Precision: \",Precision_Test)\n",
        "print(\"Test Recall: \",Recall_Test)\n",
        "print(\"Train Accuracy: \",Accuracy_test)"
      ],
      "execution_count": 0,
      "outputs": [
        {
          "output_type": "stream",
          "text": [
            "0.7319636567327137\n",
            "0.6908821630653552\n",
            "[[12324  7795  1608]\n",
            " [ 1457 39585  4334]\n",
            " [ 1375 11663 25188]]\n",
            "Test Precision:  0.8223672908434977\n",
            "Test Recall:  0.9611484790683666\n",
            "Train Accuracy:  0.8353674892703863\n"
          ],
          "name": "stdout"
        }
      ]
    },
    {
      "cell_type": "code",
      "metadata": {
        "id": "dO_C3z0P7oME",
        "colab_type": "code",
        "colab": {}
      },
      "source": [
        "valid_pred_gbm = gbm_grid.predict(valid_data)\n",
        "valid_pred_gbm = pd.DataFrame(valid_pred_gbm)\n",
        "valid_pred_gbm.to_csv('valid_pred_gbm.csv')\n",
        "valid_pred_gbm "
      ],
      "execution_count": 0,
      "outputs": []
    },
    {
      "cell_type": "code",
      "metadata": {
        "id": "Q7_ehXZABYjg",
        "colab_type": "code",
        "colab": {}
      },
      "source": [
        "### KNN "
      ],
      "execution_count": 0,
      "outputs": []
    },
    {
      "cell_type": "code",
      "metadata": {
        "id": "sj1B2wfgBZdU",
        "colab_type": "code",
        "colab": {}
      },
      "source": [
        "from sklearn.neighbors import KNeighborsClassifier\n",
        "clf_knn = Pipeline(steps=[('preprocessor', preprocessor),\n",
        "                      ('KNN',KNeighborsClassifier())])"
      ],
      "execution_count": 0,
      "outputs": []
    },
    {
      "cell_type": "code",
      "metadata": {
        "id": "MFFxSX8wBaM2",
        "colab_type": "code",
        "outputId": "c21c0bfd-fa43-4077-c4e7-be2c94f871da",
        "colab": {
          "base_uri": "https://localhost:8080/",
          "height": 918
        }
      },
      "source": [
        "knn_param_grid = {'KNN__n_neighbors':[23,25,30,40],\n",
        "    'KNN__weights':['uniform','distance'],\n",
        "    'KNN__metric':['euclidean','manhattan','minkowski']}\n",
        "\n",
        "knn_grid = GridSearchCV(clf, param_grid = knn_param_grid, cv=3)\n",
        "\n",
        "knn_grid.fit(X_train,y_train)"
      ],
      "execution_count": 0,
      "outputs": [
        {
          "output_type": "error",
          "ename": "TypeError",
          "evalue": "ignored",
          "traceback": [
            "\u001b[0;31m---------------------------------------------------------------------------\u001b[0m",
            "\u001b[0;31mTypeError\u001b[0m                                 Traceback (most recent call last)",
            "\u001b[0;32m<ipython-input-48-f5d87d50ee57>\u001b[0m in \u001b[0;36m<module>\u001b[0;34m()\u001b[0m\n\u001b[1;32m      5\u001b[0m \u001b[0mknn_grid\u001b[0m \u001b[0;34m=\u001b[0m \u001b[0mGridSearchCV\u001b[0m\u001b[0;34m(\u001b[0m\u001b[0mclf\u001b[0m\u001b[0;34m,\u001b[0m \u001b[0mparam_grid\u001b[0m \u001b[0;34m=\u001b[0m \u001b[0mknn_param_grid\u001b[0m\u001b[0;34m,\u001b[0m \u001b[0mcv\u001b[0m\u001b[0;34m=\u001b[0m\u001b[0;36m3\u001b[0m\u001b[0;34m)\u001b[0m\u001b[0;34m\u001b[0m\u001b[0;34m\u001b[0m\u001b[0m\n\u001b[1;32m      6\u001b[0m \u001b[0;34m\u001b[0m\u001b[0m\n\u001b[0;32m----> 7\u001b[0;31m \u001b[0mknn_grid\u001b[0m\u001b[0;34m.\u001b[0m\u001b[0mfit\u001b[0m\u001b[0;34m(\u001b[0m\u001b[0mX_train\u001b[0m\u001b[0;34m,\u001b[0m\u001b[0my_train\u001b[0m\u001b[0;34m)\u001b[0m\u001b[0;34m\u001b[0m\u001b[0;34m\u001b[0m\u001b[0m\n\u001b[0m",
            "\u001b[0;32m/usr/local/lib/python3.6/dist-packages/sklearn/model_selection/_search.py\u001b[0m in \u001b[0;36mfit\u001b[0;34m(self, X, y, groups, **fit_params)\u001b[0m\n\u001b[1;32m    627\u001b[0m \u001b[0;34m\u001b[0m\u001b[0m\n\u001b[1;32m    628\u001b[0m         scorers, self.multimetric_ = _check_multimetric_scoring(\n\u001b[0;32m--> 629\u001b[0;31m             self.estimator, scoring=self.scoring)\n\u001b[0m\u001b[1;32m    630\u001b[0m \u001b[0;34m\u001b[0m\u001b[0m\n\u001b[1;32m    631\u001b[0m         \u001b[0;32mif\u001b[0m \u001b[0mself\u001b[0m\u001b[0;34m.\u001b[0m\u001b[0mmultimetric_\u001b[0m\u001b[0;34m:\u001b[0m\u001b[0;34m\u001b[0m\u001b[0;34m\u001b[0m\u001b[0m\n",
            "\u001b[0;32m/usr/local/lib/python3.6/dist-packages/sklearn/metrics/_scorer.py\u001b[0m in \u001b[0;36m_check_multimetric_scoring\u001b[0;34m(estimator, scoring)\u001b[0m\n\u001b[1;32m    471\u001b[0m     if callable(scoring) or scoring is None or isinstance(scoring,\n\u001b[1;32m    472\u001b[0m                                                           str):\n\u001b[0;32m--> 473\u001b[0;31m         \u001b[0mscorers\u001b[0m \u001b[0;34m=\u001b[0m \u001b[0;34m{\u001b[0m\u001b[0;34m\"score\"\u001b[0m\u001b[0;34m:\u001b[0m \u001b[0mcheck_scoring\u001b[0m\u001b[0;34m(\u001b[0m\u001b[0mestimator\u001b[0m\u001b[0;34m,\u001b[0m \u001b[0mscoring\u001b[0m\u001b[0;34m=\u001b[0m\u001b[0mscoring\u001b[0m\u001b[0;34m)\u001b[0m\u001b[0;34m}\u001b[0m\u001b[0;34m\u001b[0m\u001b[0;34m\u001b[0m\u001b[0m\n\u001b[0m\u001b[1;32m    474\u001b[0m         \u001b[0;32mreturn\u001b[0m \u001b[0mscorers\u001b[0m\u001b[0;34m,\u001b[0m \u001b[0;32mFalse\u001b[0m\u001b[0;34m\u001b[0m\u001b[0;34m\u001b[0m\u001b[0m\n\u001b[1;32m    475\u001b[0m     \u001b[0;32melse\u001b[0m\u001b[0;34m:\u001b[0m\u001b[0;34m\u001b[0m\u001b[0;34m\u001b[0m\u001b[0m\n",
            "\u001b[0;32m/usr/local/lib/python3.6/dist-packages/sklearn/metrics/_scorer.py\u001b[0m in \u001b[0;36mcheck_scoring\u001b[0;34m(estimator, scoring, allow_none)\u001b[0m\n\u001b[1;32m    424\u001b[0m                 \u001b[0;34m\"If no scoring is specified, the estimator passed should \"\u001b[0m\u001b[0;34m\u001b[0m\u001b[0;34m\u001b[0m\u001b[0m\n\u001b[1;32m    425\u001b[0m                 \u001b[0;34m\"have a 'score' method. The estimator %r does not.\"\u001b[0m\u001b[0;34m\u001b[0m\u001b[0;34m\u001b[0m\u001b[0m\n\u001b[0;32m--> 426\u001b[0;31m                 % estimator)\n\u001b[0m\u001b[1;32m    427\u001b[0m     \u001b[0;32melif\u001b[0m \u001b[0misinstance\u001b[0m\u001b[0;34m(\u001b[0m\u001b[0mscoring\u001b[0m\u001b[0;34m,\u001b[0m \u001b[0mIterable\u001b[0m\u001b[0;34m)\u001b[0m\u001b[0;34m:\u001b[0m\u001b[0;34m\u001b[0m\u001b[0;34m\u001b[0m\u001b[0m\n\u001b[1;32m    428\u001b[0m         raise ValueError(\"For evaluating multiple scores, use \"\n",
            "\u001b[0;31mTypeError\u001b[0m: If no scoring is specified, the estimator passed should have a 'score' method. The estimator Pipeline(memory=None,\n         steps=[('preprocessor',\n                 ColumnTransformer(n_jobs=None, remainder='drop',\n                                   sparse_threshold=0.3,\n                                   transformer_weights=None,\n                                   transformers=[('num',\n                                                  Pipeline(memory=None,\n                                                           steps=[('imputer',\n                                                                   SimpleImputer(add_indicator=False,\n                                                                                 copy=True,\n                                                                                 fill_value=None,\n                                                                                 missing_values=nan,\n                                                                                 strategy='mean',\n                                                                                 verbose=0)),\n                                                                  ('scaler',\n                                                                   StandardScaler(copy=True,\n                                                                                  with_mean=T...\n                                                                   SimpleImputer(add_indicator=False,\n                                                                                 copy=True,\n                                                                                 fill_value=None,\n                                                                                 missing_values=nan,\n                                                                                 strategy='most_frequent',\n                                                                                 verbose=0)),\n                                                                  ('onehot',\n                                                                   OneHotEncoder(categories='auto',\n                                                                                 drop=None,\n                                                                                 dtype=<class 'numpy.float64'>,\n                                                                                 handle_unknown='ignore',\n                                                                                 sparse=True))],\n                                                           verbose=False),\n                                                  ['Confidence_Life_Style_Index',\n                                                   'Destination_Type', 'Gender',\n                                                   'Type_of_Cab'])],\n                                   verbose=False))],\n         verbose=False) does not."
          ]
        }
      ]
    },
    {
      "cell_type": "code",
      "metadata": {
        "id": "YzVfPmlSBaJQ",
        "colab_type": "code",
        "colab": {}
      },
      "source": [
        ".best_params_"
      ],
      "execution_count": 0,
      "outputs": []
    },
    {
      "cell_type": "code",
      "metadata": {
        "id": "u7Nc_op2BaGi",
        "colab_type": "code",
        "colab": {}
      },
      "source": [
        ""
      ],
      "execution_count": 0,
      "outputs": []
    },
    {
      "cell_type": "code",
      "metadata": {
        "id": "tiXOJCIDBaAO",
        "colab_type": "code",
        "colab": {}
      },
      "source": [
        ""
      ],
      "execution_count": 0,
      "outputs": []
    },
    {
      "cell_type": "code",
      "metadata": {
        "id": "EKXske31BZ4q",
        "colab_type": "code",
        "colab": {}
      },
      "source": [
        ""
      ],
      "execution_count": 0,
      "outputs": []
    },
    {
      "cell_type": "code",
      "metadata": {
        "id": "MRLbom6gBZ1R",
        "colab_type": "code",
        "colab": {}
      },
      "source": [
        ""
      ],
      "execution_count": 0,
      "outputs": []
    },
    {
      "cell_type": "code",
      "metadata": {
        "id": "ON99yvXyBZyi",
        "colab_type": "code",
        "colab": {}
      },
      "source": [
        ""
      ],
      "execution_count": 0,
      "outputs": []
    },
    {
      "cell_type": "code",
      "metadata": {
        "id": "VvoOLBbnBZR2",
        "colab_type": "code",
        "colab": {}
      },
      "source": [
        ""
      ],
      "execution_count": 0,
      "outputs": []
    },
    {
      "cell_type": "code",
      "metadata": {
        "id": "YUFS9JElBZMw",
        "colab_type": "code",
        "colab": {}
      },
      "source": [
        ""
      ],
      "execution_count": 0,
      "outputs": []
    },
    {
      "cell_type": "code",
      "metadata": {
        "id": "8nfgUVsHBZIo",
        "colab_type": "code",
        "colab": {}
      },
      "source": [
        ""
      ],
      "execution_count": 0,
      "outputs": []
    },
    {
      "cell_type": "code",
      "metadata": {
        "id": "8y7PBxWvBZA5",
        "colab_type": "code",
        "colab": {}
      },
      "source": [
        ""
      ],
      "execution_count": 0,
      "outputs": []
    },
    {
      "cell_type": "code",
      "metadata": {
        "id": "XXJ7pQRtBY3r",
        "colab_type": "code",
        "colab": {}
      },
      "source": [
        ""
      ],
      "execution_count": 0,
      "outputs": []
    },
    {
      "cell_type": "markdown",
      "metadata": {
        "id": "The-Kd1E_3ir",
        "colab_type": "text"
      },
      "source": [
        "## _Handling Imbalanced Data_\n",
        "\n",
        "### _1. Class Weights of loss function_"
      ]
    },
    {
      "cell_type": "code",
      "metadata": {
        "id": "mmCEF8g9_3is",
        "colab_type": "code",
        "outputId": "9dafa653-6899-4a48-b93b-8ec49c2d8e07",
        "colab": {
          "base_uri": "https://localhost:8080/",
          "height": 476
        }
      },
      "source": [
        "clf_dt = Pipeline(steps=[('preprocessor', preprocessor),\n",
        "                      ('classifier', DecisionTreeClassifier())])\n",
        "\n",
        "dt_param_grid = {'classifier__criterion': ['entropy', 'gini'], 'classifier__max_depth': [6,8,10,12], \n",
        "                 \"classifier__min_samples_split\": [2, 10, 20],\"classifier__min_samples_leaf\": [1, 5, 10],\n",
        "                 \"classifier__class_weight\":['balanced']}\n",
        "\n",
        "dt_grid_bal = GridSearchCV(clf_dt, param_grid=dt_param_grid, cv=5)\n",
        "dt_grid_bal.fit(X_train,y_train)"
      ],
      "execution_count": 0,
      "outputs": [
        {
          "output_type": "execute_result",
          "data": {
            "text/plain": [
              "GridSearchCV(cv=5, error_score=nan,\n",
              "             estimator=Pipeline(memory=None,\n",
              "                                steps=[('preprocessor',\n",
              "                                        ColumnTransformer(n_jobs=None,\n",
              "                                                          remainder='drop',\n",
              "                                                          sparse_threshold=0.3,\n",
              "                                                          transformer_weights=None,\n",
              "                                                          transformers=[('num',\n",
              "                                                                         Pipeline(memory=None,\n",
              "                                                                                  steps=[('imputer',\n",
              "                                                                                          SimpleImputer(add_indicator=False,\n",
              "                                                                                                        copy=True,\n",
              "                                                                                                        fill_value=None,\n",
              "                                                                                                        missing_values=nan,\n",
              "                                                                                                        strategy='mean',\n",
              "                                                                                                        verbose=0)),\n",
              "                                                                                         ('...\n",
              "                                                               splitter='best'))],\n",
              "                                verbose=False),\n",
              "             iid='deprecated', n_jobs=None,\n",
              "             param_grid={'classifier__class_weight': ['balanced'],\n",
              "                         'classifier__criterion': ['entropy', 'gini'],\n",
              "                         'classifier__max_depth': [6, 8, 10, 12],\n",
              "                         'classifier__min_samples_leaf': [1, 5, 10],\n",
              "                         'classifier__min_samples_split': [2, 10, 20]},\n",
              "             pre_dispatch='2*n_jobs', refit=True, return_train_score=False,\n",
              "             scoring=None, verbose=0)"
            ]
          },
          "metadata": {
            "tags": []
          },
          "execution_count": 20
        }
      ]
    },
    {
      "cell_type": "code",
      "metadata": {
        "id": "pN4wTOGEpXDS",
        "colab_type": "code",
        "outputId": "4904e467-c1d9-4e3e-f697-bb9127bad1f5",
        "colab": {
          "base_uri": "https://localhost:8080/",
          "height": 102
        }
      },
      "source": [
        "dt_grid_bal.best_params_\n",
        "#{'classifier__class_weight': 'balanced',\n",
        " #'classifier__criterion': 'gini',\n",
        " #'classifier__max_depth': 6,\n",
        " #'classifier__min_samples_leaf': 10,\n",
        " #'classifier__min_samples_split': 2}"
      ],
      "execution_count": 0,
      "outputs": [
        {
          "output_type": "execute_result",
          "data": {
            "text/plain": [
              "{'classifier__class_weight': 'balanced',\n",
              " 'classifier__criterion': 'gini',\n",
              " 'classifier__max_depth': 6,\n",
              " 'classifier__min_samples_leaf': 10,\n",
              " 'classifier__min_samples_split': 2}"
            ]
          },
          "metadata": {
            "tags": []
          },
          "execution_count": 21
        }
      ]
    },
    {
      "cell_type": "code",
      "metadata": {
        "id": "avhwRvSv_3iw",
        "colab_type": "code",
        "outputId": "3df65e26-c15a-450f-9e72-85fcdabf1f0c",
        "colab": {
          "base_uri": "https://localhost:8080/",
          "height": 153
        }
      },
      "source": [
        "train_pred = dt_grid_bal.predict(X_train)\n",
        "test_pred = dt_grid_bal.predict(X_test)\n",
        "\n",
        "print(dt_grid_bal.score(X_train, y_train))\n",
        "print(dt_grid_bal.score(X_test, y_test))\n",
        "\n",
        "print(confusion_matrix(y_true=y_train, y_pred = train_pred))\n",
        "\n",
        "confusion_matrix_test = confusion_matrix(y_true=y_test, y_pred =  test_pred)\n",
        "\n",
        "\n",
        "Accuracy_test=(confusion_matrix_test[0,0]+confusion_matrix_test[1,1])/(confusion_matrix_test[0,0]+confusion_matrix_test[0,1]+confusion_matrix_test[1,0]+confusion_matrix_test[1,1])\n",
        "\n",
        "Precision_Test= confusion_matrix_test[1,1]/(confusion_matrix_test[1,1]+confusion_matrix_test[0,1])\n",
        "Recall_Test= confusion_matrix_test[1,1]/(confusion_matrix_test[1,0]+confusion_matrix_test[1,1])\n",
        "\n",
        "print(\"Test Precision: \",Precision_Test)\n",
        "print(\"Test Recall: \",Recall_Test)\n",
        "print(\"Train Accuracy: \",Accuracy_test)"
      ],
      "execution_count": 0,
      "outputs": [
        {
          "output_type": "stream",
          "text": [
            "0.6677078487406127\n",
            "0.6693122697755668\n",
            "[[13011  7023  1693]\n",
            " [ 4043 36551  4782]\n",
            " [ 3520 13939 20767]]\n",
            "Test Precision:  0.8383783292427961\n",
            "Test Recall:  0.904481710306953\n",
            "Train Accuracy:  0.8193633081719724\n"
          ],
          "name": "stdout"
        }
      ]
    },
    {
      "cell_type": "code",
      "metadata": {
        "id": "SCvPpexl_3i0",
        "colab_type": "code",
        "colab": {}
      },
      "source": [
        "valid_pred_dt_bal = dt_grid_bal.predict(valid_data)"
      ],
      "execution_count": 0,
      "outputs": []
    },
    {
      "cell_type": "code",
      "metadata": {
        "id": "K6z3IMpj_3i4",
        "colab_type": "code",
        "outputId": "019762ba-2ad1-4329-adfc-8a1c8e0e4601",
        "colab": {
          "base_uri": "https://localhost:8080/",
          "height": 419
        }
      },
      "source": [
        "valid_pred_dt_bal = pd.DataFrame(valid_pred_dt_bal)\n",
        "valid_pred_dt_bal"
      ],
      "execution_count": 0,
      "outputs": [
        {
          "output_type": "execute_result",
          "data": {
            "text/html": [
              "<div>\n",
              "<style scoped>\n",
              "    .dataframe tbody tr th:only-of-type {\n",
              "        vertical-align: middle;\n",
              "    }\n",
              "\n",
              "    .dataframe tbody tr th {\n",
              "        vertical-align: top;\n",
              "    }\n",
              "\n",
              "    .dataframe thead th {\n",
              "        text-align: right;\n",
              "    }\n",
              "</style>\n",
              "<table border=\"1\" class=\"dataframe\">\n",
              "  <thead>\n",
              "    <tr style=\"text-align: right;\">\n",
              "      <th></th>\n",
              "      <th>0</th>\n",
              "    </tr>\n",
              "  </thead>\n",
              "  <tbody>\n",
              "    <tr>\n",
              "      <th>0</th>\n",
              "      <td>1</td>\n",
              "    </tr>\n",
              "    <tr>\n",
              "      <th>1</th>\n",
              "      <td>1</td>\n",
              "    </tr>\n",
              "    <tr>\n",
              "      <th>2</th>\n",
              "      <td>2</td>\n",
              "    </tr>\n",
              "    <tr>\n",
              "      <th>3</th>\n",
              "      <td>2</td>\n",
              "    </tr>\n",
              "    <tr>\n",
              "      <th>4</th>\n",
              "      <td>2</td>\n",
              "    </tr>\n",
              "    <tr>\n",
              "      <th>...</th>\n",
              "      <td>...</td>\n",
              "    </tr>\n",
              "    <tr>\n",
              "      <th>87390</th>\n",
              "      <td>2</td>\n",
              "    </tr>\n",
              "    <tr>\n",
              "      <th>87391</th>\n",
              "      <td>2</td>\n",
              "    </tr>\n",
              "    <tr>\n",
              "      <th>87392</th>\n",
              "      <td>1</td>\n",
              "    </tr>\n",
              "    <tr>\n",
              "      <th>87393</th>\n",
              "      <td>2</td>\n",
              "    </tr>\n",
              "    <tr>\n",
              "      <th>87394</th>\n",
              "      <td>1</td>\n",
              "    </tr>\n",
              "  </tbody>\n",
              "</table>\n",
              "<p>87395 rows × 1 columns</p>\n",
              "</div>"
            ],
            "text/plain": [
              "       0\n",
              "0      1\n",
              "1      1\n",
              "2      2\n",
              "3      2\n",
              "4      2\n",
              "...   ..\n",
              "87390  2\n",
              "87391  2\n",
              "87392  1\n",
              "87393  2\n",
              "87394  1\n",
              "\n",
              "[87395 rows x 1 columns]"
            ]
          },
          "metadata": {
            "tags": []
          },
          "execution_count": 26
        }
      ]
    },
    {
      "cell_type": "code",
      "metadata": {
        "id": "zNcdnvuQp0bf",
        "colab_type": "code",
        "colab": {}
      },
      "source": [
        "valid_pred_dt_bal.to_csv('valid_pred_dt_bal.csv')"
      ],
      "execution_count": 0,
      "outputs": []
    },
    {
      "cell_type": "markdown",
      "metadata": {
        "id": "5PH2i7My_3jB",
        "colab_type": "text"
      },
      "source": [
        "### _2. Oversample Using SMOTE_\n",
        "\n",
        "<img src=\"SMOTE.jpg\" width = '400'><br>"
      ]
    },
    {
      "cell_type": "code",
      "metadata": {
        "id": "DMK204TP_3jC",
        "colab_type": "code",
        "colab": {}
      },
      "source": [
        "clf = Pipeline(steps=[('preprocessor', preprocessor)])\n",
        "\n",
        "X_train_pp = pd.DataFrame(clf.fit_transform(X_train))\n",
        "X_test_pp = pd.DataFrame(clf.transform(X_test))"
      ],
      "execution_count": 0,
      "outputs": []
    },
    {
      "cell_type": "code",
      "metadata": {
        "id": "OQUDwNZI_3jG",
        "colab_type": "code",
        "outputId": "df80744a-e8f4-434d-af8c-463d615b7ce4",
        "colab": {
          "base_uri": "https://localhost:8080/",
          "height": 34
        }
      },
      "source": [
        "X_train_pp.shape"
      ],
      "execution_count": 0,
      "outputs": [
        {
          "output_type": "execute_result",
          "data": {
            "text/plain": [
              "(105329, 32)"
            ]
          },
          "metadata": {
            "tags": []
          },
          "execution_count": 36
        }
      ]
    },
    {
      "cell_type": "code",
      "metadata": {
        "id": "5MMTWssW_3jN",
        "colab_type": "code",
        "outputId": "86dc4bb0-a207-40c6-8ef3-2c287e8c2cc9",
        "colab": {
          "base_uri": "https://localhost:8080/",
          "height": 51
        }
      },
      "source": [
        "###### from imblearn.over_sampling import SMOTE\n",
        "\n",
        "smote = SMOTE('minority', random_state=0)\n",
        "\n",
        "\n",
        "os_data_X,os_data_y=smote.fit_sample(X_train_pp, y_train)\n",
        "\n",
        "os_data_X = pd.DataFrame(data=os_data_X)\n",
        "os_data_y= pd.DataFrame(data=os_data_y,columns=['Surge_Pricing_Type'])\n",
        "print(os_data_X.shape)\n",
        "os_data_y.shape\n",
        "\n",
        "# we can Check the numbers of our data\n",
        "#print(\"length of oversampled data is \",len(os_data_X))\n",
        "#print(\"Number of no subscription in oversampled data\",len(os_data_y[os_data_y['Surge_Pricing_Type']=='1']))\n",
        "#print(\"Number of subscription\",len(os_data_y[os_data_y['y']=='2']))\n",
        "#print(\"Proportion of no subscription data in oversampled data is \",len(os_data_y[os_data_y['y']=='1'])/len(os_data_X))\n",
        "#print(\"Proportion of subscription data in oversampled data is \",len(os_data_y[os_data_y['y']=='2'])/len(os_data_X))"
      ],
      "execution_count": 0,
      "outputs": [
        {
          "output_type": "stream",
          "text": [
            "(128978, 32)\n"
          ],
          "name": "stdout"
        },
        {
          "output_type": "execute_result",
          "data": {
            "text/plain": [
              "(128978, 1)"
            ]
          },
          "metadata": {
            "tags": []
          },
          "execution_count": 49
        }
      ]
    },
    {
      "cell_type": "code",
      "metadata": {
        "id": "x5h8iCXi_3jQ",
        "colab_type": "code",
        "outputId": "8eff56f8-1575-43cd-ffc1-409b988929e3",
        "colab": {
          "base_uri": "https://localhost:8080/",
          "height": 1000
        }
      },
      "source": [
        "clf_gbm_smote = Pipeline(steps=[('GBM_smote', GradientBoostingClassifier())])\n",
        "\n",
        "gbm_smote_param_grid = {'GBM_smote__max_depth': [8,10,12,14], 'GBM_smote__subsample': [0.8, 0.6,], \n",
        "                  'GBM_smote__max_features':[0.2, 0.3], \n",
        "              'GBM_smote__n_estimators': [10, 20, 30]}\n",
        "\n",
        "gbm_smote_grid = GridSearchCV(clf_gbm_smote, param_grid=gbm_smote_param_grid, cv = 5, verbose=2, n_jobs = 1)\n",
        "\n",
        "gbm_smote_grid.fit(os_data_X,os_data_y)\n",
        "#dt_param_grid = {'classifier__criterion': ['entropy', 'gini'], 'classifier__max_depth': [6,8,10,12], \n",
        "                 #\"classifier__min_samples_split\": [2, 10, 20],\"classifier__min_samples_leaf\": [1, 5, 10]}\n",
        "\n",
        "#dt_grid_bal = GridSearchCV(clf_dt, param_grid=dt_param_grid, cv=5)\n",
        "\n",
        "#dt_grid_bal.fit(os_data_X,os_data_y)"
      ],
      "execution_count": 0,
      "outputs": [
        {
          "output_type": "stream",
          "text": [
            "Fitting 5 folds for each of 48 candidates, totalling 240 fits\n",
            "[CV] GBM_smote__max_depth=8, GBM_smote__max_features=0.2, GBM_smote__n_estimators=10, GBM_smote__subsample=0.8 \n"
          ],
          "name": "stdout"
        },
        {
          "output_type": "stream",
          "text": [
            "[Parallel(n_jobs=1)]: Using backend SequentialBackend with 1 concurrent workers.\n"
          ],
          "name": "stderr"
        },
        {
          "output_type": "stream",
          "text": [
            "[CV]  GBM_smote__max_depth=8, GBM_smote__max_features=0.2, GBM_smote__n_estimators=10, GBM_smote__subsample=0.8, total=   5.9s\n",
            "[CV] GBM_smote__max_depth=8, GBM_smote__max_features=0.2, GBM_smote__n_estimators=10, GBM_smote__subsample=0.8 \n"
          ],
          "name": "stdout"
        },
        {
          "output_type": "stream",
          "text": [
            "[Parallel(n_jobs=1)]: Done   1 out of   1 | elapsed:    5.9s remaining:    0.0s\n"
          ],
          "name": "stderr"
        },
        {
          "output_type": "stream",
          "text": [
            "[CV]  GBM_smote__max_depth=8, GBM_smote__max_features=0.2, GBM_smote__n_estimators=10, GBM_smote__subsample=0.8, total=   5.8s\n",
            "[CV] GBM_smote__max_depth=8, GBM_smote__max_features=0.2, GBM_smote__n_estimators=10, GBM_smote__subsample=0.8 \n",
            "[CV]  GBM_smote__max_depth=8, GBM_smote__max_features=0.2, GBM_smote__n_estimators=10, GBM_smote__subsample=0.8, total=   5.7s\n",
            "[CV] GBM_smote__max_depth=8, GBM_smote__max_features=0.2, GBM_smote__n_estimators=10, GBM_smote__subsample=0.8 \n",
            "[CV]  GBM_smote__max_depth=8, GBM_smote__max_features=0.2, GBM_smote__n_estimators=10, GBM_smote__subsample=0.8, total=   5.6s\n",
            "[CV] GBM_smote__max_depth=8, GBM_smote__max_features=0.2, GBM_smote__n_estimators=10, GBM_smote__subsample=0.8 \n",
            "[CV]  GBM_smote__max_depth=8, GBM_smote__max_features=0.2, GBM_smote__n_estimators=10, GBM_smote__subsample=0.8, total=   5.6s\n",
            "[CV] GBM_smote__max_depth=8, GBM_smote__max_features=0.2, GBM_smote__n_estimators=10, GBM_smote__subsample=0.6 \n",
            "[CV]  GBM_smote__max_depth=8, GBM_smote__max_features=0.2, GBM_smote__n_estimators=10, GBM_smote__subsample=0.6, total=   4.8s\n",
            "[CV] GBM_smote__max_depth=8, GBM_smote__max_features=0.2, GBM_smote__n_estimators=10, GBM_smote__subsample=0.6 \n",
            "[CV]  GBM_smote__max_depth=8, GBM_smote__max_features=0.2, GBM_smote__n_estimators=10, GBM_smote__subsample=0.6, total=   4.9s\n",
            "[CV] GBM_smote__max_depth=8, GBM_smote__max_features=0.2, GBM_smote__n_estimators=10, GBM_smote__subsample=0.6 \n",
            "[CV]  GBM_smote__max_depth=8, GBM_smote__max_features=0.2, GBM_smote__n_estimators=10, GBM_smote__subsample=0.6, total=   4.8s\n",
            "[CV] GBM_smote__max_depth=8, GBM_smote__max_features=0.2, GBM_smote__n_estimators=10, GBM_smote__subsample=0.6 \n",
            "[CV]  GBM_smote__max_depth=8, GBM_smote__max_features=0.2, GBM_smote__n_estimators=10, GBM_smote__subsample=0.6, total=   4.7s\n",
            "[CV] GBM_smote__max_depth=8, GBM_smote__max_features=0.2, GBM_smote__n_estimators=10, GBM_smote__subsample=0.6 \n",
            "[CV]  GBM_smote__max_depth=8, GBM_smote__max_features=0.2, GBM_smote__n_estimators=10, GBM_smote__subsample=0.6, total=   4.7s\n",
            "[CV] GBM_smote__max_depth=8, GBM_smote__max_features=0.2, GBM_smote__n_estimators=20, GBM_smote__subsample=0.8 \n",
            "[CV]  GBM_smote__max_depth=8, GBM_smote__max_features=0.2, GBM_smote__n_estimators=20, GBM_smote__subsample=0.8, total=  11.6s\n",
            "[CV] GBM_smote__max_depth=8, GBM_smote__max_features=0.2, GBM_smote__n_estimators=20, GBM_smote__subsample=0.8 \n",
            "[CV]  GBM_smote__max_depth=8, GBM_smote__max_features=0.2, GBM_smote__n_estimators=20, GBM_smote__subsample=0.8, total=  11.4s\n",
            "[CV] GBM_smote__max_depth=8, GBM_smote__max_features=0.2, GBM_smote__n_estimators=20, GBM_smote__subsample=0.8 \n",
            "[CV]  GBM_smote__max_depth=8, GBM_smote__max_features=0.2, GBM_smote__n_estimators=20, GBM_smote__subsample=0.8, total=  11.3s\n",
            "[CV] GBM_smote__max_depth=8, GBM_smote__max_features=0.2, GBM_smote__n_estimators=20, GBM_smote__subsample=0.8 \n",
            "[CV]  GBM_smote__max_depth=8, GBM_smote__max_features=0.2, GBM_smote__n_estimators=20, GBM_smote__subsample=0.8, total=  11.1s\n",
            "[CV] GBM_smote__max_depth=8, GBM_smote__max_features=0.2, GBM_smote__n_estimators=20, GBM_smote__subsample=0.8 \n",
            "[CV]  GBM_smote__max_depth=8, GBM_smote__max_features=0.2, GBM_smote__n_estimators=20, GBM_smote__subsample=0.8, total=  11.2s\n",
            "[CV] GBM_smote__max_depth=8, GBM_smote__max_features=0.2, GBM_smote__n_estimators=20, GBM_smote__subsample=0.6 \n",
            "[CV]  GBM_smote__max_depth=8, GBM_smote__max_features=0.2, GBM_smote__n_estimators=20, GBM_smote__subsample=0.6, total=   9.8s\n",
            "[CV] GBM_smote__max_depth=8, GBM_smote__max_features=0.2, GBM_smote__n_estimators=20, GBM_smote__subsample=0.6 \n",
            "[CV]  GBM_smote__max_depth=8, GBM_smote__max_features=0.2, GBM_smote__n_estimators=20, GBM_smote__subsample=0.6, total=   9.5s\n",
            "[CV] GBM_smote__max_depth=8, GBM_smote__max_features=0.2, GBM_smote__n_estimators=20, GBM_smote__subsample=0.6 \n",
            "[CV]  GBM_smote__max_depth=8, GBM_smote__max_features=0.2, GBM_smote__n_estimators=20, GBM_smote__subsample=0.6, total=   9.4s\n",
            "[CV] GBM_smote__max_depth=8, GBM_smote__max_features=0.2, GBM_smote__n_estimators=20, GBM_smote__subsample=0.6 \n",
            "[CV]  GBM_smote__max_depth=8, GBM_smote__max_features=0.2, GBM_smote__n_estimators=20, GBM_smote__subsample=0.6, total=   9.4s\n",
            "[CV] GBM_smote__max_depth=8, GBM_smote__max_features=0.2, GBM_smote__n_estimators=20, GBM_smote__subsample=0.6 \n",
            "[CV]  GBM_smote__max_depth=8, GBM_smote__max_features=0.2, GBM_smote__n_estimators=20, GBM_smote__subsample=0.6, total=   9.4s\n",
            "[CV] GBM_smote__max_depth=8, GBM_smote__max_features=0.2, GBM_smote__n_estimators=30, GBM_smote__subsample=0.8 \n",
            "[CV]  GBM_smote__max_depth=8, GBM_smote__max_features=0.2, GBM_smote__n_estimators=30, GBM_smote__subsample=0.8, total=  16.8s\n",
            "[CV] GBM_smote__max_depth=8, GBM_smote__max_features=0.2, GBM_smote__n_estimators=30, GBM_smote__subsample=0.8 \n",
            "[CV]  GBM_smote__max_depth=8, GBM_smote__max_features=0.2, GBM_smote__n_estimators=30, GBM_smote__subsample=0.8, total=  16.8s\n",
            "[CV] GBM_smote__max_depth=8, GBM_smote__max_features=0.2, GBM_smote__n_estimators=30, GBM_smote__subsample=0.8 \n",
            "[CV]  GBM_smote__max_depth=8, GBM_smote__max_features=0.2, GBM_smote__n_estimators=30, GBM_smote__subsample=0.8, total=  16.6s\n",
            "[CV] GBM_smote__max_depth=8, GBM_smote__max_features=0.2, GBM_smote__n_estimators=30, GBM_smote__subsample=0.8 \n",
            "[CV]  GBM_smote__max_depth=8, GBM_smote__max_features=0.2, GBM_smote__n_estimators=30, GBM_smote__subsample=0.8, total=  16.1s\n",
            "[CV] GBM_smote__max_depth=8, GBM_smote__max_features=0.2, GBM_smote__n_estimators=30, GBM_smote__subsample=0.8 \n",
            "[CV]  GBM_smote__max_depth=8, GBM_smote__max_features=0.2, GBM_smote__n_estimators=30, GBM_smote__subsample=0.8, total=  16.4s\n",
            "[CV] GBM_smote__max_depth=8, GBM_smote__max_features=0.2, GBM_smote__n_estimators=30, GBM_smote__subsample=0.6 \n",
            "[CV]  GBM_smote__max_depth=8, GBM_smote__max_features=0.2, GBM_smote__n_estimators=30, GBM_smote__subsample=0.6, total=  14.2s\n",
            "[CV] GBM_smote__max_depth=8, GBM_smote__max_features=0.2, GBM_smote__n_estimators=30, GBM_smote__subsample=0.6 \n",
            "[CV]  GBM_smote__max_depth=8, GBM_smote__max_features=0.2, GBM_smote__n_estimators=30, GBM_smote__subsample=0.6, total=  14.3s\n",
            "[CV] GBM_smote__max_depth=8, GBM_smote__max_features=0.2, GBM_smote__n_estimators=30, GBM_smote__subsample=0.6 \n",
            "[CV]  GBM_smote__max_depth=8, GBM_smote__max_features=0.2, GBM_smote__n_estimators=30, GBM_smote__subsample=0.6, total=  13.8s\n",
            "[CV] GBM_smote__max_depth=8, GBM_smote__max_features=0.2, GBM_smote__n_estimators=30, GBM_smote__subsample=0.6 \n",
            "[CV]  GBM_smote__max_depth=8, GBM_smote__max_features=0.2, GBM_smote__n_estimators=30, GBM_smote__subsample=0.6, total=  13.8s\n",
            "[CV] GBM_smote__max_depth=8, GBM_smote__max_features=0.2, GBM_smote__n_estimators=30, GBM_smote__subsample=0.6 \n",
            "[CV]  GBM_smote__max_depth=8, GBM_smote__max_features=0.2, GBM_smote__n_estimators=30, GBM_smote__subsample=0.6, total=  13.8s\n",
            "[CV] GBM_smote__max_depth=8, GBM_smote__max_features=0.3, GBM_smote__n_estimators=10, GBM_smote__subsample=0.8 \n",
            "[CV]  GBM_smote__max_depth=8, GBM_smote__max_features=0.3, GBM_smote__n_estimators=10, GBM_smote__subsample=0.8, total=   7.1s\n",
            "[CV] GBM_smote__max_depth=8, GBM_smote__max_features=0.3, GBM_smote__n_estimators=10, GBM_smote__subsample=0.8 \n",
            "[CV]  GBM_smote__max_depth=8, GBM_smote__max_features=0.3, GBM_smote__n_estimators=10, GBM_smote__subsample=0.8, total=   7.2s\n",
            "[CV] GBM_smote__max_depth=8, GBM_smote__max_features=0.3, GBM_smote__n_estimators=10, GBM_smote__subsample=0.8 \n",
            "[CV]  GBM_smote__max_depth=8, GBM_smote__max_features=0.3, GBM_smote__n_estimators=10, GBM_smote__subsample=0.8, total=   6.9s\n",
            "[CV] GBM_smote__max_depth=8, GBM_smote__max_features=0.3, GBM_smote__n_estimators=10, GBM_smote__subsample=0.8 \n",
            "[CV]  GBM_smote__max_depth=8, GBM_smote__max_features=0.3, GBM_smote__n_estimators=10, GBM_smote__subsample=0.8, total=   6.9s\n",
            "[CV] GBM_smote__max_depth=8, GBM_smote__max_features=0.3, GBM_smote__n_estimators=10, GBM_smote__subsample=0.8 \n",
            "[CV]  GBM_smote__max_depth=8, GBM_smote__max_features=0.3, GBM_smote__n_estimators=10, GBM_smote__subsample=0.8, total=   7.0s\n",
            "[CV] GBM_smote__max_depth=8, GBM_smote__max_features=0.3, GBM_smote__n_estimators=10, GBM_smote__subsample=0.6 \n",
            "[CV]  GBM_smote__max_depth=8, GBM_smote__max_features=0.3, GBM_smote__n_estimators=10, GBM_smote__subsample=0.6, total=   5.8s\n",
            "[CV] GBM_smote__max_depth=8, GBM_smote__max_features=0.3, GBM_smote__n_estimators=10, GBM_smote__subsample=0.6 \n",
            "[CV]  GBM_smote__max_depth=8, GBM_smote__max_features=0.3, GBM_smote__n_estimators=10, GBM_smote__subsample=0.6, total=   6.0s\n",
            "[CV] GBM_smote__max_depth=8, GBM_smote__max_features=0.3, GBM_smote__n_estimators=10, GBM_smote__subsample=0.6 \n",
            "[CV]  GBM_smote__max_depth=8, GBM_smote__max_features=0.3, GBM_smote__n_estimators=10, GBM_smote__subsample=0.6, total=   5.8s\n",
            "[CV] GBM_smote__max_depth=8, GBM_smote__max_features=0.3, GBM_smote__n_estimators=10, GBM_smote__subsample=0.6 \n",
            "[CV]  GBM_smote__max_depth=8, GBM_smote__max_features=0.3, GBM_smote__n_estimators=10, GBM_smote__subsample=0.6, total=   5.6s\n",
            "[CV] GBM_smote__max_depth=8, GBM_smote__max_features=0.3, GBM_smote__n_estimators=10, GBM_smote__subsample=0.6 \n",
            "[CV]  GBM_smote__max_depth=8, GBM_smote__max_features=0.3, GBM_smote__n_estimators=10, GBM_smote__subsample=0.6, total=   5.8s\n",
            "[CV] GBM_smote__max_depth=8, GBM_smote__max_features=0.3, GBM_smote__n_estimators=20, GBM_smote__subsample=0.8 \n",
            "[CV]  GBM_smote__max_depth=8, GBM_smote__max_features=0.3, GBM_smote__n_estimators=20, GBM_smote__subsample=0.8, total=  14.4s\n",
            "[CV] GBM_smote__max_depth=8, GBM_smote__max_features=0.3, GBM_smote__n_estimators=20, GBM_smote__subsample=0.8 \n",
            "[CV]  GBM_smote__max_depth=8, GBM_smote__max_features=0.3, GBM_smote__n_estimators=20, GBM_smote__subsample=0.8, total=  14.4s\n",
            "[CV] GBM_smote__max_depth=8, GBM_smote__max_features=0.3, GBM_smote__n_estimators=20, GBM_smote__subsample=0.8 \n",
            "[CV]  GBM_smote__max_depth=8, GBM_smote__max_features=0.3, GBM_smote__n_estimators=20, GBM_smote__subsample=0.8, total=  14.1s\n",
            "[CV] GBM_smote__max_depth=8, GBM_smote__max_features=0.3, GBM_smote__n_estimators=20, GBM_smote__subsample=0.8 \n",
            "[CV]  GBM_smote__max_depth=8, GBM_smote__max_features=0.3, GBM_smote__n_estimators=20, GBM_smote__subsample=0.8, total=  13.9s\n",
            "[CV] GBM_smote__max_depth=8, GBM_smote__max_features=0.3, GBM_smote__n_estimators=20, GBM_smote__subsample=0.8 \n",
            "[CV]  GBM_smote__max_depth=8, GBM_smote__max_features=0.3, GBM_smote__n_estimators=20, GBM_smote__subsample=0.8, total=  13.9s\n",
            "[CV] GBM_smote__max_depth=8, GBM_smote__max_features=0.3, GBM_smote__n_estimators=20, GBM_smote__subsample=0.6 \n",
            "[CV]  GBM_smote__max_depth=8, GBM_smote__max_features=0.3, GBM_smote__n_estimators=20, GBM_smote__subsample=0.6, total=  11.7s\n",
            "[CV] GBM_smote__max_depth=8, GBM_smote__max_features=0.3, GBM_smote__n_estimators=20, GBM_smote__subsample=0.6 \n",
            "[CV]  GBM_smote__max_depth=8, GBM_smote__max_features=0.3, GBM_smote__n_estimators=20, GBM_smote__subsample=0.6, total=  11.7s\n",
            "[CV] GBM_smote__max_depth=8, GBM_smote__max_features=0.3, GBM_smote__n_estimators=20, GBM_smote__subsample=0.6 \n",
            "[CV]  GBM_smote__max_depth=8, GBM_smote__max_features=0.3, GBM_smote__n_estimators=20, GBM_smote__subsample=0.6, total=  11.5s\n",
            "[CV] GBM_smote__max_depth=8, GBM_smote__max_features=0.3, GBM_smote__n_estimators=20, GBM_smote__subsample=0.6 \n",
            "[CV]  GBM_smote__max_depth=8, GBM_smote__max_features=0.3, GBM_smote__n_estimators=20, GBM_smote__subsample=0.6, total=  11.4s\n",
            "[CV] GBM_smote__max_depth=8, GBM_smote__max_features=0.3, GBM_smote__n_estimators=20, GBM_smote__subsample=0.6 \n",
            "[CV]  GBM_smote__max_depth=8, GBM_smote__max_features=0.3, GBM_smote__n_estimators=20, GBM_smote__subsample=0.6, total=  11.5s\n",
            "[CV] GBM_smote__max_depth=8, GBM_smote__max_features=0.3, GBM_smote__n_estimators=30, GBM_smote__subsample=0.8 \n",
            "[CV]  GBM_smote__max_depth=8, GBM_smote__max_features=0.3, GBM_smote__n_estimators=30, GBM_smote__subsample=0.8, total=  21.5s\n",
            "[CV] GBM_smote__max_depth=8, GBM_smote__max_features=0.3, GBM_smote__n_estimators=30, GBM_smote__subsample=0.8 \n",
            "[CV]  GBM_smote__max_depth=8, GBM_smote__max_features=0.3, GBM_smote__n_estimators=30, GBM_smote__subsample=0.8, total=  21.9s\n",
            "[CV] GBM_smote__max_depth=8, GBM_smote__max_features=0.3, GBM_smote__n_estimators=30, GBM_smote__subsample=0.8 \n",
            "[CV]  GBM_smote__max_depth=8, GBM_smote__max_features=0.3, GBM_smote__n_estimators=30, GBM_smote__subsample=0.8, total=  21.3s\n",
            "[CV] GBM_smote__max_depth=8, GBM_smote__max_features=0.3, GBM_smote__n_estimators=30, GBM_smote__subsample=0.8 \n",
            "[CV]  GBM_smote__max_depth=8, GBM_smote__max_features=0.3, GBM_smote__n_estimators=30, GBM_smote__subsample=0.8, total=  21.2s\n",
            "[CV] GBM_smote__max_depth=8, GBM_smote__max_features=0.3, GBM_smote__n_estimators=30, GBM_smote__subsample=0.8 \n",
            "[CV]  GBM_smote__max_depth=8, GBM_smote__max_features=0.3, GBM_smote__n_estimators=30, GBM_smote__subsample=0.8, total=  21.0s\n",
            "[CV] GBM_smote__max_depth=8, GBM_smote__max_features=0.3, GBM_smote__n_estimators=30, GBM_smote__subsample=0.6 \n",
            "[CV]  GBM_smote__max_depth=8, GBM_smote__max_features=0.3, GBM_smote__n_estimators=30, GBM_smote__subsample=0.6, total=  17.8s\n",
            "[CV] GBM_smote__max_depth=8, GBM_smote__max_features=0.3, GBM_smote__n_estimators=30, GBM_smote__subsample=0.6 \n",
            "[CV]  GBM_smote__max_depth=8, GBM_smote__max_features=0.3, GBM_smote__n_estimators=30, GBM_smote__subsample=0.6, total=  17.4s\n",
            "[CV] GBM_smote__max_depth=8, GBM_smote__max_features=0.3, GBM_smote__n_estimators=30, GBM_smote__subsample=0.6 \n",
            "[CV]  GBM_smote__max_depth=8, GBM_smote__max_features=0.3, GBM_smote__n_estimators=30, GBM_smote__subsample=0.6, total=  17.2s\n",
            "[CV] GBM_smote__max_depth=8, GBM_smote__max_features=0.3, GBM_smote__n_estimators=30, GBM_smote__subsample=0.6 \n",
            "[CV]  GBM_smote__max_depth=8, GBM_smote__max_features=0.3, GBM_smote__n_estimators=30, GBM_smote__subsample=0.6, total=  17.4s\n",
            "[CV] GBM_smote__max_depth=8, GBM_smote__max_features=0.3, GBM_smote__n_estimators=30, GBM_smote__subsample=0.6 \n",
            "[CV]  GBM_smote__max_depth=8, GBM_smote__max_features=0.3, GBM_smote__n_estimators=30, GBM_smote__subsample=0.6, total=  17.3s\n",
            "[CV] GBM_smote__max_depth=10, GBM_smote__max_features=0.2, GBM_smote__n_estimators=10, GBM_smote__subsample=0.8 \n",
            "[CV]  GBM_smote__max_depth=10, GBM_smote__max_features=0.2, GBM_smote__n_estimators=10, GBM_smote__subsample=0.8, total=   7.9s\n",
            "[CV] GBM_smote__max_depth=10, GBM_smote__max_features=0.2, GBM_smote__n_estimators=10, GBM_smote__subsample=0.8 \n",
            "[CV]  GBM_smote__max_depth=10, GBM_smote__max_features=0.2, GBM_smote__n_estimators=10, GBM_smote__subsample=0.8, total=   7.9s\n",
            "[CV] GBM_smote__max_depth=10, GBM_smote__max_features=0.2, GBM_smote__n_estimators=10, GBM_smote__subsample=0.8 \n",
            "[CV]  GBM_smote__max_depth=10, GBM_smote__max_features=0.2, GBM_smote__n_estimators=10, GBM_smote__subsample=0.8, total=   7.8s\n",
            "[CV] GBM_smote__max_depth=10, GBM_smote__max_features=0.2, GBM_smote__n_estimators=10, GBM_smote__subsample=0.8 \n",
            "[CV]  GBM_smote__max_depth=10, GBM_smote__max_features=0.2, GBM_smote__n_estimators=10, GBM_smote__subsample=0.8, total=   7.7s\n",
            "[CV] GBM_smote__max_depth=10, GBM_smote__max_features=0.2, GBM_smote__n_estimators=10, GBM_smote__subsample=0.8 \n",
            "[CV]  GBM_smote__max_depth=10, GBM_smote__max_features=0.2, GBM_smote__n_estimators=10, GBM_smote__subsample=0.8, total=   7.8s\n",
            "[CV] GBM_smote__max_depth=10, GBM_smote__max_features=0.2, GBM_smote__n_estimators=10, GBM_smote__subsample=0.6 \n",
            "[CV]  GBM_smote__max_depth=10, GBM_smote__max_features=0.2, GBM_smote__n_estimators=10, GBM_smote__subsample=0.6, total=   6.7s\n",
            "[CV] GBM_smote__max_depth=10, GBM_smote__max_features=0.2, GBM_smote__n_estimators=10, GBM_smote__subsample=0.6 \n",
            "[CV]  GBM_smote__max_depth=10, GBM_smote__max_features=0.2, GBM_smote__n_estimators=10, GBM_smote__subsample=0.6, total=   6.8s\n",
            "[CV] GBM_smote__max_depth=10, GBM_smote__max_features=0.2, GBM_smote__n_estimators=10, GBM_smote__subsample=0.6 \n",
            "[CV]  GBM_smote__max_depth=10, GBM_smote__max_features=0.2, GBM_smote__n_estimators=10, GBM_smote__subsample=0.6, total=   6.7s\n",
            "[CV] GBM_smote__max_depth=10, GBM_smote__max_features=0.2, GBM_smote__n_estimators=10, GBM_smote__subsample=0.6 \n",
            "[CV]  GBM_smote__max_depth=10, GBM_smote__max_features=0.2, GBM_smote__n_estimators=10, GBM_smote__subsample=0.6, total=   6.7s\n",
            "[CV] GBM_smote__max_depth=10, GBM_smote__max_features=0.2, GBM_smote__n_estimators=10, GBM_smote__subsample=0.6 \n",
            "[CV]  GBM_smote__max_depth=10, GBM_smote__max_features=0.2, GBM_smote__n_estimators=10, GBM_smote__subsample=0.6, total=   6.5s\n",
            "[CV] GBM_smote__max_depth=10, GBM_smote__max_features=0.2, GBM_smote__n_estimators=20, GBM_smote__subsample=0.8 \n",
            "[CV]  GBM_smote__max_depth=10, GBM_smote__max_features=0.2, GBM_smote__n_estimators=20, GBM_smote__subsample=0.8, total=  15.7s\n",
            "[CV] GBM_smote__max_depth=10, GBM_smote__max_features=0.2, GBM_smote__n_estimators=20, GBM_smote__subsample=0.8 \n",
            "[CV]  GBM_smote__max_depth=10, GBM_smote__max_features=0.2, GBM_smote__n_estimators=20, GBM_smote__subsample=0.8, total=  15.7s\n",
            "[CV] GBM_smote__max_depth=10, GBM_smote__max_features=0.2, GBM_smote__n_estimators=20, GBM_smote__subsample=0.8 \n",
            "[CV]  GBM_smote__max_depth=10, GBM_smote__max_features=0.2, GBM_smote__n_estimators=20, GBM_smote__subsample=0.8, total=  15.3s\n",
            "[CV] GBM_smote__max_depth=10, GBM_smote__max_features=0.2, GBM_smote__n_estimators=20, GBM_smote__subsample=0.8 \n",
            "[CV]  GBM_smote__max_depth=10, GBM_smote__max_features=0.2, GBM_smote__n_estimators=20, GBM_smote__subsample=0.8, total=  15.3s\n",
            "[CV] GBM_smote__max_depth=10, GBM_smote__max_features=0.2, GBM_smote__n_estimators=20, GBM_smote__subsample=0.8 \n",
            "[CV]  GBM_smote__max_depth=10, GBM_smote__max_features=0.2, GBM_smote__n_estimators=20, GBM_smote__subsample=0.8, total=  15.4s\n",
            "[CV] GBM_smote__max_depth=10, GBM_smote__max_features=0.2, GBM_smote__n_estimators=20, GBM_smote__subsample=0.6 \n",
            "[CV]  GBM_smote__max_depth=10, GBM_smote__max_features=0.2, GBM_smote__n_estimators=20, GBM_smote__subsample=0.6, total=  13.3s\n",
            "[CV] GBM_smote__max_depth=10, GBM_smote__max_features=0.2, GBM_smote__n_estimators=20, GBM_smote__subsample=0.6 \n",
            "[CV]  GBM_smote__max_depth=10, GBM_smote__max_features=0.2, GBM_smote__n_estimators=20, GBM_smote__subsample=0.6, total=  13.5s\n",
            "[CV] GBM_smote__max_depth=10, GBM_smote__max_features=0.2, GBM_smote__n_estimators=20, GBM_smote__subsample=0.6 \n",
            "[CV]  GBM_smote__max_depth=10, GBM_smote__max_features=0.2, GBM_smote__n_estimators=20, GBM_smote__subsample=0.6, total=  13.5s\n",
            "[CV] GBM_smote__max_depth=10, GBM_smote__max_features=0.2, GBM_smote__n_estimators=20, GBM_smote__subsample=0.6 \n",
            "[CV]  GBM_smote__max_depth=10, GBM_smote__max_features=0.2, GBM_smote__n_estimators=20, GBM_smote__subsample=0.6, total=  13.3s\n",
            "[CV] GBM_smote__max_depth=10, GBM_smote__max_features=0.2, GBM_smote__n_estimators=20, GBM_smote__subsample=0.6 \n",
            "[CV]  GBM_smote__max_depth=10, GBM_smote__max_features=0.2, GBM_smote__n_estimators=20, GBM_smote__subsample=0.6, total=  13.0s\n",
            "[CV] GBM_smote__max_depth=10, GBM_smote__max_features=0.2, GBM_smote__n_estimators=30, GBM_smote__subsample=0.8 \n",
            "[CV]  GBM_smote__max_depth=10, GBM_smote__max_features=0.2, GBM_smote__n_estimators=30, GBM_smote__subsample=0.8, total=  23.6s\n",
            "[CV] GBM_smote__max_depth=10, GBM_smote__max_features=0.2, GBM_smote__n_estimators=30, GBM_smote__subsample=0.8 \n",
            "[CV]  GBM_smote__max_depth=10, GBM_smote__max_features=0.2, GBM_smote__n_estimators=30, GBM_smote__subsample=0.8, total=  23.6s\n",
            "[CV] GBM_smote__max_depth=10, GBM_smote__max_features=0.2, GBM_smote__n_estimators=30, GBM_smote__subsample=0.8 \n",
            "[CV]  GBM_smote__max_depth=10, GBM_smote__max_features=0.2, GBM_smote__n_estimators=30, GBM_smote__subsample=0.8, total=  23.6s\n",
            "[CV] GBM_smote__max_depth=10, GBM_smote__max_features=0.2, GBM_smote__n_estimators=30, GBM_smote__subsample=0.8 \n",
            "[CV]  GBM_smote__max_depth=10, GBM_smote__max_features=0.2, GBM_smote__n_estimators=30, GBM_smote__subsample=0.8, total=  23.3s\n",
            "[CV] GBM_smote__max_depth=10, GBM_smote__max_features=0.2, GBM_smote__n_estimators=30, GBM_smote__subsample=0.8 \n",
            "[CV]  GBM_smote__max_depth=10, GBM_smote__max_features=0.2, GBM_smote__n_estimators=30, GBM_smote__subsample=0.8, total=  23.1s\n",
            "[CV] GBM_smote__max_depth=10, GBM_smote__max_features=0.2, GBM_smote__n_estimators=30, GBM_smote__subsample=0.6 \n",
            "[CV]  GBM_smote__max_depth=10, GBM_smote__max_features=0.2, GBM_smote__n_estimators=30, GBM_smote__subsample=0.6, total=  20.3s\n",
            "[CV] GBM_smote__max_depth=10, GBM_smote__max_features=0.2, GBM_smote__n_estimators=30, GBM_smote__subsample=0.6 \n",
            "[CV]  GBM_smote__max_depth=10, GBM_smote__max_features=0.2, GBM_smote__n_estimators=30, GBM_smote__subsample=0.6, total=  20.3s\n",
            "[CV] GBM_smote__max_depth=10, GBM_smote__max_features=0.2, GBM_smote__n_estimators=30, GBM_smote__subsample=0.6 \n",
            "[CV]  GBM_smote__max_depth=10, GBM_smote__max_features=0.2, GBM_smote__n_estimators=30, GBM_smote__subsample=0.6, total=  20.0s\n",
            "[CV] GBM_smote__max_depth=10, GBM_smote__max_features=0.2, GBM_smote__n_estimators=30, GBM_smote__subsample=0.6 \n",
            "[CV]  GBM_smote__max_depth=10, GBM_smote__max_features=0.2, GBM_smote__n_estimators=30, GBM_smote__subsample=0.6, total=  19.8s\n",
            "[CV] GBM_smote__max_depth=10, GBM_smote__max_features=0.2, GBM_smote__n_estimators=30, GBM_smote__subsample=0.6 \n",
            "[CV]  GBM_smote__max_depth=10, GBM_smote__max_features=0.2, GBM_smote__n_estimators=30, GBM_smote__subsample=0.6, total=  19.9s\n",
            "[CV] GBM_smote__max_depth=10, GBM_smote__max_features=0.3, GBM_smote__n_estimators=10, GBM_smote__subsample=0.8 \n",
            "[CV]  GBM_smote__max_depth=10, GBM_smote__max_features=0.3, GBM_smote__n_estimators=10, GBM_smote__subsample=0.8, total=  10.0s\n",
            "[CV] GBM_smote__max_depth=10, GBM_smote__max_features=0.3, GBM_smote__n_estimators=10, GBM_smote__subsample=0.8 \n",
            "[CV]  GBM_smote__max_depth=10, GBM_smote__max_features=0.3, GBM_smote__n_estimators=10, GBM_smote__subsample=0.8, total=   9.8s\n",
            "[CV] GBM_smote__max_depth=10, GBM_smote__max_features=0.3, GBM_smote__n_estimators=10, GBM_smote__subsample=0.8 \n",
            "[CV]  GBM_smote__max_depth=10, GBM_smote__max_features=0.3, GBM_smote__n_estimators=10, GBM_smote__subsample=0.8, total=   9.9s\n",
            "[CV] GBM_smote__max_depth=10, GBM_smote__max_features=0.3, GBM_smote__n_estimators=10, GBM_smote__subsample=0.8 \n",
            "[CV]  GBM_smote__max_depth=10, GBM_smote__max_features=0.3, GBM_smote__n_estimators=10, GBM_smote__subsample=0.8, total=   9.8s\n",
            "[CV] GBM_smote__max_depth=10, GBM_smote__max_features=0.3, GBM_smote__n_estimators=10, GBM_smote__subsample=0.8 \n",
            "[CV]  GBM_smote__max_depth=10, GBM_smote__max_features=0.3, GBM_smote__n_estimators=10, GBM_smote__subsample=0.8, total=   9.8s\n",
            "[CV] GBM_smote__max_depth=10, GBM_smote__max_features=0.3, GBM_smote__n_estimators=10, GBM_smote__subsample=0.6 \n",
            "[CV]  GBM_smote__max_depth=10, GBM_smote__max_features=0.3, GBM_smote__n_estimators=10, GBM_smote__subsample=0.6, total=   8.1s\n",
            "[CV] GBM_smote__max_depth=10, GBM_smote__max_features=0.3, GBM_smote__n_estimators=10, GBM_smote__subsample=0.6 \n",
            "[CV]  GBM_smote__max_depth=10, GBM_smote__max_features=0.3, GBM_smote__n_estimators=10, GBM_smote__subsample=0.6, total=   8.1s\n",
            "[CV] GBM_smote__max_depth=10, GBM_smote__max_features=0.3, GBM_smote__n_estimators=10, GBM_smote__subsample=0.6 \n",
            "[CV]  GBM_smote__max_depth=10, GBM_smote__max_features=0.3, GBM_smote__n_estimators=10, GBM_smote__subsample=0.6, total=   8.2s\n",
            "[CV] GBM_smote__max_depth=10, GBM_smote__max_features=0.3, GBM_smote__n_estimators=10, GBM_smote__subsample=0.6 \n",
            "[CV]  GBM_smote__max_depth=10, GBM_smote__max_features=0.3, GBM_smote__n_estimators=10, GBM_smote__subsample=0.6, total=   8.2s\n",
            "[CV] GBM_smote__max_depth=10, GBM_smote__max_features=0.3, GBM_smote__n_estimators=10, GBM_smote__subsample=0.6 \n",
            "[CV]  GBM_smote__max_depth=10, GBM_smote__max_features=0.3, GBM_smote__n_estimators=10, GBM_smote__subsample=0.6, total=   7.9s\n",
            "[CV] GBM_smote__max_depth=10, GBM_smote__max_features=0.3, GBM_smote__n_estimators=20, GBM_smote__subsample=0.8 \n",
            "[CV]  GBM_smote__max_depth=10, GBM_smote__max_features=0.3, GBM_smote__n_estimators=20, GBM_smote__subsample=0.8, total=  19.7s\n",
            "[CV] GBM_smote__max_depth=10, GBM_smote__max_features=0.3, GBM_smote__n_estimators=20, GBM_smote__subsample=0.8 \n",
            "[CV]  GBM_smote__max_depth=10, GBM_smote__max_features=0.3, GBM_smote__n_estimators=20, GBM_smote__subsample=0.8, total=  19.9s\n",
            "[CV] GBM_smote__max_depth=10, GBM_smote__max_features=0.3, GBM_smote__n_estimators=20, GBM_smote__subsample=0.8 \n",
            "[CV]  GBM_smote__max_depth=10, GBM_smote__max_features=0.3, GBM_smote__n_estimators=20, GBM_smote__subsample=0.8, total=  19.6s\n",
            "[CV] GBM_smote__max_depth=10, GBM_smote__max_features=0.3, GBM_smote__n_estimators=20, GBM_smote__subsample=0.8 \n",
            "[CV]  GBM_smote__max_depth=10, GBM_smote__max_features=0.3, GBM_smote__n_estimators=20, GBM_smote__subsample=0.8, total=  19.3s\n",
            "[CV] GBM_smote__max_depth=10, GBM_smote__max_features=0.3, GBM_smote__n_estimators=20, GBM_smote__subsample=0.8 \n",
            "[CV]  GBM_smote__max_depth=10, GBM_smote__max_features=0.3, GBM_smote__n_estimators=20, GBM_smote__subsample=0.8, total=  19.1s\n",
            "[CV] GBM_smote__max_depth=10, GBM_smote__max_features=0.3, GBM_smote__n_estimators=20, GBM_smote__subsample=0.6 \n",
            "[CV]  GBM_smote__max_depth=10, GBM_smote__max_features=0.3, GBM_smote__n_estimators=20, GBM_smote__subsample=0.6, total=  16.2s\n",
            "[CV] GBM_smote__max_depth=10, GBM_smote__max_features=0.3, GBM_smote__n_estimators=20, GBM_smote__subsample=0.6 \n",
            "[CV]  GBM_smote__max_depth=10, GBM_smote__max_features=0.3, GBM_smote__n_estimators=20, GBM_smote__subsample=0.6, total=  16.2s\n",
            "[CV] GBM_smote__max_depth=10, GBM_smote__max_features=0.3, GBM_smote__n_estimators=20, GBM_smote__subsample=0.6 \n",
            "[CV]  GBM_smote__max_depth=10, GBM_smote__max_features=0.3, GBM_smote__n_estimators=20, GBM_smote__subsample=0.6, total=  16.2s\n",
            "[CV] GBM_smote__max_depth=10, GBM_smote__max_features=0.3, GBM_smote__n_estimators=20, GBM_smote__subsample=0.6 \n",
            "[CV]  GBM_smote__max_depth=10, GBM_smote__max_features=0.3, GBM_smote__n_estimators=20, GBM_smote__subsample=0.6, total=  15.8s\n",
            "[CV] GBM_smote__max_depth=10, GBM_smote__max_features=0.3, GBM_smote__n_estimators=20, GBM_smote__subsample=0.6 \n",
            "[CV]  GBM_smote__max_depth=10, GBM_smote__max_features=0.3, GBM_smote__n_estimators=20, GBM_smote__subsample=0.6, total=  16.0s\n",
            "[CV] GBM_smote__max_depth=10, GBM_smote__max_features=0.3, GBM_smote__n_estimators=30, GBM_smote__subsample=0.8 \n",
            "[CV]  GBM_smote__max_depth=10, GBM_smote__max_features=0.3, GBM_smote__n_estimators=30, GBM_smote__subsample=0.8, total=  29.6s\n",
            "[CV] GBM_smote__max_depth=10, GBM_smote__max_features=0.3, GBM_smote__n_estimators=30, GBM_smote__subsample=0.8 \n",
            "[CV]  GBM_smote__max_depth=10, GBM_smote__max_features=0.3, GBM_smote__n_estimators=30, GBM_smote__subsample=0.8, total=  29.5s\n",
            "[CV] GBM_smote__max_depth=10, GBM_smote__max_features=0.3, GBM_smote__n_estimators=30, GBM_smote__subsample=0.8 \n",
            "[CV]  GBM_smote__max_depth=10, GBM_smote__max_features=0.3, GBM_smote__n_estimators=30, GBM_smote__subsample=0.8, total=  28.5s\n",
            "[CV] GBM_smote__max_depth=10, GBM_smote__max_features=0.3, GBM_smote__n_estimators=30, GBM_smote__subsample=0.8 \n",
            "[CV]  GBM_smote__max_depth=10, GBM_smote__max_features=0.3, GBM_smote__n_estimators=30, GBM_smote__subsample=0.8, total=  28.5s\n",
            "[CV] GBM_smote__max_depth=10, GBM_smote__max_features=0.3, GBM_smote__n_estimators=30, GBM_smote__subsample=0.8 \n",
            "[CV]  GBM_smote__max_depth=10, GBM_smote__max_features=0.3, GBM_smote__n_estimators=30, GBM_smote__subsample=0.8, total=  28.5s\n",
            "[CV] GBM_smote__max_depth=10, GBM_smote__max_features=0.3, GBM_smote__n_estimators=30, GBM_smote__subsample=0.6 \n",
            "[CV]  GBM_smote__max_depth=10, GBM_smote__max_features=0.3, GBM_smote__n_estimators=30, GBM_smote__subsample=0.6, total=  24.3s\n",
            "[CV] GBM_smote__max_depth=10, GBM_smote__max_features=0.3, GBM_smote__n_estimators=30, GBM_smote__subsample=0.6 \n",
            "[CV]  GBM_smote__max_depth=10, GBM_smote__max_features=0.3, GBM_smote__n_estimators=30, GBM_smote__subsample=0.6, total=  24.7s\n",
            "[CV] GBM_smote__max_depth=10, GBM_smote__max_features=0.3, GBM_smote__n_estimators=30, GBM_smote__subsample=0.6 \n",
            "[CV]  GBM_smote__max_depth=10, GBM_smote__max_features=0.3, GBM_smote__n_estimators=30, GBM_smote__subsample=0.6, total=  24.2s\n",
            "[CV] GBM_smote__max_depth=10, GBM_smote__max_features=0.3, GBM_smote__n_estimators=30, GBM_smote__subsample=0.6 \n",
            "[CV]  GBM_smote__max_depth=10, GBM_smote__max_features=0.3, GBM_smote__n_estimators=30, GBM_smote__subsample=0.6, total=  23.6s\n",
            "[CV] GBM_smote__max_depth=10, GBM_smote__max_features=0.3, GBM_smote__n_estimators=30, GBM_smote__subsample=0.6 \n",
            "[CV]  GBM_smote__max_depth=10, GBM_smote__max_features=0.3, GBM_smote__n_estimators=30, GBM_smote__subsample=0.6, total=  23.8s\n",
            "[CV] GBM_smote__max_depth=12, GBM_smote__max_features=0.2, GBM_smote__n_estimators=10, GBM_smote__subsample=0.8 \n",
            "[CV]  GBM_smote__max_depth=12, GBM_smote__max_features=0.2, GBM_smote__n_estimators=10, GBM_smote__subsample=0.8, total=  12.0s\n",
            "[CV] GBM_smote__max_depth=12, GBM_smote__max_features=0.2, GBM_smote__n_estimators=10, GBM_smote__subsample=0.8 \n",
            "[CV]  GBM_smote__max_depth=12, GBM_smote__max_features=0.2, GBM_smote__n_estimators=10, GBM_smote__subsample=0.8, total=  12.1s\n",
            "[CV] GBM_smote__max_depth=12, GBM_smote__max_features=0.2, GBM_smote__n_estimators=10, GBM_smote__subsample=0.8 \n",
            "[CV]  GBM_smote__max_depth=12, GBM_smote__max_features=0.2, GBM_smote__n_estimators=10, GBM_smote__subsample=0.8, total=  12.0s\n",
            "[CV] GBM_smote__max_depth=12, GBM_smote__max_features=0.2, GBM_smote__n_estimators=10, GBM_smote__subsample=0.8 \n",
            "[CV]  GBM_smote__max_depth=12, GBM_smote__max_features=0.2, GBM_smote__n_estimators=10, GBM_smote__subsample=0.8, total=  11.9s\n",
            "[CV] GBM_smote__max_depth=12, GBM_smote__max_features=0.2, GBM_smote__n_estimators=10, GBM_smote__subsample=0.8 \n",
            "[CV]  GBM_smote__max_depth=12, GBM_smote__max_features=0.2, GBM_smote__n_estimators=10, GBM_smote__subsample=0.8, total=  12.0s\n",
            "[CV] GBM_smote__max_depth=12, GBM_smote__max_features=0.2, GBM_smote__n_estimators=10, GBM_smote__subsample=0.6 \n",
            "[CV]  GBM_smote__max_depth=12, GBM_smote__max_features=0.2, GBM_smote__n_estimators=10, GBM_smote__subsample=0.6, total=  10.6s\n",
            "[CV] GBM_smote__max_depth=12, GBM_smote__max_features=0.2, GBM_smote__n_estimators=10, GBM_smote__subsample=0.6 \n",
            "[CV]  GBM_smote__max_depth=12, GBM_smote__max_features=0.2, GBM_smote__n_estimators=10, GBM_smote__subsample=0.6, total=  10.6s\n",
            "[CV] GBM_smote__max_depth=12, GBM_smote__max_features=0.2, GBM_smote__n_estimators=10, GBM_smote__subsample=0.6 \n",
            "[CV]  GBM_smote__max_depth=12, GBM_smote__max_features=0.2, GBM_smote__n_estimators=10, GBM_smote__subsample=0.6, total=  10.3s\n",
            "[CV] GBM_smote__max_depth=12, GBM_smote__max_features=0.2, GBM_smote__n_estimators=10, GBM_smote__subsample=0.6 \n",
            "[CV]  GBM_smote__max_depth=12, GBM_smote__max_features=0.2, GBM_smote__n_estimators=10, GBM_smote__subsample=0.6, total=  10.6s\n",
            "[CV] GBM_smote__max_depth=12, GBM_smote__max_features=0.2, GBM_smote__n_estimators=10, GBM_smote__subsample=0.6 \n",
            "[CV]  GBM_smote__max_depth=12, GBM_smote__max_features=0.2, GBM_smote__n_estimators=10, GBM_smote__subsample=0.6, total=  10.3s\n",
            "[CV] GBM_smote__max_depth=12, GBM_smote__max_features=0.2, GBM_smote__n_estimators=20, GBM_smote__subsample=0.8 \n",
            "[CV]  GBM_smote__max_depth=12, GBM_smote__max_features=0.2, GBM_smote__n_estimators=20, GBM_smote__subsample=0.8, total=  24.5s\n",
            "[CV] GBM_smote__max_depth=12, GBM_smote__max_features=0.2, GBM_smote__n_estimators=20, GBM_smote__subsample=0.8 \n",
            "[CV]  GBM_smote__max_depth=12, GBM_smote__max_features=0.2, GBM_smote__n_estimators=20, GBM_smote__subsample=0.8, total=  24.8s\n",
            "[CV] GBM_smote__max_depth=12, GBM_smote__max_features=0.2, GBM_smote__n_estimators=20, GBM_smote__subsample=0.8 \n",
            "[CV]  GBM_smote__max_depth=12, GBM_smote__max_features=0.2, GBM_smote__n_estimators=20, GBM_smote__subsample=0.8, total=  24.2s\n",
            "[CV] GBM_smote__max_depth=12, GBM_smote__max_features=0.2, GBM_smote__n_estimators=20, GBM_smote__subsample=0.8 \n",
            "[CV]  GBM_smote__max_depth=12, GBM_smote__max_features=0.2, GBM_smote__n_estimators=20, GBM_smote__subsample=0.8, total=  24.5s\n",
            "[CV] GBM_smote__max_depth=12, GBM_smote__max_features=0.2, GBM_smote__n_estimators=20, GBM_smote__subsample=0.8 \n",
            "[CV]  GBM_smote__max_depth=12, GBM_smote__max_features=0.2, GBM_smote__n_estimators=20, GBM_smote__subsample=0.8, total=  23.9s\n",
            "[CV] GBM_smote__max_depth=12, GBM_smote__max_features=0.2, GBM_smote__n_estimators=20, GBM_smote__subsample=0.6 \n",
            "[CV]  GBM_smote__max_depth=12, GBM_smote__max_features=0.2, GBM_smote__n_estimators=20, GBM_smote__subsample=0.6, total=  20.8s\n",
            "[CV] GBM_smote__max_depth=12, GBM_smote__max_features=0.2, GBM_smote__n_estimators=20, GBM_smote__subsample=0.6 \n",
            "[CV]  GBM_smote__max_depth=12, GBM_smote__max_features=0.2, GBM_smote__n_estimators=20, GBM_smote__subsample=0.6, total=  20.9s\n",
            "[CV] GBM_smote__max_depth=12, GBM_smote__max_features=0.2, GBM_smote__n_estimators=20, GBM_smote__subsample=0.6 \n",
            "[CV]  GBM_smote__max_depth=12, GBM_smote__max_features=0.2, GBM_smote__n_estimators=20, GBM_smote__subsample=0.6, total=  20.9s\n",
            "[CV] GBM_smote__max_depth=12, GBM_smote__max_features=0.2, GBM_smote__n_estimators=20, GBM_smote__subsample=0.6 \n",
            "[CV]  GBM_smote__max_depth=12, GBM_smote__max_features=0.2, GBM_smote__n_estimators=20, GBM_smote__subsample=0.6, total=  20.5s\n",
            "[CV] GBM_smote__max_depth=12, GBM_smote__max_features=0.2, GBM_smote__n_estimators=20, GBM_smote__subsample=0.6 \n",
            "[CV]  GBM_smote__max_depth=12, GBM_smote__max_features=0.2, GBM_smote__n_estimators=20, GBM_smote__subsample=0.6, total=  20.5s\n",
            "[CV] GBM_smote__max_depth=12, GBM_smote__max_features=0.2, GBM_smote__n_estimators=30, GBM_smote__subsample=0.8 \n",
            "[CV]  GBM_smote__max_depth=12, GBM_smote__max_features=0.2, GBM_smote__n_estimators=30, GBM_smote__subsample=0.8, total=  36.5s\n",
            "[CV] GBM_smote__max_depth=12, GBM_smote__max_features=0.2, GBM_smote__n_estimators=30, GBM_smote__subsample=0.8 \n",
            "[CV]  GBM_smote__max_depth=12, GBM_smote__max_features=0.2, GBM_smote__n_estimators=30, GBM_smote__subsample=0.8, total=  36.3s\n",
            "[CV] GBM_smote__max_depth=12, GBM_smote__max_features=0.2, GBM_smote__n_estimators=30, GBM_smote__subsample=0.8 \n",
            "[CV]  GBM_smote__max_depth=12, GBM_smote__max_features=0.2, GBM_smote__n_estimators=30, GBM_smote__subsample=0.8, total=  35.9s\n",
            "[CV] GBM_smote__max_depth=12, GBM_smote__max_features=0.2, GBM_smote__n_estimators=30, GBM_smote__subsample=0.8 \n",
            "[CV]  GBM_smote__max_depth=12, GBM_smote__max_features=0.2, GBM_smote__n_estimators=30, GBM_smote__subsample=0.8, total=  35.7s\n",
            "[CV] GBM_smote__max_depth=12, GBM_smote__max_features=0.2, GBM_smote__n_estimators=30, GBM_smote__subsample=0.8 \n",
            "[CV]  GBM_smote__max_depth=12, GBM_smote__max_features=0.2, GBM_smote__n_estimators=30, GBM_smote__subsample=0.8, total=  35.8s\n",
            "[CV] GBM_smote__max_depth=12, GBM_smote__max_features=0.2, GBM_smote__n_estimators=30, GBM_smote__subsample=0.6 \n",
            "[CV]  GBM_smote__max_depth=12, GBM_smote__max_features=0.2, GBM_smote__n_estimators=30, GBM_smote__subsample=0.6, total=  31.4s\n",
            "[CV] GBM_smote__max_depth=12, GBM_smote__max_features=0.2, GBM_smote__n_estimators=30, GBM_smote__subsample=0.6 \n",
            "[CV]  GBM_smote__max_depth=12, GBM_smote__max_features=0.2, GBM_smote__n_estimators=30, GBM_smote__subsample=0.6, total=  31.1s\n",
            "[CV] GBM_smote__max_depth=12, GBM_smote__max_features=0.2, GBM_smote__n_estimators=30, GBM_smote__subsample=0.6 \n",
            "[CV]  GBM_smote__max_depth=12, GBM_smote__max_features=0.2, GBM_smote__n_estimators=30, GBM_smote__subsample=0.6, total=  31.1s\n",
            "[CV] GBM_smote__max_depth=12, GBM_smote__max_features=0.2, GBM_smote__n_estimators=30, GBM_smote__subsample=0.6 \n",
            "[CV]  GBM_smote__max_depth=12, GBM_smote__max_features=0.2, GBM_smote__n_estimators=30, GBM_smote__subsample=0.6, total=  30.8s\n",
            "[CV] GBM_smote__max_depth=12, GBM_smote__max_features=0.2, GBM_smote__n_estimators=30, GBM_smote__subsample=0.6 \n",
            "[CV]  GBM_smote__max_depth=12, GBM_smote__max_features=0.2, GBM_smote__n_estimators=30, GBM_smote__subsample=0.6, total=  31.0s\n",
            "[CV] GBM_smote__max_depth=12, GBM_smote__max_features=0.3, GBM_smote__n_estimators=10, GBM_smote__subsample=0.8 \n",
            "[CV]  GBM_smote__max_depth=12, GBM_smote__max_features=0.3, GBM_smote__n_estimators=10, GBM_smote__subsample=0.8, total=  14.3s\n",
            "[CV] GBM_smote__max_depth=12, GBM_smote__max_features=0.3, GBM_smote__n_estimators=10, GBM_smote__subsample=0.8 \n",
            "[CV]  GBM_smote__max_depth=12, GBM_smote__max_features=0.3, GBM_smote__n_estimators=10, GBM_smote__subsample=0.8, total=  14.4s\n",
            "[CV] GBM_smote__max_depth=12, GBM_smote__max_features=0.3, GBM_smote__n_estimators=10, GBM_smote__subsample=0.8 \n",
            "[CV]  GBM_smote__max_depth=12, GBM_smote__max_features=0.3, GBM_smote__n_estimators=10, GBM_smote__subsample=0.8, total=  14.4s\n",
            "[CV] GBM_smote__max_depth=12, GBM_smote__max_features=0.3, GBM_smote__n_estimators=10, GBM_smote__subsample=0.8 \n",
            "[CV]  GBM_smote__max_depth=12, GBM_smote__max_features=0.3, GBM_smote__n_estimators=10, GBM_smote__subsample=0.8, total=  14.4s\n",
            "[CV] GBM_smote__max_depth=12, GBM_smote__max_features=0.3, GBM_smote__n_estimators=10, GBM_smote__subsample=0.8 \n",
            "[CV]  GBM_smote__max_depth=12, GBM_smote__max_features=0.3, GBM_smote__n_estimators=10, GBM_smote__subsample=0.8, total=  14.1s\n",
            "[CV] GBM_smote__max_depth=12, GBM_smote__max_features=0.3, GBM_smote__n_estimators=10, GBM_smote__subsample=0.6 \n",
            "[CV]  GBM_smote__max_depth=12, GBM_smote__max_features=0.3, GBM_smote__n_estimators=10, GBM_smote__subsample=0.6, total=  12.3s\n",
            "[CV] GBM_smote__max_depth=12, GBM_smote__max_features=0.3, GBM_smote__n_estimators=10, GBM_smote__subsample=0.6 \n",
            "[CV]  GBM_smote__max_depth=12, GBM_smote__max_features=0.3, GBM_smote__n_estimators=10, GBM_smote__subsample=0.6, total=  12.1s\n",
            "[CV] GBM_smote__max_depth=12, GBM_smote__max_features=0.3, GBM_smote__n_estimators=10, GBM_smote__subsample=0.6 \n",
            "[CV]  GBM_smote__max_depth=12, GBM_smote__max_features=0.3, GBM_smote__n_estimators=10, GBM_smote__subsample=0.6, total=  12.3s\n",
            "[CV] GBM_smote__max_depth=12, GBM_smote__max_features=0.3, GBM_smote__n_estimators=10, GBM_smote__subsample=0.6 \n",
            "[CV]  GBM_smote__max_depth=12, GBM_smote__max_features=0.3, GBM_smote__n_estimators=10, GBM_smote__subsample=0.6, total=  12.3s\n",
            "[CV] GBM_smote__max_depth=12, GBM_smote__max_features=0.3, GBM_smote__n_estimators=10, GBM_smote__subsample=0.6 \n",
            "[CV]  GBM_smote__max_depth=12, GBM_smote__max_features=0.3, GBM_smote__n_estimators=10, GBM_smote__subsample=0.6, total=  12.1s\n",
            "[CV] GBM_smote__max_depth=12, GBM_smote__max_features=0.3, GBM_smote__n_estimators=20, GBM_smote__subsample=0.8 \n",
            "[CV]  GBM_smote__max_depth=12, GBM_smote__max_features=0.3, GBM_smote__n_estimators=20, GBM_smote__subsample=0.8, total=  28.5s\n",
            "[CV] GBM_smote__max_depth=12, GBM_smote__max_features=0.3, GBM_smote__n_estimators=20, GBM_smote__subsample=0.8 \n",
            "[CV]  GBM_smote__max_depth=12, GBM_smote__max_features=0.3, GBM_smote__n_estimators=20, GBM_smote__subsample=0.8, total=  28.6s\n",
            "[CV] GBM_smote__max_depth=12, GBM_smote__max_features=0.3, GBM_smote__n_estimators=20, GBM_smote__subsample=0.8 \n",
            "[CV]  GBM_smote__max_depth=12, GBM_smote__max_features=0.3, GBM_smote__n_estimators=20, GBM_smote__subsample=0.8, total=  31.9s\n",
            "[CV] GBM_smote__max_depth=12, GBM_smote__max_features=0.3, GBM_smote__n_estimators=20, GBM_smote__subsample=0.8 \n",
            "[CV]  GBM_smote__max_depth=12, GBM_smote__max_features=0.3, GBM_smote__n_estimators=20, GBM_smote__subsample=0.8, total=  28.1s\n",
            "[CV] GBM_smote__max_depth=12, GBM_smote__max_features=0.3, GBM_smote__n_estimators=20, GBM_smote__subsample=0.8 \n",
            "[CV]  GBM_smote__max_depth=12, GBM_smote__max_features=0.3, GBM_smote__n_estimators=20, GBM_smote__subsample=0.8, total=  28.6s\n",
            "[CV] GBM_smote__max_depth=12, GBM_smote__max_features=0.3, GBM_smote__n_estimators=20, GBM_smote__subsample=0.6 \n",
            "[CV]  GBM_smote__max_depth=12, GBM_smote__max_features=0.3, GBM_smote__n_estimators=20, GBM_smote__subsample=0.6, total=  24.2s\n",
            "[CV] GBM_smote__max_depth=12, GBM_smote__max_features=0.3, GBM_smote__n_estimators=20, GBM_smote__subsample=0.6 \n",
            "[CV]  GBM_smote__max_depth=12, GBM_smote__max_features=0.3, GBM_smote__n_estimators=20, GBM_smote__subsample=0.6, total=  24.2s\n",
            "[CV] GBM_smote__max_depth=12, GBM_smote__max_features=0.3, GBM_smote__n_estimators=20, GBM_smote__subsample=0.6 \n",
            "[CV]  GBM_smote__max_depth=12, GBM_smote__max_features=0.3, GBM_smote__n_estimators=20, GBM_smote__subsample=0.6, total=  24.1s\n",
            "[CV] GBM_smote__max_depth=12, GBM_smote__max_features=0.3, GBM_smote__n_estimators=20, GBM_smote__subsample=0.6 \n",
            "[CV]  GBM_smote__max_depth=12, GBM_smote__max_features=0.3, GBM_smote__n_estimators=20, GBM_smote__subsample=0.6, total=  24.0s\n",
            "[CV] GBM_smote__max_depth=12, GBM_smote__max_features=0.3, GBM_smote__n_estimators=20, GBM_smote__subsample=0.6 \n",
            "[CV]  GBM_smote__max_depth=12, GBM_smote__max_features=0.3, GBM_smote__n_estimators=20, GBM_smote__subsample=0.6, total=  23.9s\n",
            "[CV] GBM_smote__max_depth=12, GBM_smote__max_features=0.3, GBM_smote__n_estimators=30, GBM_smote__subsample=0.8 \n",
            "[CV]  GBM_smote__max_depth=12, GBM_smote__max_features=0.3, GBM_smote__n_estimators=30, GBM_smote__subsample=0.8, total=  43.2s\n",
            "[CV] GBM_smote__max_depth=12, GBM_smote__max_features=0.3, GBM_smote__n_estimators=30, GBM_smote__subsample=0.8 \n",
            "[CV]  GBM_smote__max_depth=12, GBM_smote__max_features=0.3, GBM_smote__n_estimators=30, GBM_smote__subsample=0.8, total=  43.0s\n",
            "[CV] GBM_smote__max_depth=12, GBM_smote__max_features=0.3, GBM_smote__n_estimators=30, GBM_smote__subsample=0.8 \n",
            "[CV]  GBM_smote__max_depth=12, GBM_smote__max_features=0.3, GBM_smote__n_estimators=30, GBM_smote__subsample=0.8, total=  42.3s\n",
            "[CV] GBM_smote__max_depth=12, GBM_smote__max_features=0.3, GBM_smote__n_estimators=30, GBM_smote__subsample=0.8 \n",
            "[CV]  GBM_smote__max_depth=12, GBM_smote__max_features=0.3, GBM_smote__n_estimators=30, GBM_smote__subsample=0.8, total=  42.2s\n",
            "[CV] GBM_smote__max_depth=12, GBM_smote__max_features=0.3, GBM_smote__n_estimators=30, GBM_smote__subsample=0.8 \n",
            "[CV]  GBM_smote__max_depth=12, GBM_smote__max_features=0.3, GBM_smote__n_estimators=30, GBM_smote__subsample=0.8, total=  41.9s\n",
            "[CV] GBM_smote__max_depth=12, GBM_smote__max_features=0.3, GBM_smote__n_estimators=30, GBM_smote__subsample=0.6 \n",
            "[CV]  GBM_smote__max_depth=12, GBM_smote__max_features=0.3, GBM_smote__n_estimators=30, GBM_smote__subsample=0.6, total=  35.9s\n",
            "[CV] GBM_smote__max_depth=12, GBM_smote__max_features=0.3, GBM_smote__n_estimators=30, GBM_smote__subsample=0.6 \n",
            "[CV]  GBM_smote__max_depth=12, GBM_smote__max_features=0.3, GBM_smote__n_estimators=30, GBM_smote__subsample=0.6, total=  35.9s\n",
            "[CV] GBM_smote__max_depth=12, GBM_smote__max_features=0.3, GBM_smote__n_estimators=30, GBM_smote__subsample=0.6 \n",
            "[CV]  GBM_smote__max_depth=12, GBM_smote__max_features=0.3, GBM_smote__n_estimators=30, GBM_smote__subsample=0.6, total=  35.7s\n",
            "[CV] GBM_smote__max_depth=12, GBM_smote__max_features=0.3, GBM_smote__n_estimators=30, GBM_smote__subsample=0.6 \n",
            "[CV]  GBM_smote__max_depth=12, GBM_smote__max_features=0.3, GBM_smote__n_estimators=30, GBM_smote__subsample=0.6, total=  35.8s\n",
            "[CV] GBM_smote__max_depth=12, GBM_smote__max_features=0.3, GBM_smote__n_estimators=30, GBM_smote__subsample=0.6 \n",
            "[CV]  GBM_smote__max_depth=12, GBM_smote__max_features=0.3, GBM_smote__n_estimators=30, GBM_smote__subsample=0.6, total=  35.4s\n",
            "[CV] GBM_smote__max_depth=14, GBM_smote__max_features=0.2, GBM_smote__n_estimators=10, GBM_smote__subsample=0.8 \n",
            "[CV]  GBM_smote__max_depth=14, GBM_smote__max_features=0.2, GBM_smote__n_estimators=10, GBM_smote__subsample=0.8, total=  19.6s\n",
            "[CV] GBM_smote__max_depth=14, GBM_smote__max_features=0.2, GBM_smote__n_estimators=10, GBM_smote__subsample=0.8 \n",
            "[CV]  GBM_smote__max_depth=14, GBM_smote__max_features=0.2, GBM_smote__n_estimators=10, GBM_smote__subsample=0.8, total=  24.5s\n",
            "[CV] GBM_smote__max_depth=14, GBM_smote__max_features=0.2, GBM_smote__n_estimators=10, GBM_smote__subsample=0.8 \n",
            "[CV]  GBM_smote__max_depth=14, GBM_smote__max_features=0.2, GBM_smote__n_estimators=10, GBM_smote__subsample=0.8, total=  19.7s\n",
            "[CV] GBM_smote__max_depth=14, GBM_smote__max_features=0.2, GBM_smote__n_estimators=10, GBM_smote__subsample=0.8 \n",
            "[CV]  GBM_smote__max_depth=14, GBM_smote__max_features=0.2, GBM_smote__n_estimators=10, GBM_smote__subsample=0.8, total=  19.7s\n",
            "[CV] GBM_smote__max_depth=14, GBM_smote__max_features=0.2, GBM_smote__n_estimators=10, GBM_smote__subsample=0.8 \n",
            "[CV]  GBM_smote__max_depth=14, GBM_smote__max_features=0.2, GBM_smote__n_estimators=10, GBM_smote__subsample=0.8, total=  20.1s\n",
            "[CV] GBM_smote__max_depth=14, GBM_smote__max_features=0.2, GBM_smote__n_estimators=10, GBM_smote__subsample=0.6 \n",
            "[CV]  GBM_smote__max_depth=14, GBM_smote__max_features=0.2, GBM_smote__n_estimators=10, GBM_smote__subsample=0.6, total=  17.1s\n",
            "[CV] GBM_smote__max_depth=14, GBM_smote__max_features=0.2, GBM_smote__n_estimators=10, GBM_smote__subsample=0.6 \n",
            "[CV]  GBM_smote__max_depth=14, GBM_smote__max_features=0.2, GBM_smote__n_estimators=10, GBM_smote__subsample=0.6, total=  17.0s\n",
            "[CV] GBM_smote__max_depth=14, GBM_smote__max_features=0.2, GBM_smote__n_estimators=10, GBM_smote__subsample=0.6 \n",
            "[CV]  GBM_smote__max_depth=14, GBM_smote__max_features=0.2, GBM_smote__n_estimators=10, GBM_smote__subsample=0.6, total=  17.2s\n",
            "[CV] GBM_smote__max_depth=14, GBM_smote__max_features=0.2, GBM_smote__n_estimators=10, GBM_smote__subsample=0.6 \n",
            "[CV]  GBM_smote__max_depth=14, GBM_smote__max_features=0.2, GBM_smote__n_estimators=10, GBM_smote__subsample=0.6, total=  17.4s\n",
            "[CV] GBM_smote__max_depth=14, GBM_smote__max_features=0.2, GBM_smote__n_estimators=10, GBM_smote__subsample=0.6 \n",
            "[CV]  GBM_smote__max_depth=14, GBM_smote__max_features=0.2, GBM_smote__n_estimators=10, GBM_smote__subsample=0.6, total=  17.6s\n",
            "[CV] GBM_smote__max_depth=14, GBM_smote__max_features=0.2, GBM_smote__n_estimators=20, GBM_smote__subsample=0.8 \n",
            "[CV]  GBM_smote__max_depth=14, GBM_smote__max_features=0.2, GBM_smote__n_estimators=20, GBM_smote__subsample=0.8, total=  40.3s\n",
            "[CV] GBM_smote__max_depth=14, GBM_smote__max_features=0.2, GBM_smote__n_estimators=20, GBM_smote__subsample=0.8 \n",
            "[CV]  GBM_smote__max_depth=14, GBM_smote__max_features=0.2, GBM_smote__n_estimators=20, GBM_smote__subsample=0.8, total=  40.0s\n",
            "[CV] GBM_smote__max_depth=14, GBM_smote__max_features=0.2, GBM_smote__n_estimators=20, GBM_smote__subsample=0.8 \n",
            "[CV]  GBM_smote__max_depth=14, GBM_smote__max_features=0.2, GBM_smote__n_estimators=20, GBM_smote__subsample=0.8, total=  39.9s\n",
            "[CV] GBM_smote__max_depth=14, GBM_smote__max_features=0.2, GBM_smote__n_estimators=20, GBM_smote__subsample=0.8 \n",
            "[CV]  GBM_smote__max_depth=14, GBM_smote__max_features=0.2, GBM_smote__n_estimators=20, GBM_smote__subsample=0.8, total=  40.2s\n",
            "[CV] GBM_smote__max_depth=14, GBM_smote__max_features=0.2, GBM_smote__n_estimators=20, GBM_smote__subsample=0.8 \n",
            "[CV]  GBM_smote__max_depth=14, GBM_smote__max_features=0.2, GBM_smote__n_estimators=20, GBM_smote__subsample=0.8, total=  39.7s\n",
            "[CV] GBM_smote__max_depth=14, GBM_smote__max_features=0.2, GBM_smote__n_estimators=20, GBM_smote__subsample=0.6 \n",
            "[CV]  GBM_smote__max_depth=14, GBM_smote__max_features=0.2, GBM_smote__n_estimators=20, GBM_smote__subsample=0.6, total=  34.4s\n",
            "[CV] GBM_smote__max_depth=14, GBM_smote__max_features=0.2, GBM_smote__n_estimators=20, GBM_smote__subsample=0.6 \n",
            "[CV]  GBM_smote__max_depth=14, GBM_smote__max_features=0.2, GBM_smote__n_estimators=20, GBM_smote__subsample=0.6, total=  33.7s\n",
            "[CV] GBM_smote__max_depth=14, GBM_smote__max_features=0.2, GBM_smote__n_estimators=20, GBM_smote__subsample=0.6 \n",
            "[CV]  GBM_smote__max_depth=14, GBM_smote__max_features=0.2, GBM_smote__n_estimators=20, GBM_smote__subsample=0.6, total=  34.2s\n",
            "[CV] GBM_smote__max_depth=14, GBM_smote__max_features=0.2, GBM_smote__n_estimators=20, GBM_smote__subsample=0.6 \n",
            "[CV]  GBM_smote__max_depth=14, GBM_smote__max_features=0.2, GBM_smote__n_estimators=20, GBM_smote__subsample=0.6, total=  34.3s\n",
            "[CV] GBM_smote__max_depth=14, GBM_smote__max_features=0.2, GBM_smote__n_estimators=20, GBM_smote__subsample=0.6 \n",
            "[CV]  GBM_smote__max_depth=14, GBM_smote__max_features=0.2, GBM_smote__n_estimators=20, GBM_smote__subsample=0.6, total=  34.4s\n",
            "[CV] GBM_smote__max_depth=14, GBM_smote__max_features=0.2, GBM_smote__n_estimators=30, GBM_smote__subsample=0.8 \n",
            "[CV]  GBM_smote__max_depth=14, GBM_smote__max_features=0.2, GBM_smote__n_estimators=30, GBM_smote__subsample=0.8, total=  58.7s\n",
            "[CV] GBM_smote__max_depth=14, GBM_smote__max_features=0.2, GBM_smote__n_estimators=30, GBM_smote__subsample=0.8 \n",
            "[CV]  GBM_smote__max_depth=14, GBM_smote__max_features=0.2, GBM_smote__n_estimators=30, GBM_smote__subsample=0.8, total=  59.3s\n",
            "[CV] GBM_smote__max_depth=14, GBM_smote__max_features=0.2, GBM_smote__n_estimators=30, GBM_smote__subsample=0.8 \n",
            "[CV]  GBM_smote__max_depth=14, GBM_smote__max_features=0.2, GBM_smote__n_estimators=30, GBM_smote__subsample=0.8, total=  58.4s\n",
            "[CV] GBM_smote__max_depth=14, GBM_smote__max_features=0.2, GBM_smote__n_estimators=30, GBM_smote__subsample=0.8 \n",
            "[CV]  GBM_smote__max_depth=14, GBM_smote__max_features=0.2, GBM_smote__n_estimators=30, GBM_smote__subsample=0.8, total=  59.4s\n",
            "[CV] GBM_smote__max_depth=14, GBM_smote__max_features=0.2, GBM_smote__n_estimators=30, GBM_smote__subsample=0.8 \n",
            "[CV]  GBM_smote__max_depth=14, GBM_smote__max_features=0.2, GBM_smote__n_estimators=30, GBM_smote__subsample=0.8, total=  59.4s\n",
            "[CV] GBM_smote__max_depth=14, GBM_smote__max_features=0.2, GBM_smote__n_estimators=30, GBM_smote__subsample=0.6 \n",
            "[CV]  GBM_smote__max_depth=14, GBM_smote__max_features=0.2, GBM_smote__n_estimators=30, GBM_smote__subsample=0.6, total=  51.7s\n",
            "[CV] GBM_smote__max_depth=14, GBM_smote__max_features=0.2, GBM_smote__n_estimators=30, GBM_smote__subsample=0.6 \n",
            "[CV]  GBM_smote__max_depth=14, GBM_smote__max_features=0.2, GBM_smote__n_estimators=30, GBM_smote__subsample=0.6, total=  50.6s\n",
            "[CV] GBM_smote__max_depth=14, GBM_smote__max_features=0.2, GBM_smote__n_estimators=30, GBM_smote__subsample=0.6 \n",
            "[CV]  GBM_smote__max_depth=14, GBM_smote__max_features=0.2, GBM_smote__n_estimators=30, GBM_smote__subsample=0.6, total=  50.6s\n",
            "[CV] GBM_smote__max_depth=14, GBM_smote__max_features=0.2, GBM_smote__n_estimators=30, GBM_smote__subsample=0.6 \n",
            "[CV]  GBM_smote__max_depth=14, GBM_smote__max_features=0.2, GBM_smote__n_estimators=30, GBM_smote__subsample=0.6, total=  50.9s\n",
            "[CV] GBM_smote__max_depth=14, GBM_smote__max_features=0.2, GBM_smote__n_estimators=30, GBM_smote__subsample=0.6 \n",
            "[CV]  GBM_smote__max_depth=14, GBM_smote__max_features=0.2, GBM_smote__n_estimators=30, GBM_smote__subsample=0.6, total=  51.5s\n",
            "[CV] GBM_smote__max_depth=14, GBM_smote__max_features=0.3, GBM_smote__n_estimators=10, GBM_smote__subsample=0.8 \n",
            "[CV]  GBM_smote__max_depth=14, GBM_smote__max_features=0.3, GBM_smote__n_estimators=10, GBM_smote__subsample=0.8, total=  22.5s\n",
            "[CV] GBM_smote__max_depth=14, GBM_smote__max_features=0.3, GBM_smote__n_estimators=10, GBM_smote__subsample=0.8 \n",
            "[CV]  GBM_smote__max_depth=14, GBM_smote__max_features=0.3, GBM_smote__n_estimators=10, GBM_smote__subsample=0.8, total=  22.4s\n",
            "[CV] GBM_smote__max_depth=14, GBM_smote__max_features=0.3, GBM_smote__n_estimators=10, GBM_smote__subsample=0.8 \n",
            "[CV]  GBM_smote__max_depth=14, GBM_smote__max_features=0.3, GBM_smote__n_estimators=10, GBM_smote__subsample=0.8, total=  21.9s\n",
            "[CV] GBM_smote__max_depth=14, GBM_smote__max_features=0.3, GBM_smote__n_estimators=10, GBM_smote__subsample=0.8 \n",
            "[CV]  GBM_smote__max_depth=14, GBM_smote__max_features=0.3, GBM_smote__n_estimators=10, GBM_smote__subsample=0.8, total=  22.8s\n",
            "[CV] GBM_smote__max_depth=14, GBM_smote__max_features=0.3, GBM_smote__n_estimators=10, GBM_smote__subsample=0.8 \n",
            "[CV]  GBM_smote__max_depth=14, GBM_smote__max_features=0.3, GBM_smote__n_estimators=10, GBM_smote__subsample=0.8, total=  22.4s\n",
            "[CV] GBM_smote__max_depth=14, GBM_smote__max_features=0.3, GBM_smote__n_estimators=10, GBM_smote__subsample=0.6 \n",
            "[CV]  GBM_smote__max_depth=14, GBM_smote__max_features=0.3, GBM_smote__n_estimators=10, GBM_smote__subsample=0.6, total=  19.2s\n",
            "[CV] GBM_smote__max_depth=14, GBM_smote__max_features=0.3, GBM_smote__n_estimators=10, GBM_smote__subsample=0.6 \n",
            "[CV]  GBM_smote__max_depth=14, GBM_smote__max_features=0.3, GBM_smote__n_estimators=10, GBM_smote__subsample=0.6, total=  18.8s\n",
            "[CV] GBM_smote__max_depth=14, GBM_smote__max_features=0.3, GBM_smote__n_estimators=10, GBM_smote__subsample=0.6 \n",
            "[CV]  GBM_smote__max_depth=14, GBM_smote__max_features=0.3, GBM_smote__n_estimators=10, GBM_smote__subsample=0.6, total=  19.2s\n",
            "[CV] GBM_smote__max_depth=14, GBM_smote__max_features=0.3, GBM_smote__n_estimators=10, GBM_smote__subsample=0.6 \n",
            "[CV]  GBM_smote__max_depth=14, GBM_smote__max_features=0.3, GBM_smote__n_estimators=10, GBM_smote__subsample=0.6, total=  19.4s\n",
            "[CV] GBM_smote__max_depth=14, GBM_smote__max_features=0.3, GBM_smote__n_estimators=10, GBM_smote__subsample=0.6 \n",
            "[CV]  GBM_smote__max_depth=14, GBM_smote__max_features=0.3, GBM_smote__n_estimators=10, GBM_smote__subsample=0.6, total=  19.1s\n",
            "[CV] GBM_smote__max_depth=14, GBM_smote__max_features=0.3, GBM_smote__n_estimators=20, GBM_smote__subsample=0.8 \n",
            "[CV]  GBM_smote__max_depth=14, GBM_smote__max_features=0.3, GBM_smote__n_estimators=20, GBM_smote__subsample=0.8, total=  45.3s\n",
            "[CV] GBM_smote__max_depth=14, GBM_smote__max_features=0.3, GBM_smote__n_estimators=20, GBM_smote__subsample=0.8 \n",
            "[CV]  GBM_smote__max_depth=14, GBM_smote__max_features=0.3, GBM_smote__n_estimators=20, GBM_smote__subsample=0.8, total=  45.1s\n",
            "[CV] GBM_smote__max_depth=14, GBM_smote__max_features=0.3, GBM_smote__n_estimators=20, GBM_smote__subsample=0.8 \n",
            "[CV]  GBM_smote__max_depth=14, GBM_smote__max_features=0.3, GBM_smote__n_estimators=20, GBM_smote__subsample=0.8, total=  45.5s\n",
            "[CV] GBM_smote__max_depth=14, GBM_smote__max_features=0.3, GBM_smote__n_estimators=20, GBM_smote__subsample=0.8 \n",
            "[CV]  GBM_smote__max_depth=14, GBM_smote__max_features=0.3, GBM_smote__n_estimators=20, GBM_smote__subsample=0.8, total=  45.7s\n",
            "[CV] GBM_smote__max_depth=14, GBM_smote__max_features=0.3, GBM_smote__n_estimators=20, GBM_smote__subsample=0.8 \n",
            "[CV]  GBM_smote__max_depth=14, GBM_smote__max_features=0.3, GBM_smote__n_estimators=20, GBM_smote__subsample=0.8, total=  45.4s\n",
            "[CV] GBM_smote__max_depth=14, GBM_smote__max_features=0.3, GBM_smote__n_estimators=20, GBM_smote__subsample=0.6 \n",
            "[CV]  GBM_smote__max_depth=14, GBM_smote__max_features=0.3, GBM_smote__n_estimators=20, GBM_smote__subsample=0.6, total=  37.8s\n",
            "[CV] GBM_smote__max_depth=14, GBM_smote__max_features=0.3, GBM_smote__n_estimators=20, GBM_smote__subsample=0.6 \n",
            "[CV]  GBM_smote__max_depth=14, GBM_smote__max_features=0.3, GBM_smote__n_estimators=20, GBM_smote__subsample=0.6, total=  37.8s\n",
            "[CV] GBM_smote__max_depth=14, GBM_smote__max_features=0.3, GBM_smote__n_estimators=20, GBM_smote__subsample=0.6 \n",
            "[CV]  GBM_smote__max_depth=14, GBM_smote__max_features=0.3, GBM_smote__n_estimators=20, GBM_smote__subsample=0.6, total=  38.0s\n",
            "[CV] GBM_smote__max_depth=14, GBM_smote__max_features=0.3, GBM_smote__n_estimators=20, GBM_smote__subsample=0.6 \n",
            "[CV]  GBM_smote__max_depth=14, GBM_smote__max_features=0.3, GBM_smote__n_estimators=20, GBM_smote__subsample=0.6, total=  38.6s\n",
            "[CV] GBM_smote__max_depth=14, GBM_smote__max_features=0.3, GBM_smote__n_estimators=20, GBM_smote__subsample=0.6 \n",
            "[CV]  GBM_smote__max_depth=14, GBM_smote__max_features=0.3, GBM_smote__n_estimators=20, GBM_smote__subsample=0.6, total=  38.5s\n",
            "[CV] GBM_smote__max_depth=14, GBM_smote__max_features=0.3, GBM_smote__n_estimators=30, GBM_smote__subsample=0.8 \n",
            "[CV]  GBM_smote__max_depth=14, GBM_smote__max_features=0.3, GBM_smote__n_estimators=30, GBM_smote__subsample=0.8, total= 1.1min\n",
            "[CV] GBM_smote__max_depth=14, GBM_smote__max_features=0.3, GBM_smote__n_estimators=30, GBM_smote__subsample=0.8 \n",
            "[CV]  GBM_smote__max_depth=14, GBM_smote__max_features=0.3, GBM_smote__n_estimators=30, GBM_smote__subsample=0.8, total= 1.1min\n",
            "[CV] GBM_smote__max_depth=14, GBM_smote__max_features=0.3, GBM_smote__n_estimators=30, GBM_smote__subsample=0.8 \n",
            "[CV]  GBM_smote__max_depth=14, GBM_smote__max_features=0.3, GBM_smote__n_estimators=30, GBM_smote__subsample=0.8, total= 1.1min\n",
            "[CV] GBM_smote__max_depth=14, GBM_smote__max_features=0.3, GBM_smote__n_estimators=30, GBM_smote__subsample=0.8 \n",
            "[CV]  GBM_smote__max_depth=14, GBM_smote__max_features=0.3, GBM_smote__n_estimators=30, GBM_smote__subsample=0.8, total= 1.1min\n",
            "[CV] GBM_smote__max_depth=14, GBM_smote__max_features=0.3, GBM_smote__n_estimators=30, GBM_smote__subsample=0.8 \n",
            "[CV]  GBM_smote__max_depth=14, GBM_smote__max_features=0.3, GBM_smote__n_estimators=30, GBM_smote__subsample=0.8, total= 1.1min\n",
            "[CV] GBM_smote__max_depth=14, GBM_smote__max_features=0.3, GBM_smote__n_estimators=30, GBM_smote__subsample=0.6 \n",
            "[CV]  GBM_smote__max_depth=14, GBM_smote__max_features=0.3, GBM_smote__n_estimators=30, GBM_smote__subsample=0.6, total=  56.9s\n",
            "[CV] GBM_smote__max_depth=14, GBM_smote__max_features=0.3, GBM_smote__n_estimators=30, GBM_smote__subsample=0.6 \n",
            "[CV]  GBM_smote__max_depth=14, GBM_smote__max_features=0.3, GBM_smote__n_estimators=30, GBM_smote__subsample=0.6, total=  56.6s\n",
            "[CV] GBM_smote__max_depth=14, GBM_smote__max_features=0.3, GBM_smote__n_estimators=30, GBM_smote__subsample=0.6 \n",
            "[CV]  GBM_smote__max_depth=14, GBM_smote__max_features=0.3, GBM_smote__n_estimators=30, GBM_smote__subsample=0.6, total=  56.4s\n",
            "[CV] GBM_smote__max_depth=14, GBM_smote__max_features=0.3, GBM_smote__n_estimators=30, GBM_smote__subsample=0.6 \n",
            "[CV]  GBM_smote__max_depth=14, GBM_smote__max_features=0.3, GBM_smote__n_estimators=30, GBM_smote__subsample=0.6, total=  55.9s\n",
            "[CV] GBM_smote__max_depth=14, GBM_smote__max_features=0.3, GBM_smote__n_estimators=30, GBM_smote__subsample=0.6 \n",
            "[CV]  GBM_smote__max_depth=14, GBM_smote__max_features=0.3, GBM_smote__n_estimators=30, GBM_smote__subsample=0.6, total=  56.2s\n"
          ],
          "name": "stdout"
        },
        {
          "output_type": "stream",
          "text": [
            "[Parallel(n_jobs=1)]: Done 240 out of 240 | elapsed: 91.3min finished\n"
          ],
          "name": "stderr"
        },
        {
          "output_type": "execute_result",
          "data": {
            "text/plain": [
              "GridSearchCV(cv=5, error_score=nan,\n",
              "             estimator=Pipeline(memory=None,\n",
              "                                steps=[('GBM_smote',\n",
              "                                        GradientBoostingClassifier(ccp_alpha=0.0,\n",
              "                                                                   criterion='friedman_mse',\n",
              "                                                                   init=None,\n",
              "                                                                   learning_rate=0.1,\n",
              "                                                                   loss='deviance',\n",
              "                                                                   max_depth=3,\n",
              "                                                                   max_features=None,\n",
              "                                                                   max_leaf_nodes=None,\n",
              "                                                                   min_impurity_decrease=0.0,\n",
              "                                                                   min_impurity_split=None,\n",
              "                                                                   min_samples_leaf=1,\n",
              "                                                                   min_samples_split=2,\n",
              "                                                                   min_weight_fract...\n",
              "                                                                   subsample=1.0,\n",
              "                                                                   tol=0.0001,\n",
              "                                                                   validation_fraction=0.1,\n",
              "                                                                   verbose=0,\n",
              "                                                                   warm_start=False))],\n",
              "                                verbose=False),\n",
              "             iid='deprecated', n_jobs=1,\n",
              "             param_grid={'GBM_smote__max_depth': [8, 10, 12, 14],\n",
              "                         'GBM_smote__max_features': [0.2, 0.3],\n",
              "                         'GBM_smote__n_estimators': [10, 20, 30],\n",
              "                         'GBM_smote__subsample': [0.8, 0.6]},\n",
              "             pre_dispatch='2*n_jobs', refit=True, return_train_score=False,\n",
              "             scoring=None, verbose=2)"
            ]
          },
          "metadata": {
            "tags": []
          },
          "execution_count": 53
        }
      ]
    },
    {
      "cell_type": "code",
      "metadata": {
        "id": "OWRjfji3tNTt",
        "colab_type": "code",
        "outputId": "1eea8868-4d46-4914-a810-6708311fd288",
        "colab": {
          "base_uri": "https://localhost:8080/",
          "height": 85
        }
      },
      "source": [
        "gbm_smote_grid.best_params_\n",
        "\n",
        "#{'GBM_smote__max_depth': 14,\n",
        " #'GBM_smote__max_features': 0.3,\n",
        " #'GBM_smote__n_estimators': 30,\n",
        " #'GBM_smote__subsample': 0.8}"
      ],
      "execution_count": 0,
      "outputs": [
        {
          "output_type": "execute_result",
          "data": {
            "text/plain": [
              "{'GBM_smote__max_depth': 14,\n",
              " 'GBM_smote__max_features': 0.3,\n",
              " 'GBM_smote__n_estimators': 30,\n",
              " 'GBM_smote__subsample': 0.8}"
            ]
          },
          "metadata": {
            "tags": []
          },
          "execution_count": 55
        }
      ]
    },
    {
      "cell_type": "code",
      "metadata": {
        "id": "MepZ3kC8_3jS",
        "colab_type": "code",
        "outputId": "b2d7bb87-bb8a-4c4d-bc97-0e3e653759c9",
        "colab": {
          "base_uri": "https://localhost:8080/",
          "height": 153
        }
      },
      "source": [
        "train_pred = gbm_smote_grid.predict(os_data_X)\n",
        "test_pred = gbm_smote_grid.predict(X_test_pp)\n",
        "\n",
        "print(gbm_smote_grid.score(os_data_X, os_data_y))\n",
        "print(gbm_smote_grid.score(X_test_pp, y_test))\n",
        "\n",
        "print(confusion_matrix(y_true=os_data_y, y_pred = train_pred))\n",
        "\n",
        "confusion_matrix_test = confusion_matrix(y_true=y_test, y_pred =  test_pred)\n",
        "\n",
        "\n",
        "Accuracy_test=(confusion_matrix_test[0,0]+confusion_matrix_test[1,1])/(confusion_matrix_test[0,0]+confusion_matrix_test[0,1]+confusion_matrix_test[1,0]+confusion_matrix_test[1,1])\n",
        "\n",
        "Precision_Test= confusion_matrix_test[1,1]/(confusion_matrix_test[1,1]+confusion_matrix_test[0,1])\n",
        "Recall_Test= confusion_matrix_test[1,1]/(confusion_matrix_test[1,0]+confusion_matrix_test[1,1])\n",
        "\n",
        "print(\"Test Precision: \",Precision_Test)\n",
        "print(\"Test Recall: \",Recall_Test)\n",
        "print(\"Train Accuracy: \",Accuracy_test)"
      ],
      "execution_count": 0,
      "outputs": [
        {
          "output_type": "stream",
          "text": [
            "0.8567662702166261\n",
            "0.6835909315307789\n",
            "[[38578  6026   772]\n",
            " [ 1590 41645  2141]\n",
            " [ 1055  6890 30281]]\n",
            "Test Precision:  0.8290528971794179\n",
            "Test Recall:  0.9319286871961102\n",
            "Train Accuracy:  0.827236045729657\n"
          ],
          "name": "stdout"
        }
      ]
    },
    {
      "cell_type": "code",
      "metadata": {
        "id": "EQUyJn5evZPW",
        "colab_type": "code",
        "colab": {}
      },
      "source": [
        "valid_data_pp = pd.DataFrame(clf.fit_transform(valid_data))\n"
      ],
      "execution_count": 0,
      "outputs": []
    },
    {
      "cell_type": "code",
      "metadata": {
        "id": "hbZ60xHauWTq",
        "colab_type": "code",
        "outputId": "f5e35bc8-17d0-4ec5-f1a7-548ec96d3bfd",
        "colab": {
          "base_uri": "https://localhost:8080/",
          "height": 419
        }
      },
      "source": [
        "valid_pred_gbm_smote_grid = gbm_smote_grid.predict(valid_data_pp)\n",
        "valid_pred_gbm_smote_grid = pd.DataFrame(valid_pred_gbm_smote_grid)\n",
        "valid_pred_gbm_smote_grid.to_csv('valid_pred_gbm_smote_grid.csv')\n",
        "valid_pred_gbm_smote_grid"
      ],
      "execution_count": 0,
      "outputs": [
        {
          "output_type": "execute_result",
          "data": {
            "text/html": [
              "<div>\n",
              "<style scoped>\n",
              "    .dataframe tbody tr th:only-of-type {\n",
              "        vertical-align: middle;\n",
              "    }\n",
              "\n",
              "    .dataframe tbody tr th {\n",
              "        vertical-align: top;\n",
              "    }\n",
              "\n",
              "    .dataframe thead th {\n",
              "        text-align: right;\n",
              "    }\n",
              "</style>\n",
              "<table border=\"1\" class=\"dataframe\">\n",
              "  <thead>\n",
              "    <tr style=\"text-align: right;\">\n",
              "      <th></th>\n",
              "      <th>0</th>\n",
              "    </tr>\n",
              "  </thead>\n",
              "  <tbody>\n",
              "    <tr>\n",
              "      <th>0</th>\n",
              "      <td>1</td>\n",
              "    </tr>\n",
              "    <tr>\n",
              "      <th>1</th>\n",
              "      <td>1</td>\n",
              "    </tr>\n",
              "    <tr>\n",
              "      <th>2</th>\n",
              "      <td>2</td>\n",
              "    </tr>\n",
              "    <tr>\n",
              "      <th>3</th>\n",
              "      <td>2</td>\n",
              "    </tr>\n",
              "    <tr>\n",
              "      <th>4</th>\n",
              "      <td>2</td>\n",
              "    </tr>\n",
              "    <tr>\n",
              "      <th>...</th>\n",
              "      <td>...</td>\n",
              "    </tr>\n",
              "    <tr>\n",
              "      <th>87390</th>\n",
              "      <td>2</td>\n",
              "    </tr>\n",
              "    <tr>\n",
              "      <th>87391</th>\n",
              "      <td>2</td>\n",
              "    </tr>\n",
              "    <tr>\n",
              "      <th>87392</th>\n",
              "      <td>1</td>\n",
              "    </tr>\n",
              "    <tr>\n",
              "      <th>87393</th>\n",
              "      <td>2</td>\n",
              "    </tr>\n",
              "    <tr>\n",
              "      <th>87394</th>\n",
              "      <td>1</td>\n",
              "    </tr>\n",
              "  </tbody>\n",
              "</table>\n",
              "<p>87395 rows × 1 columns</p>\n",
              "</div>"
            ],
            "text/plain": [
              "       0\n",
              "0      1\n",
              "1      1\n",
              "2      2\n",
              "3      2\n",
              "4      2\n",
              "...   ..\n",
              "87390  2\n",
              "87391  2\n",
              "87392  1\n",
              "87393  2\n",
              "87394  1\n",
              "\n",
              "[87395 rows x 1 columns]"
            ]
          },
          "metadata": {
            "tags": []
          },
          "execution_count": 60
        }
      ]
    },
    {
      "cell_type": "code",
      "metadata": {
        "id": "Vu8fY91quWsx",
        "colab_type": "code",
        "colab": {}
      },
      "source": [
        ""
      ],
      "execution_count": 0,
      "outputs": []
    },
    {
      "cell_type": "code",
      "metadata": {
        "id": "lWOfX6phuXBt",
        "colab_type": "code",
        "colab": {}
      },
      "source": [
        ""
      ],
      "execution_count": 0,
      "outputs": []
    },
    {
      "cell_type": "code",
      "metadata": {
        "id": "WlO2kA_RuXbW",
        "colab_type": "code",
        "colab": {}
      },
      "source": [
        ""
      ],
      "execution_count": 0,
      "outputs": []
    },
    {
      "cell_type": "code",
      "metadata": {
        "id": "VBKsHrz9uXt1",
        "colab_type": "code",
        "colab": {}
      },
      "source": [
        ""
      ],
      "execution_count": 0,
      "outputs": []
    },
    {
      "cell_type": "markdown",
      "metadata": {
        "id": "fpMWGoyV_3jW",
        "colab_type": "text"
      },
      "source": [
        "## _Insights_\n",
        "\n",
        "* Excel Sheet Analysis\n",
        "\n",
        "\n",
        "* Positive : Yes to Campaign ; Negative : No to Campaign\n",
        "\n",
        "\n",
        "* Recall Importance : False pos"
      ]
    },
    {
      "cell_type": "markdown",
      "metadata": {
        "collapsed": true,
        "id": "wTAHCHrw_3jX",
        "colab_type": "text"
      },
      "source": [
        "### Bayesian Optimization for Random Forest Model "
      ]
    },
    {
      "cell_type": "code",
      "metadata": {
        "id": "FxVIZSom_3jX",
        "colab_type": "code",
        "colab": {}
      },
      "source": [
        "# Install hyperopt\n",
        "# ! pip install hyperopt"
      ],
      "execution_count": 0,
      "outputs": []
    },
    {
      "cell_type": "markdown",
      "metadata": {
        "id": "-kHWWayg_3ja",
        "colab_type": "text"
      },
      "source": [
        "#### Building a Random forest model using bayesian optimization."
      ]
    },
    {
      "cell_type": "code",
      "metadata": {
        "id": "f1t_Sg2omIKm",
        "colab_type": "code",
        "colab": {}
      },
      "source": [
        "### handling outliers"
      ],
      "execution_count": 0,
      "outputs": []
    },
    {
      "cell_type": "code",
      "metadata": {
        "id": "B2UjF6o6GcCZ",
        "colab_type": "code",
        "colab": {}
      },
      "source": [
        "def outliers(data,num_cols):\n",
        "    #num_cols = data.select_dtypes(exclude='category')\n",
        "    #cat_cols = data.select_dtypes(include='category')\n",
        "    for col in num_cols:\n",
        "        mu = data[col].mean()\n",
        "        sigma = data[col].std()\n",
        "        min_val = mu - 3*sigma\n",
        "        max_val = mu + 3*sigma\n",
        "        data.drop(data.loc[(data[col] > max_val) | (data[col] < min_val),].index,inplace=True)\n",
        "    return data\n",
        "train = outliers(train, num_cols)\n"
      ],
      "execution_count": 0,
      "outputs": []
    },
    {
      "cell_type": "code",
      "metadata": {
        "id": "UyZljrRImIaR",
        "colab_type": "code",
        "colab": {}
      },
      "source": [
        "def getUpperLowerQuantiles(data) :\n",
        "    LowerQuantile=[]\n",
        "    UpperQuantile=[]\n",
        "    num_cols=data.select_dtypes(include=['int64','float64']).columns\n",
        "    print(num_cols)\n",
        "    for i in num_cols:\n",
        "        LowerQuantile.append(data[i].quantile(.01))\n",
        "        UpperQuantile.append(data[i].quantile(.99))\n",
        "    return(LowerQuantile,UpperQuantile)"
      ],
      "execution_count": 0,
      "outputs": []
    },
    {
      "cell_type": "code",
      "metadata": {
        "id": "99N9mMByHJdA",
        "colab_type": "code",
        "outputId": "51f1d50a-7de8-45d4-cca3-24824f165e64",
        "colab": {
          "base_uri": "https://localhost:8080/",
          "height": 85
        }
      },
      "source": [
        "LowerQuantile,UpperQuantile=list(getUpperLowerQuantiles(cab_data))"
      ],
      "execution_count": 0,
      "outputs": [
        {
          "output_type": "stream",
          "text": [
            "Index(['Trip_Distance', 'Customer_Since_Months', 'Life_Style_Index',\n",
            "       'Customer_Rating', 'Cancellation_Last_1Month', 'Var1', 'Var2', 'Var3',\n",
            "       'Surge_Pricing_Type'],\n",
            "      dtype='object')\n"
          ],
          "name": "stdout"
        }
      ]
    },
    {
      "cell_type": "code",
      "metadata": {
        "id": "qa18_ezCmI4h",
        "colab_type": "code",
        "outputId": "e4a65803-56c6-4a94-aa03-74e57cb5b7e6",
        "colab": {
          "base_uri": "https://localhost:8080/",
          "height": 170
        }
      },
      "source": [
        "LowerQuantile"
      ],
      "execution_count": 0,
      "outputs": [
        {
          "output_type": "execute_result",
          "data": {
            "text/plain": [
              "[5.216100000000001,\n",
              " 0.0,\n",
              " 2.2723372,\n",
              " 0.6695125000000002,\n",
              " 0.0,\n",
              " 31.0,\n",
              " 43.0,\n",
              " 56.0,\n",
              " 1.0]"
            ]
          },
          "metadata": {
            "tags": []
          },
          "execution_count": 63
        }
      ]
    },
    {
      "cell_type": "code",
      "metadata": {
        "id": "VxO05sadmJIh",
        "colab_type": "code",
        "outputId": "a7320146-4cfa-4264-b39a-0096952e86a3",
        "colab": {
          "base_uri": "https://localhost:8080/",
          "height": 34
        }
      },
      "source": [
        "UpperQuantile"
      ],
      "execution_count": 0,
      "outputs": [
        {
          "output_type": "execute_result",
          "data": {
            "text/plain": [
              "[108.35, 10.0, 3.3810219999999993, 4.79125, 4.0, 110.0, 67.0, 109.0, 3.0]"
            ]
          },
          "metadata": {
            "tags": []
          },
          "execution_count": 64
        }
      ]
    },
    {
      "cell_type": "code",
      "metadata": {
        "id": "NvZtgs3lmJWt",
        "colab_type": "code",
        "colab": {}
      },
      "source": [
        "def getOutliers(data) :\n",
        "    for i in range(data.shape[1]):\n",
        "        print(\"--------------\")\n",
        "        print(data.iloc[:,i][data.iloc[:,i]>UpperQuantile[i]])\n",
        "        print(data.iloc[:,i][data.iloc[:,i]<LowerQuantile[i]])"
      ],
      "execution_count": 0,
      "outputs": []
    },
    {
      "cell_type": "code",
      "metadata": {
        "id": "fOFB6X1OmJlu",
        "colab_type": "code",
        "outputId": "d2adbdad-d098-4435-a1f3-223846c023a7",
        "colab": {
          "base_uri": "https://localhost:8080/",
          "height": 1000
        }
      },
      "source": [
        "getOutliers(cab_data[num_cols]) \n"
      ],
      "execution_count": 0,
      "outputs": [
        {
          "output_type": "stream",
          "text": [
            "--------------\n",
            "54        108.50\n",
            "128       108.74\n",
            "151       108.63\n",
            "183       108.93\n",
            "282       108.94\n",
            "           ...  \n",
            "130861    108.79\n",
            "131090    108.50\n",
            "131225    108.39\n",
            "131456    108.95\n",
            "131543    109.03\n",
            "Name: Trip_Distance, Length: 1314, dtype: float64\n",
            "36        4.78\n",
            "48        2.83\n",
            "114       4.29\n",
            "133       4.27\n",
            "164       3.47\n",
            "          ... \n",
            "131372    2.28\n",
            "131411    3.80\n",
            "131431    4.78\n",
            "131517    2.38\n",
            "131627    4.35\n",
            "Name: Trip_Distance, Length: 1317, dtype: float64\n",
            "--------------\n",
            "Series([], Name: Customer_Since_Months, dtype: float64)\n",
            "Series([], Name: Customer_Since_Months, dtype: float64)\n",
            "--------------\n",
            "183       3.53792\n",
            "282       3.47270\n",
            "526       3.53650\n",
            "605       3.43832\n",
            "607       3.39795\n",
            "           ...   \n",
            "131387    3.39832\n",
            "131442    3.51799\n",
            "131539    3.50566\n",
            "131543    3.62424\n",
            "131581    3.44766\n",
            "Name: Life_Style_Index, Length: 1115, dtype: float64\n",
            "15        2.16167\n",
            "495       2.16962\n",
            "542       2.25945\n",
            "837       2.13555\n",
            "926       2.04254\n",
            "           ...   \n",
            "131238    2.24949\n",
            "131290    1.95880\n",
            "131482    2.03169\n",
            "131495    2.17975\n",
            "131521    2.16143\n",
            "Name: Life_Style_Index, Length: 1115, dtype: float64\n",
            "--------------\n",
            "17        4.93375\n",
            "97        4.87500\n",
            "193       4.80625\n",
            "308       4.90875\n",
            "438       4.88500\n",
            "           ...   \n",
            "131189    4.87000\n",
            "131278    4.98125\n",
            "131299    4.96000\n",
            "131433    4.85000\n",
            "131653    4.79750\n",
            "Name: Customer_Rating, Length: 1310, dtype: float64\n",
            "119       0.15125\n",
            "210       0.00250\n",
            "522       0.18500\n",
            "748       0.51625\n",
            "775       0.33250\n",
            "           ...   \n",
            "131434    0.57375\n",
            "131515    0.61875\n",
            "131573    0.46625\n",
            "131628    0.04750\n",
            "131658    0.44500\n",
            "Name: Customer_Rating, Length: 1317, dtype: float64\n",
            "--------------\n",
            "19        5\n",
            "27        5\n",
            "530       6\n",
            "779       5\n",
            "1017      6\n",
            "         ..\n",
            "130677    5\n",
            "131161    5\n",
            "131229    5\n",
            "131410    5\n",
            "131543    5\n",
            "Name: Cancellation_Last_1Month, Length: 953, dtype: int64\n",
            "Series([], Name: Cancellation_Last_1Month, dtype: int64)\n",
            "--------------\n",
            "216       111.0\n",
            "429       111.0\n",
            "527       112.0\n",
            "591       111.0\n",
            "592       111.0\n",
            "          ...  \n",
            "131017    111.0\n",
            "131200    111.0\n",
            "131297    111.0\n",
            "131478    112.0\n",
            "131495    112.0\n",
            "Name: Var1, Length: 605, dtype: float64\n",
            "761       30.0\n",
            "1775      30.0\n",
            "3020      30.0\n",
            "4377      30.0\n",
            "4906      30.0\n",
            "          ... \n",
            "130611    30.0\n",
            "130746    30.0\n",
            "130926    30.0\n",
            "130952    30.0\n",
            "131201    30.0\n",
            "Name: Var1, Length: 269, dtype: float64\n",
            "--------------\n",
            "67        72\n",
            "75        68\n",
            "215       76\n",
            "233       68\n",
            "375       71\n",
            "          ..\n",
            "131456    71\n",
            "131498    70\n",
            "131630    74\n",
            "131632    72\n",
            "131646    69\n",
            "Name: Var2, Length: 1048, dtype: int64\n",
            "649       42\n",
            "1195      42\n",
            "1252      41\n",
            "1293      42\n",
            "1427      42\n",
            "          ..\n",
            "131189    42\n",
            "131251    42\n",
            "131278    42\n",
            "131299    42\n",
            "131642    42\n",
            "Name: Var2, Length: 514, dtype: int64\n",
            "--------------\n",
            "233       113\n",
            "257       111\n",
            "375       110\n",
            "607       133\n",
            "658       113\n",
            "         ... \n",
            "130927    124\n",
            "130971    126\n",
            "131174    113\n",
            "131421    114\n",
            "131644    110\n",
            "Name: Var3, Length: 1275, dtype: int64\n",
            "135       55\n",
            "308       54\n",
            "329       55\n",
            "515       55\n",
            "521       55\n",
            "          ..\n",
            "131262    55\n",
            "131272    55\n",
            "131284    55\n",
            "131401    54\n",
            "131642    54\n",
            "Name: Var3, Length: 1142, dtype: int64\n"
          ],
          "name": "stdout"
        }
      ]
    },
    {
      "cell_type": "code",
      "metadata": {
        "id": "zt34vZeKsP8N",
        "colab_type": "code",
        "colab": {}
      },
      "source": [
        "def clip_outliers(data):\n",
        "    data.clip(lower=LowerQuantile, axis=1, inplace=True)\n",
        "    data.clip(upper=UpperQuantile, axis=1, inplace=True)"
      ],
      "execution_count": 0,
      "outputs": []
    },
    {
      "cell_type": "code",
      "metadata": {
        "id": "ortm_ImXsQMO",
        "colab_type": "code",
        "colab": {}
      },
      "source": [
        "clip_outliers(y_train)\n",
        "clip_outliers(y_train_drop)"
      ],
      "execution_count": 0,
      "outputs": []
    },
    {
      "cell_type": "code",
      "metadata": {
        "id": "XygCHNu2skfl",
        "colab_type": "code",
        "colab": {}
      },
      "source": [
        "getOutliers(y_train)"
      ],
      "execution_count": 0,
      "outputs": []
    },
    {
      "cell_type": "code",
      "metadata": {
        "id": "UFANeJt1sk9Q",
        "colab_type": "code",
        "colab": {}
      },
      "source": [
        "clip_outliers(y_valid)\n",
        "clip_outliers(y_valid_drop)"
      ],
      "execution_count": 0,
      "outputs": []
    },
    {
      "cell_type": "code",
      "metadata": {
        "id": "KZvJo3YKslTV",
        "colab_type": "code",
        "colab": {}
      },
      "source": [
        "getOutliers(y_valid)"
      ],
      "execution_count": 0,
      "outputs": []
    },
    {
      "cell_type": "code",
      "metadata": {
        "id": "YzlwdpUfsQlY",
        "colab_type": "code",
        "colab": {}
      },
      "source": [
        "y_valid"
      ],
      "execution_count": 0,
      "outputs": []
    },
    {
      "cell_type": "code",
      "metadata": {
        "id": "_MQ8zHRNsQZN",
        "colab_type": "code",
        "colab": {}
      },
      "source": [
        ""
      ],
      "execution_count": 0,
      "outputs": []
    },
    {
      "cell_type": "code",
      "metadata": {
        "id": "J6tZD8EHsPxI",
        "colab_type": "code",
        "colab": {}
      },
      "source": [
        ""
      ],
      "execution_count": 0,
      "outputs": []
    },
    {
      "cell_type": "code",
      "metadata": {
        "id": "3_VFVTtK_3jb",
        "colab_type": "code",
        "outputId": "2dc0f3a4-17ab-4150-b25d-fd51899645cd",
        "colab": {
          "base_uri": "https://localhost:8080/",
          "height": 1000
        }
      },
      "source": [
        "### HyperOpt Parameter Tuning\n",
        "from hyperopt import tpe\n",
        "from hyperopt import STATUS_OK\n",
        "from hyperopt import Trials\n",
        "from hyperopt import hp\n",
        "from hyperopt import fmin\n",
        "from functools import partial\n",
        "\n",
        "N_FOLDS = 10\n",
        "MAX_EVALS = 50\n",
        "\n",
        "from sklearn.model_selection import cross_val_score, StratifiedKFold\n",
        "from sklearn.ensemble import RandomForestClassifier\n",
        "from sklearn.metrics import make_scorer\n",
        "\n",
        "def gini(truth, predictions):\n",
        "    print('truth is {}  and predictions is {}',truth)\n",
        "    g = np.asarray(np.c_[truth, predictions, np.arange(len(truth)) ], dtype=np.float)\n",
        "    print('Computed values is {}  ',g)\n",
        "    print('g of 2 is ', g[:,2])\n",
        "    g = g[np.lexsort((g[:,2], -1*g[:,1]))]\n",
        "    gs = g[:,0].cumsum().sum() / g[:,0].sum()\n",
        "    gs -= (len(truth) + 1) / 2.\n",
        "    return gs / len(truth)\n",
        "\n",
        "def gini_sklearn(truth, predictions):\n",
        "    return gini(truth, predictions) / gini(truth, truth)\n",
        "\n",
        "gini_scorer = make_scorer(gini_sklearn, greater_is_better=True, needs_proba=True)\n",
        "\n",
        "def objective_randomForest(params):\n",
        "    params = {'n_estimators': int(params['n_estimators']), 'max_depth': int(params['max_depth'])}\n",
        "    clf_rf = RandomForestClassifier(n_jobs=4, class_weight='balanced', **params)\n",
        "    score = cross_val_score(clf_rf, X_train, y_train, scoring=gini_scorer, cv=StratifiedKFold()).mean()\n",
        "    print(\"Gini {:.3f} params {}\".format(score, params))\n",
        "    return score\n",
        "\n",
        "space = {\n",
        "    'n_estimators': hp.quniform('n_estimators', 25, 300, 25),\n",
        "    'max_depth': hp.quniform('max_depth', 1, 12, 1)\n",
        "}\n",
        "\n",
        "best = fmin(fn=objective_randomForest,\n",
        "            space=space,\n",
        "            algo=tpe.suggest,\n",
        "            max_evals = 200)"
      ],
      "execution_count": 0,
      "outputs": [
        {
          "output_type": "stream",
          "text": [
            "Gini nan params {'n_estimators': 250, 'max_depth': 7}\n",
            "Gini nan params {'n_estimators': 50, 'max_depth': 9}\n",
            "Gini nan params {'n_estimators': 175, 'max_depth': 7}\n",
            "Gini nan params {'n_estimators': 200, 'max_depth': 3}\n",
            "Gini nan params {'n_estimators': 300, 'max_depth': 11}\n",
            "Gini nan params {'n_estimators': 50, 'max_depth': 8}\n",
            "Gini nan params {'n_estimators': 275, 'max_depth': 6}\n",
            "Gini nan params {'n_estimators': 25, 'max_depth': 8}\n",
            "Gini nan params {'n_estimators': 125, 'max_depth': 9}\n",
            "Gini nan params {'n_estimators': 150, 'max_depth': 5}\n",
            "Gini nan params {'n_estimators': 125, 'max_depth': 9}\n",
            "Gini nan params {'n_estimators': 25, 'max_depth': 8}\n",
            "Gini nan params {'n_estimators': 150, 'max_depth': 11}\n",
            "Gini nan params {'n_estimators': 50, 'max_depth': 8}\n",
            "Gini nan params {'n_estimators': 25, 'max_depth': 2}\n",
            "Gini nan params {'n_estimators': 25, 'max_depth': 3}\n",
            "Gini nan params {'n_estimators': 275, 'max_depth': 5}\n",
            "Gini nan params {'n_estimators': 200, 'max_depth': 4}\n",
            "Gini nan params {'n_estimators': 300, 'max_depth': 4}\n",
            "Gini nan params {'n_estimators': 50, 'max_depth': 4}\n",
            "Gini nan params {'n_estimators': 200, 'max_depth': 1}\n",
            "Gini nan params {'n_estimators': 100, 'max_depth': 2}\n",
            "Gini nan params {'n_estimators': 125, 'max_depth': 2}\n",
            "Gini nan params {'n_estimators': 75, 'max_depth': 5}\n",
            "Gini nan params {'n_estimators': 175, 'max_depth': 4}\n",
            "Gini nan params {'n_estimators': 225, 'max_depth': 6}\n",
            "Gini nan params {'n_estimators': 225, 'max_depth': 6}\n",
            "Gini nan params {'n_estimators': 250, 'max_depth': 4}\n",
            "Gini nan params {'n_estimators': 275, 'max_depth': 8}\n",
            "Gini nan params {'n_estimators': 300, 'max_depth': 7}\n",
            "Gini nan params {'n_estimators': 250, 'max_depth': 9}\n",
            "Gini nan params {'n_estimators': 225, 'max_depth': 7}\n",
            "Gini nan params {'n_estimators': 100, 'max_depth': 3}\n",
            "Gini nan params {'n_estimators': 125, 'max_depth': 1}\n",
            "Gini nan params {'n_estimators': 125, 'max_depth': 3}\n",
            "Gini nan params {'n_estimators': 250, 'max_depth': 12}\n",
            "Gini nan params {'n_estimators': 225, 'max_depth': 8}\n",
            "Gini nan params {'n_estimators': 175, 'max_depth': 5}\n",
            "Gini nan params {'n_estimators': 200, 'max_depth': 6}\n",
            "Gini nan params {'n_estimators': 25, 'max_depth': 6}\n",
            "Gini nan params {'n_estimators': 275, 'max_depth': 8}\n",
            "Gini nan params {'n_estimators': 275, 'max_depth': 12}\n",
            "Gini nan params {'n_estimators': 100, 'max_depth': 6}\n",
            "Gini nan params {'n_estimators': 125, 'max_depth': 7}\n",
            "Gini nan params {'n_estimators': 150, 'max_depth': 12}\n",
            "Gini nan params {'n_estimators': 50, 'max_depth': 5}\n",
            "Gini nan params {'n_estimators': 250, 'max_depth': 4}\n",
            "Gini nan params {'n_estimators': 125, 'max_depth': 10}\n",
            "Gini nan params {'n_estimators': 125, 'max_depth': 3}\n",
            "Gini nan params {'n_estimators': 225, 'max_depth': 1}\n",
            "Gini nan params {'n_estimators': 50, 'max_depth': 8}\n",
            "Gini nan params {'n_estimators': 225, 'max_depth': 12}\n",
            "Gini nan params {'n_estimators': 75, 'max_depth': 4}\n",
            "Gini nan params {'n_estimators': 125, 'max_depth': 9}\n",
            "Gini nan params {'n_estimators': 50, 'max_depth': 7}\n",
            "Gini nan params {'n_estimators': 150, 'max_depth': 4}\n",
            "Gini nan params {'n_estimators': 75, 'max_depth': 12}\n",
            "Gini nan params {'n_estimators': 125, 'max_depth': 1}\n",
            "Gini nan params {'n_estimators': 100, 'max_depth': 9}\n",
            "Gini nan params {'n_estimators': 125, 'max_depth': 7}\n",
            "Gini nan params {'n_estimators': 125, 'max_depth': 11}\n",
            "Gini nan params {'n_estimators': 50, 'max_depth': 1}\n",
            "Gini nan params {'n_estimators': 200, 'max_depth': 3}\n",
            "Gini nan params {'n_estimators': 75, 'max_depth': 8}\n",
            "Gini nan params {'n_estimators': 25, 'max_depth': 2}\n",
            "Gini nan params {'n_estimators': 225, 'max_depth': 6}\n",
            "Gini nan params {'n_estimators': 300, 'max_depth': 4}\n",
            "Gini nan params {'n_estimators': 100, 'max_depth': 10}\n",
            "Gini nan params {'n_estimators': 275, 'max_depth': 12}\n",
            "Gini nan params {'n_estimators': 200, 'max_depth': 12}\n",
            "Gini nan params {'n_estimators': 75, 'max_depth': 8}\n",
            "Gini nan params {'n_estimators': 200, 'max_depth': 8}\n",
            "Gini nan params {'n_estimators': 275, 'max_depth': 4}\n",
            "Gini nan params {'n_estimators': 300, 'max_depth': 12}\n",
            "Gini nan params {'n_estimators': 75, 'max_depth': 3}\n",
            "Gini nan params {'n_estimators': 275, 'max_depth': 2}\n",
            "Gini nan params {'n_estimators': 300, 'max_depth': 10}\n",
            "Gini nan params {'n_estimators': 225, 'max_depth': 3}\n",
            "Gini nan params {'n_estimators': 300, 'max_depth': 4}\n",
            "Gini nan params {'n_estimators': 75, 'max_depth': 11}\n",
            "Gini nan params {'n_estimators': 250, 'max_depth': 6}\n",
            "Gini nan params {'n_estimators': 225, 'max_depth': 7}\n",
            "Gini nan params {'n_estimators': 175, 'max_depth': 11}\n",
            "Gini nan params {'n_estimators': 50, 'max_depth': 7}\n",
            "Gini nan params {'n_estimators': 275, 'max_depth': 12}\n",
            "Gini nan params {'n_estimators': 75, 'max_depth': 3}\n",
            "Gini nan params {'n_estimators': 125, 'max_depth': 2}\n",
            "Gini nan params {'n_estimators': 175, 'max_depth': 3}\n",
            "Gini nan params {'n_estimators': 100, 'max_depth': 4}\n",
            "Gini nan params {'n_estimators': 125, 'max_depth': 9}\n",
            "Gini nan params {'n_estimators': 250, 'max_depth': 9}\n",
            "Gini nan params {'n_estimators': 75, 'max_depth': 7}\n",
            "Gini nan params {'n_estimators': 250, 'max_depth': 10}\n",
            "Gini nan params {'n_estimators': 225, 'max_depth': 1}\n",
            "Gini nan params {'n_estimators': 25, 'max_depth': 8}\n",
            "Gini nan params {'n_estimators': 150, 'max_depth': 6}\n",
            "Gini nan params {'n_estimators': 125, 'max_depth': 10}\n",
            "Gini nan params {'n_estimators': 225, 'max_depth': 4}\n",
            "Gini nan params {'n_estimators': 75, 'max_depth': 9}\n",
            "Gini nan params {'n_estimators': 250, 'max_depth': 8}\n",
            "Gini nan params {'n_estimators': 250, 'max_depth': 10}\n",
            "Gini nan params {'n_estimators': 250, 'max_depth': 10}\n",
            "Gini nan params {'n_estimators': 200, 'max_depth': 3}\n",
            "Gini nan params {'n_estimators': 250, 'max_depth': 11}\n",
            "Gini nan params {'n_estimators': 125, 'max_depth': 12}\n",
            "Gini nan params {'n_estimators': 200, 'max_depth': 9}\n",
            "Gini nan params {'n_estimators': 225, 'max_depth': 5}\n",
            "Gini nan params {'n_estimators': 200, 'max_depth': 9}\n",
            "Gini nan params {'n_estimators': 100, 'max_depth': 10}\n",
            "Gini nan params {'n_estimators': 150, 'max_depth': 10}\n",
            "Gini nan params {'n_estimators': 25, 'max_depth': 1}\n",
            "Gini nan params {'n_estimators': 50, 'max_depth': 8}\n",
            "Gini nan params {'n_estimators': 125, 'max_depth': 7}\n",
            "Gini nan params {'n_estimators': 125, 'max_depth': 4}\n",
            "Gini nan params {'n_estimators': 200, 'max_depth': 12}\n",
            "Gini nan params {'n_estimators': 150, 'max_depth': 4}\n",
            "Gini nan params {'n_estimators': 175, 'max_depth': 11}\n",
            "Gini nan params {'n_estimators': 275, 'max_depth': 12}\n",
            "Gini nan params {'n_estimators': 125, 'max_depth': 3}\n",
            "Gini nan params {'n_estimators': 75, 'max_depth': 5}\n",
            "Gini nan params {'n_estimators': 25, 'max_depth': 11}\n",
            "Gini nan params {'n_estimators': 225, 'max_depth': 7}\n",
            "Gini nan params {'n_estimators': 250, 'max_depth': 11}\n",
            "Gini nan params {'n_estimators': 150, 'max_depth': 1}\n",
            "Gini nan params {'n_estimators': 200, 'max_depth': 6}\n",
            "Gini nan params {'n_estimators': 50, 'max_depth': 6}\n",
            "Gini nan params {'n_estimators': 50, 'max_depth': 12}\n",
            "Gini nan params {'n_estimators': 175, 'max_depth': 4}\n",
            "Gini nan params {'n_estimators': 175, 'max_depth': 3}\n",
            "Gini nan params {'n_estimators': 75, 'max_depth': 5}\n",
            "Gini nan params {'n_estimators': 200, 'max_depth': 4}\n",
            "Gini nan params {'n_estimators': 50, 'max_depth': 7}\n",
            "Gini nan params {'n_estimators': 75, 'max_depth': 5}\n",
            "Gini nan params {'n_estimators': 200, 'max_depth': 5}\n",
            "Gini nan params {'n_estimators': 275, 'max_depth': 3}\n",
            "Gini nan params {'n_estimators': 150, 'max_depth': 3}\n",
            "Gini nan params {'n_estimators': 50, 'max_depth': 6}\n",
            "Gini nan params {'n_estimators': 50, 'max_depth': 4}\n",
            "Gini nan params {'n_estimators': 125, 'max_depth': 10}\n",
            "Gini nan params {'n_estimators': 50, 'max_depth': 4}\n",
            "Gini nan params {'n_estimators': 25, 'max_depth': 8}\n",
            "Gini nan params {'n_estimators': 150, 'max_depth': 5}\n",
            "Gini nan params {'n_estimators': 225, 'max_depth': 4}\n",
            "Gini nan params {'n_estimators': 275, 'max_depth': 8}\n",
            "Gini nan params {'n_estimators': 50, 'max_depth': 8}\n",
            "Gini nan params {'n_estimators': 100, 'max_depth': 7}\n",
            "Gini nan params {'n_estimators': 150, 'max_depth': 7}\n",
            "Gini nan params {'n_estimators': 100, 'max_depth': 2}\n",
            "Gini nan params {'n_estimators': 125, 'max_depth': 8}\n",
            "Gini nan params {'n_estimators': 50, 'max_depth': 2}\n",
            "Gini nan params {'n_estimators': 225, 'max_depth': 2}\n",
            "Gini nan params {'n_estimators': 250, 'max_depth': 8}\n",
            "Gini nan params {'n_estimators': 200, 'max_depth': 12}\n",
            "Gini nan params {'n_estimators': 275, 'max_depth': 5}\n",
            "Gini nan params {'n_estimators': 175, 'max_depth': 4}\n",
            "Gini nan params {'n_estimators': 275, 'max_depth': 3}\n",
            "Gini nan params {'n_estimators': 25, 'max_depth': 4}\n",
            "Gini nan params {'n_estimators': 200, 'max_depth': 8}\n",
            "Gini nan params {'n_estimators': 100, 'max_depth': 11}\n",
            "Gini nan params {'n_estimators': 200, 'max_depth': 10}\n",
            "Gini nan params {'n_estimators': 125, 'max_depth': 9}\n",
            "Gini nan params {'n_estimators': 100, 'max_depth': 3}\n",
            "Gini nan params {'n_estimators': 200, 'max_depth': 3}\n",
            "Gini nan params {'n_estimators': 100, 'max_depth': 3}\n",
            "Gini nan params {'n_estimators': 175, 'max_depth': 9}\n",
            "Gini nan params {'n_estimators': 125, 'max_depth': 11}\n",
            "Gini nan params {'n_estimators': 250, 'max_depth': 4}\n",
            "Gini nan params {'n_estimators': 125, 'max_depth': 12}\n",
            "Gini nan params {'n_estimators': 275, 'max_depth': 8}\n",
            "Gini nan params {'n_estimators': 75, 'max_depth': 3}\n",
            "Gini nan params {'n_estimators': 150, 'max_depth': 8}\n",
            "Gini nan params {'n_estimators': 150, 'max_depth': 1}\n",
            "Gini nan params {'n_estimators': 275, 'max_depth': 8}\n",
            "Gini nan params {'n_estimators': 150, 'max_depth': 1}\n",
            "Gini nan params {'n_estimators': 25, 'max_depth': 10}\n",
            "Gini nan params {'n_estimators': 50, 'max_depth': 8}\n",
            "Gini nan params {'n_estimators': 250, 'max_depth': 6}\n",
            "Gini nan params {'n_estimators': 275, 'max_depth': 3}\n",
            "Gini nan params {'n_estimators': 50, 'max_depth': 8}\n",
            "Gini nan params {'n_estimators': 250, 'max_depth': 9}\n",
            "Gini nan params {'n_estimators': 175, 'max_depth': 3}\n",
            "Gini nan params {'n_estimators': 275, 'max_depth': 8}\n",
            "Gini nan params {'n_estimators': 225, 'max_depth': 10}\n",
            "Gini nan params {'n_estimators': 175, 'max_depth': 7}\n",
            "Gini nan params {'n_estimators': 225, 'max_depth': 2}\n",
            "Gini nan params {'n_estimators': 100, 'max_depth': 2}\n",
            "Gini nan params {'n_estimators': 200, 'max_depth': 6}\n",
            "Gini nan params {'n_estimators': 250, 'max_depth': 9}\n",
            "Gini nan params {'n_estimators': 75, 'max_depth': 4}\n",
            "Gini nan params {'n_estimators': 100, 'max_depth': 2}\n",
            "Gini nan params {'n_estimators': 125, 'max_depth': 5}\n",
            "Gini nan params {'n_estimators': 25, 'max_depth': 11}\n",
            "Gini nan params {'n_estimators': 225, 'max_depth': 9}\n",
            "Gini nan params {'n_estimators': 75, 'max_depth': 7}\n",
            "Gini nan params {'n_estimators': 150, 'max_depth': 4}\n",
            "Gini nan params {'n_estimators': 75, 'max_depth': 7}\n",
            "Gini nan params {'n_estimators': 50, 'max_depth': 5}\n",
            "Gini nan params {'n_estimators': 75, 'max_depth': 1}\n",
            "Gini nan params {'n_estimators': 150, 'max_depth': 6}\n",
            "Gini nan params {'n_estimators': 100, 'max_depth': 7}\n",
            "100%|██████████| 200/200 [00:40<00:00,  4.91it/s, best loss: nan]\n"
          ],
          "name": "stdout"
        },
        {
          "output_type": "error",
          "ename": "AssertionError",
          "evalue": "ignored",
          "traceback": [
            "\u001b[0;31m---------------------------------------------------------------------------\u001b[0m",
            "\u001b[0;31mAssertionError\u001b[0m                            Traceback (most recent call last)",
            "\u001b[0;32m<ipython-input-50-4e17c5c31e6c>\u001b[0m in \u001b[0;36m<module>\u001b[0;34m()\u001b[0m\n\u001b[1;32m     44\u001b[0m             \u001b[0mspace\u001b[0m\u001b[0;34m=\u001b[0m\u001b[0mspace\u001b[0m\u001b[0;34m,\u001b[0m\u001b[0;34m\u001b[0m\u001b[0;34m\u001b[0m\u001b[0m\n\u001b[1;32m     45\u001b[0m             \u001b[0malgo\u001b[0m\u001b[0;34m=\u001b[0m\u001b[0mtpe\u001b[0m\u001b[0;34m.\u001b[0m\u001b[0msuggest\u001b[0m\u001b[0;34m,\u001b[0m\u001b[0;34m\u001b[0m\u001b[0;34m\u001b[0m\u001b[0m\n\u001b[0;32m---> 46\u001b[0;31m             max_evals = 200)\n\u001b[0m",
            "\u001b[0;32m/usr/local/lib/python3.6/dist-packages/hyperopt/fmin.py\u001b[0m in \u001b[0;36mfmin\u001b[0;34m(fn, space, algo, max_evals, trials, rstate, allow_trials_fmin, pass_expr_memo_ctrl, catch_eval_exceptions, verbose, return_argmin, points_to_evaluate, max_queue_len, show_progressbar)\u001b[0m\n\u001b[1;32m    407\u001b[0m     \u001b[0mrval\u001b[0m\u001b[0;34m.\u001b[0m\u001b[0mexhaust\u001b[0m\u001b[0;34m(\u001b[0m\u001b[0;34m)\u001b[0m\u001b[0;34m\u001b[0m\u001b[0;34m\u001b[0m\u001b[0m\n\u001b[1;32m    408\u001b[0m     \u001b[0;32mif\u001b[0m \u001b[0mreturn_argmin\u001b[0m\u001b[0;34m:\u001b[0m\u001b[0;34m\u001b[0m\u001b[0;34m\u001b[0m\u001b[0m\n\u001b[0;32m--> 409\u001b[0;31m         \u001b[0;32mreturn\u001b[0m \u001b[0mtrials\u001b[0m\u001b[0;34m.\u001b[0m\u001b[0margmin\u001b[0m\u001b[0;34m\u001b[0m\u001b[0;34m\u001b[0m\u001b[0m\n\u001b[0m\u001b[1;32m    410\u001b[0m     \u001b[0;32melif\u001b[0m \u001b[0mlen\u001b[0m\u001b[0;34m(\u001b[0m\u001b[0mtrials\u001b[0m\u001b[0;34m)\u001b[0m \u001b[0;34m>\u001b[0m \u001b[0;36m0\u001b[0m\u001b[0;34m:\u001b[0m\u001b[0;34m\u001b[0m\u001b[0;34m\u001b[0m\u001b[0m\n\u001b[1;32m    411\u001b[0m         \u001b[0;31m# Only if there are some succesfull trail runs, return the best point in the evaluation space\u001b[0m\u001b[0;34m\u001b[0m\u001b[0;34m\u001b[0m\u001b[0;34m\u001b[0m\u001b[0m\n",
            "\u001b[0;32m/usr/local/lib/python3.6/dist-packages/hyperopt/base.py\u001b[0m in \u001b[0;36margmin\u001b[0;34m(self)\u001b[0m\n\u001b[1;32m    588\u001b[0m     \u001b[0;34m@\u001b[0m\u001b[0mproperty\u001b[0m\u001b[0;34m\u001b[0m\u001b[0;34m\u001b[0m\u001b[0m\n\u001b[1;32m    589\u001b[0m     \u001b[0;32mdef\u001b[0m \u001b[0margmin\u001b[0m\u001b[0;34m(\u001b[0m\u001b[0mself\u001b[0m\u001b[0;34m)\u001b[0m\u001b[0;34m:\u001b[0m\u001b[0;34m\u001b[0m\u001b[0;34m\u001b[0m\u001b[0m\n\u001b[0;32m--> 590\u001b[0;31m         \u001b[0mbest_trial\u001b[0m \u001b[0;34m=\u001b[0m \u001b[0mself\u001b[0m\u001b[0;34m.\u001b[0m\u001b[0mbest_trial\u001b[0m\u001b[0;34m\u001b[0m\u001b[0;34m\u001b[0m\u001b[0m\n\u001b[0m\u001b[1;32m    591\u001b[0m         \u001b[0mvals\u001b[0m \u001b[0;34m=\u001b[0m \u001b[0mbest_trial\u001b[0m\u001b[0;34m[\u001b[0m\u001b[0;34m'misc'\u001b[0m\u001b[0;34m]\u001b[0m\u001b[0;34m[\u001b[0m\u001b[0;34m'vals'\u001b[0m\u001b[0;34m]\u001b[0m\u001b[0;34m\u001b[0m\u001b[0;34m\u001b[0m\u001b[0m\n\u001b[1;32m    592\u001b[0m         \u001b[0;31m# unpack the one-element lists to values\u001b[0m\u001b[0;34m\u001b[0m\u001b[0;34m\u001b[0m\u001b[0;34m\u001b[0m\u001b[0m\n",
            "\u001b[0;32m/usr/local/lib/python3.6/dist-packages/hyperopt/base.py\u001b[0m in \u001b[0;36mbest_trial\u001b[0;34m(self)\u001b[0m\n\u001b[1;32m    582\u001b[0m                       if t['result']['status'] == STATUS_OK]\n\u001b[1;32m    583\u001b[0m         \u001b[0mlosses\u001b[0m \u001b[0;34m=\u001b[0m \u001b[0;34m[\u001b[0m\u001b[0mfloat\u001b[0m\u001b[0;34m(\u001b[0m\u001b[0mt\u001b[0m\u001b[0;34m[\u001b[0m\u001b[0;34m'result'\u001b[0m\u001b[0;34m]\u001b[0m\u001b[0;34m[\u001b[0m\u001b[0;34m'loss'\u001b[0m\u001b[0;34m]\u001b[0m\u001b[0;34m)\u001b[0m \u001b[0;32mfor\u001b[0m \u001b[0mt\u001b[0m \u001b[0;32min\u001b[0m \u001b[0mcandidates\u001b[0m\u001b[0;34m]\u001b[0m\u001b[0;34m\u001b[0m\u001b[0;34m\u001b[0m\u001b[0m\n\u001b[0;32m--> 584\u001b[0;31m         \u001b[0;32massert\u001b[0m \u001b[0;32mnot\u001b[0m \u001b[0mnp\u001b[0m\u001b[0;34m.\u001b[0m\u001b[0many\u001b[0m\u001b[0;34m(\u001b[0m\u001b[0mnp\u001b[0m\u001b[0;34m.\u001b[0m\u001b[0misnan\u001b[0m\u001b[0;34m(\u001b[0m\u001b[0mlosses\u001b[0m\u001b[0;34m)\u001b[0m\u001b[0;34m)\u001b[0m\u001b[0;34m\u001b[0m\u001b[0;34m\u001b[0m\u001b[0m\n\u001b[0m\u001b[1;32m    585\u001b[0m         \u001b[0mbest\u001b[0m \u001b[0;34m=\u001b[0m \u001b[0mnp\u001b[0m\u001b[0;34m.\u001b[0m\u001b[0margmin\u001b[0m\u001b[0;34m(\u001b[0m\u001b[0mlosses\u001b[0m\u001b[0;34m)\u001b[0m\u001b[0;34m\u001b[0m\u001b[0;34m\u001b[0m\u001b[0m\n\u001b[1;32m    586\u001b[0m         \u001b[0;32mreturn\u001b[0m \u001b[0mcandidates\u001b[0m\u001b[0;34m[\u001b[0m\u001b[0mbest\u001b[0m\u001b[0;34m]\u001b[0m\u001b[0;34m\u001b[0m\u001b[0;34m\u001b[0m\u001b[0m\n",
            "\u001b[0;31mAssertionError\u001b[0m: "
          ]
        }
      ]
    },
    {
      "cell_type": "code",
      "metadata": {
        "scrolled": true,
        "id": "TlzYvn_m_3ji",
        "colab_type": "code",
        "colab": {}
      },
      "source": [
        ""
      ],
      "execution_count": 0,
      "outputs": []
    },
    {
      "cell_type": "code",
      "metadata": {
        "id": "nllz8ZoB_3jn",
        "colab_type": "code",
        "outputId": "6a7c77ea-477d-470b-a4d2-f35dea690a49",
        "colab": {
          "base_uri": "https://localhost:8080/",
          "height": 163
        }
      },
      "source": [
        "best"
      ],
      "execution_count": 0,
      "outputs": [
        {
          "output_type": "error",
          "ename": "NameError",
          "evalue": "ignored",
          "traceback": [
            "\u001b[0;31m---------------------------------------------------------------------------\u001b[0m",
            "\u001b[0;31mNameError\u001b[0m                                 Traceback (most recent call last)",
            "\u001b[0;32m<ipython-input-42-377027ff61a3>\u001b[0m in \u001b[0;36m<module>\u001b[0;34m()\u001b[0m\n\u001b[0;32m----> 1\u001b[0;31m \u001b[0mbest\u001b[0m\u001b[0;34m\u001b[0m\u001b[0;34m\u001b[0m\u001b[0m\n\u001b[0m",
            "\u001b[0;31mNameError\u001b[0m: name 'best' is not defined"
          ]
        }
      ]
    },
    {
      "cell_type": "code",
      "metadata": {
        "id": "5rwxaMK-_3jr",
        "colab_type": "code",
        "colab": {}
      },
      "source": [
        "params = {'n_estimators': 25, 'max_depth': 12}\n",
        "clf_bo_rf = RandomForestClassifier(**params)"
      ],
      "execution_count": 0,
      "outputs": []
    },
    {
      "cell_type": "code",
      "metadata": {
        "id": "Sa40XkDN_3ju",
        "colab_type": "code",
        "colab": {}
      },
      "source": [
        "clf_bo_rf.fit(X_train_aligned, y_train_plain)"
      ],
      "execution_count": 0,
      "outputs": []
    },
    {
      "cell_type": "code",
      "metadata": {
        "id": "p8HSNoiv_3jx",
        "colab_type": "code",
        "colab": {}
      },
      "source": [
        "train_pred = clf_bo_rf.predict(X_train_aligned)\n",
        "test_pred = clf_bo_rf.predict(X_test_aligned)\n",
        "\n",
        "print(clf_bo_rf.score(X_train_aligned, y_train_plain))\n",
        "print(clf_bo_rf.score(X_test_aligned, y_test_plain))\n",
        "\n",
        "print(confusion_matrix(y_true=y_train_plain, y_pred = train_pred))\n",
        "\n",
        "confusion_matrix_test = confusion_matrix(y_true=y_test_plain, y_pred =  test_pred)"
      ],
      "execution_count": 0,
      "outputs": []
    },
    {
      "cell_type": "code",
      "metadata": {
        "id": "XNadyGOt_3j5",
        "colab_type": "code",
        "colab": {}
      },
      "source": [
        "\n",
        "Accuracy_test=(confusion_matrix_test[0,0]+confusion_matrix_test[1,1])/(confusion_matrix_test[0,0]+confusion_matrix_test[0,1]+confusion_matrix_test[1,0]+confusion_matrix_test[1,1])\n",
        "\n",
        "Precision_Test= confusion_matrix_test[1,1]/(confusion_matrix_test[1,1]+confusion_matrix_test[0,1])\n",
        "Recall_Test= confusion_matrix_test[1,1]/(confusion_matrix_test[1,0]+confusion_matrix_test[1,1])\n",
        "\n",
        "print(\"Test Precision: \",Precision_Test)\n",
        "print(\"Test Recall: \",Recall_Test)\n",
        "print(\"Test Accuracy: \",Accuracy_test)"
      ],
      "execution_count": 0,
      "outputs": []
    },
    {
      "cell_type": "code",
      "metadata": {
        "id": "oQk_6Am4_3j9",
        "colab_type": "code",
        "colab": {}
      },
      "source": [
        "import numpy as np\n",
        "import matplotlib.pyplot as plt\n",
        "import scipy.interpolate\n",
        "import scipy.integrate\n",
        "\n",
        "predictions = [0.9, 0.3, 0.8, 0.75, 0.65, 0.6, 0.78, 0.7, 0.05, 0.4, 0.4, 0.05, 0.5, 0.1, 0.1]\n",
        "actual = [1, 1, 1, 1, 1, 1, 0, 0, 0, 0, 0, 0, 0, 0, 0]\n",
        "\n"
      ],
      "execution_count": 0,
      "outputs": []
    },
    {
      "cell_type": "code",
      "metadata": {
        "id": "2qv-jJ6e_3kG",
        "colab_type": "code",
        "colab": {}
      },
      "source": [
        "np.arange(len(actual))"
      ],
      "execution_count": 0,
      "outputs": []
    },
    {
      "cell_type": "code",
      "metadata": {
        "id": "O6A_A69m_3kJ",
        "colab_type": "code",
        "colab": {}
      },
      "source": [
        "predictions"
      ],
      "execution_count": 0,
      "outputs": []
    },
    {
      "cell_type": "code",
      "metadata": {
        "id": "CTFEy_Rv_3kO",
        "colab_type": "code",
        "colab": {}
      },
      "source": [
        "actual"
      ],
      "execution_count": 0,
      "outputs": []
    },
    {
      "cell_type": "code",
      "metadata": {
        "id": "aJBVlDD1_3kR",
        "colab_type": "code",
        "colab": {}
      },
      "source": [
        "all = np.asarray(np.c_[actual, predictions, np.arange(len(actual))], dtype=np.float)\n",
        "all"
      ],
      "execution_count": 0,
      "outputs": []
    },
    {
      "cell_type": "code",
      "metadata": {
        "id": "oEAgZV1v_3kU",
        "colab_type": "code",
        "colab": {}
      },
      "source": [
        "all  = all[np.lexsort((all[:, 2], -1 * all[:, 1]))]\n",
        "all"
      ],
      "execution_count": 0,
      "outputs": []
    },
    {
      "cell_type": "code",
      "metadata": {
        "id": "xVNOg4vo_3kX",
        "colab_type": "code",
        "colab": {}
      },
      "source": [
        "all[:, 0].cumsum().sum()"
      ],
      "execution_count": 0,
      "outputs": []
    },
    {
      "cell_type": "code",
      "metadata": {
        "id": "GGQythFV_3ka",
        "colab_type": "code",
        "colab": {}
      },
      "source": [
        "totalLosses = all[:, 0].sum()\n",
        "giniSum = all[:, 0].cumsum().sum() / totalLosses\n",
        "print('--',giniSum)\n",
        "giniSum -= (len(actual) + 1) / 2\n",
        "print('---',giniSum)\n",
        "giniSum"
      ],
      "execution_count": 0,
      "outputs": []
    },
    {
      "cell_type": "code",
      "metadata": {
        "id": "v44FipvF_3ke",
        "colab_type": "code",
        "colab": {}
      },
      "source": [
        "len(actual) + 1/ 2"
      ],
      "execution_count": 0,
      "outputs": []
    },
    {
      "cell_type": "code",
      "metadata": {
        "id": "yBCNsJbF_3kl",
        "colab_type": "code",
        "colab": {}
      },
      "source": [
        "def gini(actual, pred):\n",
        "    assert (len(actual) == len(pred))\n",
        "    all = np.asarray(np.c_[actual, pred, np.arange(len(actual))], dtype=np.float)\n",
        "    all = all[np.lexsort((all[:, 2], -1 * all[:, 1]))]\n",
        "    totalLosses = all[:, 0].sum()\n",
        "    giniSum = all[:, 0].cumsum().sum() / totalLosses\n",
        "\n",
        "    giniSum -= (len(actual) + 1) / 2.\n",
        "    return giniSum / len(actual)\n",
        "\n",
        "\n",
        "def gini_normalized(actual, pred):\n",
        "    return gini(actual, pred) / gini(actual, actual)"
      ],
      "execution_count": 0,
      "outputs": []
    },
    {
      "cell_type": "code",
      "metadata": {
        "id": "7ldy01_-_3k3",
        "colab_type": "code",
        "colab": {}
      },
      "source": [
        "gini_predictions = gini(actual, predictions)\n",
        "gini_max = gini(actual, actual)\n",
        "ngini= gini_normalized(actual, predictions)\n",
        "print('Gini: %.3f, Max. Gini: %.3f, Normalized Gini: %.3f' % (gini_predictions, gini_max, ngini))"
      ],
      "execution_count": 0,
      "outputs": []
    },
    {
      "cell_type": "code",
      "metadata": {
        "id": "0yV01RPs_3k5",
        "colab_type": "code",
        "colab": {}
      },
      "source": [
        "gini(actual, predictions)"
      ],
      "execution_count": 0,
      "outputs": []
    },
    {
      "cell_type": "code",
      "metadata": {
        "id": "PQM3DsA3_3k9",
        "colab_type": "code",
        "colab": {}
      },
      "source": [
        "gini(actual, actual)"
      ],
      "execution_count": 0,
      "outputs": []
    },
    {
      "cell_type": "code",
      "metadata": {
        "id": "5ThXeuzb_3lB",
        "colab_type": "code",
        "colab": {}
      },
      "source": [
        ""
      ],
      "execution_count": 0,
      "outputs": []
    }
  ]
}